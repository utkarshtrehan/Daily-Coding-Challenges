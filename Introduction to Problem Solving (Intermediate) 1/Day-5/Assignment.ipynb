{
 "cells": [
  {
   "cell_type": "markdown",
   "source": [
    "# Day 5 - Intermediate DSA: Time Complexity-1"
   ],
   "metadata": {
    "collapsed": false
   }
  },
  {
   "cell_type": "markdown",
   "source": [
    "Q1: What is the time complexity of the following code snippet\n",
    "\n",
    "```\n",
    "for(int i = 1 ; i <= n ; i+=2){\n",
    "\n",
    "    print(i);\n",
    "\n",
    "}\n",
    "```\n",
    "\n"
   ],
   "metadata": {
    "collapsed": false
   }
  },
  {
   "cell_type": "markdown",
   "source": [
    "O(n)"
   ],
   "metadata": {
    "collapsed": false
   }
  },
  {
   "cell_type": "markdown",
   "source": [
    "Q2: What is the time complexity of the following code snippet\n",
    "```\n",
    "void solve(int N, int M){\n",
    "    for(int i = 1 ; i <= N ; i++){\n",
    "        if(N % i == 0)\n",
    "        print(i);\n",
    "    }\n",
    "    for(int i = 1 ; i <= M ; i++){\n",
    "        if(M % i == 0)\n",
    "        print(i);\n",
    "    }\n",
    "}\n",
    "```"
   ],
   "metadata": {
    "collapsed": false
   }
  },
  {
   "cell_type": "markdown",
   "source": [
    "O(N+M)"
   ],
   "metadata": {
    "collapsed": false
   }
  },
  {
   "cell_type": "markdown",
   "source": [
    "Q3: What is the time complexity of the following code snippet\n",
    "\n",
    "```\n",
    "int func(int n){\n",
    "    int s = 0;\n",
    "    for(int i = 1 ; i <= 100 ; i++){\n",
    "        s = s + i;\n",
    "    }\n",
    "    return s;\n",
    "}\n",
    "```"
   ],
   "metadata": {
    "collapsed": false
   }
  },
  {
   "cell_type": "markdown",
   "source": [
    "O(1)"
   ],
   "metadata": {
    "collapsed": false
   }
  },
  {
   "cell_type": "markdown",
   "source": [
    "Q4: What is the time complexity of the following code snippet\n",
    "\n",
    "```\n",
    "for(int i = 0 ; i < n ; i++){\n",
    "    for(int j = 0 ; j <= i ; j++){\n",
    "    print(i+j);\n",
    "    }\n",
    "}\n",
    "```"
   ],
   "metadata": {
    "collapsed": false
   }
  },
  {
   "cell_type": "markdown",
   "source": [
    "O(n^2)"
   ],
   "metadata": {
    "collapsed": false
   }
  },
  {
   "cell_type": "markdown",
   "source": [
    "Q5: What is the time complexity of the following code snippet\n",
    "\n",
    "```\n",
    "for(int i = 1 ; i <= n ; i*=2){\n",
    "    for(int j = 1 ; j <= n ; j++){\n",
    "    print(i + j);\n",
    "    }\n",
    "}\n",
    "```"
   ],
   "metadata": {
    "collapsed": false
   }
  },
  {
   "cell_type": "markdown",
   "source": [
    "O(nlogn)"
   ],
   "metadata": {
    "collapsed": false
   }
  },
  {
   "cell_type": "markdown",
   "source": [
    "Q6: What is the time complexity of following code:\n",
    "\n",
    "```\n",
    "int a = 0, i = N;\n",
    "while (i > 0) {\n",
    "    a += i;\n",
    "    i /= 2;\n",
    "}\n",
    "```"
   ],
   "metadata": {
    "collapsed": false
   }
  },
  {
   "cell_type": "markdown",
   "source": [
    "O(logn)"
   ],
   "metadata": {
    "collapsed": false
   }
  },
  {
   "cell_type": "markdown",
   "source": [
    "Q7: What is the time complexity of the following code snippet\n",
    "\n",
    "```\n",
    "for(int i = 1 ; i <= 100 ; i*=2){\n",
    "    for(int j = 1 ; j <= n ; j++){\n",
    "    print(i + j);\n",
    "    }\n",
    "}\n",
    "```"
   ],
   "metadata": {
    "collapsed": false
   }
  },
  {
   "cell_type": "markdown",
   "source": [
    "O(n)"
   ],
   "metadata": {
    "collapsed": false
   }
  },
  {
   "cell_type": "markdown",
   "source": [
    "Q8: What is the time complexity of the following code snippet\n",
    "\n",
    "```\n",
    "int func(int n){\n",
    "    int s = 0;\n",
    "    for(int i = 0 ; i < n ; i = i * 2){\n",
    "        s = s + i;\n",
    "    }\n",
    "    return s;\n",
    "}\n",
    "```"
   ],
   "metadata": {
    "collapsed": false
   }
  },
  {
   "cell_type": "markdown",
   "source": [
    "O(∞)"
   ],
   "metadata": {
    "collapsed": false
   }
  },
  {
   "cell_type": "markdown",
   "source": [
    "---"
   ],
   "metadata": {
    "collapsed": false
   }
  }
 ],
 "metadata": {
  "kernelspec": {
   "display_name": "Python 3",
   "language": "python",
   "name": "python3"
  },
  "language_info": {
   "codemirror_mode": {
    "name": "ipython",
    "version": 2
   },
   "file_extension": ".py",
   "mimetype": "text/x-python",
   "name": "python",
   "nbconvert_exporter": "python",
   "pygments_lexer": "ipython2",
   "version": "2.7.6"
  }
 },
 "nbformat": 4,
 "nbformat_minor": 0
}
