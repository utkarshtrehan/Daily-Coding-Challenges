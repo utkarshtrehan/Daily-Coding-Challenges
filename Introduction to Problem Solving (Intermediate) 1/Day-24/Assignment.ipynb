{
 "cells": [
  {
   "cell_type": "markdown",
   "source": [
    "# Day 24 - Intermediate DSA : Recursion - 1"
   ],
   "metadata": {
    "collapsed": false
   }
  },
  {
   "cell_type": "markdown",
   "source": [
    "## Q1. Find Fibonacci - II\n",
    "\n",
    "**Problem Description**\n",
    "\n",
    "The Fibonacci numbers are the numbers in the following integer sequence.\n",
    "\n",
    "0, 1, 1, 2, 3, 5, 8, 13, 21, 34, 55, 89, 144, ……..\n",
    "\n",
    "In mathematical terms, the sequence Fn of Fibonacci numbers is defined by the recurrence relation:\n",
    "\n",
    "Fn = Fn-1 + Fn-2\n",
    "\n",
    "Given a number A, find and return the Ath Fibonacci Number using recursion.\n",
    "\n",
    "Given that F0 = 0 and F1 = 1.\n",
    "\n",
    "**Problem Constraints**\n",
    "\n",
    "0 <= A <= 20"
   ],
   "metadata": {
    "collapsed": false
   }
  },
  {
   "cell_type": "code",
   "execution_count": 2,
   "outputs": [],
   "source": [
    "def findAthFibonacci(N):\n",
    "\n",
    "    if N < 2:\n",
    "        return N\n",
    "\n",
    "    return findAthFibonacci(N-1) + findAthFibonacci(N-2)"
   ],
   "metadata": {
    "collapsed": false
   }
  },
  {
   "cell_type": "code",
   "execution_count": 4,
   "outputs": [
    {
     "data": {
      "text/plain": "34"
     },
     "execution_count": 4,
     "metadata": {},
     "output_type": "execute_result"
    }
   ],
   "source": [
    "findAthFibonacci(9)"
   ],
   "metadata": {
    "collapsed": false
   }
  },
  {
   "cell_type": "markdown",
   "source": [
    "## Q2. Find Factorial!\n",
    "\n",
    "**Problem Description**\n",
    "\n",
    "Write a program to find the factorial of the given number A using recursion.\n",
    "Note: The factorial of a number N is defined as the product of the numbers from 1 to N.\n",
    "\n",
    "**Problem Constraints**\n",
    "\n",
    "0 <= A <= 12"
   ],
   "metadata": {
    "collapsed": false
   }
  },
  {
   "cell_type": "code",
   "execution_count": 8,
   "outputs": [],
   "source": [
    "def solve(N):\n",
    "\n",
    "    if N == 1:\n",
    "        return 1\n",
    "\n",
    "    return N*solve(N-1)"
   ],
   "metadata": {
    "collapsed": false
   }
  },
  {
   "cell_type": "code",
   "execution_count": 9,
   "outputs": [
    {
     "data": {
      "text/plain": "24"
     },
     "execution_count": 9,
     "metadata": {},
     "output_type": "execute_result"
    }
   ],
   "source": [
    "solve(4)"
   ],
   "metadata": {
    "collapsed": false
   }
  },
  {
   "cell_type": "markdown",
   "source": [
    "## Q3. Check Palindrome\n",
    "\n",
    "**Problem Description**\n",
    "\n",
    "Write a recursive function that checks whether string A is a palindrome or Not.\n",
    "Return 1 if the string A is a palindrome, else return 0.\n",
    "\n",
    "Note: A palindrome is a string that's the same when read forward and backward.\n",
    "\n",
    "**Problem Constraints**\n",
    "\n",
    "1 <= |A| <= 50000\n",
    "\n",
    "String A consists only of lowercase letters."
   ],
   "metadata": {
    "collapsed": false
   }
  },
  {
   "cell_type": "code",
   "execution_count": null,
   "outputs": [],
   "source": [
    "def solve(A):\n",
    "    start =\n",
    "    if A[i]==A[]"
   ],
   "metadata": {
    "collapsed": false
   }
  },
  {
   "cell_type": "markdown",
   "source": [
    "## Q4. Print 1 to A function\n",
    "\n",
    "**Problem Description**\n",
    "\n",
    "You are given an integer A, print 1 to A using using recursion.\n",
    "\n",
    "**Problem Constraints**\n",
    "\n",
    "1 <= A <= 10^4"
   ],
   "metadata": {
    "collapsed": false
   }
  },
  {
   "cell_type": "code",
   "execution_count": 15,
   "outputs": [],
   "source": [
    "def solve(N):\n",
    "\n",
    "    if N == 1:\n",
    "        print(1, end=' ')\n",
    "        return\n",
    "\n",
    "    solve(N-1)\n",
    "    print(N, end=' ')\n",
    "    return"
   ],
   "metadata": {
    "collapsed": false
   }
  },
  {
   "cell_type": "code",
   "execution_count": 16,
   "outputs": [
    {
     "name": "stdout",
     "output_type": "stream",
     "text": [
      "1 2 3 4 5 6 7 8 9 "
     ]
    }
   ],
   "source": [
    "solve(9)"
   ],
   "metadata": {
    "collapsed": false
   }
  },
  {
   "cell_type": "markdown",
   "source": [
    "## Q5. Print A to 1 function\n",
    "\n",
    "**Problem Description**\n",
    "\n",
    "You are given an integer A, print A to 1 using using recursion.\n",
    "\n",
    "**Problem Constraints**\n",
    "1 <= A <= 104"
   ],
   "metadata": {
    "collapsed": false
   }
  },
  {
   "cell_type": "code",
   "execution_count": 24,
   "outputs": [],
   "source": [
    "def solve(N, i):\n",
    "\n",
    "    if i == N:\n",
    "        print(N, end=' ')\n",
    "        return\n",
    "\n",
    "    solve(N ,i+1)\n",
    "    print(i, end=' ')\n",
    "    return"
   ],
   "metadata": {
    "collapsed": false
   }
  },
  {
   "cell_type": "code",
   "execution_count": 25,
   "outputs": [
    {
     "name": "stdout",
     "output_type": "stream",
     "text": [
      "10 9 8 7 6 5 4 3 2 1 "
     ]
    }
   ],
   "source": [
    "solve(10,1)"
   ],
   "metadata": {
    "collapsed": false
   }
  },
  {
   "cell_type": "code",
   "execution_count": null,
   "outputs": [],
   "source": [],
   "metadata": {
    "collapsed": false
   }
  }
 ],
 "metadata": {
  "kernelspec": {
   "display_name": "Python 3",
   "language": "python",
   "name": "python3"
  },
  "language_info": {
   "codemirror_mode": {
    "name": "ipython",
    "version": 2
   },
   "file_extension": ".py",
   "mimetype": "text/x-python",
   "name": "python",
   "nbconvert_exporter": "python",
   "pygments_lexer": "ipython2",
   "version": "2.7.6"
  }
 },
 "nbformat": 4,
 "nbformat_minor": 0
}
