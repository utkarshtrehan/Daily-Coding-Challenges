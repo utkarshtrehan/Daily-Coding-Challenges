{
 "cells": [
  {
   "cell_type": "markdown",
   "source": [
    "## Day 24 - Intermediate DSA : Recursion - 1"
   ],
   "metadata": {
    "collapsed": false
   }
  },
  {
   "cell_type": "markdown",
   "source": [
    "## Q1. Print reverse string\n",
    "\n",
    "**Problem Description**\n",
    "Write a recursive function that, given a string S, prints the characters of S in reverse order.\n",
    "\n",
    "**Problem Constraints**\n",
    "1 <= |s| <= 1000"
   ],
   "metadata": {
    "collapsed": false
   }
  },
  {
   "cell_type": "code",
   "execution_count": 15,
   "outputs": [],
   "source": [
    "# import sys\n",
    "# sys.setrecursionlimit(10**6)\n",
    "def solve(S, N):\n",
    "    if N == 0:\n",
    "        return\n",
    "    print(S[N], end='')\n",
    "    solve(S, N-1)\n",
    "    return"
   ],
   "metadata": {
    "collapsed": false
   }
  },
  {
   "cell_type": "code",
   "execution_count": 16,
   "outputs": [
    {
     "name": "stdout",
     "output_type": "stream",
     "text": [
      "ymedacarelac"
     ]
    }
   ],
   "source": [
    "S = \"scaleracademy\"\n",
    "solve(S,len(S)-1)"
   ],
   "metadata": {
    "collapsed": false
   }
  },
  {
   "cell_type": "markdown",
   "source": [
    "## Q2. Sum of Digits!\n",
    "\n",
    "**Problem Description**\n",
    "\n",
    "Given a number A, we need to find the sum of its digits using recursion.\n",
    "\n",
    "**Problem Constraints**\n",
    "\n",
    "1 <= A <= 10^9"
   ],
   "metadata": {
    "collapsed": false
   }
  },
  {
   "cell_type": "code",
   "execution_count": 27,
   "outputs": [],
   "source": [
    "def solve(A):\n",
    "    if A==0:\n",
    "        return 0\n",
    "    return (A%10) + solve(A//10)"
   ],
   "metadata": {
    "collapsed": false
   }
  },
  {
   "cell_type": "code",
   "execution_count": 28,
   "outputs": [
    {
     "data": {
      "text/plain": "11"
     },
     "execution_count": 28,
     "metadata": {},
     "output_type": "execute_result"
    }
   ],
   "source": [
    "solve(146)"
   ],
   "metadata": {
    "collapsed": false
   }
  },
  {
   "cell_type": "code",
   "execution_count": null,
   "outputs": [],
   "source": [],
   "metadata": {
    "collapsed": false
   }
  }
 ],
 "metadata": {
  "kernelspec": {
   "display_name": "Python 3",
   "language": "python",
   "name": "python3"
  },
  "language_info": {
   "codemirror_mode": {
    "name": "ipython",
    "version": 2
   },
   "file_extension": ".py",
   "mimetype": "text/x-python",
   "name": "python",
   "nbconvert_exporter": "python",
   "pygments_lexer": "ipython2",
   "version": "2.7.6"
  }
 },
 "nbformat": 4,
 "nbformat_minor": 0
}
