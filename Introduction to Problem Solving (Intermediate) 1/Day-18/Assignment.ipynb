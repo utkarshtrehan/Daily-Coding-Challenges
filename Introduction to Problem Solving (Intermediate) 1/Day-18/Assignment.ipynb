{
 "cells": [
  {
   "cell_type": "markdown",
   "source": [
    "# Day 18 - Intermediate DSA : Sorting"
   ],
   "metadata": {
    "collapsed": false
   }
  },
  {
   "cell_type": "markdown",
   "source": [
    "## Q1. Elements\n",
    "\n",
    "**Problem Description**\n",
    "\n",
    "Given an integer array A of size N. You can remove any element from the array in one operation.\n",
    "The cost of this operation is the sum of all elements in the array present before this operation.\n",
    "Find the minimum cost to remove all elements from the array.\n",
    "\n",
    "**Problem Constraints**\n",
    "\n",
    "0 <= N <= 1000\n",
    "\n",
    "1 <= A[i] <= 103"
   ],
   "metadata": {
    "collapsed": false
   }
  },
  {
   "cell_type": "code",
   "execution_count": 62,
   "outputs": [],
   "source": [
    "def solve(A):\n",
    "    A.sort(reverse=True)\n",
    "    sum = 0\n",
    "    for i in range(0, len(A)):\n",
    "        sum+=(A[i]*(i+1))\n",
    "    return sum"
   ],
   "metadata": {
    "collapsed": false
   }
  },
  {
   "cell_type": "code",
   "execution_count": 63,
   "outputs": [
    {
     "data": {
      "text/plain": "4"
     },
     "execution_count": 63,
     "metadata": {},
     "output_type": "execute_result"
    }
   ],
   "source": [
    "solve([2,1])"
   ],
   "metadata": {
    "collapsed": false
   }
  },
  {
   "cell_type": "markdown",
   "source": [
    "## Q2. Noble Integer\n",
    "\n",
    "**Problem Description**\n",
    "\n",
    "Given an integer array A, find if an integer p exists in the array such that the number of integers greater than p in the array equals p.\n",
    "\n",
    "**Problem Constraints**\n",
    "\n",
    "1 <= |A| <= 2*10^5\n",
    "\n",
    "-108 <= A[i] <= 10^8"
   ],
   "metadata": {
    "collapsed": false
   }
  },
  {
   "cell_type": "code",
   "execution_count": 64,
   "outputs": [],
   "source": [
    "def solve(A):\n",
    "    count = 0\n",
    "    A.sort(reverse=True)\n",
    "    for i in range(0, len(A)):\n",
    "        if i==0 or A[i] != A[i-1]:\n",
    "            count+=1\n",
    "        if A[i] == count:\n",
    "             return 1\n",
    "    return -1"
   ],
   "metadata": {
    "collapsed": false
   }
  },
  {
   "cell_type": "code",
   "execution_count": 65,
   "outputs": [
    {
     "data": {
      "text/plain": "-1"
     },
     "execution_count": 65,
     "metadata": {},
     "output_type": "execute_result"
    }
   ],
   "source": [
    "solve([ 6, 7, 5 ])"
   ],
   "metadata": {
    "collapsed": false
   }
  },
  {
   "cell_type": "markdown",
   "source": [
    "## Q3. Factors sort\n",
    "\n",
    "**Problem Description**\n",
    "You are given an array A of N elements. Sort the given array in increasing order of number of distinct factors of each element, i.e., element having the least number of factors should be the first to be displayed and the number having highest number of factors should be the last one. If 2 elements have same number of factors, then number with less value should come first.\n",
    "\n",
    "Note: You cannot use any extra space\n",
    "\n",
    "\n",
    "**Problem Constraints**\n",
    "\n",
    "1 <= N <= 10^4\n",
    "\n",
    "1 <= A[i] <= 10^4"
   ],
   "metadata": {
    "collapsed": false
   }
  },
  {
   "cell_type": "code",
   "execution_count": 66,
   "outputs": [],
   "source": [
    "def solve(A):\n",
    "    def factors(num):\n",
    "        factors_cnt = 0\n",
    "        for i in range(1, int(num**0.5)+1):\n",
    "            if num%i==0:\n",
    "                if i == num**0.5:\n",
    "                    factors_cnt+=1\n",
    "                else:\n",
    "                    factors_cnt+=2\n",
    "        return factors_cnt\n",
    "\n",
    "    from functools import cmp_to_key\n",
    "    def comparator(a, b):\n",
    "        # a b -ve\n",
    "        a_fact = factors(a)\n",
    "        b_fact = factors(b)\n",
    "        if a_fact < b_fact:\n",
    "            return -1\n",
    "        if a_fact > b_fact:\n",
    "            return 1\n",
    "        if a_fact == b_fact:\n",
    "            if a<b:\n",
    "                return -1\n",
    "            if a>b:\n",
    "                return 1\n",
    "            return 0\n",
    "\n",
    "    data = sorted(A, key=cmp_to_key(comparator))\n",
    "    return data"
   ],
   "metadata": {
    "collapsed": false
   }
  },
  {
   "cell_type": "code",
   "execution_count": 67,
   "outputs": [
    {
     "data": {
      "text/plain": "[1, 13, 9, 6, 12]"
     },
     "execution_count": 67,
     "metadata": {},
     "output_type": "execute_result"
    }
   ],
   "source": [
    "solve([13, 1, 6, 12, 9])"
   ],
   "metadata": {
    "collapsed": false
   }
  },
  {
   "cell_type": "code",
   "execution_count": 68,
   "outputs": [],
   "source": [
    "import functools\n",
    "def countFactors(num):\n",
    "    count = 0\n",
    "    i = 1\n",
    "    while i * i <= num:\n",
    "        if(num % i == 0):\n",
    "            count += 1\n",
    "            if(i * i != num):\n",
    "                count += 1\n",
    "        i += 1\n",
    "    return count\n",
    "def compare(val1, val2):\n",
    "    count1 = countFactors(val1)\n",
    "    count2 = countFactors(val2)\n",
    "    if count1 == count2:\n",
    "        return val1 - val2\n",
    "    return count1 - count2\n",
    "\n",
    "\n",
    "def solve(A):\n",
    "    A = sorted(A, key = functools.cmp_to_key(compare))\n",
    "    return A"
   ],
   "metadata": {
    "collapsed": false
   }
  },
  {
   "cell_type": "code",
   "execution_count": 69,
   "outputs": [
    {
     "data": {
      "text/plain": "[1, 13, 9, 6, 12]"
     },
     "execution_count": 69,
     "metadata": {},
     "output_type": "execute_result"
    }
   ],
   "source": [
    "solve([13, 1, 6, 12, 9])"
   ],
   "metadata": {
    "collapsed": false
   }
  },
  {
   "cell_type": "markdown",
   "source": [
    "## Q4. Largest Number\n",
    "\n",
    "**Problem Description**\n",
    "\n",
    "Given an array A of non-negative integers, arrange them such that they form the largest number.\n",
    "Note: The result may be very large, so you need to return a string instead of an integer.\n",
    "\n",
    "**Problem Constraints**\n",
    "\n",
    "1 <= len(A) <= 100000\n",
    "\n",
    "0 <= A[i] <= 2*109"
   ],
   "metadata": {
    "collapsed": false
   }
  },
  {
   "cell_type": "code",
   "execution_count": 1,
   "outputs": [],
   "source": [
    "import functools\n",
    "def compare(a, b):\n",
    "\n",
    "    if int(str(a)+str(b)) == int(str(b)+str(a)):\n",
    "        return 0\n",
    "    return int(str(b)+str(a)) - int(str(a)+str(b))\n",
    "\n",
    "def largestNumber(A):\n",
    "    A = sorted(A, key = functools.cmp_to_key(compare))\n",
    "    return A"
   ],
   "metadata": {
    "collapsed": false
   }
  },
  {
   "cell_type": "code",
   "execution_count": 3,
   "outputs": [
    {
     "data": {
      "text/plain": "[89, 8]"
     },
     "execution_count": 3,
     "metadata": {},
     "output_type": "execute_result"
    }
   ],
   "source": [
    "largestNumber([8, 89])"
   ],
   "metadata": {
    "collapsed": false
   }
  },
  {
   "cell_type": "code",
   "execution_count": null,
   "outputs": [],
   "source": [],
   "metadata": {
    "collapsed": false
   }
  }
 ],
 "metadata": {
  "kernelspec": {
   "display_name": "Python 3",
   "language": "python",
   "name": "python3"
  },
  "language_info": {
   "codemirror_mode": {
    "name": "ipython",
    "version": 2
   },
   "file_extension": ".py",
   "mimetype": "text/x-python",
   "name": "python",
   "nbconvert_exporter": "python",
   "pygments_lexer": "ipython2",
   "version": "2.7.6"
  }
 },
 "nbformat": 4,
 "nbformat_minor": 0
}
