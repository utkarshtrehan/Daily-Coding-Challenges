{
 "cells": [
  {
   "cell_type": "markdown",
   "source": [
    "# Day 18 - Intermediate DSA : Sorting"
   ],
   "metadata": {
    "collapsed": false
   }
  },
  {
   "cell_type": "markdown",
   "source": [
    "Q1. Sort by Color\n",
    "\n",
    "**Problem Description**\n",
    "\n",
    "Given an array with N objects colored red, white, or blue, sort them so that objects of the same color are adjacent, with the colors in the order red, white, and blue.\n",
    "We will use the integers 0, 1, and 2 to represent red, white, and blue, respectively.\n",
    "Note: Using the library sort function is not allowed.\n",
    "\n",
    "**Problem Constraints**\n",
    "\n",
    "1 <= N <= 1000000\n",
    "\n",
    "0 <= A[i] <= 2"
   ],
   "metadata": {
    "collapsed": false
   }
  },
  {
   "cell_type": "code",
   "execution_count": 17,
   "outputs": [],
   "source": [
    "def sortColors(A):\n",
    "    n = len(A)\n",
    "    i = 0\n",
    "    j = n - 1\n",
    "    k = n - 1\n",
    "    while i < k:\n",
    "        if A[i] == 0:\n",
    "            i += 1\n",
    "        elif A[i] == 1:\n",
    "            if i < j:\n",
    "                A[i],A[j] = A[j],A[i]\n",
    "                j-=1\n",
    "            else:\n",
    "                i+= 1\n",
    "        else:\n",
    "            A[i],A[k] = A[k],A[i]\n",
    "            k -= 1\n",
    "            if j > k:\n",
    "                j = k\n",
    "    return A"
   ],
   "metadata": {
    "collapsed": false
   }
  },
  {
   "cell_type": "code",
   "execution_count": 19,
   "outputs": [
    {
     "data": {
      "text/plain": "[0, 0, 1, 1, 2, 2]"
     },
     "execution_count": 19,
     "metadata": {},
     "output_type": "execute_result"
    }
   ],
   "source": [
    "sortColors([0, 1, 2, 0, 1, 2])"
   ],
   "metadata": {
    "collapsed": false
   }
  },
  {
   "cell_type": "markdown",
   "source": [
    "Q2. Arithmetic Progression?\n",
    "\n",
    "**Problem Description**\n",
    "\n",
    "Given an integer array A of size N. Return 1 if the array can be arranged to form an arithmetic progression, otherwise return 0.\n",
    "A sequence of numbers is called an arithmetic progression if the difference between any two consecutive elements is the same.\n",
    "\n",
    "**Problem Constraints**\n",
    "\n",
    "2 <= N <= 105\n",
    "\n",
    "-109 <= A[i] <= 109"
   ],
   "metadata": {
    "collapsed": false
   }
  },
  {
   "cell_type": "code",
   "execution_count": 20,
   "outputs": [],
   "source": [
    "def solve(A):\n",
    "    A.sort()\n",
    "    d = A[1]-A[0]\n",
    "    for i in range(1, len(A)-1):\n",
    "        if A[i+1]-A[i] != d:\n",
    "            return 0\n",
    "    return 1"
   ],
   "metadata": {
    "collapsed": false
   }
  },
  {
   "cell_type": "code",
   "execution_count": 21,
   "outputs": [
    {
     "data": {
      "text/plain": "1"
     },
     "execution_count": 21,
     "metadata": {},
     "output_type": "execute_result"
    }
   ],
   "source": [
    "solve([3, 5, 1])"
   ],
   "metadata": {
    "collapsed": false
   }
  },
  {
   "cell_type": "markdown",
   "source": [
    "## Q3. Tens Digit Sorting\n",
    "\n",
    "**Problem Description**\n",
    "Given an array A of N integers. Sort the array in increasing order of the value at the tens place digit of every number.\n",
    "If a number has no tens digit, we can assume value to be 0.\n",
    "If 2 numbers have same tens digit, in that case number with max value will come first\n",
    "Solution should be based on comparator.\n",
    "\n",
    "\n",
    "**Problem Constraints**\n",
    "\n",
    "1 <= N <= 105\n",
    "\n",
    "1 <= A[i] <= 109"
   ],
   "metadata": {
    "collapsed": false
   }
  },
  {
   "cell_type": "code",
   "execution_count": 22,
   "outputs": [],
   "source": [
    "from functools import cmp_to_key\n",
    "def solve(A):\n",
    "    def tens_digit(num):\n",
    "        return num // 10 % 10\n",
    "    def comparator(a, b):\n",
    "        # a b -ve\n",
    "        a_tens_digit = tens_digit(a)\n",
    "        b_tens_digit = tens_digit(b)\n",
    "        if a_tens_digit < b_tens_digit:\n",
    "            return -1\n",
    "        if a_tens_digit > b_tens_digit:\n",
    "            return 1\n",
    "        if a_tens_digit == b_tens_digit:\n",
    "            if a<b:\n",
    "                return 1\n",
    "            if a>b:\n",
    "                return -1\n",
    "            return 0\n",
    "\n",
    "    data = sorted(A, key=cmp_to_key(comparator))\n",
    "    return data"
   ],
   "metadata": {
    "collapsed": false
   }
  },
  {
   "cell_type": "code",
   "execution_count": 23,
   "outputs": [
    {
     "data": {
      "text/plain": "[7, 19, 15, 11]"
     },
     "execution_count": 23,
     "metadata": {},
     "output_type": "execute_result"
    }
   ],
   "source": [
    "solve([15, 11, 7, 19])"
   ],
   "metadata": {
    "collapsed": false
   }
  },
  {
   "cell_type": "code",
   "execution_count": 24,
   "outputs": [],
   "source": [
    "import functools\n",
    "def compare(val1, val2):\n",
    "    tens_digit1 = (val1 // 10 ) % 10\n",
    "    tens_digit2 = (val2 // 10 ) % 10\n",
    "    if (tens_digit1 == tens_digit2):\n",
    "        return val2 - val1\n",
    "    return tens_digit1 - tens_digit2\n",
    "\n",
    "def solve(A):\n",
    "    A = sorted(A, key = functools.cmp_to_key(compare))\n",
    "    return A"
   ],
   "metadata": {
    "collapsed": false
   }
  },
  {
   "cell_type": "code",
   "execution_count": 25,
   "outputs": [
    {
     "data": {
      "text/plain": "[7, 19, 15, 11]"
     },
     "execution_count": 25,
     "metadata": {},
     "output_type": "execute_result"
    }
   ],
   "source": [
    "solve([15, 11, 7, 19])"
   ],
   "metadata": {
    "collapsed": false
   }
  },
  {
   "cell_type": "markdown",
   "source": [
    "---"
   ],
   "metadata": {
    "collapsed": false
   }
  }
 ],
 "metadata": {
  "kernelspec": {
   "display_name": "Python 3",
   "language": "python",
   "name": "python3"
  },
  "language_info": {
   "codemirror_mode": {
    "name": "ipython",
    "version": 2
   },
   "file_extension": ".py",
   "mimetype": "text/x-python",
   "name": "python",
   "nbconvert_exporter": "python",
   "pygments_lexer": "ipython2",
   "version": "2.7.6"
  }
 },
 "nbformat": 4,
 "nbformat_minor": 0
}
