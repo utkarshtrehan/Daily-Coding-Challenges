{
 "cells": [
  {
   "cell_type": "markdown",
   "source": [
    "# Day 25 - Intermediate DSA : Recursion - 2"
   ],
   "metadata": {
    "collapsed": false
   }
  },
  {
   "cell_type": "markdown",
   "source": [
    "## Q1. Implement Power Function\n",
    "\n",
    "**Problem Description**\n",
    "\n",
    "Implement pow(A, B) % C. In other words, given A, B and C, Find (A^B % C).\n",
    "Note: The remainders on division cannot be negative. In other words, make sure the answer you return is non-negative.\n",
    "\n",
    "**Problem Constraints**\n",
    "\n",
    "-10^9 <= A <= 10^9\n",
    "\n",
    "0 <= B <= 10^9"
   ],
   "metadata": {
    "collapsed": false
   }
  },
  {
   "cell_type": "code",
   "execution_count": 88,
   "outputs": [],
   "source": [
    "def pow(A, B, C):\n",
    "    # Just write your code below to complete the function. Required input is available to you as the function arguments.\n",
    "    # Do not print the result or any output. Just return the result via this function.\n",
    "    if A == 0 and B == 0:\n",
    "        return 0\n",
    "\n",
    "    if B == 0:\n",
    "        return 1\n",
    "\n",
    "    half = pow(A, B//2, C)\n",
    "    if B % 2 == 0:\n",
    "        return (half * half)%C\n",
    "    else:\n",
    "        return (((A*half)%C)*half)%C"
   ],
   "metadata": {
    "collapsed": false
   }
  },
  {
   "cell_type": "code",
   "execution_count": 89,
   "outputs": [
    {
     "data": {
      "text/plain": "2"
     },
     "execution_count": 89,
     "metadata": {},
     "output_type": "execute_result"
    }
   ],
   "source": [
    "pow(2,3,3)"
   ],
   "metadata": {
    "collapsed": false
   }
  },
  {
   "cell_type": "markdown",
   "source": [
    "---"
   ],
   "metadata": {
    "collapsed": false
   }
  }
 ],
 "metadata": {
  "kernelspec": {
   "display_name": "Python 3",
   "language": "python",
   "name": "python3"
  },
  "language_info": {
   "codemirror_mode": {
    "name": "ipython",
    "version": 2
   },
   "file_extension": ".py",
   "mimetype": "text/x-python",
   "name": "python",
   "nbconvert_exporter": "python",
   "pygments_lexer": "ipython2",
   "version": "2.7.6"
  }
 },
 "nbformat": 4,
 "nbformat_minor": 0
}
