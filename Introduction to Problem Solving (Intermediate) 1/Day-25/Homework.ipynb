{
 "cells": [
  {
   "cell_type": "markdown",
   "source": [
    "# Day 25 - Intermediate DSA : Recursion - 2"
   ],
   "metadata": {
    "collapsed": false
   }
  },
  {
   "cell_type": "markdown",
   "source": [
    "## Q1. Is magic?\n",
    "\n",
    "**Problem Description**\n",
    "\n",
    "Given a number A, check if it is a magic number or not. A number is said to be a magic number if the sum of its digits is calculated till a single digit recursively by adding the sum of the digits after every addition. If the single digit comes out to be 1, then the number is a magic number.\n",
    "\n",
    "**Problem Constraints**\n",
    "\n",
    "1 <= A <= 10^9"
   ],
   "metadata": {
    "collapsed": false
   }
  },
  {
   "cell_type": "code",
   "execution_count": 2,
   "outputs": [],
   "source": [
    "def dummy(A):\n",
    "    if A==0:\n",
    "        return 0\n",
    "    return (A%10) + dummy(A//10)\n",
    "\n",
    "\n",
    "def solve(A):\n",
    "\n",
    "    A = dummy(A)\n",
    "    if A//10 == 0:\n",
    "        if A%10 == 1:\n",
    "            return 1\n",
    "        else:\n",
    "            return 0\n",
    "    return solve(A)"
   ],
   "metadata": {
    "collapsed": false
   }
  },
  {
   "cell_type": "code",
   "execution_count": 3,
   "outputs": [
    {
     "data": {
      "text/plain": "1"
     },
     "execution_count": 3,
     "metadata": {},
     "output_type": "execute_result"
    }
   ],
   "source": [
    "solve(83557)"
   ],
   "metadata": {
    "collapsed": false
   }
  },
  {
   "cell_type": "markdown",
   "source": [
    "## Q2. Kth Symbol - Easy\n",
    "\n",
    "**Problem Description**\n",
    "\n",
    "On the first row, we write a 0. Now in every subsequent row, we look at the previous row and replace each occurrence of 0 with 01, and each occurrence of 1 with 10.\n",
    "Given row number A and index B, return the Bth indexed symbol in row A. (The values of B are 0-indexed.).\n",
    "\n",
    "**Problem Constraints**\n",
    "\n",
    "1 <= A <= 20\n",
    "\n",
    "0 <= B < 2^(A - 1)"
   ],
   "metadata": {
    "collapsed": false
   }
  },
  {
   "cell_type": "code",
   "execution_count": 4,
   "outputs": [],
   "source": [
    "def solve(A, B):\n",
    "    def A_th_Row(A):\n",
    "        if(A == 1):\n",
    "            return [0]\n",
    "        v1 = A_th_Row(A - 1)\n",
    "        v2 = []\n",
    "        for x in v1:\n",
    "            if(x == 0):\n",
    "                v2.append(0)\n",
    "                v2.append(1)\n",
    "            else:\n",
    "                v2.append(1)\n",
    "                v2.append(0)\n",
    "        return v2\n",
    "    return A_th_Row(A)[B]"
   ],
   "metadata": {
    "collapsed": false
   }
  },
  {
   "cell_type": "code",
   "execution_count": 5,
   "outputs": [
    {
     "data": {
      "text/plain": "1"
     },
     "execution_count": 5,
     "metadata": {},
     "output_type": "execute_result"
    }
   ],
   "source": [
    "solve(4,4)"
   ],
   "metadata": {
    "collapsed": false
   }
  },
  {
   "cell_type": "markdown",
   "source": [
    "---"
   ],
   "metadata": {
    "collapsed": false
   }
  }
 ],
 "metadata": {
  "kernelspec": {
   "display_name": "Python 3",
   "language": "python",
   "name": "python3"
  },
  "language_info": {
   "codemirror_mode": {
    "name": "ipython",
    "version": 2
   },
   "file_extension": ".py",
   "mimetype": "text/x-python",
   "name": "python",
   "nbconvert_exporter": "python",
   "pygments_lexer": "ipython2",
   "version": "2.7.6"
  }
 },
 "nbformat": 4,
 "nbformat_minor": 0
}
