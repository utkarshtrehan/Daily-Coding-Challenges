{
 "cells": [
  {
   "cell_type": "markdown",
   "source": [
    "# Day 22 - Intermediate DSA : Hashing - 1"
   ],
   "metadata": {
    "collapsed": false
   }
  },
  {
   "cell_type": "markdown",
   "source": [
    "## Q1. Frequency of element query\n",
    "\n",
    "**Problem Description**\n",
    "\n",
    "Given an array A. You have some integers given in the array B.\n",
    "For the i-th number, find the frequency of B[i] in the array A and return a list containing all the frequencies.\n",
    "\n",
    "**Problem Constraints**\n",
    "\n",
    "1 <= |A| <= 10^5\n",
    "\n",
    "1 <= |B| <= 10^5\n",
    "\n",
    "1 <= A[i] <= 10^5\n",
    "\n",
    "1 <= B[i] <= 10^"
   ],
   "metadata": {
    "collapsed": false
   }
  },
  {
   "cell_type": "code",
   "execution_count": 44,
   "outputs": [],
   "source": [
    "def solve(A, B):\n",
    "\n",
    "        hash_map = dict()\n",
    "        for i, val in enumerate(A):\n",
    "            if val not in hash_map:\n",
    "                hash_map[val] = 1\n",
    "            else:\n",
    "                hash_map[val]+=1\n",
    "        result = []\n",
    "\n",
    "        for q in B:\n",
    "            if q in hash_map:\n",
    "                result.append(hash_map[q])\n",
    "            else:\n",
    "                result.append(0)\n",
    "\n",
    "        return result"
   ],
   "metadata": {
    "collapsed": false
   }
  },
  {
   "cell_type": "code",
   "execution_count": 45,
   "outputs": [
    {
     "data": {
      "text/plain": "[3, 1]"
     },
     "execution_count": 45,
     "metadata": {},
     "output_type": "execute_result"
    }
   ],
   "source": [
    "solve([1, 2, 1, 1], [1,2])"
   ],
   "metadata": {
    "collapsed": false
   }
  },
  {
   "cell_type": "markdown",
   "source": [
    "## Q2. First Repeating element\n",
    "\n",
    "**Problem Description**\n",
    "\n",
    "Given an integer array A of size N, find the first repeating element in it.\n",
    "We need to find the element that occurs more than once and whose index of the first occurrence is the smallest.\n",
    "If there is no repeating element, return -1.\n",
    "\n",
    "**Problem Constraints**\n",
    "\n",
    "1 <= N <= 10^5\n",
    "\n",
    "1 <= A[i] <= 10^9"
   ],
   "metadata": {
    "collapsed": false
   }
  },
  {
   "cell_type": "code",
   "execution_count": 46,
   "outputs": [],
   "source": [
    "def solve(A):\n",
    "\n",
    "        hash_map = dict()\n",
    "        min_idx = float('Inf')\n",
    "        result = -1\n",
    "        for i, val in enumerate(A):\n",
    "            if val not in hash_map:\n",
    "                hash_map[val]=i\n",
    "            else:\n",
    "                if hash_map[val]<min_idx:\n",
    "                    min_idx = hash_map[val]\n",
    "                    result = val\n",
    "        return result"
   ],
   "metadata": {
    "collapsed": false
   }
  },
  {
   "cell_type": "code",
   "execution_count": 47,
   "outputs": [
    {
     "data": {
      "text/plain": "5"
     },
     "execution_count": 47,
     "metadata": {},
     "output_type": "execute_result"
    }
   ],
   "source": [
    "solve([10, 5, 3, 4, 3, 5, 6])"
   ],
   "metadata": {
    "collapsed": false
   }
  },
  {
   "cell_type": "markdown",
   "source": [
    "## Q3. Sub-array with 0 sum\n",
    "\n",
    "**Problem Description**\n",
    "\n",
    "Given an array of integers A, find and return whether the given array contains a non-empty subarray with a sum equal to 0.\n",
    "If the given array contains a sub-array with sum zero return 1, else return 0.\n",
    "\n",
    "**Problem Constraints**\n",
    "\n",
    "1 <= |A| <= 100000\n",
    "\n",
    "-109 <= A[i] <= 109"
   ],
   "metadata": {
    "collapsed": false
   }
  },
  {
   "cell_type": "code",
   "execution_count": 48,
   "outputs": [],
   "source": [
    "    def solve(A):\n",
    "        # Just write your code below to complete the function. Required input is available to you as the function arguments.\n",
    "        # Do not print the result or any output. Just return the result via this function.\n",
    "        N = len(A)\n",
    "        pref_sum = [0]*N\n",
    "        pref_sum[0] = A[0]\n",
    "\n",
    "        result = 0\n",
    "\n",
    "        for i in range(1, N):\n",
    "            pref_sum[i] = pref_sum[i-1] + A[i]\n",
    "\n",
    "        result += N - len(set(pref_sum))\n",
    "\n",
    "        for ele in pref_sum:\n",
    "            if ele == 0:\n",
    "                result+=1\n",
    "\n",
    "        return int(result > 0)"
   ],
   "metadata": {
    "collapsed": false
   }
  },
  {
   "cell_type": "code",
   "execution_count": 49,
   "outputs": [
    {
     "data": {
      "text/plain": "0"
     },
     "execution_count": 49,
     "metadata": {},
     "output_type": "execute_result"
    }
   ],
   "source": [
    "solve([3, 4, 3, 6, 6])"
   ],
   "metadata": {
    "collapsed": false
   }
  },
  {
   "cell_type": "markdown",
   "source": [
    "## Q4. Count distinct elements\n",
    "\n",
    "**Problem Description**\n",
    "\n",
    "You are given an array A of N integers. You will have to return number of distinct elements of the array.\n",
    "\n",
    "**Problem Constraints**\n",
    "\n",
    "1 <= N <= 10^5\n",
    "\n",
    "1 <= A[i] <= 10^9"
   ],
   "metadata": {
    "collapsed": false
   }
  },
  {
   "cell_type": "code",
   "execution_count": 50,
   "outputs": [],
   "source": [
    "def solve(A):\n",
    "        return len(set(A))"
   ],
   "metadata": {
    "collapsed": false
   }
  },
  {
   "cell_type": "code",
   "execution_count": 51,
   "outputs": [
    {
     "data": {
      "text/plain": "3"
     },
     "execution_count": 51,
     "metadata": {},
     "output_type": "execute_result"
    }
   ],
   "source": [
    "solve([3, 4, 3, 6, 6])"
   ],
   "metadata": {
    "collapsed": false
   }
  },
  {
   "cell_type": "markdown",
   "source": [
    "---"
   ],
   "metadata": {
    "collapsed": false
   }
  }
 ],
 "metadata": {
  "kernelspec": {
   "display_name": "Python 3",
   "language": "python",
   "name": "python3"
  },
  "language_info": {
   "codemirror_mode": {
    "name": "ipython",
    "version": 2
   },
   "file_extension": ".py",
   "mimetype": "text/x-python",
   "name": "python",
   "nbconvert_exporter": "python",
   "pygments_lexer": "ipython2",
   "version": "2.7.6"
  }
 },
 "nbformat": 4,
 "nbformat_minor": 0
}
