{
 "cells": [
  {
   "cell_type": "markdown",
   "source": [
    "# Day 22 - Intermediate DSA : Hashing - 1"
   ],
   "metadata": {
    "collapsed": false
   }
  },
  {
   "cell_type": "markdown",
   "source": [
    "## Q1. Count Subarray Zero Sum"
   ],
   "metadata": {
    "collapsed": false
   }
  },
  {
   "cell_type": "code",
   "execution_count": null,
   "outputs": [],
   "source": [],
   "metadata": {
    "collapsed": false
   }
  },
  {
   "cell_type": "code",
   "execution_count": null,
   "outputs": [],
   "source": [],
   "metadata": {
    "collapsed": false
   }
  },
  {
   "cell_type": "markdown",
   "source": [
    "## Q2. Common Elements\n",
    "\n",
    "**Problem Description**\n",
    "\n",
    "Given two integer arrays, A and B of size N and M, respectively. Your task is to find all the common elements in both the array.\n",
    "NOTE:\n",
    "Each element in the result should appear as many times as it appears in both arrays.\n",
    "The result can be in any order.\n",
    "\n",
    "\n",
    "**Problem Constraints**\n",
    "\n",
    "1 <= N, M <= 10^5\n",
    "\n",
    "1 <= A[i] <= 10^9"
   ],
   "metadata": {
    "collapsed": false
   }
  },
  {
   "cell_type": "code",
   "execution_count": null,
   "outputs": [],
   "source": [
    "def solve(A, B):\n",
    "\n",
    "        A_hash_map = dict()\n",
    "        for i, val in enumerate(A):\n",
    "            if val not in A_hash_map:\n",
    "                A_hash_map[val] = 1\n",
    "            else:\n",
    "                A_hash_map[val]+=1\n",
    "\n",
    "        B_hash_map = dict()\n",
    "        for i, val in enumerate(B):\n",
    "            if val not in B_hash_map:\n",
    "                B_hash_map[val] = 1\n",
    "            else:\n",
    "                B_hash_map[val]+=1\n",
    "        result = []\n",
    "        for val in A_hash_map:\n",
    "            if val in B_hash_map:\n",
    "                result.extend([val]*min(A_hash_map[val], B_hash_map[val]))\n",
    "        return result"
   ],
   "metadata": {
    "collapsed": false
   }
  },
  {
   "cell_type": "code",
   "execution_count": 5,
   "outputs": [
    {
     "data": {
      "text/plain": "0"
     },
     "execution_count": 5,
     "metadata": {},
     "output_type": "execute_result"
    }
   ],
   "source": [
    "solve([1, 2, 2, 1])"
   ],
   "metadata": {
    "collapsed": false
   }
  },
  {
   "cell_type": "markdown",
   "source": [
    "## Q3. Colorful Number"
   ],
   "metadata": {
    "collapsed": false
   }
  },
  {
   "cell_type": "code",
   "execution_count": 5,
   "outputs": [],
   "source": [],
   "metadata": {
    "collapsed": false
   }
  },
  {
   "cell_type": "code",
   "execution_count": 5,
   "outputs": [],
   "source": [],
   "metadata": {
    "collapsed": false
   }
  },
  {
   "cell_type": "markdown",
   "source": [
    "## Q4. Count unique elements\n",
    "\n",
    "**Problem Description**\n",
    "\n",
    "You are given an array A of N integers. Return the count of elements with frequncy 1 in the given array.\n",
    "\n",
    "**Problem Constraints**\n",
    "\n",
    "1 <= N <= 105\n",
    "\n",
    "1 <= A[i] <= 109"
   ],
   "metadata": {
    "collapsed": false
   }
  },
  {
   "cell_type": "code",
   "execution_count": 3,
   "outputs": [],
   "source": [
    "def solve(A):\n",
    "        hash_map = dict()\n",
    "        for i, val in enumerate(A):\n",
    "            if val not in hash_map:\n",
    "                hash_map[val] = 1\n",
    "            else:\n",
    "                hash_map[val]+=1\n",
    "        result = 0\n",
    "\n",
    "        for key in hash_map:\n",
    "\n",
    "            if hash_map[key] == 1:\n",
    "                result+=1\n",
    "\n",
    "        return result"
   ],
   "metadata": {
    "collapsed": false
   }
  },
  {
   "cell_type": "code",
   "execution_count": 4,
   "outputs": [
    {
     "data": {
      "text/plain": "1"
     },
     "execution_count": 4,
     "metadata": {},
     "output_type": "execute_result"
    }
   ],
   "source": [
    "solve([3, 4, 3, 6, 6])"
   ],
   "metadata": {
    "collapsed": false
   }
  },
  {
   "cell_type": "markdown",
   "source": [
    "---"
   ],
   "metadata": {
    "collapsed": false
   }
  }
 ],
 "metadata": {
  "kernelspec": {
   "display_name": "Python 3",
   "language": "python",
   "name": "python3"
  },
  "language_info": {
   "codemirror_mode": {
    "name": "ipython",
    "version": 2
   },
   "file_extension": ".py",
   "mimetype": "text/x-python",
   "name": "python",
   "nbconvert_exporter": "python",
   "pygments_lexer": "ipython2",
   "version": "2.7.6"
  }
 },
 "nbformat": 4,
 "nbformat_minor": 0
}
