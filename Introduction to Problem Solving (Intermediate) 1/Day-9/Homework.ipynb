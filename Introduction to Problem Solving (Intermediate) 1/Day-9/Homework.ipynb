{
 "cells": [
  {
   "cell_type": "markdown",
   "source": [
    "# Day 9 - Intermediate DSA: Arrays - Carry Forward"
   ],
   "metadata": {
    "collapsed": false
   }
  },
  {
   "cell_type": "markdown",
   "source": [
    "## Q1. Best Time to Buy and Sell Stocks I\n",
    "\n",
    "**Problem Description**\n",
    "\n",
    "Say you have an array, A, for which the ith element is the price of a given stock on day i.\n",
    "If you were only permitted to complete at most one transaction (ie, buy one and sell one share of the stock), design an algorithm to find the maximum profit.\n",
    "Return the maximum possible profit.\n",
    "\n",
    "**Problem Constraints**\n",
    "\n",
    "0 <= len(A) <= 7e5\n",
    "\n",
    "1 <= A[i] <= 1e7"
   ],
   "metadata": {
    "collapsed": false
   }
  },
  {
   "cell_type": "code",
   "execution_count": 54,
   "outputs": [],
   "source": [
    "def maxProfit(A):\n",
    "\n",
    "    greatest_on_right = 0;\n",
    "    profit = 0;\n",
    "    for i in range(len(A) - 1, -1, -1):\n",
    "        greatest_on_right = max(A[i], greatest_on_right);\n",
    "        profit = max(profit, greatest_on_right - A[i]);\n",
    "\n",
    "    return profit;"
   ],
   "metadata": {
    "collapsed": false
   }
  },
  {
   "cell_type": "code",
   "execution_count": 55,
   "outputs": [
    {
     "data": {
      "text/plain": "4"
     },
     "execution_count": 55,
     "metadata": {},
     "output_type": "execute_result"
    }
   ],
   "source": [
    "maxProfit([1, 4, 5, 2, 4])"
   ],
   "metadata": {
    "collapsed": false
   }
  },
  {
   "cell_type": "markdown",
   "source": [
    "## Q2. Amazing Subarrays\n",
    "\n",
    "**Problem Statement**\n",
    "\n",
    "You are given a string S, and you have to find all the amazing substrings of S.\n",
    "An amazing Substring is one that starts with a vowel (a, e, i, o, u, A, E, I, O, U).\n",
    "\n",
    "**Constraints**\n",
    "\n",
    "1 <= length(S) <= 1e6\n",
    "\n",
    "S can have special characters"
   ],
   "metadata": {
    "collapsed": false
   }
  },
  {
   "cell_type": "code",
   "execution_count": 56,
   "outputs": [],
   "source": [
    "def solve(A):\n",
    "        A = A.lower()\n",
    "        vowels = ['a','e','i', 'o', 'u']\n",
    "        sum_ama_ss = 0\n",
    "        count = 0\n",
    "        for ele in A[::-1]:\n",
    "            count+=1\n",
    "            if ele in vowels:\n",
    "                sum_ama_ss+=count\n",
    "        return sum_ama_ss%10003"
   ],
   "metadata": {
    "collapsed": false
   }
  },
  {
   "cell_type": "code",
   "execution_count": 58,
   "outputs": [
    {
     "data": {
      "text/plain": "6"
     },
     "execution_count": 58,
     "metadata": {},
     "output_type": "execute_result"
    }
   ],
   "source": [
    "solve('ABEC')"
   ],
   "metadata": {
    "collapsed": false
   }
  },
  {
   "cell_type": "markdown",
   "source": [
    "## Q3. Even Subarrays\n",
    "\n",
    "**Problem Description**\n",
    "\n",
    "You are given an integer array A.\n",
    "Decide whether it is possible to divide the array into one or more subarrays of even length such that the first and last element of all subarrays will be even.\n",
    "Return \"YES\" if it is possible; otherwise, return \"NO\" (without quotes).\n",
    "\n",
    "**Problem Constraints**\n",
    "\n",
    "1 <= |A|, A[i] <= 10^6"
   ],
   "metadata": {
    "collapsed": false
   }
  },
  {
   "cell_type": "code",
   "execution_count": 53,
   "outputs": [],
   "source": [],
   "metadata": {
    "collapsed": false
   }
  },
  {
   "cell_type": "code",
   "execution_count": 53,
   "outputs": [],
   "source": [],
   "metadata": {
    "collapsed": false
   }
  },
  {
   "cell_type": "markdown",
   "source": [
    "## Q4. Bulbs\n",
    "\n",
    "**Problem Description**\n",
    "\n",
    "A wire connects N light bulbs.\n",
    "Each bulb has a switch associated with it; however, due to faulty wiring, a switch also changes the state of all the bulbs to the right of the current bulb.\n",
    "Given an initial state of all bulbs, find the minimum number of switches you have to press to turn on all the bulbs.\n",
    "You can press the same switch multiple times.\n",
    "Note: 0 represents the bulb is off and 1 represents the bulb is on.\n",
    "\n",
    "**Problem Constraints**\n",
    "\n",
    "0 <= N <= 5×10^5\n",
    "\n",
    "0 <= A[i] <= 1"
   ],
   "metadata": {
    "collapsed": false
   }
  },
  {
   "cell_type": "code",
   "execution_count": 53,
   "outputs": [],
   "source": [],
   "metadata": {
    "collapsed": false
   }
  },
  {
   "cell_type": "code",
   "execution_count": 53,
   "outputs": [],
   "source": [],
   "metadata": {
    "collapsed": false
   }
  },
  {
   "cell_type": "markdown",
   "source": [
    "## Q8. Pick from both sides!\n",
    "\n",
    "**Problem Description**\n",
    "\n",
    "You are given an integer array A of size N.\n",
    "You have to perform B operations. In one operation, you can remove either the leftmost or the rightmost element of the array A.\n",
    "Find and return the maximum possible sum of the elements that were removed after B operations.\n",
    "NOTE: Suppose B = 4, and array A contains 10 elements, then\n",
    "You can remove the first four elements or can remove the last four elements, or can remove 1 from front and 3 from the back, etc. You need to return the maximum possible sum of elements you can remove.\n",
    "\n",
    "\n",
    "**Problem Constraints**\n",
    "\n",
    "1 <= N <= 10^5\n",
    "\n",
    "1 <= B <= N\n",
    "\n",
    "-103 <= A[i] <= 10^3"
   ],
   "metadata": {
    "collapsed": false
   }
  },
  {
   "cell_type": "code",
   "execution_count": 94,
   "outputs": [],
   "source": [
    "def solve(A, B):\n",
    "        n = len(A)\n",
    "        print('Input: {}, Size: {}'.format(A, n))\n",
    "        suff = [0] * (n + 1)\n",
    "        suff[n - 1] = A[n - 1]\n",
    "        for i in range(n - 2, -1, -1):\n",
    "            suff[i] = A[i] + suff[i + 1]\n",
    "        print('Suffix Sum: {}'.format(suff))\n",
    "        prefSum = 0\n",
    "        ans = suff[n - B]\n",
    "        print('Default Ans is Suff[n-B]: {}'.format(ans))\n",
    "        for i in range(B):\n",
    "            prefSum = prefSum + A[i]\n",
    "            suffSum = suff[n - B + i + 1]\n",
    "            ans = max(ans, prefSum + suffSum)\n",
    "            print('For i = {}, prefsum: {}, suffsum: {}, ans: {}'.format(i, prefSum, suffSum, ans))\n",
    "        return ans"
   ],
   "metadata": {
    "collapsed": false
   }
  },
  {
   "cell_type": "code",
   "execution_count": 98,
   "outputs": [
    {
     "name": "stdout",
     "output_type": "stream",
     "text": [
      "Input: [5, -2, 3, 1, 2], Size: 5\n",
      "Suffix Sum: [9, 4, 6, 3, 2, 0]\n",
      "Default Ans is Suff[n-B]: 6\n",
      "For i = 0, prefsum: 5, suffsum: 3, ans: 8\n",
      "For i = 1, prefsum: 3, suffsum: 2, ans: 8\n",
      "For i = 2, prefsum: 6, suffsum: 0, ans: 8\n"
     ]
    },
    {
     "data": {
      "text/plain": "8"
     },
     "execution_count": 98,
     "metadata": {},
     "output_type": "execute_result"
    }
   ],
   "source": [
    "solve([5,-2,3,1,2],3)"
   ],
   "metadata": {
    "collapsed": false
   }
  },
  {
   "cell_type": "markdown",
   "source": [
    "---"
   ],
   "metadata": {
    "collapsed": false
   }
  }
 ],
 "metadata": {
  "kernelspec": {
   "display_name": "Python 3",
   "language": "python",
   "name": "python3"
  },
  "language_info": {
   "codemirror_mode": {
    "name": "ipython",
    "version": 2
   },
   "file_extension": ".py",
   "mimetype": "text/x-python",
   "name": "python",
   "nbconvert_exporter": "python",
   "pygments_lexer": "ipython2",
   "version": "2.7.6"
  }
 },
 "nbformat": 4,
 "nbformat_minor": 0
}
