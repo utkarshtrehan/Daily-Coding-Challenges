{
 "cells": [
  {
   "cell_type": "markdown",
   "source": [
    "# Day 9 - Intermediate DSA: Arrays - Carry Forward"
   ],
   "metadata": {
    "collapsed": false
   }
  },
  {
   "cell_type": "markdown",
   "source": [
    "## Q1. Special Subsequences \"AG\" - 2\n",
    "\n",
    "**Problem Description**\n",
    "\n",
    "You have given a string A having Uppercase English letters.\n",
    "You have to find the number of pairs (i, j) such that A[i] = 'A', A[j] = 'G' and i < j.\n",
    "\n",
    "**Problem Constraints**\n",
    "\n",
    "1 <= length(A) <= 10^5"
   ],
   "metadata": {
    "collapsed": false
   }
  },
  {
   "cell_type": "code",
   "execution_count": 1,
   "outputs": [],
   "source": [
    "def solve(A):\n",
    "\n",
    "    sum = 0\n",
    "    count = 0\n",
    "    for ch in A:\n",
    "        if ch == 'A':\n",
    "            count+=1\n",
    "        if ch == 'G':\n",
    "            sum+=count\n",
    "\n",
    "    return sum"
   ],
   "metadata": {
    "collapsed": false
   }
  },
  {
   "cell_type": "code",
   "execution_count": 2,
   "outputs": [
    {
     "data": {
      "text/plain": "3"
     },
     "execution_count": 2,
     "metadata": {},
     "output_type": "execute_result"
    }
   ],
   "source": [
    "solve(\"GABCGAG\")"
   ],
   "metadata": {
    "collapsed": false
   }
  },
  {
   "cell_type": "markdown",
   "source": [
    "## Q2. Leaders in an array\n",
    "\n",
    "**Problem Description**\n",
    "\n",
    "Given an integer array A containing N distinct integers, you have to find all the leaders in array A. An element is a leader if it is strictly greater than all the elements to its right side.\n",
    "\n",
    "NOTE: The rightmost element is always a leader.\n",
    "\n",
    "**Problem Constraints**\n",
    "\n",
    "1 <= N <= 10^5\n",
    "\n",
    "1 <= A[i] <= 10^8"
   ],
   "metadata": {
    "collapsed": false
   }
  },
  {
   "cell_type": "code",
   "execution_count": 3,
   "outputs": [],
   "source": [
    "def solve(A):\n",
    "\n",
    "    leaders = []\n",
    "    max = float('-Inf')\n",
    "    for ele in A[::-1]:\n",
    "        if ele > max:\n",
    "            max = ele\n",
    "            leaders.append(ele)\n",
    "    return leaders"
   ],
   "metadata": {
    "collapsed": false
   }
  },
  {
   "cell_type": "code",
   "execution_count": 4,
   "outputs": [
    {
     "data": {
      "text/plain": "[2, 5, 17]"
     },
     "execution_count": 4,
     "metadata": {},
     "output_type": "execute_result"
    }
   ],
   "source": [
    "solve([16, 17, 4, 3, 5, 2])"
   ],
   "metadata": {
    "collapsed": false
   }
  },
  {
   "cell_type": "markdown",
   "source": [
    "## Q3. Closest MinMax\n",
    "\n",
    "**Problem Description**\n",
    "Given an array A, find the size of the smallest subarray such that it contains at least one occurrence of the maximum value of the array and at least one occurrence of the minimum value of the array.\n",
    "\n",
    "**Problem Constraints**\n",
    "1 <= |A| <= 2000"
   ],
   "metadata": {
    "collapsed": false
   }
  },
  {
   "cell_type": "code",
   "execution_count": 5,
   "outputs": [],
   "source": [
    "def solve(A):\n",
    "\n",
    "    max_ele = float('-Inf')\n",
    "    min_ele = float('Inf')\n",
    "\n",
    "    for ele in A:\n",
    "        if ele > max_ele:\n",
    "            max_ele = ele\n",
    "        if ele < min_ele:\n",
    "            min_ele = ele\n",
    "    min_id, max_id, ans = -1 , -1, len(A)\n",
    "\n",
    "    for idx in range(len(A)-1, -1, -1):\n",
    "        if A[idx] == min_ele:\n",
    "            min_id = idx\n",
    "            if max_id != -1:\n",
    "                ans = min(ans, max_id-idx+1)\n",
    "\n",
    "        if A[idx] == max_ele:\n",
    "            max_id = idx\n",
    "            if min_id != -1:\n",
    "                ans = min(ans, min_id-idx+1)\n",
    "\n",
    "    return ans"
   ],
   "metadata": {
    "collapsed": false
   }
  },
  {
   "cell_type": "code",
   "execution_count": 6,
   "outputs": [
    {
     "data": {
      "text/plain": "3"
     },
     "execution_count": 6,
     "metadata": {},
     "output_type": "execute_result"
    }
   ],
   "source": [
    "solve([2, 6, 1, 6, 9])"
   ],
   "metadata": {
    "collapsed": false
   }
  },
  {
   "cell_type": "markdown",
   "source": [
    "---"
   ],
   "metadata": {
    "collapsed": false
   }
  }
 ],
 "metadata": {
  "kernelspec": {
   "display_name": "Python 3",
   "language": "python",
   "name": "python3"
  },
  "language_info": {
   "codemirror_mode": {
    "name": "ipython",
    "version": 2
   },
   "file_extension": ".py",
   "mimetype": "text/x-python",
   "name": "python",
   "nbconvert_exporter": "python",
   "pygments_lexer": "ipython2",
   "version": "2.7.6"
  }
 },
 "nbformat": 4,
 "nbformat_minor": 0
}
