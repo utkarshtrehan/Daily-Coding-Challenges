{
 "cells": [
  {
   "cell_type": "markdown",
   "source": [
    "# Day 13 - Intermediate DSA: Interview Problems - 1"
   ],
   "metadata": {
    "collapsed": false
   }
  },
  {
   "cell_type": "markdown",
   "source": [
    "## Q1. Sum of even indices\n",
    "\n",
    "**Problem Description**\n",
    "\n",
    "You are given an array A of length N and Q queries given by the 2D array B of size Q*2. Each query consists of two integers B[i][0] and B[i][1].\n",
    "For every query, the task is to calculate the sum of all even indices in the range A[B[i][0]…B[i][1]].\n",
    "\n",
    "Note : Use 0-based indexing\n",
    "\n",
    "\n",
    "**Problem Constraints**\n",
    "\n",
    "1 <= N <= 10^5\n",
    "\n",
    "1 <= Q <= 10^5\n",
    "\n",
    "1 <= A[i] <= 10^0\n",
    "\n",
    "0 <= B[i][0] <= B[i][1] < N"
   ],
   "metadata": {
    "collapsed": false
   }
  },
  {
   "cell_type": "code",
   "execution_count": 5,
   "outputs": [],
   "source": [
    "def solve(A, B):\n",
    "    N = len(A)\n",
    "    print(f'Original Input: {A}')\n",
    "    # Calculate pfEven\n",
    "    pfEven = []\n",
    "    pfEven.append(A[0])\n",
    "    for i in range(1, N):\n",
    "        if i % 2 == 0:\n",
    "            pfEven.append(pfEven[i-1]+A[i])\n",
    "        else:\n",
    "            pfEven.append(pfEven[i-1])\n",
    "    print(f'Even Prefix Sum: {pfEven}')\n",
    "    # Calculate sum for query\n",
    "    res = []\n",
    "    for i in range(len(B)):\n",
    "        l = B[i][0]\n",
    "        r = B[i][1]\n",
    "        if l > 0:\n",
    "            res.append(pfEven[r] - pfEven[l-1])\n",
    "        else:\n",
    "            res.append(pfEven[r])\n",
    "    return res"
   ],
   "metadata": {
    "collapsed": false
   }
  },
  {
   "cell_type": "code",
   "execution_count": 7,
   "outputs": [
    {
     "name": "stdout",
     "output_type": "stream",
     "text": [
      "Original Input: [1, 2, 3, 4, 5]\n",
      "Even Prefix Sum: [1, 1, 4, 4, 9]\n"
     ]
    },
    {
     "data": {
      "text/plain": "[4, 8]"
     },
     "execution_count": 7,
     "metadata": {},
     "output_type": "execute_result"
    }
   ],
   "source": [
    "A = [1, 2, 3, 4, 5]\n",
    "B = [[0,2],\n",
    "     [1,4]]\n",
    "solve(A, B)"
   ],
   "metadata": {
    "collapsed": false
   }
  },
  {
   "cell_type": "markdown",
   "source": [
    "## Q2. Sum of odd indices\n",
    "\n",
    "**Problem Description**\n",
    "\n",
    "You are given an array A of length N and Q queries given by the 2D array B of size Q*2. Each query consists of two integers B[i][0] and B[i][1].\n",
    "For every query, the task is to calculate the sum of all odd indices in the range A[B[i][0]…B[i][1]].\n",
    "\n",
    "Note : Use 0-based indexing\n",
    "\n",
    "**Problem Constraints**\n",
    "\n",
    "1 <= N <= 10^5\n",
    "\n",
    "1 <= Q <= 10^5\n",
    "\n",
    "1 <= A[i] <= 10^0\n",
    "\n",
    "0 <= B[i][0] <= B[i][1] < N"
   ],
   "metadata": {
    "collapsed": false
   }
  },
  {
   "cell_type": "code",
   "execution_count": 11,
   "outputs": [],
   "source": [
    "def solve(A, B):\n",
    "\n",
    "    N = len(A)\n",
    "\n",
    "    print(f'Original Input: {A}')\n",
    "\n",
    "    odd_pref_sum = [0] * N\n",
    "    odd_pref_sum[0] = 0\n",
    "\n",
    "    for i in range(1, N):\n",
    "        if i % 2 == 1:\n",
    "            odd_pref_sum[i] = odd_pref_sum[i-1] + A[i]\n",
    "        else:\n",
    "            odd_pref_sum[i] = odd_pref_sum[i-1]\n",
    "\n",
    "    print(f'Even Prefix Sum: {odd_pref_sum}')\n",
    "\n",
    "    res = []\n",
    "\n",
    "    for i in range(len(B)):\n",
    "        l = B[i][0]\n",
    "        r = B[i][1]\n",
    "        if l == 0:\n",
    "            res.append(odd_pref_sum[r])\n",
    "        else:\n",
    "            res.append(odd_pref_sum[r] - odd_pref_sum[l-1])\n",
    "    return res"
   ],
   "metadata": {
    "collapsed": false
   }
  },
  {
   "cell_type": "code",
   "execution_count": 12,
   "outputs": [],
   "source": [
    "A = [1, 2, 3, 4, 5]\n",
    "B = [[0,2],\n",
    "        [1,4]]"
   ],
   "metadata": {
    "collapsed": false
   }
  },
  {
   "cell_type": "code",
   "execution_count": 13,
   "outputs": [
    {
     "name": "stdout",
     "output_type": "stream",
     "text": [
      "Original Input: [1, 2, 3, 4, 5]\n",
      "Even Prefix Sum: [0, 2, 2, 6, 6]\n"
     ]
    },
    {
     "data": {
      "text/plain": "[2, 6]"
     },
     "execution_count": 13,
     "metadata": {},
     "output_type": "execute_result"
    }
   ],
   "source": [
    "solve(A, B)"
   ],
   "metadata": {
    "collapsed": false
   }
  },
  {
   "cell_type": "code",
   "execution_count": 93,
   "outputs": [
    {
     "data": {
      "text/plain": "2"
     },
     "execution_count": 93,
     "metadata": {},
     "output_type": "execute_result"
    }
   ],
   "source": [
    "A = [1, 2, 2, 2, 2, 1, 2, 4, 2, 2, 2, 1, 1, 2, 1, 1]\n",
    "N = len(A)\n",
    "count = 1\n",
    "candidate = A[0]\n",
    "for i in range(1, N):\n",
    "    if A[i] == candidate:\n",
    "        count+=1\n",
    "    else:\n",
    "        count-=1\n",
    "    if count == 0:\n",
    "        candidate = A[i]\n",
    "        count = 1\n",
    "candidate"
   ],
   "metadata": {
    "collapsed": false
   }
  },
  {
   "cell_type": "code",
   "execution_count": 108,
   "outputs": [],
   "source": [
    "def solve(A, B):\n",
    "    N = len(A)\n",
    "    ans = 0\n",
    "    mul = 1\n",
    "    for i in range(N-1, -1, -1):\n",
    "        digit = int(A[i])\n",
    "        print(digit*mul)\n",
    "        ans = ans + (digit*mul)%B\n",
    "        mul = mul * 10\n",
    "\n",
    "    return ans"
   ],
   "metadata": {
    "collapsed": false
   }
  },
  {
   "cell_type": "code",
   "execution_count": 109,
   "outputs": [
    {
     "name": "stdout",
     "output_type": "stream",
     "text": [
      "0\n",
      "80\n",
      "0\n",
      "5000\n",
      "40000\n",
      "800000\n",
      "1000000\n"
     ]
    },
    {
     "data": {
      "text/plain": "26"
     },
     "execution_count": 109,
     "metadata": {},
     "output_type": "execute_result"
    }
   ],
   "source": [
    "solve([ 1, 8, 4, 5, 0, 8, 0 ], 9)"
   ],
   "metadata": {
    "collapsed": false
   }
  },
  {
   "cell_type": "code",
   "execution_count": null,
   "outputs": [],
   "source": [],
   "metadata": {
    "collapsed": false
   }
  }
 ],
 "metadata": {
  "kernelspec": {
   "display_name": "Python 3",
   "language": "python",
   "name": "python3"
  },
  "language_info": {
   "codemirror_mode": {
    "name": "ipython",
    "version": 2
   },
   "file_extension": ".py",
   "mimetype": "text/x-python",
   "name": "python",
   "nbconvert_exporter": "python",
   "pygments_lexer": "ipython2",
   "version": "2.7.6"
  }
 },
 "nbformat": 4,
 "nbformat_minor": 0
}
