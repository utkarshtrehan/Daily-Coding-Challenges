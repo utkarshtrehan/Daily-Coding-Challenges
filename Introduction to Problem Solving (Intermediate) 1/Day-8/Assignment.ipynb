{
 "cells": [
  {
   "cell_type": "markdown",
   "source": [
    "# Day 8 - Intermediate DSA: Arrays - Prefix Sum\n"
   ],
   "metadata": {
    "collapsed": false
   }
  },
  {
   "cell_type": "markdown",
   "source": [
    "## Q1. Range Sum Query\n",
    "\n",
    "**Problem Description**\n",
    "\n",
    "You are given an integer array A of length N.\n",
    "You are also given a 2D integer array B with dimensions M x 2, where each row denotes a [L, R] query.\n",
    "For each query, you have to find the sum of all elements from L to R indices in A (0 - indexed).\n",
    "More formally, find A[L] + A[L + 1] + A[L + 2] +... + A[R - 1] + A[R] for each query.\n",
    "\n",
    "\n",
    "\n",
    "**Problem Constraints**\n",
    "\n",
    "1 <= N, M <= 10^5\n",
    "\n",
    "1 <= A[i] <= 10^9\n",
    "\n",
    "0 <= L <= R < N"
   ],
   "metadata": {
    "collapsed": false
   }
  },
  {
   "cell_type": "code",
   "execution_count": 14,
   "outputs": [],
   "source": [
    "A = [1, 2, 3, 4, 5]\n",
    "B = [[0, 3], [1, 2]]"
   ],
   "metadata": {
    "collapsed": false
   }
  },
  {
   "cell_type": "code",
   "execution_count": 6,
   "outputs": [
    {
     "name": "stdout",
     "output_type": "stream",
     "text": [
      "Start: 0, End: 3\n",
      "Start: 1, End: 2\n"
     ]
    }
   ],
   "source": [
    "for start, end in B:\n",
    "    print('Start: {}, End: {}'.format(start, end))"
   ],
   "metadata": {
    "collapsed": false
   }
  },
  {
   "cell_type": "code",
   "execution_count": 15,
   "outputs": [],
   "source": [
    "def rangeSum(A, B):\n",
    "\n",
    "    result = []\n",
    "\n",
    "    # Prefix Sum\n",
    "    for i in range(1, len(A)):\n",
    "        A[i] = A[i] + A[i-1]\n",
    "    print(A)\n",
    "    # For all query in queries\n",
    "    for start, end in B:\n",
    "        if start == 0:\n",
    "            result.append(A[end])\n",
    "        else:\n",
    "            result.append(A[end]- A[start-1])\n",
    "\n",
    "    return result"
   ],
   "metadata": {
    "collapsed": false
   }
  },
  {
   "cell_type": "code",
   "execution_count": 16,
   "outputs": [
    {
     "name": "stdout",
     "output_type": "stream",
     "text": [
      "[1, 3, 6, 10, 15]\n"
     ]
    },
    {
     "data": {
      "text/plain": "[10, 5]"
     },
     "execution_count": 16,
     "metadata": {},
     "output_type": "execute_result"
    }
   ],
   "source": [
    "rangeSum(A, B)"
   ],
   "metadata": {
    "collapsed": false
   }
  },
  {
   "cell_type": "markdown",
   "source": [
    "## Q2: In-place Prefix Sum\n",
    "\n",
    "**Problem Description**\n",
    "\n",
    "Given an array A of N integers. Construct prefix sum of the array in the given array itself.\n",
    "\n",
    "\n",
    "**Problem Constraints**\n",
    "\n",
    "1 <= N <= 10^5\n",
    "\n",
    "1 <= A[i] <= 10^3"
   ],
   "metadata": {
    "collapsed": false
   }
  },
  {
   "cell_type": "code",
   "execution_count": 17,
   "outputs": [],
   "source": [
    "def solve(A):\n",
    "    for i in range(1, len(A)):\n",
    "        A[i] = A[i] + A[i-1]\n",
    "    return A"
   ],
   "metadata": {
    "collapsed": false
   }
  },
  {
   "cell_type": "code",
   "execution_count": 18,
   "outputs": [
    {
     "data": {
      "text/plain": "[1, 3, 6, 10, 15]"
     },
     "execution_count": 18,
     "metadata": {},
     "output_type": "execute_result"
    }
   ],
   "source": [
    "solve([1, 2, 3, 4, 5])"
   ],
   "metadata": {
    "collapsed": false
   }
  },
  {
   "cell_type": "markdown",
   "source": [
    "## Q3. Equilibrium index of an array\n",
    "\n",
    "**Problem Description**\n",
    "\n",
    "You are given an array A of integers of size N.\n",
    "Your task is to find the equilibrium index of the given array\n",
    "The equilibrium index of an array is an index such that the sum of elements at lower indexes is equal to the sum of elements at higher indexes.\n",
    "If there are no elements that are at lower indexes or at higher indexes, then the corresponding sum of elements is considered as 0.\n",
    "\n",
    "**Note:**\n",
    "- Array indexing starts from 0.\n",
    "- If there is no equilibrium index then return -1.\n",
    "- If there are more than one equilibrium indexes then return the minimum index.\n",
    "\n",
    "**Problem Constraints**\n",
    "\n",
    "1 <= N <= 105\n",
    "\n",
    "-105 <= A[i] <= 105"
   ],
   "metadata": {
    "collapsed": false
   }
  },
  {
   "cell_type": "code",
   "execution_count": 55,
   "outputs": [],
   "source": [
    "def solve(A):\n",
    "\n",
    "    # Prefix Sum\n",
    "    pref_sum_A = [0]*(len(A))\n",
    "    pref_sum_A[0] = A[0]\n",
    "    for i in range(1, len(A)):\n",
    "        pref_sum_A[i] = A[i] + pref_sum_A[i-1]\n",
    "\n",
    "    # Equilibrium Index\n",
    "    n = len(A)\n",
    "    for i in range(0, n):\n",
    "        left_sum = 0 if i == 0 else pref_sum_A[i-1]\n",
    "        right_sum = pref_sum_A[n-1]-pref_sum_A[i]\n",
    "        if left_sum == right_sum:\n",
    "            return i\n",
    "    return -1"
   ],
   "metadata": {
    "collapsed": false
   }
  },
  {
   "cell_type": "code",
   "execution_count": 56,
   "outputs": [
    {
     "data": {
      "text/plain": "3"
     },
     "execution_count": 56,
     "metadata": {},
     "output_type": "execute_result"
    }
   ],
   "source": [
    "solve([-7, 1, 5, 2, -4, 3, 0])"
   ],
   "metadata": {
    "collapsed": false
   }
  },
  {
   "cell_type": "markdown",
   "source": [
    "## Q4. Even numbers in a range\n",
    "\n",
    "**Problem Description**\n",
    "\n",
    "You are given an array A of length N and Q queries given by the 2D array B of size Q×2.\n",
    "Each query consists of two integers B[i][0] and B[i][1].\n",
    "For every query, your task is to find the count of even numbers in the range from A[B[i][0]] to A[B[i][1]].\n",
    "\n",
    "**Problem Constraints**\n",
    "\n",
    "1 <= N <= 105\n",
    "\n",
    "1 <= Q <= 105\n",
    "\n",
    "1 <= A[i] <= 109\n",
    "\n",
    "0 <= B[i][0] <= B[i][1] < N"
   ],
   "metadata": {
    "collapsed": false
   }
  },
  {
   "cell_type": "code",
   "execution_count": 110,
   "outputs": [],
   "source": [
    "def solve(A, B):\n",
    "    result = []\n",
    "\n",
    "    # Prefix Sum\n",
    "    pref_sum = [0]*len(A)\n",
    "    pref_sum[0] = 1 if A[0]%2 == 0 else 0\n",
    "    for i in range(1, len(A)):\n",
    "        pref_sum[i] = pref_sum[i-1]+1 if A[i]%2 == 0 else pref_sum[i-1]\n",
    "\n",
    "    for start, end in B:\n",
    "        if start == 0:\n",
    "            result.append(pref_sum[end])\n",
    "        else:\n",
    "            result.append(pref_sum[end]-pref_sum[start-1])\n",
    "    return result"
   ],
   "metadata": {
    "collapsed": false
   }
  },
  {
   "cell_type": "code",
   "execution_count": 111,
   "outputs": [
    {
     "data": {
      "text/plain": "[0]"
     },
     "execution_count": 111,
     "metadata": {},
     "output_type": "execute_result"
    }
   ],
   "source": [
    "solve([ 3, 1, 5, 7, 5, 2 ], [[0,2]])"
   ],
   "metadata": {
    "collapsed": false
   }
  },
  {
   "cell_type": "markdown",
   "source": [
    "---"
   ],
   "metadata": {
    "collapsed": false
   }
  }
 ],
 "metadata": {
  "kernelspec": {
   "display_name": "Python 3",
   "language": "python",
   "name": "python3"
  },
  "language_info": {
   "codemirror_mode": {
    "name": "ipython",
    "version": 2
   },
   "file_extension": ".py",
   "mimetype": "text/x-python",
   "name": "python",
   "nbconvert_exporter": "python",
   "pygments_lexer": "ipython2",
   "version": "2.7.6"
  }
 },
 "nbformat": 4,
 "nbformat_minor": 0
}
