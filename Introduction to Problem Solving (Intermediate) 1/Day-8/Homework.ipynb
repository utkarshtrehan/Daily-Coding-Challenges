{
 "cells": [
  {
   "cell_type": "markdown",
   "source": [
    "# Day 8 - Intermediate DSA: Arrays - Prefix Sum"
   ],
   "metadata": {
    "collapsed": false
   }
  },
  {
   "cell_type": "markdown",
   "source": [
    "## Q1. Product array puzzle\n",
    "\n",
    "\n",
    "**Problem Statement**\n",
    "\n",
    "Given an array of integers A, find and return the product array of the same size where the ith element of the product\n",
    "array will be equal to the product of all the elements divided by the ith element of the array.\n",
    "\n",
    "Note: It is always possible to form the product array with integer (32 bit) values. Solve it without using the division operator.\n",
    "\n",
    "**Constraints**\n",
    "\n",
    "2 <= length of the array <= 1000\n",
    "\n",
    "1 <= A[i] <= 10\n"
   ],
   "metadata": {
    "collapsed": false
   }
  },
  {
   "cell_type": "code",
   "execution_count": null,
   "outputs": [],
   "source": [],
   "metadata": {
    "collapsed": false
   }
  }
 ],
 "metadata": {
  "kernelspec": {
   "display_name": "Python 3",
   "language": "python",
   "name": "python3"
  },
  "language_info": {
   "codemirror_mode": {
    "name": "ipython",
    "version": 2
   },
   "file_extension": ".py",
   "mimetype": "text/x-python",
   "name": "python",
   "nbconvert_exporter": "python",
   "pygments_lexer": "ipython2",
   "version": "2.7.6"
  }
 },
 "nbformat": 4,
 "nbformat_minor": 0
}
