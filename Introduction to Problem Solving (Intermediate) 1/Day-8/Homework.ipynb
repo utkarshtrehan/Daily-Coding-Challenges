{
 "cells": [
  {
   "cell_type": "markdown",
   "source": [
    "# Day 8 - Intermediate DSA: Arrays - Prefix Sum"
   ],
   "metadata": {
    "collapsed": false
   }
  },
  {
   "cell_type": "markdown",
   "source": [
    "## Q1. Product array puzzle\n",
    "\n",
    "\n",
    "**Problem Statement**\n",
    "\n",
    "Given an array of integers A, find and return the product array of the same size where the ith element of the product\n",
    "array will be equal to the product of all the elements divided by the ith element of the array.\n",
    "\n",
    "Note: It is always possible to form the product array with integer (32 bit) values. Solve it without using the division operator.\n",
    "\n",
    "**Constraints**\n",
    "\n",
    "2 <= length of the array <= 1000\n",
    "\n",
    "1 <= A[i] <= 10\n"
   ],
   "metadata": {
    "collapsed": false
   }
  },
  {
   "cell_type": "code",
   "execution_count": 30,
   "outputs": [],
   "source": [
    "def solve(A):\n",
    "\n",
    "    N = len(A)\n",
    "\n",
    "    # Prefix Product\n",
    "    pre_pro = [0]*N\n",
    "    pre_pro[0] = A[0]\n",
    "\n",
    "    for i in range(1, N):\n",
    "        pre_pro[i] = pre_pro[i-1] * A[i]\n",
    "\n",
    "    # Prefix Product\n",
    "    suff_pro = [0]*N\n",
    "    suff_pro[N-1] = A[N-1]\n",
    "\n",
    "    for i in range(N-2, -1, -1):\n",
    "        suff_pro[i] = A[i] * suff_pro[i+1]\n",
    "\n",
    "    pap = [0]*N\n",
    "    for i in range(0, N):\n",
    "        if i == 0:\n",
    "            pap[i] = suff_pro[i+1]\n",
    "        elif i == N-1:\n",
    "            pap[N-1] = pre_pro[N-2]\n",
    "        else:\n",
    "            pap[i] = pre_pro[i-1]*suff_pro[i+1]\n",
    "    return  pap"
   ],
   "metadata": {
    "collapsed": false
   }
  },
  {
   "cell_type": "code",
   "execution_count": 31,
   "outputs": [
    {
     "data": {
      "text/plain": "[120, 60, 40, 30, 24]"
     },
     "execution_count": 31,
     "metadata": {},
     "output_type": "execute_result"
    }
   ],
   "source": [
    "solve([1,2,3,4,5])"
   ],
   "metadata": {
    "collapsed": false
   }
  },
  {
   "cell_type": "code",
   "execution_count": null,
   "outputs": [],
   "source": [],
   "metadata": {
    "collapsed": false
   }
  }
 ],
 "metadata": {
  "kernelspec": {
   "display_name": "Python 3",
   "language": "python",
   "name": "python3"
  },
  "language_info": {
   "codemirror_mode": {
    "name": "ipython",
    "version": 2
   },
   "file_extension": ".py",
   "mimetype": "text/x-python",
   "name": "python",
   "nbconvert_exporter": "python",
   "pygments_lexer": "ipython2",
   "version": "2.7.6"
  }
 },
 "nbformat": 4,
 "nbformat_minor": 0
}
