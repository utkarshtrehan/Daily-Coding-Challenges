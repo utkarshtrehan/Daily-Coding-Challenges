{
 "cells": [
  {
   "cell_type": "markdown",
   "source": [
    "# Day 21 - Intermediate DSA : Strings"
   ],
   "metadata": {
    "collapsed": false
   }
  },
  {
   "cell_type": "markdown",
   "source": [
    "## Q1. Isalnum()\n",
    "\n",
    "**Problem Description**\n",
    "\n",
    "You are given a function isalpha() consisting of a character array A.\n",
    "Return 1 if all the characters of a character array are alphanumeric (a-z, A-Z, and 0-9) else, return 0.\n",
    "\n",
    "**Problem Constraints**\n",
    "\n",
    "1 <= |A| <= 105"
   ],
   "metadata": {
    "collapsed": false
   }
  },
  {
   "cell_type": "code",
   "execution_count": 2,
   "outputs": [],
   "source": [
    "def solve(A):\n",
    "    for x in A:\n",
    "        if x >= 'a' and x <= 'z':\n",
    "            continue\n",
    "        if x >= 'A' and x <= 'Z':\n",
    "            continue\n",
    "        if x >= '0' and x <= '9':\n",
    "            continue\n",
    "        return 0\n",
    "    return 1"
   ],
   "metadata": {
    "collapsed": false
   }
  },
  {
   "cell_type": "code",
   "execution_count": 3,
   "outputs": [
    {
     "data": {
      "text/plain": "1"
     },
     "execution_count": 3,
     "metadata": {},
     "output_type": "execute_result"
    }
   ],
   "source": [
    "solve(['S', 'c', 'a', 'l', 'e', 'r', 'A', 'c', 'a', 'd', 'e', 'm', 'y', '2', '0', '2', '0'])"
   ],
   "metadata": {
    "collapsed": false
   }
  },
  {
   "cell_type": "markdown",
   "source": [
    "## 2 String operations\n",
    "\n",
    "**Problem Description**\n",
    "\n",
    "Akash likes playing with strings. One day he thought of applying following operations on the string in the given order:\n",
    "Concatenate the string with itself.\n",
    "Delete all the uppercase letters.\n",
    "Replace each vowel with '#'.\n",
    "You are given a string A of size N consisting of lowercase and uppercase alphabets. Return the resultant string after applying the above operations.\n",
    "NOTE: 'a' , 'e' , 'i' , 'o' , 'u' are defined as vowels.\n",
    "\n",
    "**Problem Constraints**\n",
    "\n",
    "1<=N<=100000"
   ],
   "metadata": {
    "collapsed": false
   }
  },
  {
   "cell_type": "code",
   "execution_count": 14,
   "outputs": [],
   "source": [
    "def solve(A):\n",
    "    A+=A\n",
    "    b=\"\"\n",
    "    n=len(A)\n",
    "    for i in A:\n",
    "        if(i>='a' and i<='z'):\n",
    "            if(i=='a' or i=='e' or i=='o' or i=='i' or i=='u'):\n",
    "                b+='#'\n",
    "            else:\n",
    "                b+=i\n",
    "    return b"
   ],
   "metadata": {
    "collapsed": false
   }
  },
  {
   "cell_type": "code",
   "execution_count": 15,
   "outputs": [
    {
     "data": {
      "text/plain": "'hg#hg#'"
     },
     "execution_count": 15,
     "metadata": {},
     "output_type": "execute_result"
    }
   ],
   "source": [
    "solve(\"hgUe\")"
   ],
   "metadata": {
    "collapsed": false
   }
  },
  {
   "cell_type": "markdown",
   "source": [
    "# Q3. Count Occurrences\n",
    "\n",
    "**Problem Description**\n",
    "\n",
    "Find the number of occurrences of bob in string A consisting of lowercase English alphabets.\n",
    "\n",
    "**Problem Constraints**\n",
    "\n",
    "1 <= |A| <= 1000"
   ],
   "metadata": {
    "collapsed": false
   }
  },
  {
   "cell_type": "code",
   "execution_count": 29,
   "outputs": [],
   "source": [
    "def solve(A):\n",
    "    count=0\n",
    "    for i in range(len(A)-3+1):\n",
    "        if A[i:i+3] == \"bob\":\n",
    "            count+=1\n",
    "    return count"
   ],
   "metadata": {
    "collapsed": false
   }
  },
  {
   "cell_type": "code",
   "execution_count": 30,
   "outputs": [
    {
     "data": {
      "text/plain": "2"
     },
     "execution_count": 30,
     "metadata": {},
     "output_type": "execute_result"
    }
   ],
   "source": [
    "solve(\"bobob\")"
   ],
   "metadata": {
    "collapsed": false
   }
  },
  {
   "cell_type": "code",
   "execution_count": null,
   "outputs": [],
   "source": [
    "def solve(A):\n",
    "    s = A\n",
    "    prev = -1\n",
    "    ans = 0\n",
    "    cur = s.find(\"bob\", prev+1)\n",
    "    while cur != -1:\n",
    "        ans += 1\n",
    "        prev = cur\n",
    "        cur = s.find(\"bob\", prev+1)\n",
    "    return ans"
   ],
   "metadata": {
    "collapsed": false
   }
  },
  {
   "cell_type": "markdown",
   "source": [
    "## Q4. Check anagrams\n",
    "\n",
    "**Problem Description**\n",
    "\n",
    "You are given two lowercase strings A and B each of length N. Return 1 if they are anagrams to each other and 0 if not.\n",
    "Note : Two strings A and B are called anagrams to each other if A can be formed after rearranging the letters of B.\n",
    "\n",
    "**Problem Constraints**\n",
    "1 <= N <= 105\n",
    "A and B are lowercase strings"
   ],
   "metadata": {
    "collapsed": false
   }
  },
  {
   "cell_type": "code",
   "execution_count": 66,
   "outputs": [],
   "source": [
    "def solve(A, B):\n",
    "\n",
    "        A=A.lower()\n",
    "        B=B.lower()\n",
    "\n",
    "        A_count=[0]*26\n",
    "        B_count=[0]*26\n",
    "\n",
    "        for char in A:\n",
    "            A_count[ord(char)-97]+=1\n",
    "        for char in B:\n",
    "            B_count[ord(char)-97]+=1\n",
    "        for count in range(26):\n",
    "            if A_count[count]!=B_count[count]:\n",
    "                return 0\n",
    "        return 1"
   ],
   "metadata": {
    "collapsed": false
   }
  },
  {
   "cell_type": "code",
   "execution_count": 67,
   "outputs": [
    {
     "data": {
      "text/plain": "1"
     },
     "execution_count": 67,
     "metadata": {},
     "output_type": "execute_result"
    }
   ],
   "source": [
    "solve('u','u')"
   ],
   "metadata": {
    "collapsed": false
   }
  },
  {
   "cell_type": "markdown",
   "source": [
    "## Q5. Reverse the String\n",
    "\n",
    "**Problem Description**\n",
    "You are given a string A of size N.\n",
    "Return the string A after reversing the string word by word.\n",
    "NOTE:\n",
    "A sequence of non-space characters constitutes a word.\n",
    "Your reversed string should not contain leading or trailing spaces, even if it is present in the input string.\n",
    "If there are multiple spaces between words, reduce them to a single space in the reversed string.\n",
    "\n",
    "\n",
    "**Problem Constraints**\n",
    "1 <= N <= 3 * 105"
   ],
   "metadata": {
    "collapsed": false
   }
  },
  {
   "cell_type": "code",
   "execution_count": 86,
   "outputs": [],
   "source": [
    "def solve(A):\n",
    "    A = A.strip()\n",
    "    A = A.split()\n",
    "    A = A[::-1]\n",
    "    return ' '.join(A)"
   ],
   "metadata": {
    "collapsed": false
   }
  },
  {
   "cell_type": "code",
   "execution_count": 87,
   "outputs": [
    {
     "data": {
      "text/plain": "'hv xdq op qoddptokkz vemmoxrgf ombt gg crulgzfkif'"
     },
     "execution_count": 87,
     "metadata": {},
     "output_type": "execute_result"
    }
   ],
   "source": [
    "solve(\"crulgzfkif gg ombt vemmoxrgf qoddptokkz op xdq hv \")"
   ],
   "metadata": {
    "collapsed": false
   }
  },
  {
   "cell_type": "markdown",
   "source": [
    "## Q6. Change character\n",
    "\n",
    "**Problem Description**\n",
    "\n",
    "You are given a string A of size N consisting of lowercase alphabets.\n",
    "You can change at most B characters in the given string to any other lowercase alphabet such that the number of distinct characters in the string is minimized. Find the minimum number of distinct characters in the resulting string.\n",
    "\n",
    "**Problem Constraints**\n",
    "\n",
    "1 <= N <= 100000\n",
    "\n",
    "0 <= B < N"
   ],
   "metadata": {
    "collapsed": false
   }
  },
  {
   "cell_type": "code",
   "execution_count": 111,
   "outputs": [],
   "source": [
    "def solve(A, B):\n",
    "\n",
    "        arr = [0]*26\n",
    "        ans = 0\n",
    "        for i in A:\n",
    "            arr[ord(i)-97] += 1\n",
    "            if(arr[ord(i)-97] == 1):\n",
    "                ans += 1\n",
    "        arr.sort()\n",
    "        for i in range(26):\n",
    "            if(B-arr[i] >= 0 and arr[i] != 0):\n",
    "                ans -= 1\n",
    "                B -= arr[i]\n",
    "        ans = max(ans, 1)\n",
    "        return ans"
   ],
   "metadata": {
    "collapsed": false
   }
  },
  {
   "cell_type": "code",
   "execution_count": 112,
   "outputs": [
    {
     "data": {
      "text/plain": "2"
     },
     "execution_count": 112,
     "metadata": {},
     "output_type": "execute_result"
    }
   ],
   "source": [
    "solve(\"abcabbccd\", 3)"
   ],
   "metadata": {
    "collapsed": false
   }
  },
  {
   "cell_type": "markdown",
   "source": [
    "## Q7. Longest Common Prefix\n",
    "\n",
    "**Problem Description**\n",
    "\n",
    "Given the array of strings A, you need to find the longest string S, which is the prefix of ALL the strings in the array.\n",
    "The longest common prefix for a pair of strings S1 and S2 is the longest string S which is the prefix of both S1 and S2.\n",
    "Example: the longest common prefix of \"abcdefgh\" and \"abcefgh\" is \"abc\".\n",
    "\n",
    "**Problem Constraints**\n",
    "\n",
    "0 <= sum of length of all strings <= 1000000"
   ],
   "metadata": {
    "collapsed": false
   }
  },
  {
   "cell_type": "code",
   "execution_count": 197,
   "outputs": [],
   "source": [
    "def longestCommonPrefix(A):\n",
    "\n",
    "        min_len = float('Inf')\n",
    "\n",
    "        for ele in A:\n",
    "            if len(ele)<min_len:\n",
    "                min_len=len(ele)\n",
    "\n",
    "        ans = ''\n",
    "        for i in range(0,min_len):\n",
    "            for j in range(1, len(A)):\n",
    "                if A[j-1][i] != A[j][i]:\n",
    "                    return ans\n",
    "            ans+=A[0][i]\n",
    "        return ans"
   ],
   "metadata": {
    "collapsed": false
   }
  },
  {
   "cell_type": "code",
   "execution_count": 198,
   "outputs": [
    {
     "data": {
      "text/plain": "'ab'"
     },
     "execution_count": 198,
     "metadata": {},
     "output_type": "execute_result"
    }
   ],
   "source": [
    "longestCommonPrefix([ \"abcd\", \"abde\", \"abcf\" ])"
   ],
   "metadata": {
    "collapsed": false
   }
  },
  {
   "cell_type": "markdown",
   "source": [
    "---"
   ],
   "metadata": {
    "collapsed": false
   }
  }
 ],
 "metadata": {
  "kernelspec": {
   "display_name": "Python 3",
   "language": "python",
   "name": "python3"
  },
  "language_info": {
   "codemirror_mode": {
    "name": "ipython",
    "version": 2
   },
   "file_extension": ".py",
   "mimetype": "text/x-python",
   "name": "python",
   "nbconvert_exporter": "python",
   "pygments_lexer": "ipython2",
   "version": "2.7.6"
  }
 },
 "nbformat": 4,
 "nbformat_minor": 0
}
