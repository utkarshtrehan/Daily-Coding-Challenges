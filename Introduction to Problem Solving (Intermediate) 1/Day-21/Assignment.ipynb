{
 "cells": [
  {
   "cell_type": "markdown",
   "source": [
    "# Day 21 - Intermediate DSA : Strings"
   ],
   "metadata": {
    "collapsed": false
   }
  },
  {
   "cell_type": "markdown",
   "source": [
    "## Q1. tolower()\n",
    "\n",
    "**Problem Description**\n",
    "\n",
    "You are given a function to_lower() which takes a character array A as an argument.\n",
    "Convert each character of A into lowercase characters if it exists. If the lowercase of a character does not exist, it remains unmodified.\n",
    "The uppercase letters from A to Z are converted to lowercase letters from a to z respectively.\n",
    "Return the lowercase version of the given character array.\n",
    "\n",
    "\n",
    "\n",
    "**Problem Constraints**\n",
    "\n",
    "1 <= |A| <= 10^5"
   ],
   "metadata": {
    "collapsed": false
   }
  },
  {
   "cell_type": "code",
   "execution_count": 3,
   "outputs": [],
   "source": [
    "def to_lower(A):\n",
    "    result = ''\n",
    "    for char in A:\n",
    "        if ord(char)>=65 and ord(char)<=90:\n",
    "            result+=chr(ord(char)+32)\n",
    "        else:\n",
    "            result+=char\n",
    "    return result"
   ],
   "metadata": {
    "collapsed": false
   }
  },
  {
   "cell_type": "code",
   "execution_count": 4,
   "outputs": [
    {
     "data": {
      "text/plain": "'scaler#2020'"
     },
     "execution_count": 4,
     "metadata": {},
     "output_type": "execute_result"
    }
   ],
   "source": [
    "to_lower(['S', 'c', 'a', 'L', 'e', 'r', '#', '2', '0', '2', '0'])"
   ],
   "metadata": {
    "collapsed": false
   }
  },
  {
   "cell_type": "markdown",
   "source": [
    "## Q2. toupper()\n",
    "\n",
    "**Problem Description**\n",
    "\n",
    "You are given a function to_upper() consisting of a character array A.\n",
    "Convert each charater of A into Uppercase character if it exists. If the Uppercase of a character does not exist, it remains unmodified.\n",
    "The lowercase letters from a to z is converted to uppercase letters from A to Z respectively.\n",
    "Return the uppercase version of the given character array.\n",
    "\n",
    "**Problem Constraints**\n",
    "1 <= |A| <= 105"
   ],
   "metadata": {
    "collapsed": false
   }
  },
  {
   "cell_type": "code",
   "execution_count": 5,
   "outputs": [],
   "source": [
    "def to_upper(A):\n",
    "    result = ''\n",
    "    for char in A:\n",
    "        if ord(char)>=97 and ord(char)<=122:\n",
    "            result+=chr(ord(char)-32)\n",
    "        else:\n",
    "            result+=char\n",
    "    return result"
   ],
   "metadata": {
    "collapsed": false
   }
  },
  {
   "cell_type": "code",
   "execution_count": 6,
   "outputs": [
    {
     "data": {
      "text/plain": "'SCALERACADEMY'"
     },
     "execution_count": 6,
     "metadata": {},
     "output_type": "execute_result"
    }
   ],
   "source": [
    "to_upper(['S', 'c', 'A', 'L', 'E', 'r', 'A', 'c', 'a', 'D', 'e', 'm', 'y'])"
   ],
   "metadata": {
    "collapsed": false
   }
  },
  {
   "cell_type": "markdown",
   "source": [
    "## Q3. Toggle Case\n",
    "\n",
    "**Problem Description**\n",
    "\n",
    "You are given a character string A having length N, consisting of only lowercase and uppercase latin letters.\n",
    "You have to toggle case of each character of string A. For e.g 'A' is changed to 'a', 'e' is changed to 'E', etc.\n",
    "\n",
    "**Problem Constraints**\n",
    "\n",
    "1 <= N <= 105\n",
    "\n",
    "A[i] ∈ ['a'-'z', 'A'-'Z']"
   ],
   "metadata": {
    "collapsed": false
   }
  },
  {
   "cell_type": "code",
   "execution_count": 7,
   "outputs": [],
   "source": [
    "def solve(A):\n",
    "    result = ''\n",
    "    for char in A:\n",
    "        result+=chr(ord(char)^(1<<5))\n",
    "    return result"
   ],
   "metadata": {
    "collapsed": false
   }
  },
  {
   "cell_type": "code",
   "execution_count": 8,
   "outputs": [
    {
     "data": {
      "text/plain": "'ThIsIsAsTrInG'"
     },
     "execution_count": 8,
     "metadata": {},
     "output_type": "execute_result"
    }
   ],
   "source": [
    "solve(\"tHiSiSaStRiNg\")"
   ],
   "metadata": {
    "collapsed": false
   }
  },
  {
   "cell_type": "markdown",
   "source": [
    "## Q4. Count Sort\n",
    "\n",
    "**Problem Description**\n",
    "\n",
    "Given an array A. Sort this array using Count Sort Algorithm and return the sorted array.\n",
    "\n",
    "**Problem Constraints**\n",
    "\n",
    "1 <= |A| <= 10^5\n",
    "\n",
    "1 <= A[i] <= 10^5"
   ],
   "metadata": {
    "collapsed": false
   }
  },
  {
   "cell_type": "code",
   "execution_count": 9,
   "outputs": [],
   "source": [
    "def solve(A):\n",
    "        mx = max(A)\n",
    "        freq = [0 for j in range(mx + 1)]\n",
    "        for x in A:\n",
    "            freq[x] += 1\n",
    "        ans = []\n",
    "        for i in range(mx + 1):\n",
    "            for j in range(freq[i]):\n",
    "                ans.append(i)\n",
    "        return ans"
   ],
   "metadata": {
    "collapsed": false
   }
  },
  {
   "cell_type": "code",
   "execution_count": 10,
   "outputs": [
    {
     "data": {
      "text/plain": "[1, 2, 3, 4]"
     },
     "execution_count": 10,
     "metadata": {},
     "output_type": "execute_result"
    }
   ],
   "source": [
    "solve([4, 2, 1, 3])"
   ],
   "metadata": {
    "collapsed": false
   }
  },
  {
   "cell_type": "markdown",
   "source": [
    "## Q5. Simple Reverse\n",
    "\n",
    "**Problem Description**\n",
    "\n",
    "Given a string A, you are asked to reverse the string and return the reversed string.\n",
    "\n",
    "**Problem Constraints**\n",
    "1 <= |A| <= 10^5\n",
    "\n",
    "String A consist only of lowercase characters."
   ],
   "metadata": {
    "collapsed": false
   }
  },
  {
   "cell_type": "code",
   "execution_count": 12,
   "outputs": [],
   "source": [
    " def solve(A):\n",
    "        return A[::-1]"
   ],
   "metadata": {
    "collapsed": false
   }
  },
  {
   "cell_type": "code",
   "execution_count": 13,
   "outputs": [
    {
     "data": {
      "text/plain": "[5, 4, 3, 2, 1]"
     },
     "execution_count": 13,
     "metadata": {},
     "output_type": "execute_result"
    }
   ],
   "source": [
    "solve([1,2,3,4,5])"
   ],
   "metadata": {
    "collapsed": false
   }
  },
  {
   "cell_type": "markdown",
   "source": [
    "## Q6. Reverse the String\n",
    "\n",
    "**Problem Description**\n",
    "\n",
    "You are given a string A of size N.\n",
    "Return the string A after reversing the string word by word.\n",
    "NOTE:\n",
    "A sequence of non-space characters constitutes a word.\n",
    "Your reversed string should not contain leading or trailing spaces, even if it is present in the input string.\n",
    "If there are multiple spaces between words, reduce them to a single space in the reversed string.\n",
    "\n",
    "\n",
    "**Problem Constraints**\n",
    "\n",
    "1 <= N <= 3 * 10^5"
   ],
   "metadata": {
    "collapsed": false
   }
  },
  {
   "cell_type": "code",
   "execution_count": 14,
   "outputs": [],
   "source": [
    "def solve(A):\n",
    "    A = A.strip()\n",
    "    A = A.split()\n",
    "    A = A[::-1]\n",
    "    return ' '.join(A)"
   ],
   "metadata": {
    "collapsed": false
   }
  },
  {
   "cell_type": "code",
   "execution_count": 16,
   "outputs": [
    {
     "data": {
      "text/plain": "'blue is sky the'"
     },
     "execution_count": 16,
     "metadata": {},
     "output_type": "execute_result"
    }
   ],
   "source": [
    "solve(\"the sky is blue\")"
   ],
   "metadata": {
    "collapsed": false
   }
  },
  {
   "cell_type": "markdown",
   "source": [
    "## Q7. Longest Palindromic Substring\n",
    "\n",
    "**Problem Description**\n",
    "\n",
    "Given a string A of size N, find and return the longest palindromic substring in A.\n",
    "Substring of string A is A[i...j] where 0 <= i <= j < len(A)\n",
    "Palindrome string:\n",
    "A string which reads the same backwards. More formally, A is palindrome if reverse(A) = A.\n",
    "Incase of conflict, return the substring which occurs first ( with the least starting index).\n",
    "\n",
    "**Problem Constraints**\n",
    "\n",
    "1 <= N <= 6000"
   ],
   "metadata": {
    "collapsed": false
   }
  },
  {
   "cell_type": "code",
   "execution_count": 17,
   "outputs": [],
   "source": [
    "def longestPalindrome(A):\n",
    "\n",
    "        result=''\n",
    "        print(A)\n",
    "        for i in range(0, len(A)):\n",
    "            # Odd Palindrome\n",
    "            left=right=i\n",
    "            while left>=0 and right<len(A) and A[left]==A[right]:\n",
    "                left-=1\n",
    "                right+=1\n",
    "\n",
    "            pal_str_odd = A[left+1:right]\n",
    "\n",
    "            if  len(pal_str_odd) > len(result) :\n",
    "                result = pal_str_odd\n",
    "\n",
    "            # Even Palindrome\n",
    "            left = i\n",
    "            right = i+1\n",
    "            while left>=0 and right<len(A) and A[left]==A[right]:\n",
    "                left-=1\n",
    "                right+=1\n",
    "\n",
    "            pal_str_even = A[left+1:right]\n",
    "\n",
    "            if  len(pal_str_even) > len(result) :\n",
    "                result = pal_str_even\n",
    "        return result"
   ],
   "metadata": {
    "collapsed": false
   }
  },
  {
   "cell_type": "code",
   "execution_count": 2,
   "outputs": [
    {
     "name": "stdout",
     "output_type": "stream",
     "text": [
      "aaaabaaa\n"
     ]
    },
    {
     "data": {
      "text/plain": "'aaabaaa'"
     },
     "execution_count": 2,
     "metadata": {},
     "output_type": "execute_result"
    }
   ],
   "source": [
    "longestPalindrome(\"aaaabaaa\")"
   ],
   "metadata": {
    "collapsed": false
   }
  },
  {
   "cell_type": "markdown",
   "source": [
    "---"
   ],
   "metadata": {
    "collapsed": false
   }
  }
 ],
 "metadata": {
  "kernelspec": {
   "display_name": "Python 3",
   "language": "python",
   "name": "python3"
  },
  "language_info": {
   "codemirror_mode": {
    "name": "ipython",
    "version": 2
   },
   "file_extension": ".py",
   "mimetype": "text/x-python",
   "name": "python",
   "nbconvert_exporter": "python",
   "pygments_lexer": "ipython2",
   "version": "2.7.6"
  }
 },
 "nbformat": 4,
 "nbformat_minor": 0
}
