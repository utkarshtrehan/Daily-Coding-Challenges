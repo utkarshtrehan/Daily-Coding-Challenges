{
 "cells": [
  {
   "cell_type": "markdown",
   "source": [
    "# Day 6 - Intermediate DSA: Time Complexity-2"
   ],
   "metadata": {
    "collapsed": false
   }
  },
  {
   "cell_type": "markdown",
   "source": [
    "Q1: What is the time complexity of the following code snippet\n",
    "\n",
    "```\n",
    "count = 0\n",
    "while N>0:\n",
    "    count += 1\n",
    "    N = N // 3\n",
    "```\n"
   ],
   "metadata": {
    "collapsed": false
   }
  },
  {
   "cell_type": "markdown",
   "source": [
    "O(log(N)) {Base 3}"
   ],
   "metadata": {
    "collapsed": false
   }
  },
  {
   "cell_type": "markdown",
   "source": [
    "Q2: What is the time complexity of the following code snippet\n",
    "\n",
    "```\n",
    "def solve():\n",
    "    i=1\n",
    "    while (i<n):\n",
    "        x=i\n",
    "        while(x>0):\n",
    "            # O(1) operation\n",
    "            x-=1\n",
    "        i+=1\n",
    "```\n"
   ],
   "metadata": {
    "collapsed": false
   }
  },
  {
   "cell_type": "markdown",
   "source": [
    "O(n^2)"
   ],
   "metadata": {
    "collapsed": false
   }
  },
  {
   "cell_type": "markdown",
   "source": [
    "Q3: What is the time complexity of the following code snippet\n",
    "\n",
    "```\n",
    "for i in range(N):\n",
    "    for j in range(i, N):\n",
    "        break\n",
    "```\n"
   ],
   "metadata": {
    "collapsed": false
   }
  },
  {
   "cell_type": "markdown",
   "source": [
    "O(N)"
   ],
   "metadata": {
    "collapsed": false
   }
  },
  {
   "cell_type": "markdown",
   "source": [
    "Q4: What is the time complexity of the following code snippet\n",
    "\n",
    "```\n",
    "a=0\n",
    "for i in range(N):\n",
    "    for j in range(N):\n",
    "        a=a+i+j\n",
    "```\n"
   ],
   "metadata": {
    "collapsed": false
   }
  },
  {
   "cell_type": "markdown",
   "source": [
    "O(N*N)"
   ],
   "metadata": {
    "collapsed": false
   }
  },
  {
   "cell_type": "markdown",
   "source": [
    "---"
   ],
   "metadata": {
    "collapsed": false
   }
  }
 ],
 "metadata": {
  "kernelspec": {
   "display_name": "Python 3",
   "language": "python",
   "name": "python3"
  },
  "language_info": {
   "codemirror_mode": {
    "name": "ipython",
    "version": 2
   },
   "file_extension": ".py",
   "mimetype": "text/x-python",
   "name": "python",
   "nbconvert_exporter": "python",
   "pygments_lexer": "ipython2",
   "version": "2.7.6"
  }
 },
 "nbformat": 4,
 "nbformat_minor": 0
}
