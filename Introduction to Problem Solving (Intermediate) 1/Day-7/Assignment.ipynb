{
 "cells": [
  {
   "cell_type": "markdown",
   "source": [
    "# Day 7 - Intermediate DSA: Introduction to Arrays"
   ],
   "metadata": {
    "collapsed": false
   }
  },
  {
   "cell_type": "markdown",
   "source": [
    "## Q1. Count of elements\n",
    "\n",
    "**Problem Description**\n",
    "\n",
    "Given an array A of N integers. Count the number of elements that have at least 1 elements greater than itself.\n",
    "\n",
    "**Problem Constraints**\n",
    "\n",
    "1 <= N <= 10^5\n",
    "\n",
    "1 <= A[i] <= 10^9"
   ],
   "metadata": {
    "collapsed": false
   }
  },
  {
   "cell_type": "code",
   "execution_count": 9,
   "outputs": [],
   "source": [
    "def solve(A):\n",
    "        N = len(A)\n",
    "        max_ele = float('-inf')\n",
    "        max_ele_cnt = 0\n",
    "        for ele in A:\n",
    "            print('Current Element: {}'.format(ele))\n",
    "            if ele > max_ele:\n",
    "                max_ele = ele\n",
    "                max_ele_cnt = 0\n",
    "            if ele == max_ele:\n",
    "                max_ele_cnt+=1\n",
    "        print('Max Element: {}, Count: {}'.format(max_ele, max_ele_cnt))\n",
    "        return N-max_ele_cnt"
   ],
   "metadata": {
    "collapsed": false
   }
  },
  {
   "cell_type": "code",
   "execution_count": 11,
   "outputs": [
    {
     "name": "stdout",
     "output_type": "stream",
     "text": [
      "Current Element: 7\n",
      "Current Element: 4\n",
      "Current Element: 2\n",
      "Current Element: 10\n",
      "Current Element: 5\n",
      "Current Element: 10\n",
      "Max Element: 10, Count: 2\n"
     ]
    },
    {
     "data": {
      "text/plain": "4"
     },
     "execution_count": 11,
     "metadata": {},
     "output_type": "execute_result"
    }
   ],
   "source": [
    "solve([ 7, 4, 2, 10, 5, 10 ])"
   ],
   "metadata": {
    "collapsed": false
   }
  },
  {
   "cell_type": "markdown",
   "source": [
    "## Q2. Good Pair\n",
    "\n",
    "**Problem Description**\n",
    "\n",
    "Given an array A and an integer B. A pair(i, j) in the array is a good pair if i != j and (A[i] + A[j] == B). Check if any good pair exist or not.\n",
    "\n",
    "**Problem Constraints**\n",
    "\n",
    "1 <= A.size() <= 10^4\n",
    "\n",
    "1 <= A[i] <= 10^9\n",
    "\n",
    "1 <= B <= 10^9"
   ],
   "metadata": {
    "collapsed": false
   }
  },
  {
   "cell_type": "code",
   "execution_count": 12,
   "outputs": [],
   "source": [
    "def solve(A, B):\n",
    "    count = 0\n",
    "    for i in range(1,len(A)):\n",
    "        for j in range(0, i):\n",
    "            if A[i]+A[j] == B:\n",
    "                count+=1\n",
    "    return count"
   ],
   "metadata": {
    "collapsed": false
   }
  },
  {
   "cell_type": "code",
   "execution_count": 13,
   "outputs": [
    {
     "data": {
      "text/plain": "1"
     },
     "execution_count": 13,
     "metadata": {},
     "output_type": "execute_result"
    }
   ],
   "source": [
    "solve([1,2,3,4], 7)"
   ],
   "metadata": {
    "collapsed": false
   }
  },
  {
   "cell_type": "markdown",
   "source": [
    "## Q3. Reverse in a range\n",
    "\n",
    "**Problem Description**\n",
    "\n",
    "Given an array A of N integers. Also given are two integers B and C. Reverse the array A in the given range [B, C]\n",
    "\n",
    "**Problem Constraints**\n",
    "\n",
    "1 <= N <= 10^5\n",
    "\n",
    "1 <= A[i] <= 10^9\n",
    "\n",
    "0 <= B <= C <= N - 1"
   ],
   "metadata": {
    "collapsed": false
   }
  },
  {
   "cell_type": "code",
   "execution_count": 15,
   "outputs": [],
   "source": [
    "def reverse(A, start, end):\n",
    "    while start < end:\n",
    "        A[start] = A[start]+A[end]\n",
    "        A[end] = A[start] - A[end]\n",
    "        A[start] = A[start] - A[end]\n",
    "        start, end = start+1, end-1\n",
    "    return A"
   ],
   "metadata": {
    "collapsed": false
   }
  },
  {
   "cell_type": "code",
   "execution_count": 18,
   "outputs": [
    {
     "data": {
      "text/plain": "[0, 1, 7, 6, 5, 4, 3, 2, 8, 9, 10]"
     },
     "execution_count": 18,
     "metadata": {},
     "output_type": "execute_result"
    }
   ],
   "source": [
    "sample = [0, 1, 2, 3, 4, 5, 6, 7, 8, 9, 10]\n",
    "reverse(sample, 2, 7)"
   ],
   "metadata": {
    "collapsed": false
   }
  },
  {
   "cell_type": "code",
   "execution_count": 19,
   "outputs": [
    {
     "data": {
      "text/plain": "[0, 1, 7, 6, 5, 4, 3, 2, 8, 9, 10]"
     },
     "execution_count": 19,
     "metadata": {},
     "output_type": "execute_result"
    }
   ],
   "source": [
    "sample"
   ],
   "metadata": {
    "collapsed": false
   }
  },
  {
   "cell_type": "markdown",
   "source": [
    "## Q4. Reverse the Array\n",
    "\n",
    "**Problem Description**\n",
    "\n",
    "You are given a constant array A.\n",
    "You are required to return another array which is the reversed form of the input array.\n",
    "\n",
    "**Problem Constraints**\n",
    "\n",
    "1 <= A.size() <= 10000\n",
    "\n",
    "1 <= A[i] <= 10000"
   ],
   "metadata": {
    "collapsed": false
   }
  },
  {
   "cell_type": "code",
   "execution_count": 20,
   "outputs": [],
   "source": [
    "def solve(A):\n",
    "    return A[::-1]"
   ],
   "metadata": {
    "collapsed": false
   }
  },
  {
   "cell_type": "code",
   "execution_count": 21,
   "outputs": [
    {
     "data": {
      "text/plain": "[6, 5, 4, 3, 2, 1]"
     },
     "execution_count": 21,
     "metadata": {},
     "output_type": "execute_result"
    }
   ],
   "source": [
    "solve([1,2,3,4,5,6])"
   ],
   "metadata": {
    "collapsed": false
   }
  },
  {
   "cell_type": "markdown",
   "source": [
    "---"
   ],
   "metadata": {
    "collapsed": false
   }
  }
 ],
 "metadata": {
  "kernelspec": {
   "display_name": "Python 3",
   "language": "python",
   "name": "python3"
  },
  "language_info": {
   "codemirror_mode": {
    "name": "ipython",
    "version": 2
   },
   "file_extension": ".py",
   "mimetype": "text/x-python",
   "name": "python",
   "nbconvert_exporter": "python",
   "pygments_lexer": "ipython2",
   "version": "2.7.6"
  }
 },
 "nbformat": 4,
 "nbformat_minor": 0
}
