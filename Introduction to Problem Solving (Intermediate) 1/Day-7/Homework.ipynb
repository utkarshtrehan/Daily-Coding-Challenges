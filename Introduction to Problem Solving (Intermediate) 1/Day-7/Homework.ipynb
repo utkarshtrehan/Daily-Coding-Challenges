{
 "cells": [
  {
   "cell_type": "markdown",
   "source": [
    "# Day 7 - Intermediate DSA: Introduction to Arrays"
   ],
   "metadata": {
    "collapsed": false
   }
  },
  {
   "cell_type": "markdown",
   "source": [
    "## Q1. Max Min of an Array\n",
    "\n",
    "**Problem Description**\n",
    "\n",
    "Given an array A of size N. You need to find the sum of Maximum and Minimum element in the given array.\n",
    "\n",
    "\n",
    "**Problem Constraints**\n",
    "\n",
    "1 <= N <= 10^5\n",
    "\n",
    "-109 <= A[i] <= 10^9"
   ],
   "metadata": {
    "collapsed": false
   }
  },
  {
   "cell_type": "code",
   "execution_count": 1,
   "outputs": [],
   "source": [
    "def solve(A):\n",
    "    N = len(A)\n",
    "    max_ele = float('-inf')\n",
    "    min_ele = float('Inf')\n",
    "    for ele in A:\n",
    "        if ele > max_ele:\n",
    "            max_ele = ele\n",
    "        if ele < min_ele:\n",
    "            min_ele = ele\n",
    "    return max_ele+min_ele"
   ],
   "metadata": {
    "collapsed": false
   }
  },
  {
   "cell_type": "code",
   "execution_count": 2,
   "outputs": [
    {
     "data": {
      "text/plain": "1"
     },
     "execution_count": 2,
     "metadata": {},
     "output_type": "execute_result"
    }
   ],
   "source": [
    "solve([-2, 1, -4, 5, 3])"
   ],
   "metadata": {
    "collapsed": false
   }
  },
  {
   "cell_type": "markdown",
   "source": [
    "## Q2. Linear Search - Multiple Occurences\n",
    "\n",
    "**Problem Description**\n",
    "\n",
    "Given an array A and an integer B, find the number of occurrences of B in A.\n",
    "\n",
    "**Problem Constraints**\n",
    "\n",
    "1 <= B, Ai <= 10^9\n",
    "\n",
    "1 <= |A| <= 10^5"
   ],
   "metadata": {
    "collapsed": false
   }
  },
  {
   "cell_type": "code",
   "execution_count": 5,
   "outputs": [],
   "source": [
    "def solve(A, B):\n",
    "        count = 0\n",
    "        for ele in A:\n",
    "            if B == ele:\n",
    "                count+=1\n",
    "        return count"
   ],
   "metadata": {
    "collapsed": false
   }
  },
  {
   "cell_type": "code",
   "execution_count": 6,
   "outputs": [
    {
     "data": {
      "text/plain": "2"
     },
     "execution_count": 6,
     "metadata": {},
     "output_type": "execute_result"
    }
   ],
   "source": [
    "solve([1, 2, 2], 2)"
   ],
   "metadata": {
    "collapsed": false
   }
  },
  {
   "cell_type": "markdown",
   "source": [
    "## Q3. Second Largest\n",
    "\n",
    "**Problem Description**\n",
    "\n",
    "You are given an integer array A. You have to find the second largest element/value in the array or report that no such element exists.\n",
    "\n",
    "**Problem Constraints**\n",
    "\n",
    "1 <= |A| <= 10^5\n",
    "\n",
    "0 <= A[i] <= 10^9"
   ],
   "metadata": {
    "collapsed": false
   }
  },
  {
   "cell_type": "code",
   "execution_count": 47,
   "outputs": [],
   "source": [
    "def solve(A):\n",
    "    max_elem = -1\n",
    "    for x in A:\n",
    "        if x > max_elem:\n",
    "            max_elem = x\n",
    "    second_max = -1\n",
    "    for x in A:\n",
    "        if x > second_max and x != max_elem:\n",
    "            second_max = x\n",
    "    return second_max"
   ],
   "metadata": {
    "collapsed": false
   }
  },
  {
   "cell_type": "code",
   "execution_count": 48,
   "outputs": [
    {
     "data": {
      "text/plain": "-1"
     },
     "execution_count": 48,
     "metadata": {},
     "output_type": "execute_result"
    }
   ],
   "source": [
    "solve([4,4,4,4,4])"
   ],
   "metadata": {
    "collapsed": false
   }
  },
  {
   "cell_type": "markdown",
   "source": [
    "## Q4. Time to equality\n",
    "\n",
    "**Problem Description**\n",
    "\n",
    "Given an integer array A of size N. In one second, you can increase the value of one element by 1.\n",
    "Find the minimum time in seconds to make all elements of the array equal.\n",
    "\n",
    "**Problem Constraints**\n",
    "\n",
    "1 <= N <= 1000000\n",
    "\n",
    "1 <= A[i] <= 1000\n"
   ],
   "metadata": {
    "collapsed": false
   }
  },
  {
   "cell_type": "code",
   "execution_count": 49,
   "outputs": [],
   "source": [
    "def solve(A):\n",
    "    max_ele = float('-inf')\n",
    "    for ele in A:\n",
    "        if ele > max_ele:\n",
    "            max_ele = ele\n",
    "    count = 0\n",
    "    for ele in A:\n",
    "        count = count + (max_ele-ele)\n",
    "    return count"
   ],
   "metadata": {
    "collapsed": false
   }
  },
  {
   "cell_type": "code",
   "execution_count": 35,
   "outputs": [
    {
     "data": {
      "text/plain": "8"
     },
     "execution_count": 35,
     "metadata": {},
     "output_type": "execute_result"
    }
   ],
   "source": [
    "solve([2, 4, 1, 3, 2])"
   ],
   "metadata": {
    "collapsed": false
   }
  },
  {
   "cell_type": "markdown",
   "source": [
    "---"
   ],
   "metadata": {
    "collapsed": false
   }
  }
 ],
 "metadata": {
  "kernelspec": {
   "display_name": "Python 3",
   "language": "python",
   "name": "python3"
  },
  "language_info": {
   "codemirror_mode": {
    "name": "ipython",
    "version": 2
   },
   "file_extension": ".py",
   "mimetype": "text/x-python",
   "name": "python",
   "nbconvert_exporter": "python",
   "pygments_lexer": "ipython2",
   "version": "2.7.6"
  }
 },
 "nbformat": 4,
 "nbformat_minor": 0
}
