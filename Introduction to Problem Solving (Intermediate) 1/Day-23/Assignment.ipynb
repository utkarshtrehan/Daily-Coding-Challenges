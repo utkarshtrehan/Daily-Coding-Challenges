{
 "cells": [
  {
   "cell_type": "markdown",
   "source": [
    "# Day 23 - Intermediate DSA : Hashing - 2"
   ],
   "metadata": {
    "collapsed": false
   }
  },
  {
   "cell_type": "markdown",
   "source": [
    "## Q1. Longest Subarray Zero Sum\n",
    "\n",
    "**Problem Description**\n",
    "\n",
    "Given an array A of N integers.\n",
    "Find the length of the longest subarray in the array which sums to zero.\n",
    "\n",
    "**Problem Constraints**\n",
    "\n",
    "1 <= N <= 10^5\n",
    "\n",
    "-109 <= A[i] <= 10^9"
   ],
   "metadata": {
    "collapsed": false
   }
  },
  {
   "cell_type": "code",
   "execution_count": 1,
   "outputs": [],
   "source": [
    "def solve(A):\n",
    "\n",
    "    hm = {}\n",
    "    lszs = 0\n",
    "\n",
    "    print(f'Input: {A}')\n",
    "\n",
    "    for i in range(1, len(A)):\n",
    "        A[i] = A[i-1] + A[i]\n",
    "\n",
    "    print(f'Prefix Sum: {A}')\n",
    "\n",
    "    for i in range(len(A)):\n",
    "\n",
    "        if A[i] == 0:\n",
    "            print(f'Found 0 at {i}')\n",
    "            lszs= max(lszs, i+1)\n",
    "        else:\n",
    "            if A[i] not in hm:\n",
    "                hm[A[i]] = i\n",
    "            else:\n",
    "                print(f'Repeated: {A[i]} at {i}, previous index: {hm[A[i]]}')\n",
    "                lszs = max(lszs, i-hm[A[i]])\n",
    "\n",
    "    print(f'Hash Map: {hm}')\n",
    "\n",
    "    return lszs"
   ],
   "metadata": {
    "collapsed": false
   }
  },
  {
   "cell_type": "code",
   "execution_count": 2,
   "outputs": [
    {
     "name": "stdout",
     "output_type": "stream",
     "text": [
      "Input: [-16, 16, 3]\n",
      "Prefix Sum: [-16, 0, 3]\n",
      "Found 0 at 1\n",
      "Hash Map: {-16: 0, 3: 2}\n"
     ]
    },
    {
     "data": {
      "text/plain": "2"
     },
     "execution_count": 2,
     "metadata": {},
     "output_type": "execute_result"
    }
   ],
   "source": [
    "solve([ -16, 16, 3 ])"
   ],
   "metadata": {
    "collapsed": false
   }
  },
  {
   "cell_type": "markdown",
   "source": [
    "## Q2. Check Pair Sum\n",
    "\n",
    "**Problem Description**\n",
    "\n",
    "Given an Array of integers B, and a target sum A.\n",
    "Check if there exists a pair (i,j) such that Bi + Bj = A and i!=j.\n",
    "\n",
    "\n",
    "**Problem Constraints**\n",
    "\n",
    "1<= Length of array B <= 10^3\n",
    "\n",
    "0<= Bi <=10^9\n",
    "\n",
    "0<= A <=10^9"
   ],
   "metadata": {
    "collapsed": false
   }
  },
  {
   "cell_type": "code",
   "execution_count": 10,
   "outputs": [],
   "source": [
    "def solve(B, A):\n",
    "\n",
    "    hs = set()\n",
    "    hs.add(A[0])\n",
    "\n",
    "    for i in range(1, len(A)):\n",
    "        if B - A[i] in hs:\n",
    "            return 1\n",
    "\n",
    "        hs.add(A[i])\n",
    "    return 0"
   ],
   "metadata": {
    "collapsed": false
   }
  },
  {
   "cell_type": "code",
   "execution_count": 12,
   "outputs": [
    {
     "name": "stdout",
     "output_type": "stream",
     "text": [
      "HasMap: {1, 2}\n",
      "start: 1, end: 3, removing: 1, adding: 3 from hs {1, 2}\n",
      "start: 2, end: 4, removing: 2, adding: 4 from hs {2, 3}\n",
      "start: 3, end: 5, removing: 1, adding: 3 from hs {3, 4}\n"
     ]
    },
    {
     "ename": "KeyError",
     "evalue": "1",
     "output_type": "error",
     "traceback": [
      "\u001B[0;31m---------------------------------------------------------------------------\u001B[0m",
      "\u001B[0;31mKeyError\u001B[0m                                  Traceback (most recent call last)",
      "Cell \u001B[0;32mIn[12], line 1\u001B[0m\n\u001B[0;32m----> 1\u001B[0m \u001B[43mdNums\u001B[49m\u001B[43m(\u001B[49m\u001B[43m[\u001B[49m\u001B[38;5;241;43m1\u001B[39;49m\u001B[43m,\u001B[49m\u001B[43m \u001B[49m\u001B[38;5;241;43m2\u001B[39;49m\u001B[43m,\u001B[49m\u001B[43m \u001B[49m\u001B[38;5;241;43m1\u001B[39;49m\u001B[43m,\u001B[49m\u001B[43m \u001B[49m\u001B[38;5;241;43m3\u001B[39;49m\u001B[43m,\u001B[49m\u001B[43m \u001B[49m\u001B[38;5;241;43m4\u001B[39;49m\u001B[43m,\u001B[49m\u001B[43m \u001B[49m\u001B[38;5;241;43m3\u001B[39;49m\u001B[43m]\u001B[49m\u001B[43m,\u001B[49m\u001B[43m \u001B[49m\u001B[38;5;241;43m3\u001B[39;49m\u001B[43m)\u001B[49m\n",
      "Cell \u001B[0;32mIn[3], line 16\u001B[0m, in \u001B[0;36mdNums\u001B[0;34m(A, B)\u001B[0m\n\u001B[1;32m     14\u001B[0m \u001B[38;5;28;01mwhile\u001B[39;00m (start\u001B[38;5;241m<\u001B[39m\u001B[38;5;241m=\u001B[39mN\u001B[38;5;241m-\u001B[39mB):\n\u001B[1;32m     15\u001B[0m     \u001B[38;5;28mprint\u001B[39m(\u001B[38;5;124mf\u001B[39m\u001B[38;5;124m'\u001B[39m\u001B[38;5;124mstart: \u001B[39m\u001B[38;5;132;01m{\u001B[39;00mstart\u001B[38;5;132;01m}\u001B[39;00m\u001B[38;5;124m, end: \u001B[39m\u001B[38;5;132;01m{\u001B[39;00mend\u001B[38;5;132;01m}\u001B[39;00m\u001B[38;5;124m, removing: \u001B[39m\u001B[38;5;132;01m{\u001B[39;00mA[start\u001B[38;5;241m-\u001B[39m\u001B[38;5;241m1\u001B[39m]\u001B[38;5;132;01m}\u001B[39;00m\u001B[38;5;124m, adding: \u001B[39m\u001B[38;5;132;01m{\u001B[39;00mA[end]\u001B[38;5;132;01m}\u001B[39;00m\u001B[38;5;124m from hs \u001B[39m\u001B[38;5;132;01m{\u001B[39;00mhs\u001B[38;5;132;01m}\u001B[39;00m\u001B[38;5;124m'\u001B[39m)\n\u001B[0;32m---> 16\u001B[0m     \u001B[43mhs\u001B[49m\u001B[38;5;241;43m.\u001B[39;49m\u001B[43mremove\u001B[49m\u001B[43m(\u001B[49m\u001B[43mA\u001B[49m\u001B[43m[\u001B[49m\u001B[43mstart\u001B[49m\u001B[38;5;241;43m-\u001B[39;49m\u001B[38;5;241;43m1\u001B[39;49m\u001B[43m]\u001B[49m\u001B[43m)\u001B[49m\n\u001B[1;32m     17\u001B[0m     hs\u001B[38;5;241m.\u001B[39madd(A[end])\n\u001B[1;32m     18\u001B[0m     result\u001B[38;5;241m.\u001B[39mappend(\u001B[38;5;28mlen\u001B[39m(hs))\n",
      "\u001B[0;31mKeyError\u001B[0m: 1"
     ]
    }
   ],
   "source": [
    "dNums([1, 2, 1, 3, 4, 3], 3)"
   ],
   "metadata": {
    "collapsed": false
   }
  },
  {
   "cell_type": "markdown",
   "source": [
    "## Q3. Distinct Numbers in Window\n",
    "\n",
    "**Problem Description**\n",
    "\n",
    "You are given an array of N integers, A1, A2 ,..., AN and an integer B. Return the of count of distinct numbers in all windows of size B.\n",
    "Formally, return an array of size N-B+1 where i'th element in this array contains number of distinct elements in sequence Ai, Ai+1 ,..., Ai+B-1.\n",
    "NOTE: if B > N, return an empty array.\n",
    "\n",
    "\n",
    "**Input Format**\n",
    "\n",
    "First argument is an integer array A\n",
    "\n",
    "Second argument is an integer B."
   ],
   "metadata": {
    "collapsed": false
   }
  },
  {
   "cell_type": "code",
   "execution_count": 17,
   "outputs": [],
   "source": [
    "def dNums(A, B):\n",
    "    N = len(A)\n",
    "    hm = dict()\n",
    "    result = []\n",
    "\n",
    "    for i in range(0, B):\n",
    "        if A[i] not in hm:\n",
    "            hm[A[i]] = 1\n",
    "        else:\n",
    "            hm[A[i]]+=1\n",
    "\n",
    "    result.append(len(hm))\n",
    "\n",
    "    start = 1\n",
    "    end = B\n",
    "\n",
    "    while (start<=N-B):\n",
    "\n",
    "        hm[A[start-1]]-=1\n",
    "\n",
    "        if hm[A[start-1]]==0:\n",
    "            del hm[A[start-1]]\n",
    "\n",
    "        if A[end] not in hm:\n",
    "            hm[A[end]] = 1\n",
    "        else:\n",
    "            hm[A[end]]+=1\n",
    "\n",
    "        result.append(len(hm))\n",
    "        start+=1\n",
    "        end+=1\n",
    "\n",
    "    return result"
   ],
   "metadata": {
    "collapsed": false
   }
  },
  {
   "cell_type": "code",
   "execution_count": 18,
   "outputs": [
    {
     "data": {
      "text/plain": "[2, 3, 3, 2]"
     },
     "execution_count": 18,
     "metadata": {},
     "output_type": "execute_result"
    }
   ],
   "source": [
    "dNums([1, 2, 1, 3, 4, 3], 3)"
   ],
   "metadata": {
    "collapsed": false
   }
  },
  {
   "cell_type": "markdown",
   "source": [
    "---"
   ],
   "metadata": {
    "collapsed": false
   }
  }
 ],
 "metadata": {
  "kernelspec": {
   "display_name": "Python 3",
   "language": "python",
   "name": "python3"
  },
  "language_info": {
   "codemirror_mode": {
    "name": "ipython",
    "version": 2
   },
   "file_extension": ".py",
   "mimetype": "text/x-python",
   "name": "python",
   "nbconvert_exporter": "python",
   "pygments_lexer": "ipython2",
   "version": "2.7.6"
  }
 },
 "nbformat": 4,
 "nbformat_minor": 0
}
