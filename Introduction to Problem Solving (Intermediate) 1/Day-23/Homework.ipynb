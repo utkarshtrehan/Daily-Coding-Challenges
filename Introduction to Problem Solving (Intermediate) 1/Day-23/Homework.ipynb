{
 "cells": [
  {
   "cell_type": "markdown",
   "source": [
    "# Day 23 - Intermediate DSA : Hashing - 2"
   ],
   "metadata": {
    "collapsed": false
   }
  },
  {
   "cell_type": "markdown",
   "source": [
    "## Q1. Count Pair Sum\n",
    "\n",
    "**Problem Description**\n",
    "\n",
    "You are given an array A of N integers and an integer B. Count the number of pairs (i,j) such that A[i] + A[j] = B and i ≠ j. Since the answer can be very large, return the remainder after dividing the count with 109+7.\n",
    "\n",
    "Note - The pair (i,j) is same as the pair (j,i) and we need to count it only once.\n",
    "\n",
    "\n",
    "**Problem Constraints**\n",
    "\n",
    "1 <= N <= 10^5\n",
    "\n",
    "1 <= A[i] <= 10^9\n",
    "\n",
    "1 <= B <= 10^9"
   ],
   "metadata": {
    "collapsed": false
   }
  },
  {
   "cell_type": "code",
   "execution_count": 2,
   "outputs": [],
   "source": [
    "def solve(A, B):\n",
    "\n",
    "    hm = dict()\n",
    "    hm[A[0]] = 1\n",
    "    count = 0\n",
    "    d = (10**9) + 7\n",
    "    for i in range(1, len(A)):\n",
    "        if B - A[i] in hm:\n",
    "            count+=hm[B - A[i]]\n",
    "        if A[i] not in hm:\n",
    "            hm[A[i]] = 1\n",
    "        else:\n",
    "            hm[A[i]]+=1\n",
    "    return count%d"
   ],
   "metadata": {
    "collapsed": false
   }
  },
  {
   "cell_type": "code",
   "execution_count": 3,
   "outputs": [
    {
     "data": {
      "text/plain": "4"
     },
     "execution_count": 3,
     "metadata": {},
     "output_type": "execute_result"
    }
   ],
   "source": [
    "solve([1, 2, 1, 2], 3)"
   ],
   "metadata": {
    "collapsed": false
   }
  },
  {
   "cell_type": "markdown",
   "source": [
    "## Q2. Count Pair Difference\n",
    "\n",
    "**Problem Description**\n",
    "\n",
    "You are given an array A of N integers and an integer B. Count the number of pairs (i,j) such that A[i] - A[j] = B and i ≠ j. Since the answer can be very large, return the remainder after dividing the count with 109+7.\n",
    "\n",
    "\n",
    "**Problem Constraints**\n",
    "\n",
    "1 <= N <= 10^5\n",
    "\n",
    "1 <= A[i] <= 10^9\n",
    "\n",
    "1 <= B <= 10^9"
   ],
   "metadata": {
    "collapsed": false
   }
  },
  {
   "cell_type": "code",
   "execution_count": 4,
   "outputs": [],
   "source": [
    "def solve(A, B):\n",
    "    hm = dict()\n",
    "    hm[A[0]] = 1\n",
    "    count = 0\n",
    "    d = (10**9) + 7\n",
    "    for i in range(1, len(A)):\n",
    "        if A[i]-B in hm:\n",
    "            count+=hm[A[i]-B]\n",
    "        if B+A[i] in hm:\n",
    "            count+=hm[B+A[i]]\n",
    "        if A[i] not in hm:\n",
    "            hm[A[i]] = 1\n",
    "        else:\n",
    "            hm[A[i]]+=1\n",
    "    return count%d"
   ],
   "metadata": {
    "collapsed": false
   }
  },
  {
   "cell_type": "code",
   "execution_count": 5,
   "outputs": [
    {
     "data": {
      "text/plain": "1"
     },
     "execution_count": 5,
     "metadata": {},
     "output_type": "execute_result"
    }
   ],
   "source": [
    "solve([3, 5, 1, 2], 4)"
   ],
   "metadata": {
    "collapsed": false
   }
  },
  {
   "cell_type": "markdown",
   "source": [
    "## Q3. Pair With Given Difference\n",
    "\n",
    "**Problem Description**\n",
    "\n",
    "Given an one-dimensional unsorted array A containing N integers.\n",
    "You are also given an integer B, find if there exists a pair of elements in the array whose difference is B.\n",
    "Return 1 if any such pair exists else return 0.\n",
    "\n",
    "**Problem Constraints**\n",
    "\n",
    "1 <= N <= 10^5\n",
    "\n",
    "-103 <= A[i] <= 10^3\n",
    "\n",
    "-105 <= B <= 10^5"
   ],
   "metadata": {
    "collapsed": false
   }
  },
  {
   "cell_type": "code",
   "execution_count": 6,
   "outputs": [],
   "source": [
    "def solve(A, B):\n",
    "    hm = dict()\n",
    "    hm[A[0]] = 1\n",
    "\n",
    "    for i in range(1, len(A)):\n",
    "        if A[i]-B in hm:\n",
    "            return 1\n",
    "        if B+A[i] in hm:\n",
    "            return 1\n",
    "        if A[i] not in hm:\n",
    "            hm[A[i]] = 1\n",
    "        else:\n",
    "            hm[A[i]]+=1\n",
    "    return 0"
   ],
   "metadata": {
    "collapsed": false
   }
  },
  {
   "cell_type": "code",
   "execution_count": 7,
   "outputs": [
    {
     "data": {
      "text/plain": "1"
     },
     "execution_count": 7,
     "metadata": {},
     "output_type": "execute_result"
    }
   ],
   "source": [
    "solve([5, 10, 3, 2, 50, 80], 78)"
   ],
   "metadata": {
    "collapsed": false
   }
  },
  {
   "cell_type": "markdown",
   "source": [
    "## Q4. Subarray with given sum\n",
    "\n",
    "**Problem Description**\n",
    "\n",
    "Given an array of positive integers A and an integer B, find and return first continuous subarray which adds to B.\n",
    "If the answer does not exist return an array with a single element \"-1\".\n",
    "First sub-array means the sub-array for which starting index in minimum.\n",
    "\n",
    "**Problem Constraints**\n",
    "\n",
    "1 <= length of the array <= 100000\n",
    "\n",
    "1 <= A[i] <= 10^9\n",
    "\n",
    "1 <= B <= 10^9\n",
    "\n"
   ],
   "metadata": {
    "collapsed": false
   }
  },
  {
   "cell_type": "code",
   "execution_count": null,
   "outputs": [],
   "source": [],
   "metadata": {
    "collapsed": false
   }
  },
  {
   "cell_type": "code",
   "execution_count": null,
   "outputs": [],
   "source": [],
   "metadata": {
    "collapsed": false
   }
  },
  {
   "cell_type": "markdown",
   "source": [
    "## Q5. Subarray Sum Equals K\n",
    "\n",
    "Given an array of integers A and an integer B.\n",
    "Find the total number of subarrays having sum equals to B.\n",
    "\n",
    "**Constraints**\n",
    "\n",
    "1 <= length of the array <= 50000\n",
    "\n",
    "-1000 <= A[i] <= 1000#%% md"
   ],
   "metadata": {
    "collapsed": false
   }
  },
  {
   "cell_type": "code",
   "execution_count": null,
   "outputs": [],
   "source": [],
   "metadata": {
    "collapsed": false
   }
  },
  {
   "cell_type": "code",
   "execution_count": null,
   "outputs": [],
   "source": [],
   "metadata": {
    "collapsed": false
   }
  },
  {
   "cell_type": "markdown",
   "source": [
    "## Q6. Is Dictionary?\n",
    "\n",
    "**Problem Description**\n",
    "\n",
    "Surprisingly, in an alien language, they also use English lowercase letters, but possibly in a different order. The order of the alphabet is some permutation of lowercase letters.\n",
    "Given an array of words A of size N written in the alien language, and the order of the alphabet denoted by string B of size 26, return 1 if and only if the given words are sorted lexicographically in this alien language else, return 0.\n",
    "\n",
    "**Problem Constraints**\n",
    "\n",
    "1 <= N, length of each word <= 10^5\n",
    "\n",
    "Sum of the length of all words <= 2 * 10^6"
   ],
   "metadata": {
    "collapsed": false
   }
  },
  {
   "cell_type": "code",
   "execution_count": null,
   "outputs": [],
   "source": [],
   "metadata": {
    "collapsed": false
   }
  },
  {
   "cell_type": "code",
   "execution_count": null,
   "outputs": [],
   "source": [],
   "metadata": {
    "collapsed": false
   }
  },
  {
   "cell_type": "markdown",
   "source": [
    "## Q7. Valid Sudoku\n",
    "\n"
   ],
   "metadata": {
    "collapsed": false
   }
  },
  {
   "cell_type": "code",
   "execution_count": null,
   "outputs": [],
   "source": [],
   "metadata": {
    "collapsed": false
   }
  },
  {
   "cell_type": "code",
   "execution_count": null,
   "outputs": [],
   "source": [],
   "metadata": {
    "collapsed": false
   }
  },
  {
   "cell_type": "markdown",
   "source": [
    "## Q8. Pairs With Given Xor\n",
    "\n",
    "**Problem Description**\n",
    "\n",
    "Given an integer array A containing N distinct integers.\n",
    "Find the number of unique pairs of integers in the array whose XOR is equal to B.\n",
    "NOTE:Pair (a, b) and (b, a) is considered to be the same and should be counted once.\n",
    "\n",
    "**Problem Constraints**\n",
    "\n",
    "1 <= N <= 10^5\n",
    "\n",
    "1 <= A[i], B <= 10^7"
   ],
   "metadata": {
    "collapsed": false
   }
  },
  {
   "cell_type": "code",
   "execution_count": null,
   "outputs": [],
   "source": [],
   "metadata": {
    "collapsed": false,
    "pycharm": {
     "is_executing": true
    }
   }
  },
  {
   "cell_type": "code",
   "execution_count": null,
   "outputs": [],
   "source": [],
   "metadata": {
    "collapsed": false,
    "pycharm": {
     "is_executing": true
    }
   }
  },
  {
   "cell_type": "markdown",
   "source": [
    "---"
   ],
   "metadata": {
    "collapsed": false
   }
  }
 ],
 "metadata": {
  "kernelspec": {
   "display_name": "Python 3",
   "language": "python",
   "name": "python3"
  },
  "language_info": {
   "codemirror_mode": {
    "name": "ipython",
    "version": 2
   },
   "file_extension": ".py",
   "mimetype": "text/x-python",
   "name": "python",
   "nbconvert_exporter": "python",
   "pygments_lexer": "ipython2",
   "version": "2.7.6"
  }
 },
 "nbformat": 4,
 "nbformat_minor": 0
}
