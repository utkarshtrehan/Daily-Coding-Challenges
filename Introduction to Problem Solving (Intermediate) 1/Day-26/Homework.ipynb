{
 "cells": [
  {
   "cell_type": "markdown",
   "source": [
    "# Day 26 - Intermediate DSA: Object Oriented Class"
   ],
   "metadata": {
    "collapsed": false
   }
  },
  {
   "cell_type": "markdown",
   "source": [
    "## Q1. Class Matrix\n",
    "\n",
    "Construct a class called Matrix which stores a 2D Array. It should store\n",
    "\n",
    "The number of rows\n",
    "\n",
    "The number of columns\n",
    "\n",
    "The 2D Array itself\n",
    "\n",
    "Implement the following functionalities inside this class :-\n",
    "\n",
    "input() -> Reads the input from the user. This method should read the input from the user and populate the entire array. Each row will be in a new line and all the elements in a row will be space-separated.\n",
    "\n",
    "add(Matrix) -> Returns the sum of two matrices. Assume the matrices provided have the same dimensions.\n",
    "\n",
    "subtract(Matrix) -> Returns the sum of two matrices. Assume the matrices provided have the same dimensions.\n",
    "\n",
    "transpose() -> Returns a new matrix containing the transpose of the given original matrix.\n",
    "\n",
    "print() -> prints the entire matrix row by row. Each row will be in a new line and values in each row should be separated by a single space.\n",
    "\n",
    "You may define any properties in the class as you see appropriate."
   ],
   "metadata": {
    "collapsed": false
   }
  },
  {
   "cell_type": "code",
   "execution_count": 3,
   "outputs": [],
   "source": [
    "class Matrix:\n",
    "    def __init__(self, rows, cols):\n",
    "        self.rows = rows\n",
    "        self.cols = cols\n",
    "        self.grid = [[0 for j in range(cols)] for i in range(rows)]\n",
    "\n",
    "    def input(self):\n",
    "        for i in range(self.rows):\n",
    "            row = input().split()\n",
    "            for j in range(self.cols):\n",
    "                self.grid[i][j] = int(row[j])\n",
    "\n",
    "    def add(self, other):\n",
    "        result = Matrix(self.rows, self.cols)\n",
    "        for i in range(self.rows):\n",
    "            for j in range(self.cols):\n",
    "                result.grid[i][j] = self.grid[i][j] + other.grid[i][j]\n",
    "        return result\n",
    "\n",
    "    def subtract(self, other):\n",
    "        result = Matrix(self.rows, self.cols)\n",
    "        for i in range(self.rows):\n",
    "            for j in range(self.cols):\n",
    "                result.grid[i][j] = self.grid[i][j] - other.grid[i][j]\n",
    "        return result\n",
    "\n",
    "    def transpose(self):\n",
    "        result = Matrix(self.cols, self.rows)\n",
    "        for i in range(self.rows):\n",
    "            for j in range(self.cols):\n",
    "                result.grid[j][i] = self.grid[i][j]\n",
    "        return result\n",
    "\n",
    "    def print(self):\n",
    "        for i in range(self.rows):\n",
    "            for j in range(self.cols):\n",
    "                print(self.grid[i][j], end=\" \")\n",
    "            print()\n"
   ],
   "metadata": {
    "collapsed": false
   }
  },
  {
   "cell_type": "markdown",
   "source": [
    "## Q2. Search in Linked List\n",
    "\n",
    "**Problem Description**\n",
    "\n",
    "You are given the head of a linked list A and an integer B, check if there is any node which contains this value B.\n",
    "Return 1 if such a node is present else return 0.\n",
    "\n",
    "**Problem Constraints**\n",
    "1 <= size of linked list <= 10^5\n",
    "\n",
    "1 <= value of nodes <= 10^9\n",
    "\n",
    "1 <= B <= 10^9"
   ],
   "metadata": {
    "collapsed": false
   }
  },
  {
   "cell_type": "code",
   "execution_count": 4,
   "outputs": [],
   "source": [
    "# Definition for singly-linked list.\n",
    "# class ListNode:\n",
    "#    def __init__(self, x):\n",
    "#        self.val = x\n",
    "#        self.next = None\n",
    "import sys\n",
    "sys.setrecursionlimit(10**6)\n",
    "def search_linkedlist(A, B):\n",
    "    if A is None:\n",
    "        return False\n",
    "    if A.val != None and A.val == B:\n",
    "        return True\n",
    "    return search_linkedlist(A.next, B)\n",
    "class Solution:\n",
    "    # @param A : head node of linked list\n",
    "    # @param B : integer\n",
    "    # @return an integer\n",
    "    def solve(self, A, B):\n",
    "\n",
    "        return int(search_linkedlist(A,B))"
   ],
   "metadata": {
    "collapsed": false
   }
  },
  {
   "cell_type": "markdown",
   "source": [
    "---"
   ],
   "metadata": {
    "collapsed": false
   }
  }
 ],
 "metadata": {
  "kernelspec": {
   "display_name": "Python 3",
   "language": "python",
   "name": "python3"
  },
  "language_info": {
   "codemirror_mode": {
    "name": "ipython",
    "version": 2
   },
   "file_extension": ".py",
   "mimetype": "text/x-python",
   "name": "python",
   "nbconvert_exporter": "python",
   "pygments_lexer": "ipython2",
   "version": "2.7.6"
  }
 },
 "nbformat": 4,
 "nbformat_minor": 0
}
