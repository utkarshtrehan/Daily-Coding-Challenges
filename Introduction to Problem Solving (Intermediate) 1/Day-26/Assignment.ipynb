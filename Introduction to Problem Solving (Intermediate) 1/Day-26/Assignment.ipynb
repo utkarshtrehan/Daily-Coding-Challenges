{
 "cells": [
  {
   "cell_type": "markdown",
   "source": [
    "# Day 26 - Intermediate DSA: Object Oriented Class"
   ],
   "metadata": {
    "collapsed": false
   }
  },
  {
   "cell_type": "markdown",
   "source": [
    "## Q1. Class Circle\n",
    "\n",
    "**Problem Description**\n",
    "\n",
    "Construct a class Circle that represents a Circle.\n",
    "The class should support the following functionalities:-\n",
    "\n",
    "perimeter() -> returns the perimeter of the circle\n",
    "area() -> returns the area of the circle\n",
    "\n",
    "Note: Assume Π (pi) = 3.14 for calculations."
   ],
   "metadata": {
    "collapsed": false
   }
  },
  {
   "cell_type": "code",
   "execution_count": 3,
   "outputs": [],
   "source": [
    "class Circle:\n",
    "    # Define properties here\n",
    "\n",
    "    # Define constructor here\n",
    "    def __init__(self, radius):\n",
    "        self.radius = radius\n",
    "\n",
    "    def perimeter(self):\n",
    "        if self.radius:\n",
    "            return 2*3.14*self.radius\n",
    "\n",
    "\n",
    "    def area(self):\n",
    "        if self.radius:\n",
    "            return 3.14*(self.radius**2)\n",
    "\n",
    "\n",
    "# a = new Circle(3)  // Radius = 3\n",
    "# a.perimeter() // 18.84\n",
    "# a.area() // 28.26"
   ],
   "metadata": {
    "collapsed": false
   }
  },
  {
   "cell_type": "markdown",
   "source": [
    "## Q2. Class Rectangle\n",
    "\n",
    "**Problem Description**\n",
    "\n",
    "Construct a class Rectangle that represents a rectangle.\n",
    "\n",
    "The class should support the following functionalities:-\n",
    "\n",
    "perimeter() -> returns the perimeter of the rectangle\n",
    "area() -> returns the area of the rectangle"
   ],
   "metadata": {
    "collapsed": false
   }
  },
  {
   "cell_type": "code",
   "execution_count": null,
   "outputs": [],
   "source": [
    "class Rectangle:\n",
    "    # Define properties here\n",
    "\n",
    "\n",
    "    # Define constructor here\n",
    "    def __init__(self, length, breadth):\n",
    "        self.length = length\n",
    "        self.breadth = breadth\n",
    "\n",
    "    def perimeter(self):\n",
    "        # Complete the function\n",
    "        if self.breadth and self.length:\n",
    "            return 2*(self.breadth + self.length)\n",
    "\n",
    "    def area(self):\n",
    "        # Complete the function\n",
    "        if self.breadth and self.length:\n",
    "            return self.breadth*self.length\n",
    "\n",
    "\n",
    "# Rectangle a = new Rectangle(2, 3)  // Length = 2, Breadth = 3\n",
    "# a.perimeter() // Should give 10\n",
    "# a.area() // Should give 6"
   ],
   "metadata": {
    "collapsed": false
   }
  },
  {
   "cell_type": "markdown",
   "source": [
    "## Q3. Print Linked List\n",
    "\n",
    "**Problem Description**\n",
    "\n",
    "You are given A which is the head of a linked list. Print the linked list in space separated manner.\n",
    "Note : The last node value must also be succeeded by a space and after printing the entire list you should print a new line\n",
    "\n",
    "Problem Constraints\n",
    "1 <= size of linked list <= 105\n",
    "\n",
    "1 <= value of nodes <= 109"
   ],
   "metadata": {
    "collapsed": false
   }
  },
  {
   "cell_type": "code",
   "execution_count": null,
   "outputs": [],
   "source": [
    "import sys\n",
    "sys.setrecursionlimit(10**6)\n",
    "def print_linkedlist(A):\n",
    "    if A is None:\n",
    "        return\n",
    "    print(A.val, end=' ')\n",
    "    print_linkedlist(A.next)\n",
    "\n",
    "class Solution:\n",
    "    # @param A : head node of linked list\n",
    "    def solve(self, A):\n",
    "        print_linkedlist(A)\n",
    "        print()"
   ],
   "metadata": {
    "collapsed": false
   }
  },
  {
   "cell_type": "markdown",
   "source": [
    "---"
   ],
   "metadata": {
    "collapsed": false
   }
  }
 ],
 "metadata": {
  "kernelspec": {
   "display_name": "Python 3",
   "language": "python",
   "name": "python3"
  },
  "language_info": {
   "codemirror_mode": {
    "name": "ipython",
    "version": 2
   },
   "file_extension": ".py",
   "mimetype": "text/x-python",
   "name": "python",
   "nbconvert_exporter": "python",
   "pygments_lexer": "ipython2",
   "version": "2.7.6"
  }
 },
 "nbformat": 4,
 "nbformat_minor": 0
}
