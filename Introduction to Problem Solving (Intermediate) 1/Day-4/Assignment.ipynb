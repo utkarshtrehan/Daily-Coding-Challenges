{
 "cells": [
  {
   "cell_type": "markdown",
   "source": [
    "# Day 4 - Intermediate DSA: Introduction to Problem Solving"
   ],
   "metadata": {
    "collapsed": false
   }
  },
  {
   "cell_type": "markdown",
   "source": [
    "## Q1. Count Factors - 2\n",
    "\n",
    "Given an integer A, you need to find the count of it's factors.\n",
    "Factor of a number is the number which divides it perfectly leaving no remainder.\n",
    "Example : 1, 2, 3, 6 are factors of 6"
   ],
   "metadata": {
    "collapsed": false
   }
  },
  {
   "cell_type": "code",
   "execution_count": 37,
   "outputs": [],
   "source": [
    "def solve(A):\n",
    "    count_factors = 0\n",
    "    for i in range(1, A+1):\n",
    "        if A%i==0:\n",
    "            count_factors+=1\n",
    "    return count_factors"
   ],
   "metadata": {
    "collapsed": false
   }
  },
  {
   "cell_type": "code",
   "execution_count": 38,
   "outputs": [
    {
     "name": "stdout",
     "output_type": "stream",
     "text": [
      "CPU times: user 32.1 s, sys: 184 ms, total: 32.3 s\n",
      "Wall time: 32.5 s\n"
     ]
    },
    {
     "data": {
      "text/plain": "24"
     },
     "execution_count": 38,
     "metadata": {},
     "output_type": "execute_result"
    }
   ],
   "source": [
    "%%time\n",
    "solve(637759701)"
   ],
   "metadata": {
    "collapsed": false
   }
  },
  {
   "cell_type": "code",
   "execution_count": 66,
   "outputs": [],
   "source": [
    "def solve(A):\n",
    "    count_factors = 0\n",
    "    # iterate from 1 to sqrt(A)\n",
    "    for i in range(1, int(A**0.5) + 1):\n",
    "        # check if i is a factor of A\n",
    "        if A % i == 0:\n",
    "            # if i is equal to sqrt(A), add one factor\n",
    "            if i == A**0.5:\n",
    "                count_factors += 1\n",
    "            # otherwise, add two factors\n",
    "            else:\n",
    "                count_factors += 2\n",
    "    return count_factors"
   ],
   "metadata": {
    "collapsed": false
   }
  },
  {
   "cell_type": "code",
   "execution_count": 68,
   "outputs": [
    {
     "name": "stdout",
     "output_type": "stream",
     "text": [
      "CPU times: user 2.41 ms, sys: 7 µs, total: 2.42 ms\n",
      "Wall time: 2.44 ms\n"
     ]
    },
    {
     "data": {
      "text/plain": "24"
     },
     "execution_count": 68,
     "metadata": {},
     "output_type": "execute_result"
    }
   ],
   "source": [
    "%%time\n",
    "solve(637759701)"
   ],
   "metadata": {
    "collapsed": false
   }
  },
  {
   "cell_type": "markdown",
   "source": [
    "## Q2. IsPrime\n",
    "\n",
    "Given an Integer A. Return 1 if A is prime and return 0 if not."
   ],
   "metadata": {
    "collapsed": false
   }
  },
  {
   "cell_type": "code",
   "execution_count": 74,
   "outputs": [],
   "source": [
    "def solve(A):\n",
    "    count_factors = 0\n",
    "    for i in range(1, int(A**0.5)+1):\n",
    "        # check if i is a factor of A\n",
    "        if A % i == 0:\n",
    "            # if i is equal to sqrt(A), add one factor\n",
    "            if i == A**0.5:\n",
    "                count_factors += 1\n",
    "            # otherwise, add two factors\n",
    "            else:\n",
    "                count_factors += 2\n",
    "        is_prime = int(count_factors == 2)\n",
    "    return is_prime"
   ],
   "metadata": {
    "collapsed": false
   }
  },
  {
   "cell_type": "code",
   "execution_count": 75,
   "outputs": [
    {
     "data": {
      "text/plain": "1"
     },
     "execution_count": 75,
     "metadata": {},
     "output_type": "execute_result"
    }
   ],
   "source": [
    "solve(7)"
   ],
   "metadata": {
    "collapsed": false
   }
  },
  {
   "cell_type": "markdown",
   "source": [
    "## Q3. Square root of a number\n",
    "Given a number A. Return square root of the number if it is perfect square otherwise return -1."
   ],
   "metadata": {
    "collapsed": false
   }
  },
  {
   "cell_type": "code",
   "execution_count": 76,
   "outputs": [],
   "source": [
    "def solve(A):\n",
    "    perfect_square = -1\n",
    "    for i in range(1, int(A**0.5)+1):\n",
    "        # check if i is a factor of A\n",
    "        if A % i == 0:\n",
    "            # if i is equal to sqrt(A), perfect square\n",
    "            if i == A**0.5:\n",
    "                perfect_square = i\n",
    "            # otherwise, pass\n",
    "            else:\n",
    "                pass\n",
    "\n",
    "    return perfect_square"
   ],
   "metadata": {
    "collapsed": false
   }
  },
  {
   "cell_type": "code",
   "execution_count": 78,
   "outputs": [
    {
     "data": {
      "text/plain": "-1"
     },
     "execution_count": 78,
     "metadata": {},
     "output_type": "execute_result"
    }
   ],
   "source": [
    "solve(88)"
   ],
   "metadata": {
    "collapsed": false
   }
  },
  {
   "cell_type": "markdown",
   "source": [
    "---"
   ],
   "metadata": {
    "collapsed": false
   }
  }
 ],
 "metadata": {
  "kernelspec": {
   "display_name": "Python 3",
   "language": "python",
   "name": "python3"
  },
  "language_info": {
   "codemirror_mode": {
    "name": "ipython",
    "version": 2
   },
   "file_extension": ".py",
   "mimetype": "text/x-python",
   "name": "python",
   "nbconvert_exporter": "python",
   "pygments_lexer": "ipython2",
   "version": "2.7.6"
  }
 },
 "nbformat": 4,
 "nbformat_minor": 0
}
