{
 "cells": [
  {
   "cell_type": "markdown",
   "source": [
    "# Day 4 - Intermediate DSA: Introduction to Problem Solving"
   ],
   "metadata": {
    "collapsed": false
   }
  },
  {
   "cell_type": "markdown",
   "source": [
    "## Q1. Find Perfect Numbers\n",
    "\n",
    "You are given an integer A. You have to tell whether it is a perfect number or not.\n",
    "Perfect number is a positive integer which is equal to the sum of its proper positive divisors.\n",
    "A proper divisor of a natural number is the divisor that is strictly less than the number."
   ],
   "metadata": {
    "collapsed": false
   }
  },
  {
   "cell_type": "code",
   "execution_count": 40,
   "outputs": [],
   "source": [
    "def solve(A):\n",
    "        if A == 1:\n",
    "            return 0\n",
    "        # initialize the sum of proper divisors to 1\n",
    "        sum_ppd = 1\n",
    "        # store the square root of A in a variable\n",
    "        sqrt_A = A**0.5\n",
    "        # iterate from 2 to sqrt(A)\n",
    "        for i in range(2, int(sqrt_A)+1):\n",
    "            # check if i is a factor of A\n",
    "            if A % i == 0:\n",
    "                # if i is equal to sqrt(A) and i is strictly less than the number\n",
    "                if i == sqrt_A and i < A:\n",
    "                    sum_ppd += i\n",
    "                # otherwise, add both factors\n",
    "                else:\n",
    "                    sum_ppd += i + A//i\n",
    "        # check if A is equal to the sum of proper divisors\n",
    "        is_perfect_number = int(A == sum_ppd)\n",
    "        # return a boolean value\n",
    "        return is_perfect_number"
   ],
   "metadata": {
    "collapsed": false
   }
  },
  {
   "cell_type": "code",
   "execution_count": 42,
   "outputs": [
    {
     "name": "stdout",
     "output_type": "stream",
     "text": [
      "CPU times: user 2 µs, sys: 1e+03 ns, total: 3 µs\n",
      "Wall time: 5.01 µs\n"
     ]
    },
    {
     "data": {
      "text/plain": "1"
     },
     "execution_count": 42,
     "metadata": {},
     "output_type": "execute_result"
    }
   ],
   "source": [
    "%time\n",
    "solve(6)"
   ],
   "metadata": {
    "collapsed": false
   }
  },
  {
   "cell_type": "markdown",
   "source": [
    "## Q2. Count of primes\n",
    "\n",
    "You will be given an integer n. You need to return the count of prime numbers less than or equal to n."
   ],
   "metadata": {
    "collapsed": false
   }
  },
  {
   "cell_type": "code",
   "execution_count": 150,
   "outputs": [],
   "source": [
    "def is_prime(A):\n",
    "    is_prime_flag = True\n",
    "    # iterate from 1 to sqrt(A)\n",
    "    for i in range(2, int(A**0.5)):\n",
    "        # check if i is a factor of A\n",
    "        if A % i == 0:\n",
    "            is_prime_flag = False\n",
    "    return is_prime_flag\n",
    "\n",
    "def n_prime(A):\n",
    "    is_prime_list = [False, False] + [True]*(A-1)\n",
    "    for index in range(2, int(A**0.5)+1):\n",
    "        if is_prime_list[index]:\n",
    "            for j in range(index+index, A+1, index):\n",
    "                is_prime_list[j] = False\n",
    "    return is_prime_list\n",
    "\n",
    "def solve(A):\n",
    "    count_prime = sum(1 for x in n_prime(A) if x)\n",
    "    return count_prime"
   ],
   "metadata": {
    "collapsed": false
   }
  },
  {
   "cell_type": "code",
   "execution_count": 151,
   "outputs": [
    {
     "name": "stdout",
     "output_type": "stream",
     "text": [
      "CPU times: user 2 µs, sys: 0 ns, total: 2 µs\n",
      "Wall time: 5.72 µs\n"
     ]
    },
    {
     "data": {
      "text/plain": "5761455"
     },
     "execution_count": 151,
     "metadata": {},
     "output_type": "execute_result"
    }
   ],
   "source": [
    "%time\n",
    "solve(100000000)"
   ],
   "metadata": {
    "collapsed": false
   }
  },
  {
   "cell_type": "code",
   "execution_count": 152,
   "outputs": [],
   "source": [
    "def solve(A):\n",
    "        cnt = 0\n",
    "        # Looping from 1 to A\n",
    "        for i in range(1,A+1) :\n",
    "            factors = 0\n",
    "            # Looping from 1 to i\n",
    "            for j in range(1,i+1) :\n",
    "                if i%j==0 :\n",
    "                    factors = factors + 1\n",
    "            if factors==2 :\n",
    "                cnt = cnt + 1\n",
    "        return cnt"
   ],
   "metadata": {
    "collapsed": false
   }
  },
  {
   "cell_type": "code",
   "execution_count": 154,
   "outputs": [
    {
     "name": "stdout",
     "output_type": "stream",
     "text": [
      "CPU times: user 2 µs, sys: 1e+03 ns, total: 3 µs\n",
      "Wall time: 5.96 µs\n"
     ]
    },
    {
     "data": {
      "text/plain": "25"
     },
     "execution_count": 154,
     "metadata": {},
     "output_type": "execute_result"
    }
   ],
   "source": [
    "%time\n",
    "solve(100)"
   ],
   "metadata": {
    "collapsed": false
   }
  },
  {
   "cell_type": "markdown",
   "source": [
    "## Q3. Make it\n",
    "\n",
    "Given two integers A and B. A represents the count of mangoes and B represent the count of slices of mangoes. Mango can be cut into three slices of mangoes. A glass of mango shake can be formed by two slices of mangoes.\n",
    "\n",
    "Find the maximum number of glasses of mango shakes you can make with A mangoes and B slices of mangoes initially.\n",
    "\n"
   ],
   "metadata": {
    "collapsed": false
   }
  },
  {
   "cell_type": "code",
   "execution_count": 155,
   "outputs": [],
   "source": [
    "def solve(A, B):\n",
    "    total_slices = (A*3) + B\n",
    "    return total_slices//2"
   ],
   "metadata": {
    "collapsed": false
   }
  },
  {
   "cell_type": "code",
   "execution_count": 156,
   "outputs": [
    {
     "data": {
      "text/plain": "11"
     },
     "execution_count": 156,
     "metadata": {},
     "output_type": "execute_result"
    }
   ],
   "source": [
    "solve(7,1)"
   ],
   "metadata": {
    "collapsed": false
   }
  },
  {
   "cell_type": "markdown",
   "source": [
    "---"
   ],
   "metadata": {
    "collapsed": false
   }
  }
 ],
 "metadata": {
  "kernelspec": {
   "display_name": "Python 3",
   "language": "python",
   "name": "python3"
  },
  "language_info": {
   "codemirror_mode": {
    "name": "ipython",
    "version": 2
   },
   "file_extension": ".py",
   "mimetype": "text/x-python",
   "name": "python",
   "nbconvert_exporter": "python",
   "pygments_lexer": "ipython2",
   "version": "2.7.6"
  }
 },
 "nbformat": 4,
 "nbformat_minor": 0
}
