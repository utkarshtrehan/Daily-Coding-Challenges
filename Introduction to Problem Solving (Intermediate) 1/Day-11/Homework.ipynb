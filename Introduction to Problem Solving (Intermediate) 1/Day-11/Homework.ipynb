{
 "cells": [
  {
   "cell_type": "markdown",
   "source": [
    "# Day 11 - Intermediate DSA: Arrays : 2D Matrices"
   ],
   "metadata": {
    "collapsed": false
   }
  },
  {
   "cell_type": "markdown",
   "source": [
    "## Q1. Matrix Scalar Product\n",
    "\n",
    "**Problem Description**\n",
    "You are given a matrix A and and an integer B, you have to perform scalar multiplication of matrix A with an integer B.\n",
    "\n",
    "**Problem Constraints**\n",
    "\n",
    "1 <= A.size() <= 1000\n",
    "\n",
    "1 <= A[i].size() <= 1000\n",
    "\n",
    "1 <= A[i][j] <= 1000\n",
    "\n",
    "1 <= B <= 1000"
   ],
   "metadata": {
    "collapsed": false
   }
  },
  {
   "cell_type": "code",
   "execution_count": 17,
   "outputs": [],
   "source": [
    "def solve(A, B):\n",
    "    n_row = len(A)\n",
    "    n_col = len(A[0])\n",
    "\n",
    "    ans = [[0 for col in range(0, n_col)] for row in range(0, n_row)]\n",
    "\n",
    "    for i in range(n_row):\n",
    "        for j in range(n_col):\n",
    "            ans[i][j] = A[i][j] * B\n",
    "\n",
    "    return ans"
   ],
   "metadata": {
    "collapsed": false
   }
  },
  {
   "cell_type": "code",
   "execution_count": 18,
   "outputs": [
    {
     "data": {
      "text/plain": "[[2, 4, 6], [8, 10, 12], [14, 16, 18]]"
     },
     "execution_count": 18,
     "metadata": {},
     "output_type": "execute_result"
    }
   ],
   "source": [
    "solve([[1, 2, 3],[4, 5, 6],[7, 8, 9]], 2)"
   ],
   "metadata": {
    "collapsed": false
   }
  },
  {
   "cell_type": "markdown",
   "source": [
    "## Q2. Are Matrices Same ?\n",
    "\n",
    "**Problem Description**\n",
    "You are given two matrices A & B of equal dimensions and you have to check whether two matrices are equal or not\n",
    "NOTE: Both matrices are equal if A[i][j] == B[i][j] for all i and j in the given range.\n",
    "\n",
    "**Problem Constraints**\n",
    "\n",
    "1 <= A.size(), B.size() <= 1000\n",
    "\n",
    "1 <= A[i].size(), B[i].size() <= 1000\n",
    "\n",
    "1 <= A[i][j], B[i][j] <= 1000"
   ],
   "metadata": {
    "collapsed": false
   }
  },
  {
   "cell_type": "code",
   "execution_count": 19,
   "outputs": [],
   "source": [
    "def solve(A, B):\n",
    "    n_row = len(A)\n",
    "    n_col = len(A[0])\n",
    "\n",
    "    for i in range(n_row):\n",
    "        for j in range(n_col):\n",
    "            if A[i][j] != B[i][j]:\n",
    "                return 0\n",
    "\n",
    "    return 1"
   ],
   "metadata": {
    "collapsed": false
   }
  },
  {
   "cell_type": "code",
   "execution_count": 20,
   "outputs": [
    {
     "data": {
      "text/plain": "1"
     },
     "execution_count": 20,
     "metadata": {},
     "output_type": "execute_result"
    }
   ],
   "source": [
    "solve([[1, 2, 3],[4, 5, 6],[7, 8, 9]], [[1, 2, 3],[4, 5, 6],[7, 8, 9]])"
   ],
   "metadata": {
    "collapsed": false
   }
  },
  {
   "cell_type": "markdown",
   "source": [
    "## Q3. Add the matrices\n",
    "\n",
    "**Problem Description**\n",
    "\n",
    "You are given two matrices A & B of same size, you have to return another matrix which is the sum of A and B.\n",
    "\n",
    "\n",
    "**Problem Constraints**\n",
    "\n",
    "1 <= A.size(), B.size() <= 1000\n",
    "\n",
    "1 <= A[i].size(), B[i].size() <= 1000\n",
    "\n",
    "1 <= A[i][j], B[i][j] <= 1000\n"
   ],
   "metadata": {
    "collapsed": false
   }
  },
  {
   "cell_type": "code",
   "execution_count": 21,
   "outputs": [],
   "source": [
    "def solve(A, B):\n",
    "\n",
    "    n_row = len(A)\n",
    "    n_col = len(A[0])\n",
    "\n",
    "    ans = [[0 for col in range(0, n_col)] for row in range(0, n_row)]\n",
    "\n",
    "    for i in range(n_row):\n",
    "        for j in range(n_col):\n",
    "            ans[i][j] = A[i][j] + B[i][j]\n",
    "\n",
    "    return ans"
   ],
   "metadata": {
    "collapsed": false
   }
  },
  {
   "cell_type": "code",
   "execution_count": 22,
   "outputs": [
    {
     "data": {
      "text/plain": "[[10, 10, 10], [10, 10, 10], [10, 10, 10]]"
     },
     "execution_count": 22,
     "metadata": {},
     "output_type": "execute_result"
    }
   ],
   "source": [
    "solve([[1, 2, 3], [4, 5, 6], [7, 8, 9]],\n",
    "      [[9, 8, 7], [6, 5, 4], [3, 2, 1]])"
   ],
   "metadata": {
    "collapsed": false
   }
  },
  {
   "cell_type": "markdown",
   "source": [
    "## Q4. Matrix Subtraction\n",
    "\n",
    "**Problem Description**\n",
    "\n",
    "You are given two integer matrices A and B having same size(Both having same number of rows (N) and columns (M). You have to subtract matrix B from A and return the resultant matrix. (i.e. return the matrix A - B).\n",
    "If A and B are two matrices of the same order (same dimensions). Then A - B is a matrix of the same order as A and B and its elements are obtained by doing an element wise subtraction of A from B.\n",
    "\n",
    "**Problem Constraints**\n",
    "\n",
    "1 <= N, M <= 10^3\n",
    "\n",
    "-109 <= A[i][j], B[i][j] <= 10^9"
   ],
   "metadata": {
    "collapsed": false
   }
  },
  {
   "cell_type": "code",
   "execution_count": 23,
   "outputs": [],
   "source": [
    "def solve(A, B):\n",
    "    n_row = len(A)\n",
    "    n_col = len(A[0])\n",
    "\n",
    "    ans = [[0 for col in range(0, n_col)] for row in range(0, n_row)]\n",
    "\n",
    "    for i in range(n_row):\n",
    "        for j in range(n_col):\n",
    "            ans[i][j] = A[i][j] - B[i][j]\n",
    "\n",
    "    return ans"
   ],
   "metadata": {
    "collapsed": false
   }
  },
  {
   "cell_type": "code",
   "execution_count": 24,
   "outputs": [
    {
     "data": {
      "text/plain": "[[-8, -6, -4], [-2, 0, 2], [4, 6, 8]]"
     },
     "execution_count": 24,
     "metadata": {},
     "output_type": "execute_result"
    }
   ],
   "source": [
    "solve([[1, 2, 3],\n",
    "      [4, 5, 6],\n",
    "      [7, 8, 9]], [[9, 8, 7],\n",
    "      [6, 5, 4],\n",
    "      [3, 2, 1]])"
   ],
   "metadata": {
    "collapsed": false
   }
  },
  {
   "cell_type": "markdown",
   "source": [
    "## Q5. Row to Column Zero\n",
    "\n",
    "**Problem Description**\n",
    "\n",
    "You are given a 2D integer matrix A, make all the elements in a row or column zero if the A[i][j] = 0. Specifically, make entire ith row and jth column zero.\n",
    "\n",
    "**Problem Constraints**\n",
    "\n",
    "1 <= A.size() <= 10^3\n",
    "\n",
    "1 <= A[i].size() <= 10^3\n",
    "\n",
    "0 <= A[i][j] <= 10^3"
   ],
   "metadata": {
    "collapsed": false
   }
  },
  {
   "cell_type": "code",
   "execution_count": 25,
   "outputs": [],
   "source": [
    "def solve(A):\n",
    "    rows = len(A)\n",
    "    cols = len(A[0])\n",
    "\n",
    "    rowIndx = set()\n",
    "    colIndx = set()\n",
    "\n",
    "    for i in range(rows):\n",
    "        for j in range(cols):\n",
    "            if A[i][j] == 0:\n",
    "                rowIndx.add(i)\n",
    "                colIndx.add(j)\n",
    "\n",
    "\n",
    "    for i in range(rows):\n",
    "        for j in range(cols):\n",
    "            if i in rowIndx or j in colIndx:\n",
    "                A[i][j] = 0\n",
    "\n",
    "    return A"
   ],
   "metadata": {
    "collapsed": false
   }
  },
  {
   "cell_type": "code",
   "execution_count": 26,
   "outputs": [
    {
     "data": {
      "text/plain": "[[1, 2, 0, 0], [0, 0, 0, 0], [0, 0, 0, 0]]"
     },
     "execution_count": 26,
     "metadata": {},
     "output_type": "execute_result"
    }
   ],
   "source": [
    "solve([[1,2,3,4],\n",
    "[5,6,7,0],\n",
    "[9,2,0,4]])"
   ],
   "metadata": {
    "collapsed": false
   }
  },
  {
   "cell_type": "markdown",
   "source": [
    "---"
   ],
   "metadata": {
    "collapsed": false
   }
  }
 ],
 "metadata": {
  "kernelspec": {
   "display_name": "Python 3",
   "language": "python",
   "name": "python3"
  },
  "language_info": {
   "codemirror_mode": {
    "name": "ipython",
    "version": 2
   },
   "file_extension": ".py",
   "mimetype": "text/x-python",
   "name": "python",
   "nbconvert_exporter": "python",
   "pygments_lexer": "ipython2",
   "version": "2.7.6"
  }
 },
 "nbformat": 4,
 "nbformat_minor": 0
}
