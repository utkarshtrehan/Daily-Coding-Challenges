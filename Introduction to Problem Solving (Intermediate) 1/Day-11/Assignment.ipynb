{
 "cells": [
  {
   "cell_type": "markdown",
   "source": [
    "# Day 11 - Intermediate DSA: Arrays : 2D Matrices"
   ],
   "metadata": {
    "collapsed": false
   },
   "execution_count": 1
  },
  {
   "cell_type": "markdown",
   "source": [
    "## Q1. Column Sum\n",
    "\n",
    "**Problem Description**\n",
    "\n",
    "You are given a 2D integer matrix A, return a 1D integer array containing column-wise sums of original matrix.\n",
    "\n",
    "**Problem Constraints**\n",
    "\n",
    "1 <= A.size() <= 10^3\n",
    "\n",
    "1 <= A[i].size() <= 10^3\n",
    "\n",
    "1 <= A[i][j] <= 10^3"
   ],
   "metadata": {
    "collapsed": false
   }
  },
  {
   "cell_type": "code",
   "execution_count": 69,
   "outputs": [],
   "source": [
    "def solve(A):\n",
    "    n_col = len(A[0])\n",
    "    n_row = len(A)\n",
    "    ans = []\n",
    "    for col in range(0, n_col):\n",
    "        sum = 0\n",
    "        for row in range(0, n_row):\n",
    "            sum+=A[row][col]\n",
    "        ans.append(sum)\n",
    "\n",
    "    return ans"
   ],
   "metadata": {
    "collapsed": false
   }
  },
  {
   "cell_type": "code",
   "execution_count": 70,
   "outputs": [
    {
     "data": {
      "text/plain": "[15, 18, 21, 24]"
     },
     "execution_count": 70,
     "metadata": {},
     "output_type": "execute_result"
    }
   ],
   "source": [
    "solve([[1, 2, 3, 4],[5, 6, 7, 8],[9, 10, 11, 12]])"
   ],
   "metadata": {
    "collapsed": false
   }
  },
  {
   "cell_type": "markdown",
   "source": [
    "## Q2. Row Sum\n",
    "\n",
    "**Problem Description**\n",
    "\n",
    "You are given a 2D integer matrix A, return a 1D integer array containing row-wise sums of original matrix.\n",
    "\n",
    "**Problem Constraints**\n",
    "\n",
    "1 <= A.size() <= 10^3\n",
    "\n",
    "1 <= A[i].size() <= 10^3\n",
    "\n",
    "1 <= A[i][j] <= 10^3"
   ],
   "metadata": {
    "collapsed": false
   }
  },
  {
   "cell_type": "code",
   "execution_count": 71,
   "outputs": [],
   "source": [
    "def solve(A):\n",
    "    n_col = len(A[0])\n",
    "    n_row = len(A)\n",
    "    ans = []\n",
    "    for row in range(0, n_row):\n",
    "        sum = 0\n",
    "        for col in range(0, n_col):\n",
    "            sum+=A[row][col]\n",
    "        ans.append(sum)\n",
    "\n",
    "    return ans"
   ],
   "metadata": {
    "collapsed": false
   }
  },
  {
   "cell_type": "code",
   "execution_count": 72,
   "outputs": [
    {
     "data": {
      "text/plain": "[10, 26, 18]"
     },
     "execution_count": 72,
     "metadata": {},
     "output_type": "execute_result"
    }
   ],
   "source": [
    "solve([[1,2,3,4],\n",
    "[5,6,7,8],\n",
    "[9,2,3,4]])"
   ],
   "metadata": {
    "collapsed": false
   }
  },
  {
   "cell_type": "markdown",
   "source": [
    "## Q3. Main Diagonal Sum\n",
    "\n",
    "**Problem Description**\n",
    "\n",
    "You are given a N X N integer matrix. You have to find the sum of all the main diagonal elements of A.\n",
    "Main diagonal of a matrix A is a collection of elements A[i, j] such that i = j.\n",
    "\n",
    "**Problem Constraints**\n",
    "\n",
    "1 <= N <= 103\n",
    "\n",
    "-1000 <= A[i][j] <= 1000"
   ],
   "metadata": {
    "collapsed": false
   }
  },
  {
   "cell_type": "code",
   "execution_count": 73,
   "outputs": [],
   "source": [
    "def solve(A):\n",
    "    n_row = len(A)\n",
    "    ans = 0\n",
    "    for row in range(0, n_row):\n",
    "        ans+=A[row][row]\n",
    "    return ans"
   ],
   "metadata": {
    "collapsed": false
   }
  },
  {
   "cell_type": "code",
   "execution_count": 74,
   "outputs": [
    {
     "data": {
      "text/plain": "6"
     },
     "execution_count": 74,
     "metadata": {},
     "output_type": "execute_result"
    }
   ],
   "source": [
    "solve([[3, 2], [2, 3]])"
   ],
   "metadata": {
    "collapsed": false
   }
  },
  {
   "cell_type": "markdown",
   "source": [
    "## Q4. Minor Diagonal Sum\n",
    "\n",
    "**Problem Description**\n",
    "\n",
    "You are given a N X N integer matrix. You have to find the sum of all the minor diagonal elements of A.\n",
    "Minor diagonal of a M X M matrix A is a collection of elements A[i, j] such that i + j = M + 1 (where i, j are 1-based).\n",
    "\n",
    "**Problem Constraints**\n",
    "\n",
    "1 <= N <= 103\n",
    "\n",
    "-1000 <= A[i][j] <= 1000"
   ],
   "metadata": {
    "collapsed": false
   }
  },
  {
   "cell_type": "code",
   "execution_count": 75,
   "outputs": [],
   "source": [
    "def solve(A):\n",
    "    N = len(A[0])\n",
    "    ans = 0\n",
    "    i = 0\n",
    "    j = N-1\n",
    "    while i<=N-1 and j>=0:\n",
    "        ans+=A[i][j]\n",
    "        i+=1\n",
    "        j-=1\n",
    "    return ans"
   ],
   "metadata": {
    "collapsed": false
   }
  },
  {
   "cell_type": "code",
   "execution_count": 76,
   "outputs": [
    {
     "data": {
      "text/plain": "-5"
     },
     "execution_count": 76,
     "metadata": {},
     "output_type": "execute_result"
    }
   ],
   "source": [
    "solve([[1, -2, -3],\n",
    "      [-4, 5, -6],\n",
    "      [-7, -8, 9]])"
   ],
   "metadata": {
    "collapsed": false
   }
  },
  {
   "cell_type": "markdown",
   "source": [
    "## Q5. Anti Diagonals\n",
    "\n",
    "**Problem Description**\n",
    "\n",
    "Give a N * N square matrix A, return an array of its anti-diagonals. Look at the example for more details.\n",
    "\n",
    "**Problem Constraints**\n",
    "\n",
    "1<= N <= 1000\n",
    "\n",
    "1<= A[i][j] <= 1e9"
   ],
   "metadata": {
    "collapsed": false
   }
  },
  {
   "cell_type": "code",
   "execution_count": 77,
   "outputs": [],
   "source": [
    "def diagonal(A):\n",
    "    n_col = len(A[0])\n",
    "    n_row = len(A)\n",
    "    k=0\n",
    "    result = []\n",
    "\n",
    "    while k<n_col:\n",
    "        arr = []\n",
    "        r, c = 0, k\n",
    "        while r<n_row and c>=0:\n",
    "            arr.append(A[r][c])\n",
    "            r+=1\n",
    "            c-=1\n",
    "        arr += [0] * (n_row - len(arr))\n",
    "        result.append(arr)\n",
    "        k+=1\n",
    "\n",
    "    k = 1\n",
    "    while k<n_row:\n",
    "        arr=[]\n",
    "        r, c = k, n_col-1\n",
    "        while r<n_row and c>0:\n",
    "            arr.append(A[r][c])\n",
    "            r+=1\n",
    "            c-=1\n",
    "        arr += [0] * (n_row - len(arr))\n",
    "        result.append(arr)\n",
    "        k+=1\n",
    "    return  result"
   ],
   "metadata": {
    "collapsed": false
   }
  },
  {
   "cell_type": "code",
   "execution_count": 78,
   "outputs": [
    {
     "data": {
      "text/plain": "[[1, 0, 0, 0],\n [2, 4, 0, 0],\n [3, 5, 7, 0],\n [6, 8, 0, 0],\n [9, 11, 0, 0],\n [12, 0, 0, 0]]"
     },
     "execution_count": 78,
     "metadata": {},
     "output_type": "execute_result"
    }
   ],
   "source": [
    "diagonal([[1, 2, 3],\n",
    "          [4, 5, 6],\n",
    "          [7, 8,9],\n",
    "          [10,11,12]])"
   ],
   "metadata": {
    "collapsed": false
   }
  },
  {
   "cell_type": "markdown",
   "source": [
    "## Q6. Matrix Transpose\n",
    "\n",
    "**Problem Description**\n",
    "\n",
    "You are given a matrix A, you have to return another matrix which is the transpose of A.\n",
    "\n",
    "NOTE: Transpose of a matrix A is defined as - AT[i][j] = A[j][i] ; Where 1 ≤ i ≤ col and 1 ≤ j ≤ row. The tranpose of a matrix switches the element at (i, j)th index to (j, i)th index, and the element at (j, i)th index to (i, j)th index.\n",
    "\n",
    "\n",
    "**Problem Constraints**\n",
    "\n",
    "1 <= A.size() <= 1000\n",
    "\n",
    "1 <= A[i].size() <= 1000\n",
    "\n",
    "1 <= A[i][j] <= 1000"
   ],
   "metadata": {
    "collapsed": false
   }
  },
  {
   "cell_type": "code",
   "execution_count": 79,
   "outputs": [],
   "source": [
    "def solve(A):\n",
    "\n",
    "    n_row = len(A)\n",
    "    n_col = len(A[0])\n",
    "\n",
    "    ans_row = n_col\n",
    "    ans_col = n_row\n",
    "\n",
    "    AT = [[0 for col in range(ans_col)] for row in range(ans_row)]\n",
    "\n",
    "    for i in range(0, n_row):\n",
    "        for j in range(0, n_col):\n",
    "            AT[j][i] = A[i][j]\n",
    "\n",
    "    return AT"
   ],
   "metadata": {
    "collapsed": false
   }
  },
  {
   "cell_type": "code",
   "execution_count": 80,
   "outputs": [
    {
     "data": {
      "text/plain": "[[1, 4, 7], [2, 5, 8], [3, 6, 9]]"
     },
     "execution_count": 80,
     "metadata": {},
     "output_type": "execute_result"
    }
   ],
   "source": [
    "solve([[1, 2, 3],[4, 5, 6],[7, 8, 9]])"
   ],
   "metadata": {
    "collapsed": false
   }
  },
  {
   "cell_type": "markdown",
   "source": [
    "## Q7. Rotate Matrix\n",
    "\n",
    "**Problem Description**\n",
    "\n",
    "You are given a n x n 2D matrix A representing an image.\n",
    "Rotate the image by 90 degrees (clockwise).\n",
    "You need to do this in place.\n",
    "Note: If you end up using an additional array, you will only receive partial score.\n",
    "\n",
    "**Problem Constraints**\n",
    "1 <= n <= 1000"
   ],
   "metadata": {
    "collapsed": false
   }
  },
  {
   "cell_type": "code",
   "execution_count": 81,
   "outputs": [],
   "source": [
    "def solve(A):\n",
    "    n_row = len(A)\n",
    "    n_col = len(A[0])\n",
    "\n",
    "    for i in range(0, n_row-1):\n",
    "        for j in range(i+1, n_col):\n",
    "            A[i][j] = A[i][j] + A[j][i]\n",
    "            A[j][i] = A[i][j] - A[j][i]\n",
    "            A[i][j] = A[i][j] - A[j][i]\n",
    "\n",
    "\n",
    "    col_start = 0\n",
    "    col_end = len(A[0])-1\n",
    "\n",
    "    while col_start < col_end:\n",
    "        for row in range(0, len(A)):\n",
    "            A[row][col_start] = A[row][col_start] + A[row][col_end]\n",
    "            A[row][col_end]   = A[row][col_start] - A[row][col_end]\n",
    "            A[row][col_start] = A[row][col_start] - A[row][col_end]\n",
    "        col_start+=1\n",
    "        col_end-=1\n",
    "\n",
    "    return A"
   ],
   "metadata": {
    "collapsed": false
   }
  },
  {
   "cell_type": "code",
   "execution_count": 82,
   "outputs": [
    {
     "data": {
      "text/plain": "[[3, 1], [4, 7]]"
     },
     "execution_count": 82,
     "metadata": {},
     "output_type": "execute_result"
    }
   ],
   "source": [
    "solve([\n",
    "    [1, 7],\n",
    "    [3, 4]\n",
    "])"
   ],
   "metadata": {
    "collapsed": false
   }
  },
  {
   "cell_type": "markdown",
   "source": [
    "---"
   ],
   "metadata": {
    "collapsed": false
   }
  }
 ],
 "metadata": {
  "kernelspec": {
   "display_name": "Python 3",
   "language": "python",
   "name": "python3"
  },
  "language_info": {
   "codemirror_mode": {
    "name": "ipython",
    "version": 2
   },
   "file_extension": ".py",
   "mimetype": "text/x-python",
   "name": "python",
   "nbconvert_exporter": "python",
   "pygments_lexer": "ipython2",
   "version": "2.7.6"
  }
 },
 "nbformat": 4,
 "nbformat_minor": 0
}
