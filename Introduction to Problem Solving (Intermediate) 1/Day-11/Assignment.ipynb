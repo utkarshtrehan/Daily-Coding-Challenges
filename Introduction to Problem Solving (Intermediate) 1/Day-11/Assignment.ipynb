{
 "cells": [
  {
   "cell_type": "markdown",
   "source": [
    "# Day 11 - Intermediate DSA: Arrays : 2D Matrices"
   ],
   "metadata": {
    "collapsed": false
   },
   "execution_count": 1
  },
  {
   "cell_type": "markdown",
   "source": [
    "## Q1. Column Sum\n",
    "\n",
    "**Problem Description**\n",
    "\n",
    "You are given a 2D integer matrix A, return a 1D integer array containing column-wise sums of original matrix.\n",
    "\n",
    "**Problem Constraints**\n",
    "\n",
    "1 <= A.size() <= 10^3\n",
    "\n",
    "1 <= A[i].size() <= 10^3\n",
    "\n",
    "1 <= A[i][j] <= 10^3"
   ],
   "metadata": {
    "collapsed": false
   }
  },
  {
   "cell_type": "code",
   "execution_count": 91,
   "outputs": [],
   "source": [
    "def solve(A):\n",
    "    n_col = len(A[0])\n",
    "    n_row = len(A)\n",
    "    ans = []\n",
    "    for col in range(0, n_col):\n",
    "        sum = 0\n",
    "        for row in range(0, n_row):\n",
    "            sum+=A[row][col]\n",
    "        ans.append(sum)\n",
    "\n",
    "    return ans"
   ],
   "metadata": {
    "collapsed": false
   }
  },
  {
   "cell_type": "code",
   "execution_count": 92,
   "outputs": [
    {
     "data": {
      "text/plain": "[15, 18, 21, 24]"
     },
     "execution_count": 92,
     "metadata": {},
     "output_type": "execute_result"
    }
   ],
   "source": [
    "solve([[1, 2, 3, 4],[5, 6, 7, 8],[9, 10, 11, 12]])"
   ],
   "metadata": {
    "collapsed": false
   }
  },
  {
   "cell_type": "markdown",
   "source": [
    "## Q2. Row Sum\n",
    "\n",
    "**Problem Description**\n",
    "\n",
    "You are given a 2D integer matrix A, return a 1D integer array containing row-wise sums of original matrix.\n",
    "\n",
    "**Problem Constraints**\n",
    "\n",
    "1 <= A.size() <= 10^3\n",
    "\n",
    "1 <= A[i].size() <= 10^3\n",
    "\n",
    "1 <= A[i][j] <= 10^3"
   ],
   "metadata": {
    "collapsed": false
   }
  },
  {
   "cell_type": "code",
   "execution_count": 93,
   "outputs": [],
   "source": [
    "def solve(A):\n",
    "    n_col = len(A[0])\n",
    "    n_row = len(A)\n",
    "    ans = []\n",
    "    for row in range(0, n_row):\n",
    "        sum = 0\n",
    "        for col in range(0, n_col):\n",
    "            sum+=A[row][col]\n",
    "        ans.append(sum)\n",
    "\n",
    "    return ans"
   ],
   "metadata": {
    "collapsed": false
   }
  },
  {
   "cell_type": "code",
   "execution_count": 94,
   "outputs": [
    {
     "data": {
      "text/plain": "[10, 26, 18]"
     },
     "execution_count": 94,
     "metadata": {},
     "output_type": "execute_result"
    }
   ],
   "source": [
    "solve([[1,2,3,4],\n",
    "[5,6,7,8],\n",
    "[9,2,3,4]])"
   ],
   "metadata": {
    "collapsed": false
   }
  },
  {
   "cell_type": "markdown",
   "source": [
    "## Q3. Main Diagonal Sum\n",
    "\n",
    "**Problem Description**\n",
    "\n",
    "You are given a N X N integer matrix. You have to find the sum of all the main diagonal elements of A.\n",
    "Main diagonal of a matrix A is a collection of elements A[i, j] such that i = j.\n",
    "\n",
    "**Problem Constraints**\n",
    "\n",
    "1 <= N <= 103\n",
    "\n",
    "-1000 <= A[i][j] <= 1000"
   ],
   "metadata": {
    "collapsed": false
   }
  },
  {
   "cell_type": "code",
   "execution_count": 95,
   "outputs": [],
   "source": [
    "def solve(A):\n",
    "    n_row = len(A)\n",
    "    ans = 0\n",
    "    for row in range(0, n_row):\n",
    "        ans+=A[row][row]\n",
    "    return ans"
   ],
   "metadata": {
    "collapsed": false
   }
  },
  {
   "cell_type": "code",
   "execution_count": 96,
   "outputs": [
    {
     "data": {
      "text/plain": "6"
     },
     "execution_count": 96,
     "metadata": {},
     "output_type": "execute_result"
    }
   ],
   "source": [
    "solve([[3, 2], [2, 3]])"
   ],
   "metadata": {
    "collapsed": false
   }
  },
  {
   "cell_type": "markdown",
   "source": [
    "## Q4. Minor Diagonal Sum\n",
    "\n",
    "**Problem Description**\n",
    "\n",
    "You are given a N X N integer matrix. You have to find the sum of all the minor diagonal elements of A.\n",
    "Minor diagonal of a M X M matrix A is a collection of elements A[i, j] such that i + j = M + 1 (where i, j are 1-based).\n",
    "\n",
    "**Problem Constraints**\n",
    "\n",
    "1 <= N <= 103\n",
    "\n",
    "-1000 <= A[i][j] <= 1000"
   ],
   "metadata": {
    "collapsed": false
   }
  },
  {
   "cell_type": "code",
   "execution_count": 97,
   "outputs": [],
   "source": [
    "def solve(A):\n",
    "    N = len(A[0])\n",
    "    ans = 0\n",
    "    i = 0\n",
    "    j = N-1\n",
    "    while i<=N-1 and j>=0:\n",
    "        ans+=A[i][j]\n",
    "        i+=1\n",
    "        j-=1\n",
    "    return ans"
   ],
   "metadata": {
    "collapsed": false
   }
  },
  {
   "cell_type": "code",
   "execution_count": 98,
   "outputs": [
    {
     "data": {
      "text/plain": "-5"
     },
     "execution_count": 98,
     "metadata": {},
     "output_type": "execute_result"
    }
   ],
   "source": [
    "solve([[1, -2, -3],\n",
    "      [-4, 5, -6],\n",
    "      [-7, -8, 9]])"
   ],
   "metadata": {
    "collapsed": false
   }
  },
  {
   "cell_type": "markdown",
   "source": [
    "## Q5. Anti Diagonals\n",
    "\n",
    "**Problem Description**\n",
    "\n",
    "Give a N * N square matrix A, return an array of its anti-diagonals. Look at the example for more details.\n",
    "\n",
    "**Problem Constraints**\n",
    "\n",
    "1<= N <= 1000\n",
    "\n",
    "1<= A[i][j] <= 1e9"
   ],
   "metadata": {
    "collapsed": false
   }
  },
  {
   "cell_type": "code",
   "execution_count": 98,
   "outputs": [],
   "source": [],
   "metadata": {
    "collapsed": false
   }
  },
  {
   "cell_type": "code",
   "execution_count": 98,
   "outputs": [],
   "source": [],
   "metadata": {
    "collapsed": false
   }
  },
  {
   "cell_type": "markdown",
   "source": [
    "## Q6. Matrix Transpose\n",
    "\n",
    "**Problem Description**\n",
    "\n",
    "You are given a matrix A, you have to return another matrix which is the transpose of A.\n",
    "\n",
    "NOTE: Transpose of a matrix A is defined as - AT[i][j] = A[j][i] ; Where 1 ≤ i ≤ col and 1 ≤ j ≤ row. The tranpose of a matrix switches the element at (i, j)th index to (j, i)th index, and the element at (j, i)th index to (i, j)th index.\n",
    "\n",
    "\n",
    "**Problem Constraints**\n",
    "\n",
    "1 <= A.size() <= 1000\n",
    "\n",
    "1 <= A[i].size() <= 1000\n",
    "\n",
    "1 <= A[i][j] <= 1000"
   ],
   "metadata": {
    "collapsed": false
   }
  },
  {
   "cell_type": "code",
   "execution_count": 99,
   "outputs": [],
   "source": [
    "def solve(A):\n",
    "\n",
    "    n_row = len(A)\n",
    "    n_col = len(A[0])\n",
    "\n",
    "    ans_row = n_col\n",
    "    ans_col = n_row\n",
    "\n",
    "    AT = [[0 for col in range(ans_col)] for row in range(ans_row)]\n",
    "\n",
    "    for i in range(0, n_row):\n",
    "        for j in range(0, n_col):\n",
    "            AT[j][i] = A[i][j]\n",
    "\n",
    "    return AT"
   ],
   "metadata": {
    "collapsed": false
   }
  },
  {
   "cell_type": "code",
   "execution_count": 100,
   "outputs": [
    {
     "data": {
      "text/plain": "[[1, 4, 7], [2, 5, 8], [3, 6, 9]]"
     },
     "execution_count": 100,
     "metadata": {},
     "output_type": "execute_result"
    }
   ],
   "source": [
    "solve([[1, 2, 3],[4, 5, 6],[7, 8, 9]])"
   ],
   "metadata": {
    "collapsed": false
   }
  },
  {
   "cell_type": "markdown",
   "source": [
    "## Q7. Rotate Matrix\n",
    "\n",
    "**Problem Description**\n",
    "\n",
    "You are given a n x n 2D matrix A representing an image.\n",
    "Rotate the image by 90 degrees (clockwise).\n",
    "You need to do this in place.\n",
    "Note: If you end up using an additional array, you will only receive partial score.\n",
    "\n",
    "**Problem Constraints**\n",
    "1 <= n <= 1000"
   ],
   "metadata": {
    "collapsed": false
   }
  },
  {
   "cell_type": "code",
   "execution_count": 101,
   "outputs": [],
   "source": [
    "def solve(A):\n",
    "        rows = len(A)\n",
    "        cols = len(A[0])\n",
    "\n",
    "        rowIndx = set()\n",
    "        colIndx = set()\n",
    "\n",
    "        for i in range(rows):\n",
    "            for j in range(cols):\n",
    "                if A[i][j] == 0:\n",
    "                    rowIndx.add(i)\n",
    "                    colIndx.add(j)\n",
    "\n",
    "\n",
    "        for i in range(rows):\n",
    "            for j in range(cols):\n",
    "                if i in rowIndx or j in colIndx:\n",
    "                    A[i][j] = 0\n",
    "\n",
    "        return A"
   ],
   "metadata": {
    "collapsed": false
   }
  },
  {
   "cell_type": "code",
   "execution_count": null,
   "outputs": [],
   "source": [],
   "metadata": {
    "collapsed": false,
    "pycharm": {
     "is_executing": true
    }
   }
  },
  {
   "cell_type": "markdown",
   "source": [
    "---"
   ],
   "metadata": {
    "collapsed": false
   }
  }
 ],
 "metadata": {
  "kernelspec": {
   "display_name": "Python 3",
   "language": "python",
   "name": "python3"
  },
  "language_info": {
   "codemirror_mode": {
    "name": "ipython",
    "version": 2
   },
   "file_extension": ".py",
   "mimetype": "text/x-python",
   "name": "python",
   "nbconvert_exporter": "python",
   "pygments_lexer": "ipython2",
   "version": "2.7.6"
  }
 },
 "nbformat": 4,
 "nbformat_minor": 0
}
