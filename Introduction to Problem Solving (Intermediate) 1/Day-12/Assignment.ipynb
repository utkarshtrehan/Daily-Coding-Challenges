{
 "cells": [
  {
   "cell_type": "markdown",
   "source": [
    "# Day 12 - Intermediate DSA: Arrays : Sliding Window"
   ],
   "metadata": {
    "collapsed": false
   }
  },
  {
   "cell_type": "markdown",
   "source": [
    "# Q1. Subarray with given sum and length\n",
    "\n",
    "**Problem Description**\n",
    "\n",
    "Given an array A of length N. Also given are integers B and C.\n",
    "Return 1 if there exists a subarray with length B having sum C and 0 otherwise\n",
    "\n",
    "**Problem Constraints**\n",
    "\n",
    "1 <= N <= 10^5\n",
    "\n",
    "1 <= A[i] <= 10^4\n",
    "\n",
    "1 <= B <= N\n",
    "\n",
    "1 <= C <= 10^9"
   ],
   "metadata": {
    "collapsed": false
   }
  },
  {
   "cell_type": "code",
   "execution_count": 64,
   "outputs": [],
   "source": [
    "def solve(A, B, C):\n",
    "\n",
    "    N = len(A)\n",
    "    sum = 0\n",
    "    for i in range(0, B):\n",
    "        sum+=A[i]\n",
    "    i = 1\n",
    "    j = B\n",
    "    while i<=N-B:\n",
    "        sum = sum - A[i-1] + A[j]\n",
    "        if sum == C:\n",
    "            return 1\n",
    "        i+=1\n",
    "        j+=1\n",
    "    return int(sum == C)"
   ],
   "metadata": {
    "collapsed": false
   }
  },
  {
   "cell_type": "code",
   "execution_count": 65,
   "outputs": [
    {
     "data": {
      "text/plain": "1"
     },
     "execution_count": 65,
     "metadata": {},
     "output_type": "execute_result"
    }
   ],
   "source": [
    "solve([6], 1, 6)"
   ],
   "metadata": {
    "collapsed": false
   }
  },
  {
   "cell_type": "markdown",
   "source": [
    "## Q2. Minimum Swaps\n",
    "\n",
    "**Problem Description**\n",
    "\n",
    "Given an array of integers A and an integer B, find and return the minimum number of swaps required to bring all the numbers less than or equal to B together.\n",
    "Note: It is possible to swap any two elements, not necessarily consecutive.\n",
    "\n",
    "**Problem Constraints**\n",
    "\n",
    "1 <= length of the array <= 100000\n",
    "\n",
    "-109 <= A[i], B <= 10^9"
   ],
   "metadata": {
    "collapsed": false
   }
  },
  {
   "cell_type": "code",
   "execution_count": 20,
   "outputs": [],
   "source": [
    "def solve(A, B):\n",
    "\n",
    "    N = len(A)\n",
    "\n",
    "    K = 0\n",
    "    for n in A:\n",
    "        if n<=B:\n",
    "            K+=1\n",
    "    total=0\n",
    "\n",
    "    for i in range(0, K):\n",
    "        if A[i] > B:\n",
    "            total+=1\n",
    "\n",
    "    max_val = total\n",
    "    start = 1\n",
    "    end = K\n",
    "    while start<=N-K:\n",
    "        if A[start-1]>B:\n",
    "            total-=1\n",
    "        if A[end]>B:\n",
    "            total+=1\n",
    "        max_val = min(max_val, total)\n",
    "        start+=1\n",
    "        end+=1\n",
    "\n",
    "    return max_val"
   ],
   "metadata": {
    "collapsed": false
   }
  },
  {
   "cell_type": "code",
   "execution_count": 21,
   "outputs": [
    {
     "data": {
      "text/plain": "2"
     },
     "execution_count": 21,
     "metadata": {},
     "output_type": "execute_result"
    }
   ],
   "source": [
    "solve([1, 12, 10, 3, 14, 10, 5], 8)"
   ],
   "metadata": {
    "collapsed": false
   }
  },
  {
   "cell_type": "markdown",
   "source": [
    "## Q3. Spiral Order Matrix II\n",
    "\n",
    "**Problem Description**\n",
    "\n",
    "Given an integer A, generate a square matrix filled with elements from 1 to A2 in spiral order and return the generated square matrix.\n",
    "\n",
    "**Problem Constraints**\n",
    "\n",
    "1 <= A <= 1000"
   ],
   "metadata": {
    "collapsed": false
   }
  },
  {
   "cell_type": "code",
   "execution_count": 23,
   "outputs": [],
   "source": [
    "def generateMatrix(N):\n",
    "    val = 1\n",
    "\n",
    "    i, j = 0, 0\n",
    "\n",
    "    A = [[ 0 for col in range(0, N)] for row in range(0,N)]\n",
    "\n",
    "    while (N>1):\n",
    "        for _ in range(0, N-1):\n",
    "            A[i][j] = val\n",
    "            val+=1\n",
    "            j+=1\n",
    "\n",
    "        for _ in range(0, N-1):\n",
    "            A[i][j] = val\n",
    "            val+=1\n",
    "            i+=1\n",
    "\n",
    "        for _ in range(0, N-1):\n",
    "            A[i][j] = val\n",
    "            val+=1\n",
    "            j-=1\n",
    "\n",
    "        for _ in range(0, N-1):\n",
    "            A[i][j] = val\n",
    "            val+=1\n",
    "            i-=1\n",
    "        N = N-2\n",
    "        i+=1\n",
    "        j+=1\n",
    "    if N == 1:\n",
    "        A[i][j] = val\n",
    "    return A"
   ],
   "metadata": {
    "collapsed": false
   }
  },
  {
   "cell_type": "code",
   "execution_count": 25,
   "outputs": [
    {
     "data": {
      "text/plain": "[[1, 2, 3, 4, 5],\n [16, 17, 18, 19, 6],\n [15, 24, 25, 20, 7],\n [14, 23, 22, 21, 8],\n [13, 12, 11, 10, 9]]"
     },
     "execution_count": 25,
     "metadata": {},
     "output_type": "execute_result"
    }
   ],
   "source": [
    "generateMatrix(5)"
   ],
   "metadata": {
    "collapsed": false
   }
  },
  {
   "cell_type": "markdown",
   "source": [
    "---"
   ],
   "metadata": {
    "collapsed": false
   }
  }
 ],
 "metadata": {
  "kernelspec": {
   "display_name": "Python 3",
   "language": "python",
   "name": "python3"
  },
  "language_info": {
   "codemirror_mode": {
    "name": "ipython",
    "version": 2
   },
   "file_extension": ".py",
   "mimetype": "text/x-python",
   "name": "python",
   "nbconvert_exporter": "python",
   "pygments_lexer": "ipython2",
   "version": "2.7.6"
  }
 },
 "nbformat": 4,
 "nbformat_minor": 0
}
