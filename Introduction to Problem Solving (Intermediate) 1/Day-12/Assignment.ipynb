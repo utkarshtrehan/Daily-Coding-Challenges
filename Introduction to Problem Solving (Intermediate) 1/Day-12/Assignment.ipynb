{
 "cells": [
  {
   "cell_type": "markdown",
   "source": [
    "# Day 12 - Intermediate DSA: Arrays : Sliding Window"
   ],
   "metadata": {
    "collapsed": false
   }
  },
  {
   "cell_type": "markdown",
   "source": [
    "# Q1. Subarray with given sum and length\n",
    "\n",
    "**Problem Description**\n",
    "\n",
    "Given an array A of length N. Also given are integers B and C.\n",
    "Return 1 if there exists a subarray with length B having sum C and 0 otherwise\n",
    "\n",
    "**Problem Constraints**\n",
    "\n",
    "1 <= N <= 10^5\n",
    "\n",
    "1 <= A[i] <= 10^4\n",
    "\n",
    "1 <= B <= N\n",
    "\n",
    "1 <= C <= 10^9"
   ],
   "metadata": {
    "collapsed": false
   }
  },
  {
   "cell_type": "code",
   "execution_count": 64,
   "outputs": [],
   "source": [
    "def solve(A, B, C):\n",
    "\n",
    "    N = len(A)\n",
    "    sum = 0\n",
    "    for i in range(0, B):\n",
    "        sum+=A[i]\n",
    "    i = 1\n",
    "    j = B\n",
    "    while i<=N-B:\n",
    "        sum = sum - A[i-1] + A[j]\n",
    "        if sum == C:\n",
    "            return 1\n",
    "        i+=1\n",
    "        j+=1\n",
    "    return int(sum == C)"
   ],
   "metadata": {
    "collapsed": false
   }
  },
  {
   "cell_type": "code",
   "execution_count": 65,
   "outputs": [
    {
     "data": {
      "text/plain": "1"
     },
     "execution_count": 65,
     "metadata": {},
     "output_type": "execute_result"
    }
   ],
   "source": [
    "solve([6], 1, 6)"
   ],
   "metadata": {
    "collapsed": false
   }
  },
  {
   "cell_type": "code",
   "execution_count": 88,
   "outputs": [],
   "source": [
    "def solve(A, B):\n",
    "\n",
    "    N = len(A)\n",
    "\n",
    "    K = 0\n",
    "    for ele in A:\n",
    "        if ele <= B:\n",
    "            K+=1\n",
    "    # print(K)\n",
    "    start, end = 0, K\n",
    "    min_swap = float('Inf')\n",
    "\n",
    "    while start <= N-K:\n",
    "        count = 0\n",
    "        for ele in range(start, end):\n",
    "            # print(ele)\n",
    "            if A[ele] > B:\n",
    "                count+=1\n",
    "        if count < min_swap:\n",
    "            min_swap = count\n",
    "        start+=1\n",
    "        end+=1\n",
    "        # print('-------')\n",
    "\n",
    "    return min_swap"
   ],
   "metadata": {
    "collapsed": false
   }
  },
  {
   "cell_type": "code",
   "execution_count": 89,
   "outputs": [
    {
     "data": {
      "text/plain": "2"
     },
     "execution_count": 89,
     "metadata": {},
     "output_type": "execute_result"
    }
   ],
   "source": [
    "solve([1, 12, 10, 3, 14, 10, 5], 8)"
   ],
   "metadata": {
    "collapsed": false
   }
  },
  {
   "cell_type": "code",
   "execution_count": 116,
   "outputs": [],
   "source": [
    "def generateMatrix(N):\n",
    "    val = 1\n",
    "\n",
    "    i, j = 0, 0\n",
    "\n",
    "    A = [[ 0 for col in range(0, N)] for row in range(0,N)]\n",
    "    print(A)\n",
    "    while (N>1):\n",
    "        for _ in range(0, N-1):\n",
    "            A[i][j] = val**2\n",
    "            val+=1\n",
    "            j+=1\n",
    "\n",
    "        for _ in range(0, N-1):\n",
    "            A[i][j] = val**2\n",
    "            val+=1\n",
    "            i+=1\n",
    "\n",
    "        for _ in range(0, N-1):\n",
    "            A[i][j] = val**2\n",
    "            val+=1\n",
    "            j-=1\n",
    "\n",
    "        for _ in range(0, N-1):\n",
    "            A[i][j] = val**2\n",
    "            val+=1\n",
    "            i-=1\n",
    "        N = N-2\n",
    "        i+=1\n",
    "        j+=1\n",
    "        if N == 1:\n",
    "            print(\"Endnde\")\n",
    "            A[i][j] = val**2\n",
    "    return A"
   ],
   "metadata": {
    "collapsed": false
   }
  },
  {
   "cell_type": "code",
   "execution_count": 117,
   "outputs": [
    {
     "name": "stdout",
     "output_type": "stream",
     "text": [
      "[[0]]\n"
     ]
    },
    {
     "data": {
      "text/plain": "[[0]]"
     },
     "execution_count": 117,
     "metadata": {},
     "output_type": "execute_result"
    }
   ],
   "source": [
    "generateMatrix(1)"
   ],
   "metadata": {
    "collapsed": false
   }
  },
  {
   "cell_type": "code",
   "execution_count": 120,
   "outputs": [
    {
     "name": "stdout",
     "output_type": "stream",
     "text": [
      "3\n",
      "2\n",
      "1\n",
      "0\n"
     ]
    }
   ],
   "source": [
    "for d in range(4-1,-1,-1):\n",
    "    print(d)"
   ],
   "metadata": {
    "collapsed": false
   }
  },
  {
   "cell_type": "code",
   "execution_count": null,
   "outputs": [],
   "source": [],
   "metadata": {
    "collapsed": false
   }
  }
 ],
 "metadata": {
  "kernelspec": {
   "display_name": "Python 3",
   "language": "python",
   "name": "python3"
  },
  "language_info": {
   "codemirror_mode": {
    "name": "ipython",
    "version": 2
   },
   "file_extension": ".py",
   "mimetype": "text/x-python",
   "name": "python",
   "nbconvert_exporter": "python",
   "pygments_lexer": "ipython2",
   "version": "2.7.6"
  }
 },
 "nbformat": 4,
 "nbformat_minor": 0
}
