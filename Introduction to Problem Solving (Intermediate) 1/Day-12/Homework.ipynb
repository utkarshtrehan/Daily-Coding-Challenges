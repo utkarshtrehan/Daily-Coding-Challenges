{
 "cells": [
  {
   "cell_type": "markdown",
   "source": [
    "# Day 12 - Intermediate DSA: Arrays : Sliding Window"
   ],
   "metadata": {
    "collapsed": false
   }
  },
  {
   "cell_type": "markdown",
   "source": [
    "## Q1. Subarray with least average\n",
    "\n",
    "**Problem Description**\n",
    "Given an array of size N, find the subarray of size K with the least average.\n",
    "\n",
    "**Problem Constraints**\n",
    "1<=k<=N<=1e5\n",
    "-1e5<=A[i]<=1e5"
   ],
   "metadata": {
    "collapsed": false
   }
  },
  {
   "cell_type": "code",
   "execution_count": 1,
   "outputs": [],
   "source": [
    "def solve(A, K):\n",
    "    N = len(A)\n",
    "\n",
    "    total=0\n",
    "\n",
    "    for i in range(0, K):\n",
    "        total+=1\n",
    "    total=total\n",
    "\n",
    "    max_val = total\n",
    "    start = 1\n",
    "    end = K\n",
    "    ans = 0\n",
    "    while start<=N-K:\n",
    "        total-=A[start-1]\n",
    "        total+=A[end]\n",
    "        if total < max_val:\n",
    "            max_val = total\n",
    "            ans = start\n",
    "        start+=1\n",
    "        end+=1\n",
    "\n",
    "    return ans"
   ],
   "metadata": {
    "collapsed": false
   }
  },
  {
   "cell_type": "code",
   "execution_count": 2,
   "outputs": [
    {
     "data": {
      "text/plain": "3"
     },
     "execution_count": 2,
     "metadata": {},
     "output_type": "execute_result"
    }
   ],
   "source": [
    "solve([3, 7, 90, 20, 10, 50, 40], 3)"
   ],
   "metadata": {
    "collapsed": false
   }
  },
  {
   "cell_type": "markdown",
   "source": [
    "---"
   ],
   "metadata": {
    "collapsed": false
   }
  }
 ],
 "metadata": {
  "kernelspec": {
   "display_name": "Python 3",
   "language": "python",
   "name": "python3"
  },
  "language_info": {
   "codemirror_mode": {
    "name": "ipython",
    "version": 2
   },
   "file_extension": ".py",
   "mimetype": "text/x-python",
   "name": "python",
   "nbconvert_exporter": "python",
   "pygments_lexer": "ipython2",
   "version": "2.7.6"
  }
 },
 "nbformat": 4,
 "nbformat_minor": 0
}
