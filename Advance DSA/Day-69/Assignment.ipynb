{
 "cells": [
  {
   "cell_type": "markdown",
   "source": [
    "# Day 69 - Advanced DSA : Trees? 2: Views & TypesM"
   ],
   "metadata": {
    "collapsed": false
   }
  },
  {
   "cell_type": "code",
   "execution_count": 1,
   "metadata": {
    "collapsed": true,
    "ExecuteTime": {
     "end_time": "2023-07-07T20:03:32.209754Z",
     "start_time": "2023-07-07T20:03:32.206560Z"
    }
   },
   "outputs": [],
   "source": [
    "class TreeNode:\n",
    "    def __init__(self, x):\n",
    "        self.val = x\n",
    "        self.left = None\n",
    "        self.right = None"
   ]
  },
  {
   "cell_type": "code",
   "execution_count": 2,
   "outputs": [],
   "source": [
    "def get_binary_tree():\n",
    "    # Create the nodes\n",
    "    node3 = TreeNode(3)\n",
    "    node9 = TreeNode(9)\n",
    "    node20 = TreeNode(20)\n",
    "    node15 = TreeNode(15)\n",
    "    node7 = TreeNode(7)\n",
    "\n",
    "    # Set up the connections\n",
    "    node3.left = node9\n",
    "    node3.right = node20\n",
    "    node20.left = node15\n",
    "    node20.right = node7\n",
    "\n",
    "    # The binary tree is created.\n",
    "    return node3"
   ],
   "metadata": {
    "collapsed": false,
    "ExecuteTime": {
     "end_time": "2023-07-07T20:03:32.225431Z",
     "start_time": "2023-07-07T20:03:32.211176Z"
    }
   }
  },
  {
   "cell_type": "code",
   "execution_count": 23,
   "outputs": [],
   "source": [
    "def get_binary_tree_2():\n",
    "    # Create the nodes\n",
    "    node9 = TreeNode(9)\n",
    "    node6 = TreeNode(6)\n",
    "    node4 = TreeNode(4)\n",
    "    node2 = TreeNode(2)\n",
    "    node3 = TreeNode(3)\n",
    "    node8 = TreeNode(8)\n",
    "    node5 = TreeNode(5)\n",
    "    node11 = TreeNode(11)\n",
    "    node1 = TreeNode(1)\n",
    "\n",
    "    # Set up the connections\n",
    "    node9.left = node6\n",
    "    node9.right = node4\n",
    "    node4.right = node8\n",
    "    node6.left = node2\n",
    "    node6.right = node3\n",
    "    node2.right = node5\n",
    "    node3.right = node11\n",
    "    node11.right = node1\n",
    "\n",
    "    # The binary tree is created.\n",
    "    return node9"
   ],
   "metadata": {
    "collapsed": false,
    "ExecuteTime": {
     "end_time": "2023-07-07T21:59:52.064579Z",
     "start_time": "2023-07-07T21:59:52.062240Z"
    }
   }
  },
  {
   "cell_type": "markdown",
   "source": [
    "## Q1. Left View of Binary tree\n",
    "\n",
    "**Problem Description**\n",
    "\n",
    "Given a binary tree of integers denoted by root A. Return an array of integers representing the left view of the Binary tree.\n",
    "\n",
    "Left view of a Binary Tree is a set of nodes visible when the tree is visited from Left side.\n",
    "\n",
    "**Problem Constraints**\n",
    "\n",
    "1 <= Number of nodes in binary tree <= 100000\n",
    "0 <= node values <= 10^9"
   ],
   "metadata": {
    "collapsed": false
   }
  },
  {
   "cell_type": "code",
   "execution_count": 15,
   "outputs": [],
   "source": [
    "from collections import deque\n",
    "\n",
    "def helper(A, result):\n",
    "    d = deque([A, None])\n",
    "    # result.append(A.val)\n",
    "    flag = False\n",
    "    while len(d)>0:\n",
    "        x = d.popleft()\n",
    "        if x is None:\n",
    "            flag = True\n",
    "            if len(d) > 0:\n",
    "                d.append(None)\n",
    "            continue\n",
    "        else:\n",
    "            if flag:\n",
    "                result.append(x.val)\n",
    "                flag = False\n",
    "            if x.left:\n",
    "                d.append(x.left)\n",
    "            if x.right:\n",
    "                d.append(x.right)\n",
    "\n",
    "\n",
    "def levelOrder(A):\n",
    "    if A is None:\n",
    "        return []\n",
    "    result = [A.val]\n",
    "    helper(A, result)\n",
    "    return result\n"
   ],
   "metadata": {
    "collapsed": false,
    "ExecuteTime": {
     "end_time": "2023-07-07T20:08:07.999410Z",
     "start_time": "2023-07-07T20:08:07.995157Z"
    }
   }
  },
  {
   "cell_type": "code",
   "execution_count": 16,
   "outputs": [
    {
     "data": {
      "text/plain": "[3, 9, 15]"
     },
     "execution_count": 16,
     "metadata": {},
     "output_type": "execute_result"
    }
   ],
   "source": [
    "root = get_binary_tree()\n",
    "levelOrder(root)"
   ],
   "metadata": {
    "collapsed": false,
    "ExecuteTime": {
     "end_time": "2023-07-07T20:08:08.360560Z",
     "start_time": "2023-07-07T20:08:08.354758Z"
    }
   }
  },
  {
   "cell_type": "markdown",
   "source": [
    "## Q1. Right View of Binary tree\n",
    "\n",
    "**Problem Description**\n",
    "\n",
    "Given a binary tree of integers denoted by root A. Return an array of integers representing the right view of the Binary tree.\n",
    "\n",
    "Right view of a Binary Tree is a set of nodes visible when the tree is visited from Right side.\n",
    "\n",
    "**Problem Constraints**\n",
    "\n",
    "1 <= Number of nodes in binary tree <= 100000\n",
    "0 <= node values <= 10^9"
   ],
   "metadata": {
    "collapsed": false
   }
  },
  {
   "cell_type": "code",
   "execution_count": 19,
   "outputs": [],
   "source": [
    "from collections import deque\n",
    "\n",
    "def helper(A, result):\n",
    "    d = deque([A, None])\n",
    "    # result.append(A.val)\n",
    "    prev_ele = A.val\n",
    "    while len(d)>0:\n",
    "        x = d.popleft()\n",
    "        if x is None:\n",
    "            result.append(prev_ele.val)\n",
    "            flag = True\n",
    "            if len(d) > 0:\n",
    "                d.append(None)\n",
    "            continue\n",
    "        else:\n",
    "            if x.left:\n",
    "                d.append(x.left)\n",
    "            if x.right:\n",
    "                d.append(x.right)\n",
    "        prev_ele = x\n",
    "\n",
    "def levelOrder(A):\n",
    "    if A is None:\n",
    "        return []\n",
    "    result = []\n",
    "    helper(A, result)\n",
    "    return result"
   ],
   "metadata": {
    "collapsed": false,
    "ExecuteTime": {
     "end_time": "2023-07-07T20:13:30.668210Z",
     "start_time": "2023-07-07T20:13:30.665754Z"
    }
   }
  },
  {
   "cell_type": "code",
   "execution_count": 20,
   "outputs": [
    {
     "data": {
      "text/plain": "[3, 20, 7]"
     },
     "execution_count": 20,
     "metadata": {},
     "output_type": "execute_result"
    }
   ],
   "source": [
    "root = get_binary_tree()\n",
    "levelOrder(root)"
   ],
   "metadata": {
    "collapsed": false,
    "ExecuteTime": {
     "end_time": "2023-07-07T20:13:30.952925Z",
     "start_time": "2023-07-07T20:13:30.949782Z"
    }
   }
  },
  {
   "cell_type": "markdown",
   "source": [
    "## Q2. Vertical Order traversal\n",
    "\n",
    "**Problem Description**\n",
    "\n",
    "Given a binary tree, return a 2-D array with vertical order traversal of it. Go through the example and image for more details.\n",
    "\n",
    "NOTE: If 2 Tree Nodes shares the same vertical level then the one with lesser depth will come first.\n",
    "\n",
    "**Problem Constraints**\n",
    "\n",
    "0 <= number of nodes <= 10^5"
   ],
   "metadata": {
    "collapsed": false
   }
  },
  {
   "cell_type": "code",
   "execution_count": 64,
   "outputs": [],
   "source": [
    "from collections import deque\n",
    "\n",
    "def verticalOrderTraversal(A):\n",
    "    results = []\n",
    "    hm = {}\n",
    "    dq = deque([(A,0)])\n",
    "    min_level = float('Inf')\n",
    "    max_level = float('-Inf')\n",
    "    while dq:\n",
    "        node, level = dq.popleft()\n",
    "        if level not in hm:\n",
    "            hm[level] = [node.val]\n",
    "        else:\n",
    "            hm[level].append(node.val)\n",
    "        if node.left:\n",
    "            dq.append((node.left, level-1))\n",
    "        if node.right:\n",
    "            dq.append((node.right, level+1))\n",
    "\n",
    "        min_level = min(min_level, level)\n",
    "        max_level = max(max_level, level)\n",
    "\n",
    "    for i in range(min_level, max_level+1):\n",
    "        results.append(hm[i])\n",
    "\n",
    "    return results"
   ],
   "metadata": {
    "collapsed": false,
    "ExecuteTime": {
     "end_time": "2023-07-07T23:05:24.372134Z",
     "start_time": "2023-07-07T23:05:24.367483Z"
    }
   }
  },
  {
   "cell_type": "code",
   "execution_count": 65,
   "outputs": [
    {
     "data": {
      "text/plain": "[[2], [6, 5], [9, 3], [4, 11], [8, 1]]"
     },
     "execution_count": 65,
     "metadata": {},
     "output_type": "execute_result"
    }
   ],
   "source": [
    "root = get_binary_tree_2()\n",
    "verticalOrderTraversal(root)"
   ],
   "metadata": {
    "collapsed": false,
    "ExecuteTime": {
     "end_time": "2023-07-07T23:05:24.712792Z",
     "start_time": "2023-07-07T23:05:24.705614Z"
    }
   }
  },
  {
   "cell_type": "code",
   "execution_count": null,
   "outputs": [],
   "source": [],
   "metadata": {
    "collapsed": false
   }
  }
 ],
 "metadata": {
  "kernelspec": {
   "display_name": "Python 3",
   "language": "python",
   "name": "python3"
  },
  "language_info": {
   "codemirror_mode": {
    "name": "ipython",
    "version": 2
   },
   "file_extension": ".py",
   "mimetype": "text/x-python",
   "name": "python",
   "nbconvert_exporter": "python",
   "pygments_lexer": "ipython2",
   "version": "2.7.6"
  }
 },
 "nbformat": 4,
 "nbformat_minor": 0
}
