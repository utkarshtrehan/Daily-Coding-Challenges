{
 "cells": [
  {
   "cell_type": "markdown",
   "source": [
    "# Day 34 - Advanced DSA : Arrays 1: One Dimensional"
   ],
   "metadata": {
    "collapsed": false
   },
   "execution_count": 1
  },
  {
   "cell_type": "markdown",
   "source": [
    "## Q1. Add One To Number\n",
    "\n",
    "**Problem Description**\n",
    "Given a non-negative number represented as an array of digits, add 1 to the number ( increment the number represented by the digits ).\n",
    "\n",
    "The digits are stored such that the most significant digit is at the head of the list.\n",
    "\n",
    "NOTE: Certain things are intentionally left unclear in this question which you should practice asking the interviewer. For example: for this problem, the following are some good questions to ask :\n",
    "\n",
    "Q: Can the input have 0's before the most significant digit. Or, in other words, is 0 1 2 3 a valid input?\n",
    "A: For the purpose of this question, YES\n",
    "Q: Can the output have 0's before the most significant digit? Or, in other words, is 0 1 2 4 a valid output?\n",
    "A: For the purpose of this question, NO. Even if the input has zeroes before the most significant digit.\n",
    "\n",
    "\n",
    "**Problem Constraints**\n",
    "1 <= size of the array <= 1000000"
   ],
   "metadata": {
    "collapsed": false
   }
  },
  {
   "cell_type": "code",
   "execution_count": 69,
   "outputs": [],
   "source": [
    "def plusOne(digits):\n",
    "    n = len(digits)\n",
    "    carry = 1\n",
    "\n",
    "    for i in range(n - 1, -1, -1):\n",
    "        digits[i] += carry\n",
    "        if digits[i] == 10:\n",
    "            digits[i] = 0\n",
    "            carry = 1\n",
    "        else:\n",
    "            carry = 0\n",
    "\n",
    "    if carry:\n",
    "        digits.insert(0, 1)\n",
    "\n",
    "    # Remove leading zeroes\n",
    "    while len(digits) > 1 and digits[0] == 0:\n",
    "        digits.pop(0)\n",
    "\n",
    "    return digits"
   ],
   "metadata": {
    "collapsed": false
   }
  },
  {
   "cell_type": "code",
   "execution_count": 70,
   "outputs": [
    {
     "data": {
      "text/plain": "[1, 0, 0, 0, 0, 0]"
     },
     "execution_count": 70,
     "metadata": {},
     "output_type": "execute_result"
    }
   ],
   "source": [
    "plusOne([0,9,9,9,9,9])"
   ],
   "metadata": {
    "collapsed": false
   }
  },
  {
   "cell_type": "markdown",
   "source": [
    "## Q2. Flip\n",
    "\n",
    "**Problem Description**\n",
    "You are given a binary string A(i.e., with characters 0 and 1) consisting of characters A1, A2, ..., AN. In a single operation, you can choose two indices, L and R, such that 1 ≤ L ≤ R ≤ N and flip the characters AL, AL+1, ..., AR. By flipping, we mean changing character 0 to 1 and vice-versa.\n",
    "\n",
    "Your aim is to perform ATMOST one operation such that in the final string number of 1s is maximized.\n",
    "\n",
    "If you don't want to perform the operation, return an empty array. Else, return an array consisting of two elements denoting L and R. If there are multiple solutions, return the lexicographically smallest pair of L and R.\n",
    "\n",
    "NOTE: Pair (a, b) is lexicographically smaller than pair (c, d) if a < c or, if a == c and b < d.\n",
    "\n",
    "\n",
    "\n",
    "**Problem Constraints**\n",
    "1 <= size of string <= 100000"
   ],
   "metadata": {
    "collapsed": false
   }
  },
  {
   "cell_type": "code",
   "execution_count": 107,
   "outputs": [],
   "source": [
    "def flip(A):\n",
    "    N = len(A)\n",
    "    a = [1 if ele=='0' else -1 for ele in A]\n",
    "    sum = 0\n",
    "    max_ = 0\n",
    "    left = 0\n",
    "    right = -1\n",
    "    idx=0\n",
    "    for i in range(0, N):\n",
    "        sum+=a[i]\n",
    "\n",
    "        if sum>max_:\n",
    "            max_ = sum\n",
    "            left = idx\n",
    "            right = i\n",
    "\n",
    "        if sum<0:\n",
    "            sum=0\n",
    "            idx=i+1\n",
    "    print(max_)\n",
    "    if right!=-1:\n",
    "        return [left+1, right+1]\n",
    "    return []"
   ],
   "metadata": {
    "collapsed": false
   }
  },
  {
   "cell_type": "code",
   "execution_count": 110,
   "outputs": [
    {
     "name": "stdout",
     "output_type": "stream",
     "text": [
      "1\n"
     ]
    },
    {
     "data": {
      "text/plain": "[1, 1]"
     },
     "execution_count": 110,
     "metadata": {},
     "output_type": "execute_result"
    }
   ],
   "source": [
    "flip(\"010\")"
   ],
   "metadata": {
    "collapsed": false
   }
  },
  {
   "cell_type": "code",
   "execution_count": 173,
   "outputs": [],
   "source": [
    "def solve(A, B):\n",
    "    N=len(A)\n",
    "    # Count of elements less then B\n",
    "    X=0\n",
    "    for ele in A:\n",
    "        if ele<=B:\n",
    "            X+=1\n",
    "    total=0\n",
    "    for i in range(0,X):\n",
    "        if A[i]>B:\n",
    "            total+=1\n",
    "\n",
    "    end=X\n",
    "    max_ = total\n",
    "    for start in range(1, N-X+1):\n",
    "        # print(f'start: {start}, end: {end} ')\n",
    "        if A[start-1]>B:\n",
    "            total-=1\n",
    "        if A[end]>B:\n",
    "            total+=1\n",
    "        max_= min(max_, total)\n",
    "        end+=1\n",
    "\n",
    "    return max_"
   ],
   "metadata": {
    "collapsed": false
   }
  },
  {
   "cell_type": "code",
   "execution_count": 174,
   "outputs": [
    {
     "data": {
      "text/plain": "7"
     },
     "execution_count": 174,
     "metadata": {},
     "output_type": "execute_result"
    }
   ],
   "source": [
    "A = [ 52, 7, 93, 47, 68, 26, 51, 44, 5, 41, 88, 19, 78, 38, 17, 13, 24, 74, 92, 5, 84, 27, 48, 49, 37, 59, 3, 56, 79, 26, 55, 60, 16, 83, 63, 40, 55, 9, 96, 29, 7, 22, 27, 74, 78, 38, 11, 65, 29, 52, 36, 21, 94, 46, 52, 47, 87, 33, 87, 70 ]\n",
    "B = 19\n",
    "# A = [5, 17, 100, 11]\n",
    "# B = 20\n",
    "solve(A,B)"
   ],
   "metadata": {
    "collapsed": false
   }
  },
  {
   "cell_type": "code",
   "execution_count": null,
   "outputs": [],
   "source": [],
   "metadata": {
    "collapsed": false
   }
  }
 ],
 "metadata": {
  "kernelspec": {
   "display_name": "Python 3",
   "language": "python",
   "name": "python3"
  },
  "language_info": {
   "codemirror_mode": {
    "name": "ipython",
    "version": 2
   },
   "file_extension": ".py",
   "mimetype": "text/x-python",
   "name": "python",
   "nbconvert_exporter": "python",
   "pygments_lexer": "ipython2",
   "version": "2.7.6"
  }
 },
 "nbformat": 4,
 "nbformat_minor": 0
}
