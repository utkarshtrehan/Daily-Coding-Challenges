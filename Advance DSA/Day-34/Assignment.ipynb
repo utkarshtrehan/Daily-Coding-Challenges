{
 "cells": [
  {
   "cell_type": "markdown",
   "source": [
    "# Day 34 - Advanced DSA : Arrays 1: One Dimensional"
   ],
   "metadata": {
    "collapsed": false
   }
  },
  {
   "cell_type": "markdown",
   "source": [
    "## Q1. Max Sum Contiguous Subarray\n",
    "\n",
    "**Problem Description**\n",
    "\n",
    "Find the contiguous non-empty subarray within an array, A of length N, with the largest sum.\n",
    "\n",
    "**Problem Constraints**\n",
    "\n",
    "1 <= N <= 1e6\n",
    "-1000 <= A[i] <= 1000"
   ],
   "metadata": {
    "collapsed": false
   }
  },
  {
   "cell_type": "code",
   "execution_count": 2,
   "outputs": [],
   "source": [
    "def maxSubArray(A):\n",
    "    N = len(A)\n",
    "    total = 0\n",
    "    ans = float('-Inf')\n",
    "    for i in range(0, N):\n",
    "        total = total + A[i]\n",
    "        ans = max(total, ans)\n",
    "        if total < 0:\n",
    "            total = 0\n",
    "    return ans"
   ],
   "metadata": {
    "collapsed": false
   }
  },
  {
   "cell_type": "code",
   "execution_count": 3,
   "outputs": [
    {
     "data": {
      "text/plain": "6"
     },
     "execution_count": 3,
     "metadata": {},
     "output_type": "execute_result"
    }
   ],
   "source": [
    " A = [-2, 1, -3, 4, -1, 2, 1, -5, 4]\n",
    "#  The subarray [4,-1,2,1] has the maximum possible sum of 6.\n",
    "maxSubArray(A)"
   ],
   "metadata": {
    "collapsed": false
   }
  },
  {
   "cell_type": "code",
   "execution_count": null,
   "outputs": [],
   "source": [
    "def maxSubArray(A):\n",
    "    N = len(A)\n",
    "    total = 0\n",
    "    ans = float('-Inf')\n",
    "    start = 0\n",
    "    end = 0\n",
    "    for i in range(0, N):\n",
    "        total = total + A[i]\n",
    "        ans = max(total, ans)\n",
    "        if total < 0:\n",
    "            start = i+1\n",
    "            total = 0\n",
    "    return ans"
   ],
   "metadata": {
    "collapsed": false
   }
  }
 ],
 "metadata": {
  "kernelspec": {
   "display_name": "Python 3",
   "language": "python",
   "name": "python3"
  },
  "language_info": {
   "codemirror_mode": {
    "name": "ipython",
    "version": 2
   },
   "file_extension": ".py",
   "mimetype": "text/x-python",
   "name": "python",
   "nbconvert_exporter": "python",
   "pygments_lexer": "ipython2",
   "version": "2.7.6"
  }
 },
 "nbformat": 4,
 "nbformat_minor": 0
}
