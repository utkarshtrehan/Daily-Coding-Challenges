{
 "cells": [
  {
   "cell_type": "markdown",
   "source": [
    "# Day 34 - Advanced DSA : Arrays 1: One Dimensional"
   ],
   "metadata": {
    "collapsed": false
   }
  },
  {
   "cell_type": "markdown",
   "source": [
    "## Q1. Max Sum Contiguous Subarray\n",
    "\n",
    "**Problem Description**\n",
    "\n",
    "Find the contiguous non-empty subarray within an array, A of length N, with the largest sum.\n",
    "\n",
    "**Problem Constraints**\n",
    "\n",
    "1 <= N <= 1e6\n",
    "-1000 <= A[i] <= 1000"
   ],
   "metadata": {
    "collapsed": false
   }
  },
  {
   "cell_type": "code",
   "execution_count": 2,
   "outputs": [],
   "source": [
    "def maxSubArray(A):\n",
    "    N = len(A)\n",
    "    total = 0\n",
    "    ans = float('-Inf')\n",
    "    for i in range(0, N):\n",
    "        total = total + A[i]\n",
    "        ans = max(total, ans)\n",
    "        if total < 0:\n",
    "            total = 0\n",
    "    return ans"
   ],
   "metadata": {
    "collapsed": false
   }
  },
  {
   "cell_type": "code",
   "execution_count": 3,
   "outputs": [
    {
     "data": {
      "text/plain": "6"
     },
     "execution_count": 3,
     "metadata": {},
     "output_type": "execute_result"
    }
   ],
   "source": [
    " A = [-2, 1, -3, 4, -1, 2, 1, -5, 4]\n",
    "#  The subarray [4,-1,2,1] has the maximum possible sum of 6.\n",
    "maxSubArray(A)"
   ],
   "metadata": {
    "collapsed": false
   }
  },
  {
   "cell_type": "code",
   "execution_count": 33,
   "outputs": [],
   "source": [
    "def maxSubArray(A):\n",
    "    N = len(A)\n",
    "    total = 0\n",
    "    ans = float('-Inf')\n",
    "    a = []\n",
    "    b = []\n",
    "    start = 0\n",
    "    end = 0\n",
    "    for i in range(0, N):\n",
    "        total = total + A[i]\n",
    "        if total>ans:\n",
    "            ans = total\n",
    "            end = i\n",
    "        if total < 0:\n",
    "            total = 0\n",
    "        a.append(total)\n",
    "        b.append(ans)\n",
    "    return ans, end"
   ],
   "metadata": {
    "collapsed": false
   }
  },
  {
   "cell_type": "code",
   "execution_count": 34,
   "outputs": [
    {
     "data": {
      "text/plain": "(6, 6)"
     },
     "execution_count": 34,
     "metadata": {},
     "output_type": "execute_result"
    }
   ],
   "source": [
    " A = [-2, 1, -3, 4, -1, 2, 1, -5, 4, -9, 2]\n",
    "#  The subarray [4,-1,2,1] -> [3,6] has the maximum possible sum of 6.\n",
    "# [ 0,  1,  2, 3,  4, 5, 6,  7, 8, 9, 10] # index\n",
    "# [-2,  1, -3, 4, -1, 2, 1, -5, 4,-9, 2] # A\n",
    "# [ 0,  1,  0, 4,  3, 5, 6,  1, 5, 0, 2] # total\n",
    "# [-2,  1,  1, 4,  4, 5, 6,  6, 6, 6, 6] # ans\n",
    "maxSubArray(A)"
   ],
   "metadata": {
    "collapsed": false
   }
  },
  {
   "cell_type": "code",
   "execution_count": 6,
   "outputs": [],
   "source": [
    "A = 5\n",
    "B = [[1, 2, 10], [2, 3, 20], [2, 5, 25]]"
   ],
   "metadata": {
    "collapsed": false
   }
  },
  {
   "cell_type": "code",
   "execution_count": 19,
   "outputs": [],
   "source": [
    "def solve(A,B):\n",
    "    temp = [0]*A\n",
    "    for l,r,p in B:\n",
    "        print(f'l:{l}, r:{r}, p:{p}')\n",
    "        temp[l-1]+=p\n",
    "        if r<A:\n",
    "            temp[r]-=p\n",
    "\n",
    "    for i in range(1, A):\n",
    "        temp[i]+=temp[i-1]\n",
    "    print(temp)"
   ],
   "metadata": {
    "collapsed": false
   }
  },
  {
   "cell_type": "code",
   "execution_count": 20,
   "outputs": [
    {
     "name": "stdout",
     "output_type": "stream",
     "text": [
      "l:1, r:2, p:10\n",
      "l:2, r:3, p:20\n",
      "l:2, r:5, p:25\n",
      "[10, 55, 45, 25, 25]\n"
     ]
    }
   ],
   "source": [
    "solve(A, B)"
   ],
   "metadata": {
    "collapsed": false
   }
  },
  {
   "cell_type": "code",
   "execution_count": null,
   "outputs": [],
   "source": [],
   "metadata": {
    "collapsed": false
   }
  }
 ],
 "metadata": {
  "kernelspec": {
   "display_name": "Python 3",
   "language": "python",
   "name": "python3"
  },
  "language_info": {
   "codemirror_mode": {
    "name": "ipython",
    "version": 2
   },
   "file_extension": ".py",
   "mimetype": "text/x-python",
   "name": "python",
   "nbconvert_exporter": "python",
   "pygments_lexer": "ipython2",
   "version": "2.7.6"
  }
 },
 "nbformat": 4,
 "nbformat_minor": 0
}
