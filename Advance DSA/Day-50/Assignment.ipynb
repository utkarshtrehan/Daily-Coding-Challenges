{
 "cells": [
  {
   "cell_type": "markdown",
   "source": [
    "# Day 50 - Advanced DSA : Sorting 3: Radix Sort & Problems"
   ],
   "metadata": {
    "collapsed": false
   }
  },
  {
   "cell_type": "markdown",
   "source": [
    "## Q1. Sum the Difference\n",
    "\n",
    "**Problem Description**\n",
    "\n",
    "Given an integer array, A of size N.\n",
    "You have to find all possible non-empty subsequences of the array of numbers and then,\n",
    "for each subsequence, find the difference between the largest and smallest number in that subsequence.\n",
    "Then add up all the differences to get the number.\n",
    "As the number may be large, output the number modulo 1e9 + 7 (1000000007).\n",
    "NOTE: Subsequence can be non-contiguous.\n",
    "\n",
    "**Problem Constraints**\n",
    "\n",
    "1 <= N <= 10000\n",
    "1<= A[i] <=1000"
   ],
   "metadata": {
    "collapsed": false
   }
  },
  {
   "cell_type": "code",
   "execution_count": 17,
   "outputs": [],
   "source": [
    "def solve(A):\n",
    "    A.sort()\n",
    "    # print(f'Sorted input: {A}')\n",
    "    N = len(A)\n",
    "    max = 0\n",
    "    min = 0\n",
    "    ans = 0\n",
    "    for i in range(0, N, 1):\n",
    "        max+=A[i]*(2**(i))\n",
    "        min+=A[i]*(2**(N-1-i))\n",
    "    # print(f'Max: {max}, Min: {min}')\n",
    "    ans = max-min\n",
    "    return ans"
   ],
   "metadata": {
    "collapsed": false,
    "ExecuteTime": {
     "end_time": "2023-06-04T09:10:20.715808Z",
     "start_time": "2023-06-04T09:10:20.712386Z"
    }
   }
  },
  {
   "cell_type": "code",
   "execution_count": 18,
   "outputs": [
    {
     "data": {
      "text/plain": "21"
     },
     "execution_count": 18,
     "metadata": {},
     "output_type": "execute_result"
    }
   ],
   "source": [
    "solve([3,1,-4])"
   ],
   "metadata": {
    "collapsed": false,
    "ExecuteTime": {
     "end_time": "2023-06-04T09:10:21.686399Z",
     "start_time": "2023-06-04T09:10:21.680819Z"
    }
   }
  },
  {
   "cell_type": "markdown",
   "source": [
    "## Q2. Maximum Unsorted Subarray\n",
    "\n",
    "**Problem Description**\n",
    "\n",
    "Given an array A of non-negative integers of size N. Find the minimum sub-array Al, Al+1 ,..., Ar such that if we sort(in ascending order) that sub-array, then the whole array should get sorted. If A is already sorted, output -1.\n",
    "Note :\n",
    "Follow 0-based indexing, while returning the sub-array's starting and ending indexes.\n",
    "\n",
    "**Problem Constraints**\n",
    "\n",
    "1 <= N <= 1000000\n",
    "1 <= A[i] <= 1000000"
   ],
   "metadata": {
    "collapsed": false
   }
  },
  {
   "cell_type": "code",
   "execution_count": null,
   "outputs": [],
   "source": [
    " def subUnsort(A):\n",
    "    start = -1; end = -1\n",
    "    max_so_far = -math.inf\n",
    "    for i in range(0, len(A), 1):\n",
    "        if max_so_far > A[i]:\n",
    "            if start == -1:\n",
    "                start = i - 1\n",
    "            while start -1 >= 0 and A[start-1] > A[i] :\n",
    "                start -= 1\n",
    "            end = i+1\n",
    "        else:\n",
    "            max_so_far = A[i]\n",
    "    if end == -1:\n",
    "        return [-1]\n",
    "    return [start, end -1]"
   ],
   "metadata": {
    "collapsed": false
   }
  },
  {
   "cell_type": "markdown",
   "source": [
    "## Q3. B Closest Points to Origin\n",
    "\n",
    "**Problem Description**\n",
    "\n",
    "We have a list A of points (x, y) on the plane. Find the B closest points to the origin (0, 0).\n",
    "\n",
    "Here, the distance between two points on a plane is the Euclidean distance.\n",
    "You may return the answer in any order. The answer is guaranteed to be unique (except for the order that it is in.)\n",
    "\n",
    "NOTE: Euclidean distance between two points P1(x1, y1) and P2(x2, y2) is sqrt( (x1-x2)2 + (y1-y2)2 ).\n",
    "\n",
    "\n",
    "\n",
    "**Problem Constraints**\n",
    "1 <= B <= length of the list A <= 105\n",
    "-105 <= A[i][0] <= 10^5\n",
    "-105 <= A[i][1] <= 10^5"
   ],
   "metadata": {
    "collapsed": false
   }
  },
  {
   "cell_type": "code",
   "execution_count": 15,
   "outputs": [],
   "source": [
    "import math\n",
    "def solve(A, B):\n",
    "    A = sorted(A, key = lambda a: math.pow(a[0],2)+math.pow(a[1],2))\n",
    "    return A[:B]"
   ],
   "metadata": {
    "collapsed": false,
    "ExecuteTime": {
     "end_time": "2023-05-29T13:35:01.011454Z",
     "start_time": "2023-05-29T13:35:01.008764Z"
    }
   }
  },
  {
   "cell_type": "code",
   "execution_count": 16,
   "outputs": [
    {
     "data": {
      "text/plain": "[[-2, 2]]"
     },
     "execution_count": 16,
     "metadata": {},
     "output_type": "execute_result"
    }
   ],
   "source": [
    "A = [[1, 3],\n",
    "     [-2, 2]]\n",
    "B = 1\n",
    "solve(A, B)"
   ],
   "metadata": {
    "collapsed": false,
    "ExecuteTime": {
     "end_time": "2023-05-29T13:35:01.277982Z",
     "start_time": "2023-05-29T13:35:01.269795Z"
    }
   }
  },
  {
   "cell_type": "markdown",
   "source": [
    "## Q4. Count Sort\n",
    "\n",
    "**Problem Description**\n",
    "Given an array A. Sort this array using Count Sort Algorithm and return the sorted array.\n",
    "\n",
    "\n",
    "**Problem Constraints**\n",
    "1 <= |A| <= 10^5\n",
    "1 <= A[i] <= 10^5"
   ],
   "metadata": {
    "collapsed": false
   }
  },
  {
   "cell_type": "code",
   "execution_count": 17,
   "metadata": {
    "collapsed": true,
    "ExecuteTime": {
     "end_time": "2023-05-29T13:35:03.527088Z",
     "start_time": "2023-05-29T13:35:03.521138Z"
    }
   },
   "outputs": [],
   "source": [
    "def solve(A):\n",
    "    arr = [0]*((10**5)+1)\n",
    "\n",
    "    for n in A:\n",
    "        arr[n]+=1\n",
    "\n",
    "    ans = []\n",
    "    for i in range(1, len(arr)):\n",
    "        ans.extend([i]*arr[i])\n",
    "\n",
    "    return ans"
   ]
  },
  {
   "cell_type": "code",
   "execution_count": 18,
   "outputs": [
    {
     "data": {
      "text/plain": "[1, 1, 3]"
     },
     "execution_count": 18,
     "metadata": {},
     "output_type": "execute_result"
    }
   ],
   "source": [
    "A = [1, 3, 1]\n",
    "solve(A)"
   ],
   "metadata": {
    "collapsed": false,
    "ExecuteTime": {
     "end_time": "2023-05-29T13:35:04.174744Z",
     "start_time": "2023-05-29T13:35:04.170943Z"
    }
   }
  },
  {
   "cell_type": "markdown",
   "source": [
    "---"
   ],
   "metadata": {
    "collapsed": false
   }
  }
 ],
 "metadata": {
  "kernelspec": {
   "display_name": "Python 3",
   "language": "python",
   "name": "python3"
  },
  "language_info": {
   "codemirror_mode": {
    "name": "ipython",
    "version": 2
   },
   "file_extension": ".py",
   "mimetype": "text/x-python",
   "name": "python",
   "nbconvert_exporter": "python",
   "pygments_lexer": "ipython2",
   "version": "2.7.6"
  }
 },
 "nbformat": 4,
 "nbformat_minor": 0
}
