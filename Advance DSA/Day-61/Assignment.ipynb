{
 "cells": [
  {
   "cell_type": "markdown",
   "source": [
    "# Day 61 - Advanced DSA : Linked List 2: Sorting and Detecting Loop"
   ],
   "metadata": {
    "collapsed": false
   }
  },
  {
   "cell_type": "code",
   "execution_count": 6,
   "outputs": [
    {
     "name": "stdout",
     "output_type": "stream",
     "text": [
      "0\n",
      "1\n",
      "2\n",
      "3\n",
      "4\n",
      "5\n"
     ]
    }
   ],
   "source": [
    "class ListNode:\n",
    "    def __init__(self, x):\n",
    "        self.val = x\n",
    "        self.next = None\n",
    "\n",
    "# Function to create a linked list\n",
    "def createLinkedList(values):\n",
    "    if not values:\n",
    "        return None\n",
    "\n",
    "    # Create the first node\n",
    "    head = ListNode(values[0])\n",
    "    current = head\n",
    "\n",
    "    # Create the remaining nodes\n",
    "    for val in values[1:]:\n",
    "        new_node = ListNode(val)\n",
    "        current.next = new_node\n",
    "        current = new_node\n",
    "\n",
    "    return head\n",
    "\n",
    "def print_ll(head):\n",
    "    current = head\n",
    "    while current:\n",
    "        print(current.val)\n",
    "        current = current.next\n",
    "\n",
    "# Example usage\n",
    "values = [0, 1, 2, 3, 4, 5]\n",
    "linked_list = createLinkedList(values)\n",
    "empty_linked_list = createLinkedList([])\n",
    "# Printing the values of the linked list\n",
    "print_ll(linked_list)"
   ],
   "metadata": {
    "collapsed": false,
    "ExecuteTime": {
     "end_time": "2023-06-21T20:35:30.331632Z",
     "start_time": "2023-06-21T20:35:30.326915Z"
    }
   }
  },
  {
   "cell_type": "markdown",
   "source": [
    "## Q2. Middle element of linked list\n",
    "\n",
    "**Problem Description**\n",
    "\n",
    "Given a linked list of integers, find and return the middle element of the linked list.\n",
    "NOTE: If there are N nodes in the linked list and N is even then return the (N/2 + 1) element.\n",
    "\n",
    "\n",
    "\n",
    "**Problem Constraints**\n",
    "\n",
    "1 <= length of the linked list <= 100000\n",
    "\n",
    "1 <= Node value <= 10^9"
   ],
   "metadata": {
    "collapsed": false
   }
  },
  {
   "cell_type": "code",
   "execution_count": 25,
   "outputs": [],
   "source": [
    "def solve(A):\n",
    "\n",
    "    slow = fast = A\n",
    "\n",
    "    while fast!=None and fast.next!=None: # Even and Odd\n",
    "        slow = slow.next\n",
    "        fast = fast.next.next\n",
    "\n",
    "    return slow.val"
   ],
   "metadata": {
    "collapsed": false,
    "ExecuteTime": {
     "end_time": "2023-06-21T20:48:45.619171Z",
     "start_time": "2023-06-21T20:48:45.616182Z"
    }
   }
  },
  {
   "cell_type": "code",
   "execution_count": 26,
   "outputs": [
    {
     "data": {
      "text/plain": "4"
     },
     "execution_count": 26,
     "metadata": {},
     "output_type": "execute_result"
    }
   ],
   "source": [
    "# Odd\n",
    "solve(createLinkedList([1, 2, 3, 4, 5, 6, 7]))"
   ],
   "metadata": {
    "collapsed": false,
    "ExecuteTime": {
     "end_time": "2023-06-21T20:48:45.950533Z",
     "start_time": "2023-06-21T20:48:45.944460Z"
    }
   }
  },
  {
   "cell_type": "code",
   "execution_count": 27,
   "outputs": [
    {
     "data": {
      "text/plain": "4"
     },
     "execution_count": 27,
     "metadata": {},
     "output_type": "execute_result"
    }
   ],
   "source": [
    "# Even\n",
    "solve(createLinkedList([1, 2, 3, 4, 5, 6]))"
   ],
   "metadata": {
    "collapsed": false,
    "ExecuteTime": {
     "end_time": "2023-06-21T20:48:46.294503Z",
     "start_time": "2023-06-21T20:48:46.290445Z"
    }
   }
  },
  {
   "cell_type": "markdown",
   "source": [
    "## Q3. Merge Two Sorted Lists\n",
    "\n",
    "**Problem Description**\n",
    "\n",
    "Merge two sorted linked lists, A and B, and return it as a new list.\n",
    "The new list should be made by splicing together the nodes of the first two lists and should also be sorted.\n",
    "\n",
    "\n",
    "\n",
    "**Problem Constraints**\n",
    "\n",
    "0 <= |A|, |B| <= 105"
   ],
   "metadata": {
    "collapsed": false
   }
  },
  {
   "cell_type": "code",
   "execution_count": 10,
   "outputs": [],
   "source": [
    "def mergeTwoLists(A, B):\n",
    "    tempA = A\n",
    "    tempB = B\n",
    "    head = ListNode(-1)\n",
    "    tail = head\n",
    "    while tempA!=None and tempB!=None:\n",
    "        if tempA.val <= tempB.val:\n",
    "            tail.next = tempA\n",
    "            tail = tail.next\n",
    "            tempA  = tempA.next\n",
    "        else:\n",
    "            tail.next = tempB\n",
    "            tail = tail.next\n",
    "            tempB  = tempB.next\n",
    "    if tempA:\n",
    "        tail.next = tempA\n",
    "    if tempB:\n",
    "        tail.next = tempB\n",
    "\n",
    "    return head.next"
   ],
   "metadata": {
    "collapsed": false,
    "ExecuteTime": {
     "end_time": "2023-06-21T20:35:33.232106Z",
     "start_time": "2023-06-21T20:35:33.223436Z"
    }
   }
  },
  {
   "cell_type": "code",
   "execution_count": 11,
   "outputs": [
    {
     "name": "stdout",
     "output_type": "stream",
     "text": [
      "4\n",
      "5\n",
      "8\n",
      "11\n",
      "15\n",
      "20\n",
      "25\n"
     ]
    }
   ],
   "source": [
    "A = createLinkedList([5, 8, 20, 25])\n",
    "B = createLinkedList([4, 11, 15])\n",
    "head = mergeTwoLists(A, B)\n",
    "\n",
    "print_ll(head)"
   ],
   "metadata": {
    "collapsed": false,
    "ExecuteTime": {
     "end_time": "2023-06-21T20:35:33.518405Z",
     "start_time": "2023-06-21T20:35:33.512315Z"
    }
   }
  },
  {
   "cell_type": "markdown",
   "source": [
    "## Q4. Sort List\n",
    "\n",
    "**Problem Description**\n",
    "\n",
    "Sort a linked list, A in O(n log n) time.\n",
    "\n",
    "**Problem Constraints**\n",
    "\n",
    "0 <= |A| = 105"
   ],
   "metadata": {
    "collapsed": false
   }
  },
  {
   "cell_type": "code",
   "execution_count": 23,
   "outputs": [],
   "source": [
    "class ListNode:\n",
    "    def __init__(self, x):\n",
    "        self.val = x\n",
    "        self.next = None\n",
    "\n",
    "#\n",
    "# def calc_mid(A):\n",
    "#     slow = fast = A\n",
    "#     while fast and fast.next:\n",
    "#         slow = slow.next\n",
    "#         fast = fast.next.next\n",
    "#     return slow\n",
    "\n",
    "def calc_mid(head):\n",
    "    if not head:\n",
    "        return head\n",
    "\n",
    "    slow = head\n",
    "    fast = head\n",
    "    while fast and fast.next and fast.next.next:\n",
    "        slow = slow.next\n",
    "        fast = fast.next.next\n",
    "\n",
    "    return slow\n",
    "\n",
    "def mergeTwoLists(A, B):\n",
    "    tempA = A\n",
    "    tempB = B\n",
    "    head = ListNode(-1)\n",
    "    tail = head\n",
    "    while tempA and tempB:\n",
    "        if tempA.val <= tempB.val:\n",
    "            tail.next = tempA\n",
    "            tail = tail.next\n",
    "            tempA = tempA.next\n",
    "        else:\n",
    "            tail.next = tempB\n",
    "            tail = tail.next\n",
    "            tempB = tempB.next\n",
    "\n",
    "    if tempA:\n",
    "        tail.next = tempA\n",
    "    elif tempB:\n",
    "        tail.next = tempB\n",
    "\n",
    "    return head.next\n",
    "\n",
    "\n",
    "def sortList(head):\n",
    "    if not head or not head.next:\n",
    "        return head\n",
    "\n",
    "    mid = calc_mid(head)\n",
    "    next_to_mid = mid.next\n",
    "    mid.next = None\n",
    "    left = sortList(head)\n",
    "    right = sortList(next_to_mid)\n",
    "\n",
    "    sorted_list = mergeTwoLists(left, right)\n",
    "    return sorted_list\n"
   ],
   "metadata": {
    "collapsed": false,
    "ExecuteTime": {
     "end_time": "2023-06-21T20:47:18.277364Z",
     "start_time": "2023-06-21T20:47:18.273057Z"
    }
   }
  },
  {
   "cell_type": "code",
   "execution_count": 24,
   "outputs": [
    {
     "name": "stdout",
     "output_type": "stream",
     "text": [
      "1\n",
      "3\n",
      "5\n",
      "9\n",
      "25\n"
     ]
    }
   ],
   "source": [
    "import sys\n",
    "sys.setrecursionlimit(1500)\n",
    "A = createLinkedList([5, 1, 9, 25, 3])\n",
    "head = sortList(A)\n",
    "\n",
    "print_ll(head)"
   ],
   "metadata": {
    "collapsed": false,
    "ExecuteTime": {
     "end_time": "2023-06-21T20:47:18.632663Z",
     "start_time": "2023-06-21T20:47:18.630658Z"
    }
   }
  },
  {
   "cell_type": "markdown",
   "source": [
    "## Q1. Remove Loop from Linked List\n",
    "\n",
    "**Problem Description**\n",
    "\n",
    "You are given a linked list that contains a loop.\n",
    "You need to find the node, which creates a loop and break it by making the node point to NULL.\n",
    "\n",
    "**Problem Constraints**\n",
    "\n",
    "1 <= number of nodes <= 1000"
   ],
   "metadata": {
    "collapsed": false
   }
  },
  {
   "cell_type": "code",
   "execution_count": 68,
   "outputs": [],
   "source": [
    "# Create nodes\n",
    "node1 = ListNode(1)\n",
    "node2 = ListNode(2)\n",
    "node3 = ListNode(3)\n",
    "node4 = ListNode(4)\n",
    "node5 = ListNode(5)\n",
    "\n",
    "# Connect nodes\n",
    "node1.next = node2\n",
    "node2.next = node3\n",
    "node3.next = node4\n",
    "node4.next = node5\n",
    "node5.next = node3"
   ],
   "metadata": {
    "collapsed": false,
    "ExecuteTime": {
     "end_time": "2023-06-21T21:27:15.513773Z",
     "start_time": "2023-06-21T21:27:15.511131Z"
    }
   }
  },
  {
   "cell_type": "code",
   "execution_count": 69,
   "outputs": [],
   "source": [
    "def solve(head):\n",
    "    slow = head.next\n",
    "    fast = head.next.next\n",
    "    while slow!=fast:\n",
    "        slow = slow.next\n",
    "        fast = fast.next.next\n",
    "\n",
    "    temp1 = head\n",
    "    temp2 = slow\n",
    "\n",
    "    while temp1.next != temp2.next:\n",
    "        temp1 = temp1.next\n",
    "        temp2 = temp2.next\n",
    "\n",
    "    temp2.next=None\n",
    "\n",
    "    return head"
   ],
   "metadata": {
    "collapsed": false,
    "ExecuteTime": {
     "end_time": "2023-06-21T21:27:16.162779Z",
     "start_time": "2023-06-21T21:27:16.159933Z"
    }
   }
  },
  {
   "cell_type": "code",
   "execution_count": 70,
   "outputs": [
    {
     "name": "stdout",
     "output_type": "stream",
     "text": [
      "1\n",
      "2\n",
      "3\n",
      "4\n",
      "5\n"
     ]
    }
   ],
   "source": [
    "print_ll(solve(node1))"
   ],
   "metadata": {
    "collapsed": false,
    "ExecuteTime": {
     "end_time": "2023-06-21T21:27:21.307770Z",
     "start_time": "2023-06-21T21:27:21.305067Z"
    }
   }
  }
 ],
 "metadata": {
  "kernelspec": {
   "display_name": "Python 3",
   "language": "python",
   "name": "python3"
  },
  "language_info": {
   "codemirror_mode": {
    "name": "ipython",
    "version": 2
   },
   "file_extension": ".py",
   "mimetype": "text/x-python",
   "name": "python",
   "nbconvert_exporter": "python",
   "pygments_lexer": "ipython2",
   "version": "2.7.6"
  }
 },
 "nbformat": 4,
 "nbformat_minor": 0
}
