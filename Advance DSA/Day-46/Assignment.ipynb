{
 "cells": [
  {
   "cell_type": "markdown",
   "source": [
    "# Day 46 - Advanced DSA : Sorting 1: Selection & Merge Sort"
   ],
   "metadata": {
    "collapsed": false
   }
  },
  {
   "cell_type": "markdown",
   "source": [
    "## Q1. Merge Two Sorted Arrays\n",
    "\n",
    "**Problem Description**\n",
    "\n",
    "Given two sorted integer arrays A and B, merge B and A as one sorted array and return it as an output.\n",
    "\n",
    "**Problem Constraints**\n",
    "\n",
    "-10^10 <= A[i], B[i] <= 10^10"
   ],
   "metadata": {
    "collapsed": false
   }
  },
  {
   "cell_type": "code",
   "execution_count": 77,
   "outputs": [],
   "source": [
    "def solve(A, B):\n",
    "\n",
    "\tM = len(A)\n",
    "\tN = len(B)\n",
    "\n",
    "\tC = [0]*(N+M)\n",
    "\ti = j = k = 0\n",
    "\n",
    "\twhile i < M and j < N:\n",
    "\t\tif A[i]<=B[j]:\n",
    "\t\t\tC[k]=A[i]\n",
    "\t\t\ti+=1\n",
    "\t\t\tk+=1\n",
    "\t\telse:\n",
    "\t\t\tC[k]=B[j]\n",
    "\t\t\tj+=1\n",
    "\t\t\tk+=1\n",
    "\n",
    "\twhile i<M:\n",
    "\t\tC[k]=A[i]\n",
    "\t\tk+=1\n",
    "\t\ti+=1\n",
    "\n",
    "\twhile j<N:\n",
    "\t\tC[k]=B[j]\n",
    "\t\tk+=1\n",
    "\t\tj+=1\n",
    "\n",
    "\treturn C"
   ],
   "metadata": {
    "collapsed": false,
    "ExecuteTime": {
     "end_time": "2023-05-28T20:08:36.241002Z",
     "start_time": "2023-05-28T20:08:36.235339Z"
    }
   }
  },
  {
   "cell_type": "code",
   "execution_count": 78,
   "outputs": [
    {
     "data": {
      "text/plain": "[1, 2, 4, 7, 9, 11, 19]"
     },
     "execution_count": 78,
     "metadata": {},
     "output_type": "execute_result"
    }
   ],
   "source": [
    "A = [1, 4, 7, 9]\n",
    "B = [2, 11, 19]\n",
    "solve(A, B)"
   ],
   "metadata": {
    "collapsed": false,
    "ExecuteTime": {
     "end_time": "2023-05-28T20:08:37.728877Z",
     "start_time": "2023-05-28T20:08:37.721728Z"
    }
   }
  },
  {
   "cell_type": "markdown",
   "source": [
    "## Q2. Kth Smallest Element\n",
    "\n",
    "**Problem Description**\n",
    "\n",
    "Find the Bth smallest element in given array A .\n",
    "NOTE: Users should try to solve it in less than equal to B swaps.\n",
    "\n",
    "\n",
    "\n",
    "**Problem Constraints**\n",
    "\n",
    "1 <= |A| <= 100000\n",
    "1 <= B <= min(|A|, 500)\n",
    "1 <= A[i] <= 109"
   ],
   "metadata": {
    "collapsed": false
   }
  },
  {
   "cell_type": "code",
   "execution_count": 67,
   "outputs": [],
   "source": [
    "def kthsmallest(A, B):\n",
    "\n",
    "\tN = len(A)\n",
    "\n",
    "\t# Bth smallest element\n",
    "\tfor i in range(0, B):\n",
    "\t\t# Start from the end of the array\n",
    "\t\tfor j in range(N-1, 0, -1):\n",
    "\t\t\tif A[j-1] > A[j]:\n",
    "\t\t\t\tA[j], A[j-1] = A[j-1], A[j]\n",
    "\t\t\t# print(A)\n",
    "\n",
    "\treturn A[B-1]"
   ],
   "metadata": {
    "collapsed": false,
    "ExecuteTime": {
     "end_time": "2023-05-28T19:40:34.237872Z",
     "start_time": "2023-05-28T19:40:34.232346Z"
    }
   }
  },
  {
   "cell_type": "code",
   "execution_count": 68,
   "outputs": [
    {
     "data": {
      "text/plain": "17"
     },
     "execution_count": 68,
     "metadata": {},
     "output_type": "execute_result"
    }
   ],
   "source": [
    "A = [8,16,80,55,32,8,38,40,65,18,15,45,50,38,54,52,23,74,81,42,28,16,66,35,91,36,44,9,85,58,59,49,75,20,87,60,17,11,39,62,20,17,46,26,81,92]\n",
    "B = 9\n",
    "kthsmallest(A, B)"
   ],
   "metadata": {
    "collapsed": false,
    "ExecuteTime": {
     "end_time": "2023-05-28T19:40:34.631249Z",
     "start_time": "2023-05-28T19:40:34.627310Z"
    }
   }
  },
  {
   "cell_type": "code",
   "execution_count": 69,
   "outputs": [],
   "source": [
    "def selection_sort(A):\n",
    "\n",
    "\tN = len(A)\n",
    "\tswaps = 0\n",
    "\n",
    "\tfor i in range(0, N-1, 1):\n",
    "\t\tmin_val = A[i]\n",
    "\t\tmin_idx = i\n",
    "\t\tfor j in range(i+1, N, 1):\n",
    "\t\t\tif A[j] < A[min_idx]:\n",
    "\t\t\t\tmin_idx = j\n",
    "\t\t\t\tmin_val = A[j]\n",
    "\n",
    "\t\tif i!=min_idx:\n",
    "\t\t\tA[i], A[min_idx] = A[min_idx], A[i]\n",
    "\t\t\tprint(f'Swapping A[i] = {A[i]} and A[min_idx] = {A[min_idx]}')\n",
    "\t\t\tswaps+=1\n",
    "\n",
    "\treturn A, swaps"
   ],
   "metadata": {
    "collapsed": false,
    "ExecuteTime": {
     "end_time": "2023-05-28T19:40:35.128026Z",
     "start_time": "2023-05-28T19:40:35.125527Z"
    }
   }
  },
  {
   "cell_type": "code",
   "execution_count": 70,
   "outputs": [
    {
     "name": "stdout",
     "output_type": "stream",
     "text": [
      "Swapping A[i] = 0 and A[min_idx] = 9\n",
      "Swapping A[i] = 1 and A[min_idx] = 8\n",
      "Swapping A[i] = 2 and A[min_idx] = 7\n",
      "Swapping A[i] = 3 and A[min_idx] = 6\n",
      "Swapping A[i] = 4 and A[min_idx] = 5\n"
     ]
    },
    {
     "data": {
      "text/plain": "([0, 1, 2, 3, 4, 5, 6, 7, 8, 9], 5)"
     },
     "execution_count": 70,
     "metadata": {},
     "output_type": "execute_result"
    }
   ],
   "source": [
    "A = [9,8,7,6,5,4,3,2,1,0]\n",
    "selection_sort(A)"
   ],
   "metadata": {
    "collapsed": false,
    "ExecuteTime": {
     "end_time": "2023-05-28T19:40:35.641388Z",
     "start_time": "2023-05-28T19:40:35.633542Z"
    }
   }
  },
  {
   "cell_type": "markdown",
   "source": [
    "## Q3. Inversion count in an array\n",
    "\n",
    "**Problem Description**\n",
    "Given an array of integers A. If i < j and A[i] > A[j], then the pair (i, j) is called an inversion of A. Find the total number of inversions of A modulo (109 + 7).\n",
    "\n",
    "**Problem Constraints**\n",
    "1 <= length of the array <= 105\n",
    "1 <= A[i] <= 109"
   ],
   "metadata": {
    "collapsed": false
   }
  },
  {
   "cell_type": "code",
   "execution_count": 71,
   "outputs": [],
   "source": [
    "def solve(A):\n",
    "\n",
    "\tN = len(A)\n",
    "\tcount_swap = 0\n",
    "\tfor i in range(0, N-1, 1):\n",
    "\t\t# print(f'Iteration number: {i}')\n",
    "\t\tswapped = False\n",
    "\t\tfor j in range(0, N-1, 1):\n",
    "\t\t\tif A[j] > A[j+1]:\n",
    "\t\t\t\tA[j], A[j+1] = A[j+1], A[j]\n",
    "\t\t\t\tcount_swap+=1\n",
    "\t\t\t\tswapped = True\n",
    "\t\tif swapped == False:\n",
    "\t\t\tbreak\n",
    "\treturn count_swap"
   ],
   "metadata": {
    "collapsed": false,
    "ExecuteTime": {
     "end_time": "2023-05-28T19:40:36.576756Z",
     "start_time": "2023-05-28T19:40:36.573500Z"
    }
   }
  },
  {
   "cell_type": "code",
   "execution_count": 72,
   "outputs": [
    {
     "data": {
      "text/plain": "6"
     },
     "execution_count": 72,
     "metadata": {},
     "output_type": "execute_result"
    }
   ],
   "source": [
    "solve([4,3,2,1])"
   ],
   "metadata": {
    "collapsed": false,
    "ExecuteTime": {
     "end_time": "2023-05-28T19:40:37.118668Z",
     "start_time": "2023-05-28T19:40:37.108623Z"
    }
   }
  },
  {
   "cell_type": "code",
   "execution_count": 43,
   "outputs": [],
   "source": [
    "def mergeSortedArrayInverseCount(A, left, mid, right):\n",
    "\n",
    "\tC = [0]*(right-left+1)\n",
    "\ti = left\n",
    "\tj = mid\n",
    "\tk = 0\n",
    "\tinversionPairs = 0\n",
    "\twhile i < mid and j <= right:\n",
    "\t\tif A[i]<=A[j]:\n",
    "\t\t\tC[k]=A[i]\n",
    "\t\t\ti+=1\n",
    "\t\t\tk+=1\n",
    "\t\telse:\n",
    "\t\t\tC[k]=A[j]\n",
    "\t\t\tinversionPairs += mid - i\n",
    "\t\t\tj+=1\n",
    "\t\t\tk+=1\n",
    "\n",
    "\twhile i<mid:\n",
    "\t\tC[k]=A[i]\n",
    "\t\tk+=1\n",
    "\t\ti+=1\n",
    "\n",
    "\twhile j<=right:\n",
    "\t\tC[k]=A[j]\n",
    "\t\tk+=1\n",
    "\t\tj+=1\n",
    "\n",
    "\tfor i in range(left, right+1):\n",
    "\t\tA[i] = C[i-left]\n",
    "\n",
    "\treturn inversionPairs"
   ],
   "metadata": {
    "collapsed": false,
    "ExecuteTime": {
     "end_time": "2023-05-28T22:09:03.462370Z",
     "start_time": "2023-05-28T22:09:03.458481Z"
    }
   }
  },
  {
   "cell_type": "code",
   "execution_count": 44,
   "outputs": [],
   "source": [
    "import sys\n",
    "sys.setrecursionlimit(10**6)\n",
    "def invcount(A, start, end):\n",
    "\n",
    "\tif start==end:\n",
    "\t\treturn 0\n",
    "\n",
    "\tmid = (start+end)//2\n",
    "\n",
    "\tx = invcount(A, start, mid)\n",
    "\ty = invcount(A, mid+1, end)\n",
    "\tz = mergeSortedArrayInverseCount(A, start, mid+1, end)\n",
    "\tinversion_pair_count = x+y+z\n",
    "\treturn inversion_pair_count"
   ],
   "metadata": {
    "collapsed": false,
    "ExecuteTime": {
     "end_time": "2023-05-28T22:09:03.893018Z",
     "start_time": "2023-05-28T22:09:03.889699Z"
    }
   }
  },
  {
   "cell_type": "code",
   "execution_count": 47,
   "outputs": [
    {
     "data": {
      "text/plain": "4"
     },
     "execution_count": 47,
     "metadata": {},
     "output_type": "execute_result"
    }
   ],
   "source": [
    "# A = [10,3,8,15,6,12,2,18,7,1]\n",
    "A = [3, 4, 1, 2]\n",
    "invcount(A, 0, 3)"
   ],
   "metadata": {
    "collapsed": false,
    "ExecuteTime": {
     "end_time": "2023-05-28T22:18:36.070546Z",
     "start_time": "2023-05-28T22:18:36.066191Z"
    }
   }
  },
  {
   "cell_type": "markdown",
   "source": [
    "## Q4: Bubble Sort"
   ],
   "metadata": {
    "collapsed": false
   }
  },
  {
   "cell_type": "code",
   "execution_count": 73,
   "outputs": [],
   "source": [
    "def solve(A):\n",
    "\n",
    "\tN = len(A)\n",
    "\tcount_swap = 0\n",
    "\tfor i in range(0, N-1, 1):\n",
    "\t\tprint(f'Iteration number: {i}')\n",
    "\t\tswapped = False\n",
    "\t\tfor j in range(0, N-1, 1):\n",
    "\t\t\tif A[j] > A[j+1]:\n",
    "\t\t\t\tA[j], A[j+1] = A[j+1], A[j]\n",
    "\t\t\t\tcount_swap+=1\n",
    "\t\t\t\tswapped = True\n",
    "\t\tif swapped == False:\n",
    "\t\t\tbreak\n",
    "\treturn A, count_swap"
   ],
   "metadata": {
    "collapsed": false,
    "ExecuteTime": {
     "end_time": "2023-05-28T19:40:37.966028Z",
     "start_time": "2023-05-28T19:40:37.963174Z"
    }
   }
  },
  {
   "cell_type": "code",
   "execution_count": 74,
   "outputs": [
    {
     "name": "stdout",
     "output_type": "stream",
     "text": [
      "Iteration number: 0\n",
      "Iteration number: 1\n",
      "Iteration number: 2\n"
     ]
    },
    {
     "data": {
      "text/plain": "([1, 2, 3, 4], 6)"
     },
     "execution_count": 74,
     "metadata": {},
     "output_type": "execute_result"
    }
   ],
   "source": [
    "solve([4,3,2,1])"
   ],
   "metadata": {
    "collapsed": false,
    "ExecuteTime": {
     "end_time": "2023-05-28T19:40:38.468019Z",
     "start_time": "2023-05-28T19:40:38.458491Z"
    }
   }
  },
  {
   "cell_type": "markdown",
   "source": [
    "## Q5: Merge two ranges in same Sorted Array"
   ],
   "metadata": {
    "collapsed": false
   }
  },
  {
   "cell_type": "code",
   "execution_count": 6,
   "outputs": [],
   "source": [
    "def mergeSortedSameArray(A, left, mid, right):\n",
    "\n",
    "\tC = [0]*(right-left+1)\n",
    "\ti = left\n",
    "\tj = mid\n",
    "\tk = 0\n",
    "\n",
    "\twhile i < mid and j <= right:\n",
    "\t\tif A[i]<=A[j]:\n",
    "\t\t\tC[k]=A[i]\n",
    "\t\t\ti+=1\n",
    "\t\t\tk+=1\n",
    "\t\telse:\n",
    "\t\t\tC[k]=A[j]\n",
    "\t\t\tj+=1\n",
    "\t\t\tk+=1\n",
    "\n",
    "\twhile i<mid:\n",
    "\t\tC[k]=A[i]\n",
    "\t\tk+=1\n",
    "\t\ti+=1\n",
    "\n",
    "\twhile j<=right:\n",
    "\t\tC[k]=A[j]\n",
    "\t\tk+=1\n",
    "\t\tj+=1\n",
    "\n",
    "\tfor i in range(left, right+1):\n",
    "\t\tA[i] = C[i-left]\n",
    "\n",
    "\treturn A"
   ],
   "metadata": {
    "collapsed": false,
    "ExecuteTime": {
     "end_time": "2023-05-28T21:37:43.673060Z",
     "start_time": "2023-05-28T21:37:43.671843Z"
    }
   }
  },
  {
   "cell_type": "code",
   "execution_count": 7,
   "outputs": [
    {
     "data": {
      "text/plain": "[8, 1, 2, 3, 4, 6, 9, 11, 7, 6]"
     },
     "execution_count": 7,
     "metadata": {},
     "output_type": "execute_result"
    }
   ],
   "source": [
    "#A= [0, 1, 2, 3,  4, 5, 6, 7, 8, 9]\n",
    "A = [8, 1, 3, 6, 11, 2, 4, 9, 7, 6]\n",
    "l=2\n",
    "y=5\n",
    "r=7\n",
    "mergeSortedSameArray(A, l, y, r)"
   ],
   "metadata": {
    "collapsed": false,
    "ExecuteTime": {
     "end_time": "2023-05-28T21:37:43.994326Z",
     "start_time": "2023-05-28T21:37:43.989106Z"
    }
   }
  },
  {
   "cell_type": "code",
   "execution_count": 8,
   "outputs": [
    {
     "data": {
      "text/plain": "[3, 10]"
     },
     "execution_count": 8,
     "metadata": {},
     "output_type": "execute_result"
    }
   ],
   "source": [
    "A = [10, 3]\n",
    "left = 0\n",
    "mid = 1\n",
    "right = 1\n",
    "mergeSortedSameArray(A, left, mid, right)"
   ],
   "metadata": {
    "collapsed": false,
    "ExecuteTime": {
     "end_time": "2023-05-28T21:37:44.678160Z",
     "start_time": "2023-05-28T21:37:44.670564Z"
    }
   }
  },
  {
   "cell_type": "markdown",
   "source": [
    "## Q6: Merge Sort"
   ],
   "metadata": {
    "collapsed": false
   }
  },
  {
   "cell_type": "code",
   "execution_count": 13,
   "outputs": [],
   "source": [
    "import sys\n",
    "sys.setrecursionlimit(10**6)\n",
    "def mergeSort(A, l, r):\n",
    "\n",
    "\tif r-l+1 == 1:\n",
    "\t\treturn\n",
    "\n",
    "\tmid = (l+r)//2\n",
    "\n",
    "\tmergeSort(A, l, mid)\n",
    "\tmergeSort(A, mid+1, r)\n",
    "\tmergeSortedSameArray(A, l, mid+1, r)\n",
    "\n",
    "\treturn A"
   ],
   "metadata": {
    "collapsed": false,
    "ExecuteTime": {
     "end_time": "2023-05-28T21:38:11.596522Z",
     "start_time": "2023-05-28T21:38:11.594836Z"
    }
   }
  },
  {
   "cell_type": "code",
   "execution_count": 14,
   "outputs": [
    {
     "data": {
      "text/plain": "[1, 2, 3, 4, 6, 6, 7, 8, 9, 11]"
     },
     "execution_count": 14,
     "metadata": {},
     "output_type": "execute_result"
    }
   ],
   "source": [
    "A = [8, 1, 3, 6, 11, 2, 4, 9, 7, 6]\n",
    "mergeSort(A, 0, 9)"
   ],
   "metadata": {
    "collapsed": false,
    "ExecuteTime": {
     "end_time": "2023-05-28T21:38:11.897311Z",
     "start_time": "2023-05-28T21:38:11.893056Z"
    }
   }
  },
  {
   "cell_type": "markdown",
   "source": [
    "---"
   ],
   "metadata": {
    "collapsed": false
   }
  }
 ],
 "metadata": {
  "kernelspec": {
   "display_name": "Python 3",
   "language": "python",
   "name": "python3"
  },
  "language_info": {
   "codemirror_mode": {
    "name": "ipython",
    "version": 2
   },
   "file_extension": ".py",
   "mimetype": "text/x-python",
   "name": "python",
   "nbconvert_exporter": "python",
   "pygments_lexer": "ipython2",
   "version": "2.7.6"
  }
 },
 "nbformat": 4,
 "nbformat_minor": 0
}
