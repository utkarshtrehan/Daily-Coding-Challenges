{
 "cells": [
  {
   "cell_type": "markdown",
   "source": [
    "# Day 43 - Advanced DSA : Maths 3: Prime Numbers"
   ],
   "metadata": {
    "collapsed": false
   }
  },
  {
   "cell_type": "markdown",
   "source": [
    "## Q1. Count of divisors\n",
    "\n",
    "**Problem Description**\n",
    "\n",
    "Given an array of integers A, find and return the count of divisors of each element of the array.\n",
    "NOTE: The order of the resultant array should be the same as the input array.\n",
    "\n",
    "**Problem Constraints**\n",
    "\n",
    "1 <= length of the array <= 100000\n",
    "1 <= A[i] <= 10^6"
   ],
   "metadata": {
    "collapsed": false
   }
  },
  {
   "cell_type": "code",
   "execution_count": null,
   "outputs": [],
   "source": [
    "def is_prime(A):\n",
    "    fact_cnt = 0\n",
    "    for n in range(1, A+1):\n",
    "        if A%n==0:\n",
    "            fact_cnt+=1\n",
    "    return fact_cnt == 2"
   ],
   "metadata": {
    "collapsed": false
   }
  },
  {
   "cell_type": "code",
   "execution_count": 52,
   "outputs": [],
   "source": [
    "def solve(A):\n",
    "    sieve = [2]*(A+1)\n",
    "    sieve[0] = sieve[1] = 0\n",
    "    primes_l = []\n",
    "\n",
    "    for i in range(2, A+1, 1):\n",
    "        # if i**2 > A:\n",
    "        #     break\n",
    "        # if is_prime(i):\n",
    "            # for j in range(i*i, A+1, i):\n",
    "            for j in range(2*i, A+1, i):\n",
    "                sieve[j]+=1\n",
    "\n",
    "    # for i in range(0, A+1):\n",
    "    #     if sieve[i]:\n",
    "    #         primes_l.append(i)\n",
    "    return sieve"
   ],
   "metadata": {
    "collapsed": false,
    "ExecuteTime": {
     "end_time": "2023-05-22T20:16:08.937448Z",
     "start_time": "2023-05-22T20:16:08.921915Z"
    }
   }
  },
  {
   "cell_type": "code",
   "execution_count": 53,
   "outputs": [
    {
     "data": {
      "text/plain": "[0, 0, 2, 2, 3, 2, 4, 2, 4, 3, 4]"
     },
     "execution_count": 53,
     "metadata": {},
     "output_type": "execute_result"
    }
   ],
   "source": [
    "A = 10\n",
    "solve(A)"
   ],
   "metadata": {
    "collapsed": false,
    "ExecuteTime": {
     "end_time": "2023-05-22T20:16:09.282654Z",
     "start_time": "2023-05-22T20:16:09.279284Z"
    }
   }
  },
  {
   "cell_type": "markdown",
   "source": [
    "\n",
    "## Q3. Find All Primes\n",
    "\n",
    "**Problem Description**\n",
    "\n",
    "Given an integer A. Find the list of all prime numbers in the range [1, A].\n",
    "\n",
    "\n",
    "**Problem Constraints**\n",
    "\n",
    "1 <= A <= 10^6"
   ],
   "metadata": {
    "collapsed": false
   }
  },
  {
   "cell_type": "code",
   "execution_count": 13,
   "outputs": [],
   "source": [
    "def is_prime(A):\n",
    "    fact_cnt = 0\n",
    "    for n in range(1, A+1):\n",
    "        if A%n==0:\n",
    "            fact_cnt+=1\n",
    "    return fact_cnt == 2"
   ],
   "metadata": {
    "collapsed": false,
    "ExecuteTime": {
     "end_time": "2023-05-22T18:41:50.888338Z",
     "start_time": "2023-05-22T18:41:50.886934Z"
    }
   }
  },
  {
   "cell_type": "code",
   "execution_count": 25,
   "outputs": [],
   "source": [
    "def solve(A):\n",
    "    sieve = [1]*(A+1)\n",
    "    sieve[0] = sieve[1] = 0\n",
    "    primes_l = []\n",
    "\n",
    "    for i in range(2, A+1):\n",
    "        if i**2 > A:\n",
    "            break\n",
    "        if is_prime(i):\n",
    "            for j in range(i*i, A+1, i):\n",
    "                sieve[j]=0\n",
    "\n",
    "    for i in range(0, A+1):\n",
    "        if sieve[i]:\n",
    "            primes_l.append(i)\n",
    "    return primes_l"
   ],
   "metadata": {
    "collapsed": false,
    "ExecuteTime": {
     "end_time": "2023-05-22T18:48:55.752719Z",
     "start_time": "2023-05-22T18:48:55.748199Z"
    }
   }
  },
  {
   "cell_type": "code",
   "execution_count": 41,
   "outputs": [
    {
     "data": {
      "text/plain": "[2, 3, 5, 7, 11, 13, 17, 19, 23, 29, 31, 37, 41, 43, 47]"
     },
     "execution_count": 41,
     "metadata": {},
     "output_type": "execute_result"
    }
   ],
   "source": [
    "solve(50)"
   ],
   "metadata": {
    "collapsed": false,
    "ExecuteTime": {
     "end_time": "2023-05-22T19:15:36.457872Z",
     "start_time": "2023-05-22T19:15:36.454585Z"
    }
   }
  },
  {
   "cell_type": "code",
   "execution_count": null,
   "outputs": [],
   "source": [],
   "metadata": {
    "collapsed": false
   }
  },
  {
   "cell_type": "code",
   "execution_count": 20,
   "outputs": [],
   "source": [
    "def solve(A):\n",
    "\n",
    "    # Intially all doors are closed\n",
    "    arr = [True]*(A+1)\n",
    "    # print(arr)\n",
    "    for i in range(2, A+1, 1):\n",
    "\n",
    "        for j in range(i, A+1, i):\n",
    "            arr[j] = not arr[j]\n",
    "        # print(f'For iteration: {i}, doors: {arr}')\n",
    "    return sum(arr[1:])"
   ],
   "metadata": {
    "collapsed": false,
    "ExecuteTime": {
     "end_time": "2023-05-29T09:40:18.204649Z",
     "start_time": "2023-05-29T09:40:18.192556Z"
    }
   }
  },
  {
   "cell_type": "code",
   "execution_count": 21,
   "outputs": [
    {
     "data": {
      "text/plain": "2"
     },
     "execution_count": 21,
     "metadata": {},
     "output_type": "execute_result"
    }
   ],
   "source": [
    "A = 6\n",
    "solve(A)"
   ],
   "metadata": {
    "collapsed": false,
    "ExecuteTime": {
     "end_time": "2023-05-29T09:40:18.763714Z",
     "start_time": "2023-05-29T09:40:18.759364Z"
    }
   }
  },
  {
   "cell_type": "code",
   "execution_count": null,
   "outputs": [],
   "source": [],
   "metadata": {
    "collapsed": false
   }
  }
 ],
 "metadata": {
  "kernelspec": {
   "display_name": "Python 3",
   "language": "python",
   "name": "python3"
  },
  "language_info": {
   "codemirror_mode": {
    "name": "ipython",
    "version": 2
   },
   "file_extension": ".py",
   "mimetype": "text/x-python",
   "name": "python",
   "nbconvert_exporter": "python",
   "pygments_lexer": "ipython2",
   "version": "2.7.6"
  }
 },
 "nbformat": 4,
 "nbformat_minor": 0
}
