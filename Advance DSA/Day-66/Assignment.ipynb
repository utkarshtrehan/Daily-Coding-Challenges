{
 "cells": [
  {
   "cell_type": "markdown",
   "source": [
    "# Day 66 - Advanced DSA : Stacks 2: Nearest Smaller/Greater Element"
   ],
   "metadata": {
    "collapsed": false
   }
  },
  {
   "cell_type": "markdown",
   "source": [
    "## Q1. Nearest Smaller Element\n",
    "\n",
    "**Problem Description**\n",
    "\n",
    "Given an array A, find the nearest smaller element G[i] for every element A[i] in the array such that the element has an index smaller than i.\n",
    "More formally,\n",
    "\n",
    "G[i] for an element A[i] = an element A[j] such that\n",
    "\n",
    "j is maximum possible AND\n",
    "\n",
    "j < i AND\n",
    "\n",
    "A[j] < A[i]\n",
    "\n",
    "Elements for which no smaller element exist, consider the next smaller element as -1.\n",
    "\n",
    "\n",
    "\n",
    "**Problem Constraints**\n",
    "\n",
    "1 <= |A| <= 100000\n",
    "\n",
    "-109 <= A[i] <= 10^9"
   ],
   "metadata": {
    "collapsed": false
   }
  },
  {
   "cell_type": "code",
   "execution_count": 14,
   "outputs": [],
   "source": [
    "def prevSmaller(A):\n",
    "    N = len(A)\n",
    "    stack = []\n",
    "    result = [-1]*N\n",
    "    for i in range(0, N, 1):\n",
    "        while stack and stack[-1]>=A[i]:\n",
    "            stack.pop()\n",
    "        if stack:\n",
    "            result[i] = stack[-1]\n",
    "        stack.append(A[i])\n",
    "    return result"
   ],
   "metadata": {
    "collapsed": false,
    "ExecuteTime": {
     "end_time": "2023-06-27T20:27:58.100941Z",
     "start_time": "2023-06-27T20:27:58.096810Z"
    }
   }
  },
  {
   "cell_type": "code",
   "execution_count": 15,
   "outputs": [
    {
     "data": {
      "text/plain": "[-1, 4, -1, 2, 2]"
     },
     "execution_count": 15,
     "metadata": {},
     "output_type": "execute_result"
    }
   ],
   "source": [
    "A = [4, 5, 2, 10, 8]\n",
    "prevSmaller(A)"
   ],
   "metadata": {
    "collapsed": false,
    "ExecuteTime": {
     "end_time": "2023-06-27T20:27:58.657608Z",
     "start_time": "2023-06-27T20:27:58.654062Z"
    }
   }
  },
  {
   "cell_type": "markdown",
   "source": [
    "### To get Index"
   ],
   "metadata": {
    "collapsed": false
   }
  },
  {
   "cell_type": "code",
   "execution_count": 16,
   "outputs": [],
   "source": [
    "def prevSmaller(A):\n",
    "    N = len(A)\n",
    "    stack = []\n",
    "    result = [-1]*N\n",
    "    for i in range(0, N, 1):\n",
    "        while stack and A[stack[-1]]>=A[i]:\n",
    "            stack.pop()\n",
    "        if stack:\n",
    "            result[i] = stack[-1]\n",
    "        stack.append(i)\n",
    "    return result"
   ],
   "metadata": {
    "collapsed": false,
    "ExecuteTime": {
     "end_time": "2023-06-27T20:33:50.004750Z",
     "start_time": "2023-06-27T20:33:50.000987Z"
    }
   }
  },
  {
   "cell_type": "code",
   "execution_count": 17,
   "outputs": [
    {
     "data": {
      "text/plain": "[-1, 0, -1, 2, 2]"
     },
     "execution_count": 17,
     "metadata": {},
     "output_type": "execute_result"
    }
   ],
   "source": [
    "A = [4, 5, 2, 10, 8]\n",
    "prevSmaller(A)"
   ],
   "metadata": {
    "collapsed": false,
    "ExecuteTime": {
     "end_time": "2023-06-27T20:33:53.832358Z",
     "start_time": "2023-06-27T20:33:53.828618Z"
    }
   }
  },
  {
   "cell_type": "markdown",
   "source": [
    "### Right Side"
   ],
   "metadata": {
    "collapsed": false
   }
  },
  {
   "cell_type": "code",
   "execution_count": 24,
   "outputs": [],
   "source": [
    "def nextSmaller(A):\n",
    "    N = len(A)\n",
    "    stack = []\n",
    "    result = [-1]*N\n",
    "    for i in range(N-1, -1, -1):\n",
    "        while stack and A[stack[-1]]>=A[i]:\n",
    "            stack.pop()\n",
    "        if stack:\n",
    "            result[i] = stack[-1]\n",
    "        stack.append(i)\n",
    "    return result"
   ],
   "metadata": {
    "collapsed": false,
    "ExecuteTime": {
     "end_time": "2023-06-27T20:48:04.271699Z",
     "start_time": "2023-06-27T20:48:04.269060Z"
    }
   }
  },
  {
   "cell_type": "code",
   "execution_count": 25,
   "outputs": [
    {
     "data": {
      "text/plain": "[2, 2, -1, 4, -1]"
     },
     "execution_count": 25,
     "metadata": {},
     "output_type": "execute_result"
    }
   ],
   "source": [
    "A = [4, 5, 2, 10, 8]\n",
    "nextSmaller(A)"
   ],
   "metadata": {
    "collapsed": false,
    "ExecuteTime": {
     "end_time": "2023-06-27T20:48:04.480257Z",
     "start_time": "2023-06-27T20:48:04.476421Z"
    }
   }
  },
  {
   "cell_type": "markdown",
   "source": [
    "## Q2. Largest Rectangle in Histogram\n",
    "\n",
    "**Problem Description**\n",
    "\n",
    "Given an array of integers A. A represents a histogram i.e A[i] denotes the height of the ith histogram's bar. Width of each bar is 1. Find the area of the largest rectangle formed by the histogram.\n",
    "\n",
    "**Problem Constraints**\n",
    "\n",
    "1 <= |A| <= 100000\n",
    "1 <= A[i] <= 10000"
   ],
   "metadata": {
    "collapsed": false
   }
  },
  {
   "cell_type": "code",
   "execution_count": 73,
   "outputs": [],
   "source": [
    "def prevSmaller(A):\n",
    "    N = len(A)\n",
    "    stack = []\n",
    "    result = [-1]*N\n",
    "    for i in range(0, N, 1):\n",
    "        while stack and A[stack[-1]]>=A[i]:\n",
    "            stack.pop()\n",
    "        if stack:\n",
    "            result[i] = stack[-1]\n",
    "        stack.append(i)\n",
    "    return result\n",
    "\n",
    "def nextSmaller(A):\n",
    "    N = len(A)\n",
    "    stack = []\n",
    "    result = [N]*N\n",
    "    for i in range(N-1, -1, -1):\n",
    "        while stack and A[stack[-1]]>=A[i]:\n",
    "            stack.pop()\n",
    "        if stack:\n",
    "            result[i] = stack[-1]\n",
    "        stack.append(i)\n",
    "    return result\n",
    "\n",
    "def largestRectangleArea(A):\n",
    "    ans = float('-Inf')\n",
    "    N = len(A)\n",
    "    prevSmaller_l = prevSmaller(A)\n",
    "    nextSmaller_l = nextSmaller(A)\n",
    "    for i in range(0, N, 1):\n",
    "        # print(f'Height = {A[i]}, Next Smaller: {nextSmaller_l[i]}, Previous Smaller: {prevSmaller_l[i]}, Width = {nextSmaller_l[i]-prevSmaller_l[i]-1}')\n",
    "        ans = max(ans, A[i]*(nextSmaller_l[i]-prevSmaller_l[i]-1))\n",
    "    return ans"
   ],
   "metadata": {
    "collapsed": false,
    "ExecuteTime": {
     "end_time": "2023-06-27T21:24:01.286651Z",
     "start_time": "2023-06-27T21:24:01.284008Z"
    }
   }
  },
  {
   "cell_type": "code",
   "execution_count": 74,
   "outputs": [
    {
     "name": "stdout",
     "output_type": "stream",
     "text": [
      "Height = 6, Next Smaller: 1, Previous Smaller: -1, Width = 1\n",
      "Height = 2, Next Smaller: 5, Previous Smaller: -1, Width = 5\n",
      "Height = 5, Next Smaller: 3, Previous Smaller: 1, Width = 1\n",
      "Height = 4, Next Smaller: 5, Previous Smaller: 1, Width = 3\n",
      "Height = 5, Next Smaller: 5, Previous Smaller: 3, Width = 1\n",
      "Height = 1, Next Smaller: 7, Previous Smaller: -1, Width = 7\n",
      "Height = 6, Next Smaller: 7, Previous Smaller: 5, Width = 1\n"
     ]
    },
    {
     "data": {
      "text/plain": "12"
     },
     "execution_count": 74,
     "metadata": {},
     "output_type": "execute_result"
    }
   ],
   "source": [
    "A = [6,2,5,4,5,1,6]\n",
    "largestRectangleArea(A)"
   ],
   "metadata": {
    "collapsed": false,
    "ExecuteTime": {
     "end_time": "2023-06-27T21:24:01.756658Z",
     "start_time": "2023-06-27T21:24:01.751895Z"
    }
   }
  },
  {
   "cell_type": "markdown",
   "source": [
    "## Q3. MAX and MIN\n",
    "\n",
    "**Problem Description**\n",
    "\n",
    "Given an array of integers A.\n",
    "The value of an array is computed as the difference between the maximum element in the array and the minimum element in the array A.\n",
    "Calculate and return the sum of values of all possible subarrays of A modulo 109+7.\n",
    "\n",
    "**Problem Constraints**\n",
    "\n",
    "1 <= |A| <= 100000\n",
    "1 <= A[i] <= 1000000"
   ],
   "metadata": {
    "collapsed": false
   }
  },
  {
   "cell_type": "code",
   "execution_count": 85,
   "outputs": [],
   "source": [
    "def prevLarger(A):\n",
    "    N = len(A)\n",
    "    stack = []\n",
    "    result = [-1]*N\n",
    "    for i in range(0, N, 1):\n",
    "        while stack and A[stack[-1]]<=A[i]:\n",
    "            stack.pop()\n",
    "        if stack:\n",
    "            result[i] = stack[-1]\n",
    "        stack.append(i)\n",
    "    return result\n",
    "\n",
    "def nextLarger(A):\n",
    "    N = len(A)\n",
    "    stack = []\n",
    "    result = [N]*N\n",
    "    for i in range(N-1, -1, -1):\n",
    "        while stack and A[stack[-1]]<=A[i]:\n",
    "            stack.pop()\n",
    "        if stack:\n",
    "            result[i] = stack[-1]\n",
    "        stack.append(i)\n",
    "    return result\n",
    "\n",
    "def prevSmaller(A):\n",
    "    N = len(A)\n",
    "    stack = []\n",
    "    result = [-1]*N\n",
    "    for i in range(0, N, 1):\n",
    "        while stack and A[stack[-1]]>=A[i]:\n",
    "            stack.pop()\n",
    "        if stack:\n",
    "            result[i] = stack[-1]\n",
    "        stack.append(i)\n",
    "    return result\n",
    "\n",
    "def nextSmaller(A):\n",
    "    N = len(A)\n",
    "    stack = []\n",
    "    result = [N]*N\n",
    "    for i in range(N-1, -1, -1):\n",
    "        while stack and A[stack[-1]]>=A[i]:\n",
    "            stack.pop()\n",
    "        if stack:\n",
    "            result[i] = stack[-1]\n",
    "        stack.append(i)\n",
    "    return result\n",
    "\n",
    "def solve(A):\n",
    "    N = len(A)\n",
    "    total_max = 0\n",
    "    total_min = 0\n",
    "\n",
    "    prevLarger_l = prevLarger(A)\n",
    "    nextLarger_l = nextLarger(A)\n",
    "\n",
    "    prevSmaller_l = prevSmaller(A)\n",
    "    nextSmaller_l = nextSmaller(A)\n",
    "\n",
    "    for i in range(0, N, 1):\n",
    "        # Total Maximum\n",
    "        first_half_subarray_count  = i - (prevLarger_l[i]+1) + 1\n",
    "        second_half_subarray_count = (nextLarger_l[i]-1) - i + 1\n",
    "        total_subarray = first_half_subarray_count * second_half_subarray_count\n",
    "        total_max = total_max + (A[i]*(total_subarray))\n",
    "        # Total Minimum\n",
    "        first_half_subarray_count  = i - (prevSmaller_l[i]+1) + 1\n",
    "        second_half_subarray_count = (nextSmaller_l[i]-1) - i + 1\n",
    "        total_subarray = first_half_subarray_count * second_half_subarray_count\n",
    "        total_min = total_min + (A[i]*total_subarray)\n",
    "    # print(f'Total Max: {total_max}, Total Min: {total_min}')\n",
    "    return total_max-total_min"
   ],
   "metadata": {
    "collapsed": false,
    "ExecuteTime": {
     "end_time": "2023-06-27T22:03:44.189196Z",
     "start_time": "2023-06-27T22:03:44.183447Z"
    }
   }
  },
  {
   "cell_type": "code",
   "execution_count": 86,
   "outputs": [
    {
     "data": {
      "text/plain": "8"
     },
     "execution_count": 86,
     "metadata": {},
     "output_type": "execute_result"
    }
   ],
   "source": [
    "A = [2,5,3]\n",
    "solve(A)"
   ],
   "metadata": {
    "collapsed": false,
    "ExecuteTime": {
     "end_time": "2023-06-27T22:03:44.529007Z",
     "start_time": "2023-06-27T22:03:44.525926Z"
    }
   }
  },
  {
   "cell_type": "code",
   "execution_count": null,
   "outputs": [],
   "source": [],
   "metadata": {
    "collapsed": false
   }
  }
 ],
 "metadata": {
  "kernelspec": {
   "display_name": "Python 3",
   "language": "python",
   "name": "python3"
  },
  "language_info": {
   "codemirror_mode": {
    "name": "ipython",
    "version": 2
   },
   "file_extension": ".py",
   "mimetype": "text/x-python",
   "name": "python",
   "nbconvert_exporter": "python",
   "pygments_lexer": "ipython2",
   "version": "2.7.6"
  }
 },
 "nbformat": 4,
 "nbformat_minor": 0
}
