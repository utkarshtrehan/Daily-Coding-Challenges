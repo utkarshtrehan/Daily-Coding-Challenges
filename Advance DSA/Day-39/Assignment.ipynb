{
 "cells": [
  {
   "cell_type": "markdown",
   "source": [
    "# Day 39 - Advanced DSA : Maths 1: Modular Arithmetic"
   ],
   "metadata": {
    "collapsed": false
   }
  },
  {
   "cell_type": "markdown",
   "source": [
    "## Q1. Prime Modulo Inverse\n",
    "\n",
    "**Problem Description**\n",
    "\n",
    "Given two integers A and B. Find the value of A^(-1)  mod B where B is a prime number and gcd(A, B) = 1.\n",
    "\n",
    "A^(-1) mod B is also known as modular multiplicative inverse of A under modulo B."
   ],
   "metadata": {
    "collapsed": false
   }
  },
  {
   "cell_type": "code",
   "execution_count": 2,
   "outputs": [],
   "source": [
    "def solve(A, B):\n",
    "    return A**(B-2)%B"
   ],
   "metadata": {
    "collapsed": false,
    "ExecuteTime": {
     "end_time": "2023-05-21T08:39:26.052445Z",
     "start_time": "2023-05-21T08:39:26.045882Z"
    }
   }
  },
  {
   "cell_type": "code",
   "execution_count": 4,
   "outputs": [],
   "source": [
    "def solve(A, B):\n",
    "    '''\n",
    "    Time Complexity: O(log B)\n",
    "    Using Fermat's Theorem: A ^ -1 % B = A ^ (B - 2) % B\n",
    "    '''\n",
    "    def fast_pow(a, p, m):\n",
    "        # base case\n",
    "        if p == 0:\n",
    "            return 1\n",
    "        if a == 0:\n",
    "            return 0\n",
    "        # for handling -ve values\n",
    "        if p == 1 and a < 0:\n",
    "            return a + p\n",
    "\n",
    "        # when p is even\n",
    "        if p & 1 == 0:\n",
    "            return fast_pow(a * a % m, p // 2, m)\n",
    "        else:\n",
    "            return a * fast_pow(a * a % m, (p - 1) // 2, m) % m\n",
    "\n",
    "    return fast_pow(a=A, p=B-2, m=B)"
   ],
   "metadata": {
    "collapsed": false,
    "ExecuteTime": {
     "end_time": "2023-05-21T08:50:05.179463Z",
     "start_time": "2023-05-21T08:50:05.174595Z"
    }
   }
  },
  {
   "cell_type": "code",
   "execution_count": 5,
   "outputs": [
    {
     "data": {
      "text/plain": "2"
     },
     "execution_count": 5,
     "metadata": {},
     "output_type": "execute_result"
    }
   ],
   "source": [
    "solve(3,5)"
   ],
   "metadata": {
    "collapsed": false,
    "ExecuteTime": {
     "end_time": "2023-05-21T08:50:06.417261Z",
     "start_time": "2023-05-21T08:50:06.410063Z"
    }
   }
  },
  {
   "cell_type": "markdown",
   "source": [
    "## Q2. Pair Sum divisible by M"
   ],
   "metadata": {
    "collapsed": false
   }
  },
  {
   "cell_type": "markdown",
   "source": [
    "**Problem Description**\n",
    "\n",
    "Given an array of integers A and an integer B, find and return the number of pairs in A whose sum is divisible by B.\n",
    "Since the answer may be large, return the answer modulo (109 + 7).\n",
    "\n",
    "**Problem Constraints**\n",
    "\n",
    "1 <= length of the array <= 100000\n",
    "1 <= A[i] <= 109\n",
    "1 <= B <= 106"
   ],
   "metadata": {
    "collapsed": false
   }
  },
  {
   "cell_type": "code",
   "execution_count": 25,
   "outputs": [],
   "source": [
    "def solve(A, B):\n",
    "    mod = 1000000007\n",
    "    freq = [0]*B\n",
    "\n",
    "    for n in A:\n",
    "        freq[n%B]+=1\n",
    "\n",
    "    ans = 0\n",
    "    # 0 Case\n",
    "    ans += (freq[0]*(freq[0]-1))//2\n",
    "\n",
    "    # Remaining Cases\n",
    "    left = 1\n",
    "    right = B-1\n",
    "\n",
    "    while left<right:\n",
    "        ans+=freq[left]*freq[right]\n",
    "        left+=1\n",
    "        right-=1\n",
    "\n",
    "    # Edge Case\n",
    "    if left == right:\n",
    "        ans += (freq[left]*(freq[left]-1))//2\n",
    "\n",
    "    return ans % mod"
   ],
   "metadata": {
    "collapsed": false,
    "ExecuteTime": {
     "end_time": "2023-05-21T09:18:18.325012Z",
     "start_time": "2023-05-21T09:18:18.322976Z"
    }
   }
  },
  {
   "cell_type": "code",
   "execution_count": 26,
   "outputs": [
    {
     "data": {
      "text/plain": "4"
     },
     "execution_count": 26,
     "metadata": {},
     "output_type": "execute_result"
    }
   ],
   "source": [
    "# solve([4, 7, 6, 5, 5, 3], 3)\n",
    "solve([1, 2, 3, 4, 5], 2)"
   ],
   "metadata": {
    "collapsed": false,
    "ExecuteTime": {
     "end_time": "2023-05-21T09:18:18.568674Z",
     "start_time": "2023-05-21T09:18:18.565358Z"
    }
   }
  },
  {
   "cell_type": "markdown",
   "source": [
    "## Q3. Very Large Power\n",
    "\n",
    "**Problem Description**\n",
    "\n",
    "Given two Integers A, B. You have to calculate (A ^ (B!)) % (1e9 + 7).\n",
    "\n",
    "\"^\" means power,\n",
    "\n",
    "\"%\" means \"mod\", and\n",
    "\n",
    "\"!\" means factorial.\n",
    "\n",
    "\n",
    "\n",
    "**Problem Constraints**\n",
    "\n",
    "1 <= A, B <= 5e5"
   ],
   "metadata": {
    "collapsed": false
   }
  },
  {
   "cell_type": "code",
   "execution_count": null,
   "outputs": [],
   "source": [],
   "metadata": {
    "collapsed": false
   }
  }
 ],
 "metadata": {
  "kernelspec": {
   "display_name": "Python 3",
   "language": "python",
   "name": "python3"
  },
  "language_info": {
   "codemirror_mode": {
    "name": "ipython",
    "version": 2
   },
   "file_extension": ".py",
   "mimetype": "text/x-python",
   "name": "python",
   "nbconvert_exporter": "python",
   "pygments_lexer": "ipython2",
   "version": "2.7.6"
  }
 },
 "nbformat": 4,
 "nbformat_minor": 0
}
