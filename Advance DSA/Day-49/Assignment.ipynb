{
 "cells": [
  {
   "cell_type": "markdown",
   "source": [
    "# Day 49 - Advanced DSA : Sorting 2: Insertion & Quick Sort"
   ],
   "metadata": {
    "collapsed": false
   }
  },
  {
   "cell_type": "markdown",
   "source": [
    "# Q1. Unique Elements\n",
    "\n",
    "**Problem Description**\n",
    "\n",
    "You are given an array A of N elements. You have to make all elements unique. To do so, in one step you can increase any number by one.\n",
    "Find the minimum number of steps.\n",
    "\n",
    "**Problem Constraints**\n",
    "1 <= N <= 10^5\n",
    "1 <= A[i] <= 10^9"
   ],
   "metadata": {
    "collapsed": false
   }
  },
  {
   "cell_type": "code",
   "execution_count": 40,
   "outputs": [],
   "source": [
    "def solve(A):\n",
    "    # print(f'Original array : {A}')\n",
    "    A.sort()\n",
    "    # print(f'Sorted array   : {A}\\n')\n",
    "    N = len(A)\n",
    "    count = 0\n",
    "    for i in range(1,N):\n",
    "        # Previous >= Current\n",
    "        if A[i-1] >= A[i]:\n",
    "            # Count = Count + ((New Value) - Current)\n",
    "            # Count = Count + (Previous + 1 - Current)\n",
    "            count += A[i-1]+1 - A[i]\n",
    "            # Current = (New Value) + 1\n",
    "            # Current = Previous + 1\n",
    "            A[i] = A[i-1] + 1\n",
    "        # print(f'For i: {i}, A: {A}\\n')\n",
    "    return count"
   ],
   "metadata": {
    "collapsed": false,
    "ExecuteTime": {
     "end_time": "2023-05-28T23:17:55.727590Z",
     "start_time": "2023-05-28T23:17:55.720518Z"
    }
   }
  },
  {
   "cell_type": "code",
   "execution_count": 41,
   "outputs": [
    {
     "data": {
      "text/plain": "27"
     },
     "execution_count": 41,
     "metadata": {},
     "output_type": "execute_result"
    }
   ],
   "source": [
    "A = [1, 14, 14, 14, 14, 14, 14, 14, 15]\n",
    "solve(A)"
   ],
   "metadata": {
    "collapsed": false,
    "ExecuteTime": {
     "end_time": "2023-05-28T23:17:56.025885Z",
     "start_time": "2023-05-28T23:17:56.020099Z"
    }
   }
  },
  {
   "cell_type": "code",
   "execution_count": null,
   "outputs": [],
   "source": [],
   "metadata": {
    "collapsed": false
   }
  }
 ],
 "metadata": {
  "kernelspec": {
   "display_name": "Python 3",
   "language": "python",
   "name": "python3"
  },
  "language_info": {
   "codemirror_mode": {
    "name": "ipython",
    "version": 2
   },
   "file_extension": ".py",
   "mimetype": "text/x-python",
   "name": "python",
   "nbconvert_exporter": "python",
   "pygments_lexer": "ipython2",
   "version": "2.7.6"
  }
 },
 "nbformat": 4,
 "nbformat_minor": 0
}
