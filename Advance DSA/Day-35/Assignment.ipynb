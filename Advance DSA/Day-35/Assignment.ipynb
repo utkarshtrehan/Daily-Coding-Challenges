{
 "cells": [
  {
   "cell_type": "markdown",
   "source": [
    "# Day 35 - Advanced DSA : Arrays 2: Two Dimensional\n"
   ],
   "metadata": {
    "collapsed": false
   }
  },
  {
   "cell_type": "markdown",
   "source": [
    "## Q1. Sub-matrix Sum Queries\n",
    "\n",
    "**Problem Description**\n",
    "\n",
    "Given a matrix of integers A of size N x M and multiple queries Q, for each query, find and return the submatrix sum.\n",
    "Inputs to queries are top left (b, c) and bottom right (d, e) indexes of submatrix whose sum is to find out.\n",
    "\n",
    "**NOTE:**\n",
    "\n",
    "Rows are numbered from top to bottom, and columns are numbered from left to right.\n",
    "Sum may be large, so return the answer mod 109 + 7.\n",
    "\n",
    "\n",
    "**Problem Constraints**\n",
    "1 <= N, M <= 1000\n",
    "-100000 <= A[i] <= 100000\n",
    "1 <= Q <= 100000\n",
    "1 <= B[i] <= D[i] <= N\n",
    "1 <= C[i] <= E[i] <= M"
   ],
   "metadata": {
    "collapsed": false
   }
  },
  {
   "cell_type": "code",
   "execution_count": 124,
   "outputs": [],
   "source": [
    "def solve(A, B, C, D, E):\n",
    "\n",
    "     r_n, c_n = len(A), len(A[0])\n",
    "\n",
    "     for r in range(0, r_n):\n",
    "          for c in range(1, c_n):\n",
    "               A[r][c]=A[r][c-1]+A[r][c]\n",
    "\n",
    "     for c in range(0, c_n):\n",
    "          for r in range(1, r_n):\n",
    "               A[r][c]=A[r-1][c]+A[r][c]\n",
    "     ans = []\n",
    "     for i in range(len(B)):\n",
    "          total = A[D[i]-1][E[i]-1]\n",
    "          if C[i]-2>=0:\n",
    "               total-=A[D[i]-1][C[i]-2]\n",
    "          if B[i]-2>=0:\n",
    "               total-=A[B[i]-2][E[i]-1]\n",
    "          if C[i]-2>=0 and B[i]-2>=0:\n",
    "               total+=A[B[i]-2][C[i]-2]\n",
    "          ans.append(total)\n",
    "     return  ans"
   ],
   "metadata": {
    "collapsed": false
   }
  },
  {
   "cell_type": "code",
   "execution_count": 125,
   "outputs": [
    {
     "data": {
      "text/plain": "[12, 28]"
     },
     "execution_count": 125,
     "metadata": {},
     "output_type": "execute_result"
    }
   ],
   "source": [
    "A = [[1, 2, 3],\n",
    "     [4, 5, 6],\n",
    "     [7, 8, 9]]\n",
    "B = [1, 2]\n",
    "C = [1, 2]\n",
    "D = [2, 3]\n",
    "E = [2, 3]\n",
    "solve(A, B, C, D, E)"
   ],
   "metadata": {
    "collapsed": false
   }
  },
  {
   "cell_type": "markdown",
   "source": [
    "## Q2. Sum of all Submatrices\n",
    "\n",
    "**Problem Description**\n",
    "\n",
    "Given a 2D Matrix A of dimensions N*N, we need to return the sum of all possible submatrices.\n",
    "\n",
    "**Problem Constraints**\n",
    "\n",
    "1 <= N <=30\n",
    "0 <= A[i][j] <= 10"
   ],
   "metadata": {
    "collapsed": false
   }
  },
  {
   "cell_type": "code",
   "execution_count": 128,
   "outputs": [],
   "source": [
    "def solve(A):\n",
    "     r_n = len(A)\n",
    "     c_n = len(A[0])\n",
    "     ans = 0\n",
    "     for i in range(r_n):\n",
    "          for j in range(c_n):\n",
    "               ans+=((i+1)*(j+1)*(r_n-i)*(c_n-j)*A[i][j])\n",
    "     return ans"
   ],
   "metadata": {
    "collapsed": false
   }
  },
  {
   "cell_type": "code",
   "execution_count": 130,
   "outputs": [
    {
     "data": {
      "text/plain": "16"
     },
     "execution_count": 130,
     "metadata": {},
     "output_type": "execute_result"
    }
   ],
   "source": [
    "A = [ [1, 1],\n",
    "      [1, 1], ]\n",
    "solve(A)"
   ],
   "metadata": {
    "collapsed": false
   }
  },
  {
   "cell_type": "markdown",
   "source": [
    "## Q3. Search in a row wise and column wise sorted matrix\n",
    "\n",
    "**Problem Description**\n",
    "Given a matrix of integers A of size N x M and an integer B.\n",
    "In the given matrix every row and column is sorted in non-decreasing order. Find and return the position of B in the matrix in the given form:\n",
    "If A[i][j] = B then return (i * 1009 + j)\n",
    "If B is not present return -1.\n",
    "\n",
    "Note 1: Rows are numbered from top to bottom and columns are numbered from left to right.\n",
    "Note 2: If there are multiple B in A then return the smallest value of i*1009 +j such that A[i][j]=B.\n",
    "Note 3: Expected time complexity is linear\n",
    "Note 4: Use 1-based indexing\n",
    "\n",
    "**Problem Constraints**\n",
    "1 <= N, M <= 1000\n",
    "-100000 <= A[i] <= 100000\n",
    "-100000 <= B <= 100000\n"
   ],
   "metadata": {
    "collapsed": false
   }
  },
  {
   "cell_type": "code",
   "execution_count": 164,
   "outputs": [],
   "source": [
    "def solve(A):\n",
    "     n_r = len(A)\n",
    "     n_c = len(A[0])\n",
    "\n",
    "     # Prefix Matrix\n",
    "     for r in range(0,n_r):\n",
    "          for c in range(1,n_c):\n",
    "               A[r][c] = A[r][c-1]+A[r][c]\n",
    "     for c in range(0,n_c):\n",
    "          for r in range(1,n_r):\n",
    "               A[r][c] = A[r-1][c]+A[r][c]\n",
    "     r2 = n_r-1\n",
    "     c2 = n_c-1\n",
    "     max_ = float('-Inf')\n",
    "     for r1 in range(0,n_r):\n",
    "          for c1 in range(0,n_c):\n",
    "               ans = A[r2][c2]\n",
    "               if c1-1>=0:\n",
    "                    ans-=A[r2][c1-1]\n",
    "               if r1-1>=0:\n",
    "                    ans-=A[r1-1][c2]\n",
    "               if c1-1>=0 and r1-1>=0:\n",
    "                    ans+=A[r1-1][c1-1]\n",
    "               max_ = max(ans, max_)\n",
    "     return max_"
   ],
   "metadata": {
    "collapsed": false
   }
  },
  {
   "cell_type": "code",
   "execution_count": 165,
   "outputs": [
    {
     "data": {
      "text/plain": "45"
     },
     "execution_count": 165,
     "metadata": {},
     "output_type": "execute_result"
    }
   ],
   "source": [
    "A = [[1, 2, 3],\n",
    "     [4, 5, 6],\n",
    "     [7, 8, 9]]\n",
    "\n",
    "solve(A)"
   ],
   "metadata": {
    "collapsed": false
   }
  },
  {
   "cell_type": "code",
   "execution_count": null,
   "outputs": [],
   "source": [],
   "metadata": {
    "collapsed": false
   }
  }
 ],
 "metadata": {
  "kernelspec": {
   "display_name": "Python 3",
   "language": "python",
   "name": "python3"
  },
  "language_info": {
   "codemirror_mode": {
    "name": "ipython",
    "version": 2
   },
   "file_extension": ".py",
   "mimetype": "text/x-python",
   "name": "python",
   "nbconvert_exporter": "python",
   "pygments_lexer": "ipython2",
   "version": "2.7.6"
  }
 },
 "nbformat": 4,
 "nbformat_minor": 0
}
