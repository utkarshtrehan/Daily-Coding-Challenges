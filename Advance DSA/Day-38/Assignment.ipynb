{
 "cells": [
  {
   "cell_type": "markdown",
   "source": [
    "# Day 38 - Advanced DSA : Bit Manipulation - Problems"
   ],
   "metadata": {
    "collapsed": false
   }
  },
  {
   "cell_type": "markdown",
   "source": [
    "## Q1. Single Number III\n",
    "\n",
    "**Problem Description**\n",
    "\n",
    "Given an array of positive integers A, two integers appear only once, and all the other integers appear twice.\n",
    "Find the two integers that appear only once.\n",
    "\n",
    "Note: Return the two numbers in ascending order."
   ],
   "metadata": {
    "collapsed": false
   }
  },
  {
   "cell_type": "code",
   "execution_count": 9,
   "outputs": [],
   "source": [
    "def solve(A):\n",
    "    n=len(A)\n",
    "    ans=0\n",
    "    for i in range(n):\n",
    "        ans^=(A[i])\n",
    "    ans=(ans & -ans)            # xor value of Array & (2's complement of xor value of Array)\n",
    "    # print(f'xor: {ans}, bool: {bool(ans)}')\n",
    "    num1,num2=0,0\n",
    "    for i in range(n):\n",
    "        if(A[i]&ans) > 0:\n",
    "            num1^=A[i]\n",
    "        else:\n",
    "            num2^=A[i]\n",
    "    if num1>num2:\n",
    "        return(num2,num1)\n",
    "    else:\n",
    "        return(num1,num2)"
   ],
   "metadata": {
    "collapsed": false,
    "ExecuteTime": {
     "end_time": "2023-05-19T21:46:34.281466Z",
     "start_time": "2023-05-19T21:46:34.274758Z"
    }
   }
  },
  {
   "cell_type": "code",
   "execution_count": 10,
   "outputs": [
    {
     "data": {
      "text/plain": "(4, 6)"
     },
     "execution_count": 10,
     "metadata": {},
     "output_type": "execute_result"
    }
   ],
   "source": [
    "A = [6, 1, 2, 1, 2, 4]\n",
    "solve(A)"
   ],
   "metadata": {
    "collapsed": false,
    "ExecuteTime": {
     "end_time": "2023-05-19T21:46:34.527638Z",
     "start_time": "2023-05-19T21:46:34.523924Z"
    }
   }
  },
  {
   "cell_type": "markdown",
   "source": [
    "## Q2. Maximum AND Pair\n",
    "\n",
    "**Problem Description**\n",
    "\n",
    "Given an array A. For every pair of indices i and j (i != j), find the maximum A[i] & A[j]."
   ],
   "metadata": {
    "collapsed": false
   }
  },
  {
   "cell_type": "code",
   "execution_count": 41,
   "outputs": [],
   "source": [
    "def solve(A):\n",
    "    ans = 0\n",
    "    for b in range(31,-1,-1):\n",
    "        count = 0\n",
    "        for i in range(len(A)):\n",
    "            last_bit = (A[i]>>b) & 1\n",
    "            count+=last_bit\n",
    "\n",
    "        if count >= 2:\n",
    "            for j in range(len(A)):\n",
    "                if A[j]>>b & 1 == 0:\n",
    "                    A[j] = 0\n",
    "                ans = ans | (1<<b)\n",
    "\n",
    "    return ans"
   ],
   "metadata": {
    "collapsed": false,
    "ExecuteTime": {
     "end_time": "2023-05-21T08:08:49.919852Z",
     "start_time": "2023-05-21T08:08:49.912141Z"
    }
   }
  },
  {
   "cell_type": "code",
   "execution_count": 43,
   "outputs": [],
   "source": [
    "def solve(A):\n",
    "    v = []\n",
    "    for i in A:\n",
    "        v.append(i)\n",
    "    for i in range(29, -1, -1):\n",
    "        # create a set of elements with the i-th bit set\n",
    "        v2 = []\n",
    "        for j in v:\n",
    "            if j & (1<<i):\n",
    "                v2.append(j)\n",
    "        if len(v2) >= 2:\n",
    "            v = v2\n",
    "    return v[0] & v[1]"
   ],
   "metadata": {
    "collapsed": false,
    "ExecuteTime": {
     "end_time": "2023-05-21T08:34:12.381986Z",
     "start_time": "2023-05-21T08:34:12.379397Z"
    }
   }
  },
  {
   "cell_type": "code",
   "execution_count": 44,
   "outputs": [
    {
     "data": {
      "text/plain": "5"
     },
     "execution_count": 44,
     "metadata": {},
     "output_type": "execute_result"
    }
   ],
   "source": [
    "solve([3,5,7])"
   ],
   "metadata": {
    "collapsed": false,
    "ExecuteTime": {
     "end_time": "2023-05-21T08:34:12.724287Z",
     "start_time": "2023-05-21T08:34:12.720913Z"
    }
   }
  },
  {
   "cell_type": "markdown",
   "source": [
    "## Q3. Single Number\n",
    "\n",
    "**Problem Description**\n",
    "\n",
    "Given an array of integers A, every element appears twice except for one. Find that integer that occurs once.\n",
    "\n",
    "NOTE: Your algorithm should have a linear runtime complexity. Could you implement it without using extra memory?"
   ],
   "metadata": {
    "collapsed": false
   }
  },
  {
   "cell_type": "code",
   "execution_count": 11,
   "outputs": [],
   "source": [
    "def singleNumber(A):\n",
    "    ans=0\n",
    "    for n in A:\n",
    "        ans^=n\n",
    "    return ans"
   ],
   "metadata": {
    "collapsed": false,
    "ExecuteTime": {
     "end_time": "2023-05-19T21:47:15.553499Z",
     "start_time": "2023-05-19T21:47:15.549044Z"
    }
   }
  },
  {
   "cell_type": "code",
   "execution_count": 12,
   "outputs": [
    {
     "data": {
      "text/plain": "3"
     },
     "execution_count": 12,
     "metadata": {},
     "output_type": "execute_result"
    }
   ],
   "source": [
    " A = [1, 2, 2, 3, 1]\n",
    "singleNumber(A)"
   ],
   "metadata": {
    "collapsed": false,
    "ExecuteTime": {
     "end_time": "2023-05-19T21:47:24.205070Z",
     "start_time": "2023-05-19T21:47:24.200696Z"
    }
   }
  },
  {
   "cell_type": "markdown",
   "source": [
    "## Q4. Single Number II\n",
    "\n",
    "**Problem Description**\n",
    "\n",
    "Given an array of integers, every element appears thrice except for one, which occurs once.\n",
    "\n",
    "Find that element that does not appear thrice.\n",
    "\n",
    "NOTE: Your algorithm should have a linear runtime complexity.\n",
    "\n",
    "Could you implement it without using extra memory?\n"
   ],
   "metadata": {
    "collapsed": false
   }
  },
  {
   "cell_type": "code",
   "execution_count": 30,
   "outputs": [],
   "source": [
    "def singleNumber(A):\n",
    "    ans = 0\n",
    "    for i in range(0, 32):\n",
    "        count = 0\n",
    "        for j in range(0, len(A)):\n",
    "            if A[j]&(1<<i) != 0:\n",
    "                count+=1\n",
    "        ans+=(count%3)*(1<<i)\n",
    "    return ans"
   ],
   "metadata": {
    "collapsed": false,
    "ExecuteTime": {
     "end_time": "2023-05-19T22:05:38.324339Z",
     "start_time": "2023-05-19T22:05:38.314552Z"
    }
   }
  },
  {
   "cell_type": "code",
   "execution_count": 29,
   "outputs": [
    {
     "data": {
      "text/plain": "4"
     },
     "execution_count": 29,
     "metadata": {},
     "output_type": "execute_result"
    }
   ],
   "source": [
    " A = [1, 2, 4, 3, 3, 2, 2, 3, 1, 1]\n",
    "singleNumber(A)"
   ],
   "metadata": {
    "collapsed": false,
    "ExecuteTime": {
     "end_time": "2023-05-19T22:05:33.766214Z",
     "start_time": "2023-05-19T22:05:33.759052Z"
    }
   }
  },
  {
   "cell_type": "markdown",
   "source": [
    "---"
   ],
   "metadata": {
    "collapsed": false
   }
  }
 ],
 "metadata": {
  "kernelspec": {
   "display_name": "Python 3",
   "language": "python",
   "name": "python3"
  },
  "language_info": {
   "codemirror_mode": {
    "name": "ipython",
    "version": 2
   },
   "file_extension": ".py",
   "mimetype": "text/x-python",
   "name": "python",
   "nbconvert_exporter": "python",
   "pygments_lexer": "ipython2",
   "version": "2.7.6"
  }
 },
 "nbformat": 4,
 "nbformat_minor": 0
}
