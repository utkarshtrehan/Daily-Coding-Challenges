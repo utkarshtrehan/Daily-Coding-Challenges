{
 "cells": [
  {
   "cell_type": "markdown",
   "source": [
    "# Day 42 - Advanced DSA : Maths 2: GCD"
   ],
   "metadata": {
    "collapsed": false
   }
  },
  {
   "cell_type": "markdown",
   "source": [
    "## Q1. Delete one\n",
    "\n",
    "**Problem Description**\n",
    "\n",
    "Given an integer array A of size N. You have to delete one element such that the GCD(Greatest common divisor) of the remaining array is maximum.\n",
    "Find the maximum value of GCD.\n",
    "\n",
    "**Problem Constraints**\n",
    "\n",
    "2 <= N <= 105\n",
    "1 <= A[i] <= 109"
   ],
   "metadata": {
    "collapsed": false
   }
  },
  {
   "cell_type": "code",
   "execution_count": 8,
   "outputs": [],
   "source": [
    "def solve(A):\n",
    "\n",
    "    N = len(A)\n",
    "\n",
    "    # Prefix GCD array\n",
    "    pf_gcd = [0]*len(A)\n",
    "    pf_gcd[0] = A[0]\n",
    "    for i in range(1, N):\n",
    "        pf_gcd[i] = gcd(pf_gcd[i-1], A[i])\n",
    "\n",
    "    # Sufix GCD array\n",
    "    sf_gcd = [0]*len(A)\n",
    "    sf_gcd[N-1] = A[N-1]\n",
    "    for i in range(N-2, -1, -1):\n",
    "        sf_gcd[i] = gcd(sf_gcd[i+1], A[i])\n",
    "\n",
    "    ans = 1\n",
    "    for i in range(0, N):\n",
    "        if i == 0:\n",
    "            ans = max(ans, sf_gcd[i+1])\n",
    "        elif i == N-1:\n",
    "            ans = max(ans, pf_gcd[i-1])\n",
    "        else:\n",
    "            ans = max(ans, gcd(pf_gcd[i-1], sf_gcd[i+1]))\n",
    "\n",
    "    return ans"
   ],
   "metadata": {
    "collapsed": false,
    "ExecuteTime": {
     "end_time": "2023-05-22T18:27:03.946844Z",
     "start_time": "2023-05-22T18:27:03.939792Z"
    }
   }
  },
  {
   "cell_type": "code",
   "execution_count": 9,
   "outputs": [
    {
     "data": {
      "text/plain": "6"
     },
     "execution_count": 9,
     "metadata": {},
     "output_type": "execute_result"
    }
   ],
   "source": [
    "A = [12, 15, 18]\n",
    "solve(A)"
   ],
   "metadata": {
    "collapsed": false,
    "ExecuteTime": {
     "end_time": "2023-05-22T18:27:04.190902Z",
     "start_time": "2023-05-22T18:27:04.182Z"
    }
   }
  },
  {
   "cell_type": "markdown",
   "source": [
    "## Q2. Greatest Common Divisor\n",
    "\n",
    "**Problem Description**\n",
    "\n",
    "Given 2 non-negative integers A and B, find gcd(A, B)\n",
    "GCD of 2 integers A and B is defined as the greatest integer 'g' such that 'g' is a divisor of both A and B. Both A and B fit in a 32 bit signed integer.\n",
    "\n",
    "Note: DO NOT USE LIBRARY FUNCTIONS.\n",
    "\n",
    "**Problem Constraints**\n",
    "0 <= A, B <= 109"
   ],
   "metadata": {
    "collapsed": false
   }
  },
  {
   "cell_type": "code",
   "execution_count": 10,
   "outputs": [],
   "source": [
    "def gcd(A, B):\n",
    "    if A == 0:\n",
    "        return B\n",
    "    return gcd(B%A, A)"
   ],
   "metadata": {
    "collapsed": false,
    "ExecuteTime": {
     "end_time": "2023-05-22T18:27:04.880807Z",
     "start_time": "2023-05-22T18:27:04.872802Z"
    }
   }
  },
  {
   "cell_type": "code",
   "execution_count": 11,
   "outputs": [
    {
     "data": {
      "text/plain": "2"
     },
     "execution_count": 11,
     "metadata": {},
     "output_type": "execute_result"
    }
   ],
   "source": [
    "gcd(4, 6)\n",
    "gcd(6, 4)"
   ],
   "metadata": {
    "collapsed": false,
    "ExecuteTime": {
     "end_time": "2023-05-22T18:27:05.247523Z",
     "start_time": "2023-05-22T18:27:05.242251Z"
    }
   }
  },
  {
   "cell_type": "markdown",
   "source": [
    "## Q3. Pubg\n",
    "\n",
    "**Problem Description**\n",
    "\n",
    "There are N players, each with strength A[i]. when player i attack player j, player j strength reduces to max(0, A[j]-A[i]). When a player's strength reaches zero, it loses the game, and the game continues in the same manner among other players until only 1 survivor remains.\n",
    "\n",
    "Can you tell the minimum health last surviving person can have?\n",
    "\n",
    "**Problem Constraints**\n",
    "\n",
    "1 <= N <= 100000\n",
    "1 <= A[i] <= 1000000"
   ],
   "metadata": {
    "collapsed": false
   }
  },
  {
   "cell_type": "code",
   "execution_count": 12,
   "outputs": [],
   "source": [
    "def solve(A):\n",
    "\n",
    "    N = len(A)\n",
    "    gcd_ = 0\n",
    "\n",
    "    for i in range(0, N):\n",
    "        gcd_ = gcd(gcd_, A[i])\n",
    "\n",
    "    return gcd_"
   ],
   "metadata": {
    "collapsed": false,
    "ExecuteTime": {
     "end_time": "2023-05-22T18:27:05.905246Z",
     "start_time": "2023-05-22T18:27:05.899580Z"
    }
   }
  },
  {
   "cell_type": "code",
   "execution_count": 13,
   "outputs": [
    {
     "data": {
      "text/plain": "2"
     },
     "execution_count": 13,
     "metadata": {},
     "output_type": "execute_result"
    }
   ],
   "source": [
    "A = [6, 4]\n",
    "solve(A)"
   ],
   "metadata": {
    "collapsed": false,
    "ExecuteTime": {
     "end_time": "2023-05-22T18:27:06.499867Z",
     "start_time": "2023-05-22T18:27:06.490349Z"
    }
   }
  },
  {
   "cell_type": "markdown",
   "source": [
    "---"
   ],
   "metadata": {
    "collapsed": false
   }
  }
 ],
 "metadata": {
  "kernelspec": {
   "display_name": "Python 3",
   "language": "python",
   "name": "python3"
  },
  "language_info": {
   "codemirror_mode": {
    "name": "ipython",
    "version": 2
   },
   "file_extension": ".py",
   "mimetype": "text/x-python",
   "name": "python",
   "nbconvert_exporter": "python",
   "pygments_lexer": "ipython2",
   "version": "2.7.6"
  }
 },
 "nbformat": 4,
 "nbformat_minor": 0
}
