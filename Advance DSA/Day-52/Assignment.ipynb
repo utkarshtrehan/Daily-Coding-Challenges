{
 "cells": [
  {
   "cell_type": "markdown",
   "source": [
    "# Day 52 - Advanced DSA : Searching 2: Binary Search Problems"
   ],
   "metadata": {
    "collapsed": false
   }
  },
  {
   "cell_type": "markdown",
   "source": [
    "## Q1. Square Root of Integer\n",
    "\n",
    "**Problem Description**\n",
    "\n",
    "Given an integer A. Compute and return the square root of A.\n",
    "If A is not a perfect square, return floor(sqrt(A)).\n",
    "The value of A can cross the range of Integer.\n",
    "\n",
    "NOTE:\n",
    "Do not use the sqrt function from the standard library.\n",
    "Users are expected to solve this in O(log(A)) time.\n",
    "\n",
    "\n",
    "**Problem Constraints**\n",
    "0 <= A <= 10^10"
   ],
   "metadata": {
    "collapsed": false
   }
  },
  {
   "cell_type": "code",
   "execution_count": 8,
   "outputs": [],
   "source": [
    "def sqrt(A):\n",
    "    if A==0:\n",
    "        return 0\n",
    "    low = 1\n",
    "    high = A\n",
    "    ans = -1\n",
    "    while low<=high:\n",
    "        mid = (low+high)//2\n",
    "        print(f'iteration: low:{low}, high:{high}, mid:{mid}')\n",
    "        if (mid*mid)<=A:\n",
    "            ans = mid\n",
    "            low = mid+1\n",
    "        else:\n",
    "            high = mid-1\n",
    "    return ans"
   ],
   "metadata": {
    "collapsed": false,
    "ExecuteTime": {
     "end_time": "2023-06-04T21:26:41.424131Z",
     "start_time": "2023-06-04T21:26:41.409837Z"
    }
   }
  },
  {
   "cell_type": "code",
   "execution_count": 10,
   "outputs": [
    {
     "name": "stdout",
     "output_type": "stream",
     "text": [
      "iteration: low:1, high:1, mid:1\n"
     ]
    },
    {
     "data": {
      "text/plain": "1"
     },
     "execution_count": 10,
     "metadata": {},
     "output_type": "execute_result"
    }
   ],
   "source": [
    "sqrt(1)"
   ],
   "metadata": {
    "collapsed": false,
    "ExecuteTime": {
     "end_time": "2023-06-04T21:26:44.008642Z",
     "start_time": "2023-06-04T21:26:44.004611Z"
    }
   }
  },
  {
   "cell_type": "markdown",
   "source": [
    "## Q2. Rotated Sorted Array Search\n",
    "\n",
    "**Problem Description**\n",
    "\n",
    "Given a sorted array of integers A of size N and an integer B,\n",
    "where array A is rotated at some pivot unknown beforehand.\n",
    "For example, the array [0, 1, 2, 4, 5, 6, 7] might become [4, 5, 6, 7, 0, 1, 2].\n",
    "Your task is to search for the target value B in the array. If found, return its index; otherwise, return -1.\n",
    "You can assume that no duplicates exist in the array.\n",
    "NOTE: You are expected to solve this problem with a time complexity of O(log(N)).\n",
    "\n",
    "**Problem Constraints**\n",
    "\n",
    "1 <= N <= 1000000\n",
    "1 <= A[i] <= 10^9\n",
    "All elements in A are Distinct."
   ],
   "metadata": {
    "collapsed": false
   }
  },
  {
   "cell_type": "code",
   "execution_count": 108,
   "outputs": [],
   "source": [
    "def find_pivot(A):\n",
    "    N = len(A)\n",
    "    low = 0\n",
    "    high = N-1\n",
    "    first_element = A[0]\n",
    "    pivot = 0\n",
    "    while low <= high:\n",
    "        mid = (low + high) // 2\n",
    "        if A[mid] < first_element:\n",
    "            pivot = mid\n",
    "            high = mid - 1\n",
    "        else:\n",
    "            low = mid + 1\n",
    "    return pivot"
   ],
   "metadata": {
    "collapsed": false,
    "ExecuteTime": {
     "end_time": "2023-06-07T20:11:25.648192Z",
     "start_time": "2023-06-07T20:11:25.645157Z"
    }
   }
  },
  {
   "cell_type": "code",
   "execution_count": 109,
   "outputs": [],
   "source": [
    "def binary_search(A, low, high, B):\n",
    "    print(f'low: {low} value: {A[low]}, high: {high} value: {A[high]}')\n",
    "    while low<=high:\n",
    "        mid = (low+high)//2\n",
    "        if A[mid] == B:\n",
    "            return mid\n",
    "        elif A[mid]<B:\n",
    "            low = mid+1\n",
    "        else:\n",
    "            high = mid-1\n",
    "    return -1"
   ],
   "metadata": {
    "collapsed": false,
    "ExecuteTime": {
     "end_time": "2023-06-07T20:11:26.420712Z",
     "start_time": "2023-06-07T20:11:26.416099Z"
    }
   }
  },
  {
   "cell_type": "code",
   "execution_count": 110,
   "outputs": [],
   "source": [
    "def search(A, B):\n",
    "    pivot = find_pivot(A)\n",
    "    print(f'Pivot: {pivot}')\n",
    "    a = binary_search(A, 0, pivot-1, B)\n",
    "    b = binary_search(A, pivot, len(A)-1, B)\n",
    "\n",
    "    if a!=-1:\n",
    "        return a\n",
    "    if b!=-1:\n",
    "        return b\n",
    "\n",
    "    return -1"
   ],
   "metadata": {
    "collapsed": false,
    "ExecuteTime": {
     "end_time": "2023-06-07T20:11:26.886100Z",
     "start_time": "2023-06-07T20:11:26.883423Z"
    }
   }
  },
  {
   "cell_type": "code",
   "execution_count": 111,
   "outputs": [
    {
     "name": "stdout",
     "output_type": "stream",
     "text": [
      "Pivot: 1\n",
      "low: 0 value: 5, high: 0 value: 5\n",
      "low: 1 value: 1, high: 2 value: 3\n"
     ]
    },
    {
     "data": {
      "text/plain": "0"
     },
     "execution_count": 111,
     "metadata": {},
     "output_type": "execute_result"
    }
   ],
   "source": [
    "A = [5,1,3]\n",
    "B = 5\n",
    "search(A, B)"
   ],
   "metadata": {
    "collapsed": false,
    "ExecuteTime": {
     "end_time": "2023-06-07T20:11:27.377994Z",
     "start_time": "2023-06-07T20:11:27.370340Z"
    }
   }
  },
  {
   "cell_type": "markdown",
   "source": [
    "## Q3. Median of Array\n",
    "\n",
    "**Problem Description**\n",
    "\n",
    "There are two sorted arrays A and B of sizes N and M respectively.\n",
    "Find the median of the two sorted arrays ( The median of the array formed by merging both the arrays ).\n",
    "NOTE:\n",
    "The overall run time complexity should be O(log(m+n)).\n",
    "IF the number of elements in the merged array is even, then the median is the average of (n/2)th and (n/2+1)th element. For example, if the array is [1 2 3 4], the median is (2 + 3) / 2.0 = 2.5.\n",
    "\n",
    "**Problem Constraints**\n",
    "1 <= N + M <= 2*10^6"
   ],
   "metadata": {
    "collapsed": false
   }
  },
  {
   "cell_type": "code",
   "execution_count": null,
   "outputs": [],
   "source": [],
   "metadata": {
    "collapsed": false
   }
  },
  {
   "cell_type": "code",
   "execution_count": 1,
   "outputs": [],
   "source": [
    "def findMedianSortedArrays(A, B):\n",
    "    if len(A) > len(B):\n",
    "        A, B = B, A\n",
    "\n",
    "    x, y = len(A), len(B)\n",
    "\n",
    "    start = 0\n",
    "    end = x\n",
    "\n",
    "    while start <= end:\n",
    "        partitionX = (start + end) // 2\n",
    "        partitionY = ((x + y + 1) // 2) - partitionX\n",
    "\n",
    "        maxLeftX = float('-inf') if partitionX == 0 else A[partitionX - 1]\n",
    "        minRightX = float('inf') if partitionX == x else A[partitionX]\n",
    "\n",
    "        maxLeftY = float('-inf') if partitionY == 0 else B[partitionY - 1]\n",
    "        minRightY = float('inf') if partitionY == y else B[partitionY]\n",
    "\n",
    "        print(f\"partitionX: {partitionX}, partitionY: {partitionY}\")\n",
    "        print(f\"maxLeftX: {maxLeftX}, minRightX: {minRightX}\")\n",
    "        print(f\"maxLeftY: {maxLeftY}, minRightY: {minRightY}\")\n",
    "\n",
    "        if maxLeftX <= minRightY and maxLeftY <= minRightX:\n",
    "            print(f\"Correct partition found.\")\n",
    "            if (x + y) % 2 == 0:\n",
    "                print(f\"Even length, median is (max(maxLeftX, maxLeftY) + min(minRightX, minRightY)) / 2\")\n",
    "                return (max(maxLeftX, maxLeftY) + min(minRightX, minRightY)) / 2\n",
    "            else:\n",
    "                print(f\"Odd length, median is max(maxLeftX, maxLeftY)\")\n",
    "                return max(maxLeftX, maxLeftY)\n",
    "\n",
    "        elif maxLeftX > minRightY:\n",
    "            print(f\"maxLeftX > minRightY, moving end to partitionX - 1\")\n",
    "            end = partitionX - 1\n",
    "\n",
    "        else:\n",
    "            print(f\"maxLeftY > minRightX, moving start to partitionX + 1\")\n",
    "            start = partitionX + 1\n",
    "\n",
    "    raise Exception(\"Input arrays are not sorted\")\n"
   ],
   "metadata": {
    "collapsed": false,
    "ExecuteTime": {
     "end_time": "2023-07-09T22:02:24.775311Z",
     "start_time": "2023-07-09T22:02:24.772055Z"
    }
   }
  },
  {
   "cell_type": "code",
   "execution_count": 2,
   "outputs": [
    {
     "name": "stdout",
     "output_type": "stream",
     "text": [
      "partitionX: 1, partitionY: 2\n",
      "maxLeftX: 2, minRightX: 3\n",
      "maxLeftY: 4, minRightY: 5\n",
      "maxLeftY > minRightX, moving start to partitionX + 1\n",
      "partitionX: 2, partitionY: 1\n",
      "maxLeftX: 3, minRightX: inf\n",
      "maxLeftY: 1, minRightY: 4\n",
      "Correct partition found.\n",
      "Odd length, median is max(maxLeftX, maxLeftY)\n"
     ]
    },
    {
     "data": {
      "text/plain": "3"
     },
     "execution_count": 2,
     "metadata": {},
     "output_type": "execute_result"
    }
   ],
   "source": [
    "A = [1, 4, 5]\n",
    "B = [2, 3]\n",
    "findMedianSortedArrays(A, B)"
   ],
   "metadata": {
    "collapsed": false,
    "ExecuteTime": {
     "end_time": "2023-07-09T22:02:54.557088Z",
     "start_time": "2023-07-09T22:02:54.549311Z"
    }
   }
  },
  {
   "cell_type": "markdown",
   "source": [
    "## Q4. Ath Magical Number\n",
    "\n",
    "**Problem Description**\n",
    "You are given three positive integers, A, B, and C.\n",
    "Any positive integer is magical if divisible by either B or C.\n",
    "Return the Ath smallest magical number. Since the answer may be very large, return modulo 10^9 + 7.\n",
    "Note: Ensure to prevent integer overflow while calculating.\n",
    "\n",
    "**Problem Constraints**\n",
    "1 <= A <= 10^9\n",
    "2 <= B, C <= 40000"
   ],
   "metadata": {
    "collapsed": false
   }
  },
  {
   "cell_type": "code",
   "execution_count": 135,
   "outputs": [],
   "source": [
    "def hcf(A, B):\n",
    "    if B==0:\n",
    "        return A\n",
    "    return hcf(B, A%B)"
   ],
   "metadata": {
    "collapsed": false,
    "ExecuteTime": {
     "end_time": "2023-06-07T21:54:31.098345Z",
     "start_time": "2023-06-07T21:54:31.093783Z"
    }
   }
  },
  {
   "cell_type": "code",
   "execution_count": 136,
   "outputs": [],
   "source": [
    "def count(A, B, C):\n",
    "    HCF = hcf(B, C)\n",
    "    LCM = (B*C)//(HCF)\n",
    "    count = A//B + A//C - A//LCM\n",
    "    return count"
   ],
   "metadata": {
    "collapsed": false,
    "ExecuteTime": {
     "end_time": "2023-06-07T21:54:31.358738Z",
     "start_time": "2023-06-07T21:54:31.339137Z"
    }
   }
  },
  {
   "cell_type": "code",
   "execution_count": 141,
   "outputs": [],
   "source": [
    "def binary_search(A, B, C):\n",
    "    low = min(B, C)\n",
    "    high = A*min(B, C)\n",
    "    modval = 1000000007\n",
    "    ans = 0\n",
    "    while low <= high:\n",
    "        mid = (low+high)// 2\n",
    "        cnt = count(mid, B, C)\n",
    "        if cnt >= A:\n",
    "            if cnt == A:\n",
    "                ans = mid\n",
    "            high = mid - 1\n",
    "        else:\n",
    "            low = mid + 1\n",
    "    return ans % modval"
   ],
   "metadata": {
    "collapsed": false,
    "ExecuteTime": {
     "end_time": "2023-06-07T22:01:37.922033Z",
     "start_time": "2023-06-07T22:01:37.896188Z"
    }
   }
  },
  {
   "cell_type": "code",
   "execution_count": 142,
   "outputs": [
    {
     "data": {
      "text/plain": "6"
     },
     "execution_count": 142,
     "metadata": {},
     "output_type": "execute_result"
    }
   ],
   "source": [
    "A = 4\n",
    "B = 2\n",
    "C = 3\n",
    "binary_search(A, B, C)"
   ],
   "metadata": {
    "collapsed": false,
    "ExecuteTime": {
     "end_time": "2023-06-07T22:01:38.180705Z",
     "start_time": "2023-06-07T22:01:38.175892Z"
    }
   }
  },
  {
   "cell_type": "code",
   "execution_count": null,
   "outputs": [],
   "source": [],
   "metadata": {
    "collapsed": false
   }
  }
 ],
 "metadata": {
  "kernelspec": {
   "display_name": "Python 3",
   "language": "python",
   "name": "python3"
  },
  "language_info": {
   "codemirror_mode": {
    "name": "ipython",
    "version": 2
   },
   "file_extension": ".py",
   "mimetype": "text/x-python",
   "name": "python",
   "nbconvert_exporter": "python",
   "pygments_lexer": "ipython2",
   "version": "2.7.6"
  }
 },
 "nbformat": 4,
 "nbformat_minor": 0
}
