{
 "cells": [
  {
   "cell_type": "markdown",
   "source": [
    "# Day 70 - Advanced DSA : Trees 3: BST\n"
   ],
   "metadata": {
    "collapsed": false
   }
  },
  {
   "cell_type": "code",
   "execution_count": 2,
   "outputs": [],
   "source": [
    "class TreeNode:\n",
    "    def __init__(self, x):\n",
    "        self.val = x\n",
    "        self.left = None\n",
    "        self.right = None"
   ],
   "metadata": {
    "collapsed": false,
    "ExecuteTime": {
     "end_time": "2023-07-09T18:43:31.690067Z",
     "start_time": "2023-07-09T18:43:31.687188Z"
    }
   }
  },
  {
   "cell_type": "code",
   "execution_count": 13,
   "outputs": [],
   "source": [
    "def create_balanced_tree(arr):\n",
    "    if not arr:\n",
    "        return None\n",
    "\n",
    "    mid = len(arr) // 2\n",
    "    root = TreeNode(arr[mid])\n",
    "\n",
    "    root.left = create_balanced_tree(arr[:mid])\n",
    "    root.right = create_balanced_tree(arr[mid+1:])\n",
    "\n",
    "    return root\n"
   ],
   "metadata": {
    "collapsed": false,
    "ExecuteTime": {
     "end_time": "2023-07-09T18:55:56.419208Z",
     "start_time": "2023-07-09T18:55:56.415885Z"
    }
   }
  },
  {
   "cell_type": "markdown",
   "source": [
    "## Q3. Search in BST\n",
    "\n",
    "**Problem Description**\n",
    "\n",
    "Given a Binary Search Tree A. Check whether there exists a node with value B in the BST.\n",
    "\n",
    "**Problem Constraints**\n",
    "\n",
    "1 <= Number of nodes in binary tree <= 10^5\n",
    "\n",
    "0 <= B <= 10^6"
   ],
   "metadata": {
    "collapsed": false
   }
  },
  {
   "cell_type": "code",
   "execution_count": 11,
   "outputs": [],
   "source": [
    "def solve(A, B):\n",
    "    temp = A\n",
    "    while temp:\n",
    "        print(f'Checking {temp.val}')\n",
    "        if temp.val == B:\n",
    "            return True\n",
    "        elif temp.val < B:\n",
    "            temp = temp.right\n",
    "        elif temp.val > B:\n",
    "            temp =temp.left\n",
    "    return False"
   ],
   "metadata": {
    "collapsed": false,
    "ExecuteTime": {
     "end_time": "2023-07-09T18:52:23.397509Z",
     "start_time": "2023-07-09T18:52:23.390955Z"
    }
   }
  },
  {
   "cell_type": "code",
   "execution_count": 31,
   "outputs": [
    {
     "name": "stdout",
     "output_type": "stream",
     "text": [
      "Checking 5\n",
      "Checking 9\n",
      "Checking 11\n"
     ]
    },
    {
     "data": {
      "text/plain": "False"
     },
     "execution_count": 31,
     "metadata": {},
     "output_type": "execute_result"
    }
   ],
   "source": [
    "arr = [9,6,4,8,2,3,5,11,1]\n",
    "arr.sort()\n",
    "balanced_tree = create_balanced_tree(arr)\n",
    "solve(balanced_tree, 13)"
   ],
   "metadata": {
    "collapsed": false,
    "ExecuteTime": {
     "end_time": "2023-07-09T18:58:23.856522Z",
     "start_time": "2023-07-09T18:58:23.842538Z"
    }
   }
  },
  {
   "cell_type": "markdown",
   "source": [
    "## Q2. Sorted Array To Balanced BST\n",
    "\n",
    "**Problem Description**\n",
    "\n",
    "Given an array where elements are sorted in ascending order, convert it to a height Balanced Binary Search Tree (BBST).\n",
    "Balanced tree : a height-balanced binary tree is defined as a binary tree in which the depth of the two subtrees of every node never differ by more than 1.\n",
    "\n",
    "**Problem Constraints**\n",
    "\n",
    "1 <= length of array <= 100000"
   ],
   "metadata": {
    "collapsed": false
   }
  },
  {
   "cell_type": "code",
   "execution_count": 42,
   "outputs": [],
   "source": [
    "def sortedArrayToBST(A):\n",
    "    if not A:\n",
    "        return None\n",
    "    N = len(A)\n",
    "    mid = N//2\n",
    "\n",
    "    root = TreeNode(A[mid])\n",
    "    root.left = sortedArrayToBST(A[:mid])\n",
    "    root.right = sortedArrayToBST(A[mid+1:])\n",
    "\n",
    "    return root"
   ],
   "metadata": {
    "collapsed": false,
    "ExecuteTime": {
     "end_time": "2023-07-09T20:07:11.497762Z",
     "start_time": "2023-07-09T20:07:11.495252Z"
    }
   }
  },
  {
   "cell_type": "code",
   "execution_count": 43,
   "outputs": [],
   "source": [
    "arr = [9,6,4,8,2,3,5,11,1]\n",
    "arr.sort()\n",
    "balanced_tree = sortedArrayToBST(arr)"
   ],
   "metadata": {
    "collapsed": false,
    "ExecuteTime": {
     "end_time": "2023-07-09T20:07:11.779756Z",
     "start_time": "2023-07-09T20:07:11.762894Z"
    }
   }
  },
  {
   "cell_type": "markdown",
   "source": [
    "# Q1. Valid Binary Search Tree\n",
    "\n",
    "**Problem Description**\n",
    "\n",
    "You are given a binary tree represented by root A. You need to check if it is a Binary Search Tree or not.\n",
    "\n",
    "**Assume a BST is defined as follows:**\n",
    "\n",
    "1) The left subtree of a node contains only nodes with keys less than the node's key.\n",
    "\n",
    "2) The right subtree of a node contains only nodes with keys greater than the node's key.\n",
    "\n",
    "3) Both the left and right subtrees must also be binary search trees.\n",
    "\n",
    "**Problem Constraints**\n",
    "\n",
    "1 <= Number of nodes in binary tree <= 10^5\n",
    "\n",
    "0 <= node values <= 2^32 - 1"
   ],
   "metadata": {
    "collapsed": false
   }
  },
  {
   "cell_type": "code",
   "execution_count": 56,
   "outputs": [],
   "source": [
    "def isValidBST(A, min_left, max_right):\n",
    "    if not A:\n",
    "        return True\n",
    "    if A.val > min_left and A.val < max_right:\n",
    "        return isValidBST(A.left, min_left, A.val) and isValidBST(A.right, A.val, max_right)\n",
    "\n",
    "    return False"
   ],
   "metadata": {
    "collapsed": false,
    "ExecuteTime": {
     "end_time": "2023-07-09T21:02:29.941987Z",
     "start_time": "2023-07-09T21:02:29.938581Z"
    }
   }
  },
  {
   "cell_type": "code",
   "execution_count": 57,
   "outputs": [
    {
     "data": {
      "text/plain": "True"
     },
     "execution_count": 57,
     "metadata": {},
     "output_type": "execute_result"
    }
   ],
   "source": [
    "arr = [9,6,4,8,2,3,5,11,1]\n",
    "arr.sort()\n",
    "balanced_tree = create_balanced_tree(arr)\n",
    "isValidBST(balanced_tree, float('-Inf'), float('Inf'))"
   ],
   "metadata": {
    "collapsed": false,
    "ExecuteTime": {
     "end_time": "2023-07-09T21:02:30.190528Z",
     "start_time": "2023-07-09T21:02:30.187059Z"
    }
   }
  },
  {
   "cell_type": "markdown",
   "source": [
    "## Q4. Delete a node in BST"
   ],
   "metadata": {
    "collapsed": false
   }
  },
  {
   "cell_type": "code",
   "execution_count": null,
   "outputs": [],
   "source": [],
   "metadata": {
    "collapsed": false
   }
  }
 ],
 "metadata": {
  "kernelspec": {
   "display_name": "Python 3",
   "language": "python",
   "name": "python3"
  },
  "language_info": {
   "codemirror_mode": {
    "name": "ipython",
    "version": 2
   },
   "file_extension": ".py",
   "mimetype": "text/x-python",
   "name": "python",
   "nbconvert_exporter": "python",
   "pygments_lexer": "ipython2",
   "version": "2.7.6"
  }
 },
 "nbformat": 4,
 "nbformat_minor": 0
}
