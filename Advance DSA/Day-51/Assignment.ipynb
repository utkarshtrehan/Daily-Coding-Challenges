{
 "cells": [
  {
   "cell_type": "markdown",
   "source": [
    "# Day 51 - Advanced DSA : Searching 1: Binary Search on Array"
   ],
   "metadata": {
    "collapsed": false
   }
  },
  {
   "cell_type": "markdown",
   "source": [
    "## Q1. Sorted Insert Position\n",
    "\n",
    "**Problem Description**\n",
    "\n",
    "You are given a sorted array A of size N and a target value B.\n",
    "Your task is to find the index (0-based indexing) of the target value in the array.\n",
    "\n",
    "If the target value is present, return its index.\n",
    "If the target value is not found, return the index where it would be inserted to maintain the sorted order.\n",
    "Your solution should have a time complexity of O(log(N)).\n",
    "\n",
    "\n",
    "**Problem Constraints**\n",
    "1 <= N <= 106"
   ],
   "metadata": {
    "collapsed": false
   }
  },
  {
   "cell_type": "code",
   "execution_count": 68,
   "outputs": [],
   "source": [
    "def solve(A, B):\n",
    "    N = len(A)\n",
    "    low = 0\n",
    "    high = N\n",
    "    while low <= high:\n",
    "        mid = (low+high)//2\n",
    "        if A[mid] == B:\n",
    "            return mid\n",
    "        elif A[mid]<B:\n",
    "            low = mid+1\n",
    "        else:\n",
    "            high = mid-1\n",
    "    return low"
   ],
   "metadata": {
    "collapsed": false,
    "ExecuteTime": {
     "end_time": "2023-06-04T21:04:54.630774Z",
     "start_time": "2023-06-04T21:04:54.625907Z"
    }
   }
  },
  {
   "cell_type": "code",
   "execution_count": 69,
   "outputs": [
    {
     "data": {
      "text/plain": "2"
     },
     "execution_count": 69,
     "metadata": {},
     "output_type": "execute_result"
    }
   ],
   "source": [
    "A = [1, 3, 5, 6]\n",
    "B = 5\n",
    "solve(A, B)"
   ],
   "metadata": {
    "collapsed": false,
    "ExecuteTime": {
     "end_time": "2023-06-04T21:04:54.826840Z",
     "start_time": "2023-06-04T21:04:54.822087Z"
    }
   }
  },
  {
   "cell_type": "code",
   "execution_count": 70,
   "outputs": [
    {
     "data": {
      "text/plain": "2"
     },
     "execution_count": 70,
     "metadata": {},
     "output_type": "execute_result"
    }
   ],
   "source": [
    "A = [1, 4, 9]\n",
    "B = 5\n",
    "solve(A, B)"
   ],
   "metadata": {
    "collapsed": false,
    "ExecuteTime": {
     "end_time": "2023-06-04T21:04:55.028323Z",
     "start_time": "2023-06-04T21:04:55.020518Z"
    }
   }
  },
  {
   "cell_type": "markdown",
   "source": [
    "## Q2. Find a peak element\n",
    "\n",
    "**Problem Description**\n",
    "\n",
    "Given an array of integers A, find and return the peak element in it.\n",
    "An array element is considered a peak if it is not smaller than its neighbors. For corner elements, we need to consider only one neighbor.\n",
    "NOTE:\n",
    "It is guaranteed that the array contains only a single peak element.\n",
    "Users are expected to solve this in O(log(N)) time. The array may contain duplicate elements.\n",
    "\n",
    "\n",
    "**Problem Constraints**\n",
    "\n",
    "1 <= |A| <= 100000\n",
    "1 <= A[i] <= 10^9"
   ],
   "metadata": {
    "collapsed": false
   }
  },
  {
   "cell_type": "code",
   "execution_count": 71,
   "outputs": [],
   "source": [
    "def solve(A):\n",
    "    N = len(A)\n",
    "    if N==1:\n",
    "        return A[0]\n",
    "    if A[0]>=A[1]:\n",
    "        return A[0]\n",
    "    if A[N-1]>=A[N-2]:\n",
    "        return A[N-1]\n",
    "\n",
    "    low = 0\n",
    "    high = N-1\n",
    "\n",
    "    while low<=high:\n",
    "        mid = (low+high)//2\n",
    "        print(f'iteration: low:{low}, high:{high}, mid:{mid}, A[mid]: {A[mid]}, A[mid+1]: {A[mid+1]}')\n",
    "        if A[mid-1] < A[mid] and A[mid] > A[mid+1]:\n",
    "            return A[mid]\n",
    "        elif A[mid] < A[mid+1]:\n",
    "            low = mid+1\n",
    "        else:\n",
    "            # A[mid] >= A[mid+1]:\n",
    "            high = mid-1"
   ],
   "metadata": {
    "collapsed": false,
    "ExecuteTime": {
     "end_time": "2023-06-04T21:04:55.483160Z",
     "start_time": "2023-06-04T21:04:55.480200Z"
    }
   }
  },
  {
   "cell_type": "code",
   "execution_count": 72,
   "outputs": [
    {
     "name": "stdout",
     "output_type": "stream",
     "text": [
      "iteration: low:0, high:11, mid:5, A[mid]: 5, A[mid+1]: 7\n",
      "iteration: low:6, high:11, mid:8, A[mid]: 3, A[mid+1]: 2\n",
      "iteration: low:6, high:7, mid:6, A[mid]: 7, A[mid+1]: 4\n"
     ]
    },
    {
     "data": {
      "text/plain": "7"
     },
     "execution_count": 72,
     "metadata": {},
     "output_type": "execute_result"
    }
   ],
   "source": [
    "#A= [0, 1, 2, 3, 4, 5, 6, 7, 8, 9, 10, 11]\n",
    "A = [1, 2, 2, 2, 4, 5, 7, 4, 3, 2, 1, 0]\n",
    "solve(A)"
   ],
   "metadata": {
    "collapsed": false,
    "ExecuteTime": {
     "end_time": "2023-06-04T21:04:55.761571Z",
     "start_time": "2023-06-04T21:04:55.754295Z"
    }
   }
  },
  {
   "cell_type": "markdown",
   "source": [
    "## Q3. Search for a Range\n",
    "\n",
    "**Problem Description**\n",
    "\n",
    "Given a sorted array of integers A (0-indexed) of size N, find the starting and the ending position of a given integer B in array A.\n",
    "Return an array of size 2, such that\n",
    "First element = Starting position of B in A\n",
    "Second element = Ending position of B in A.\n",
    "If B is not found in A, return [-1, -1].\n",
    "Note :\n",
    "Your algorithm's runtime complexity must be in the order of O(log n).\n",
    "\n",
    "**Problem Constraints**\n",
    "\n",
    "1 <= N <= 10^6\n",
    "1 <= A[i], B <= 10^9"
   ],
   "metadata": {
    "collapsed": false
   }
  },
  {
   "cell_type": "code",
   "execution_count": 48,
   "outputs": [],
   "source": [
    "def searchRange(A, B):\n",
    "\n",
    "    N = len(A)\n",
    "    p1 = -1\n",
    "    p2 = -2\n",
    "\n",
    "    low = 0\n",
    "    high = N-1\n",
    "    print(f'Finding start position p1')\n",
    "    while low <= high:\n",
    "        mid = (low+high)//2\n",
    "        print(f'iteration: low:{low}, high:{high}, mid:{mid}')\n",
    "        if B < A[mid]:\n",
    "            high = mid-1\n",
    "        elif A[mid] < B:\n",
    "            low = mid+1\n",
    "        else:\n",
    "            # A[mid] == B\n",
    "            p1 = mid\n",
    "            high = mid -1\n",
    "\n",
    "\n",
    "    low = 0\n",
    "    high = N-1\n",
    "    print(f'Finding start position p')\n",
    "    while low <= high:\n",
    "        mid = (low+high)//2\n",
    "        print(f'iteration: low:{low}, high:{high}, mid:{mid}')\n",
    "        if B < A[mid]:\n",
    "            high = mid-1\n",
    "        elif A[mid] < B:\n",
    "            low = mid+1\n",
    "        else:\n",
    "            # A[mid] == B\n",
    "            p2 = mid\n",
    "            low = mid + 1\n",
    "\n",
    "\n",
    "    if p2-p1+1 == 0:\n",
    "        return [-1, -1]\n",
    "\n",
    "    return [p1, p2]"
   ],
   "metadata": {
    "collapsed": false,
    "ExecuteTime": {
     "end_time": "2023-06-04T14:21:19.511505Z",
     "start_time": "2023-06-04T14:21:19.506639Z"
    }
   }
  },
  {
   "cell_type": "code",
   "execution_count": 50,
   "outputs": [
    {
     "name": "stdout",
     "output_type": "stream",
     "text": [
      "Finding start position p1\n",
      "iteration: low:0, high:18, mid:9\n",
      "iteration: low:0, high:8, mid:4\n",
      "iteration: low:5, high:8, mid:6\n",
      "iteration: low:5, high:5, mid:5\n",
      "Finding start position p\n",
      "iteration: low:0, high:18, mid:9\n",
      "iteration: low:0, high:8, mid:4\n",
      "iteration: low:5, high:8, mid:6\n",
      "iteration: low:7, high:8, mid:7\n",
      "iteration: low:8, high:8, mid:8\n"
     ]
    },
    {
     "data": {
      "text/plain": "[5, 7]"
     },
     "execution_count": 50,
     "metadata": {},
     "output_type": "execute_result"
    }
   ],
   "source": [
    "A = [-5,-5,-3,0,0,1,1,1,2,5,5,5,5,5,8,10,10,15,15]\n",
    "B = 1\n",
    "searchRange(A, B)"
   ],
   "metadata": {
    "collapsed": false,
    "ExecuteTime": {
     "end_time": "2023-06-04T14:21:57.244721Z",
     "start_time": "2023-06-04T14:21:57.239700Z"
    }
   }
  },
  {
   "cell_type": "markdown",
   "source": [
    "## Q4. Single Element in Sorted Array\n",
    "\n",
    "**Problem Description**\n",
    "\n",
    "Given a sorted array of integers A where every element appears twice except for one element which appears once, find and return this single element that appears only once.\n",
    "Elements which are appearing twice are adjacent to each other.\n",
    "NOTE: Users are expected to solve this in O(log(N)) time.\n",
    "\n",
    "**Problem Constraints**\n",
    "\n",
    "1 <= |A| <= 100000\n",
    "1 <= A[i] <= 10^9"
   ],
   "metadata": {
    "collapsed": false
   }
  },
  {
   "cell_type": "code",
   "execution_count": 51,
   "outputs": [],
   "source": [
    "def solve(A):\n",
    "    N = len(A)\n",
    "    low = 0\n",
    "    high = N-1\n",
    "    # E\n",
    "    if N == 1:\n",
    "        return A[0]\n",
    "    if A[0]!=A[1]:\n",
    "        return A[0]\n",
    "    if A[N-1]!=A[N-2]:\n",
    "        return A[N-1]\n",
    "    while (low<=high):\n",
    "        mid = (low+high)//2\n",
    "        # Check if mid is our unique element\n",
    "        if A[mid-1]!=A[mid] and A[mid]!=A[mid+1]:\n",
    "            return A[mid]\n",
    "        # Go to first occurence\n",
    "        elif A[mid-1]==A[mid]:\n",
    "            mid = mid-1\n",
    "\n",
    "        if mid%2==0:\n",
    "            low=mid+2\n",
    "        else:\n",
    "            high = mid-1"
   ],
   "metadata": {
    "collapsed": false,
    "ExecuteTime": {
     "end_time": "2023-06-04T20:46:44.905432Z",
     "start_time": "2023-06-04T20:46:44.887847Z"
    }
   }
  },
  {
   "cell_type": "code",
   "execution_count": 52,
   "outputs": [
    {
     "data": {
      "text/plain": "7"
     },
     "execution_count": 52,
     "metadata": {},
     "output_type": "execute_result"
    }
   ],
   "source": [
    "A = [1, 1, 7]\n",
    "solve(A)"
   ],
   "metadata": {
    "collapsed": false,
    "ExecuteTime": {
     "end_time": "2023-06-04T20:46:57.576849Z",
     "start_time": "2023-06-04T20:46:57.570845Z"
    }
   }
  }
 ],
 "metadata": {
  "kernelspec": {
   "display_name": "Python 3",
   "language": "python",
   "name": "python3"
  },
  "language_info": {
   "codemirror_mode": {
    "name": "ipython",
    "version": 2
   },
   "file_extension": ".py",
   "mimetype": "text/x-python",
   "name": "python",
   "nbconvert_exporter": "python",
   "pygments_lexer": "ipython2",
   "version": "2.7.6"
  }
 },
 "nbformat": 4,
 "nbformat_minor": 0
}
