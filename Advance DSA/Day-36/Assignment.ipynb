{
 "cells": [
  {
   "cell_type": "markdown",
   "source": [
    "# Day 36 - Advanced DSA: Arrays 3 - Interview Problems"
   ],
   "metadata": {
    "collapsed": false
   }
  },
  {
   "cell_type": "markdown",
   "source": [
    "## Q1. Rain Water Trapped\n",
    "\n",
    "**Problem Description**\n",
    "Given a vector A of non-negative integers representing an elevation map where the width of each bar is 1, compute how much water it is able to trap after raining.\n",
    "\n",
    "\n",
    "\n",
    "**Problem Constraints**\n",
    "1 <= |A| <= 100000\n",
    "\n"
   ],
   "metadata": {
    "collapsed": false
   }
  },
  {
   "cell_type": "code",
   "execution_count": 8,
   "outputs": [],
   "source": [
    "def trap(A):\n",
    "    N = len(A)\n",
    "\n",
    "    l_max = [0] * N\n",
    "    l_max[0] = A[0]\n",
    "    r_max = [0] * N\n",
    "    r_max[N-1] = A[N-1]\n",
    "\n",
    "    for i in range(1, N):\n",
    "        l_max[i] = max(l_max[i-1], A[i])\n",
    "\n",
    "    for i in range(N-2, -1, -1):\n",
    "        r_max[i] = max(r_max[i+1], A[i])\n",
    "\n",
    "    print(l_max)\n",
    "    print(r_max)\n",
    "\n",
    "    water = 0\n",
    "\n",
    "    for i in range(0,N):\n",
    "        water+=(min(l_max[i], r_max[i])-A[i])\n",
    "\n",
    "    return water"
   ],
   "metadata": {
    "collapsed": false
   }
  },
  {
   "cell_type": "code",
   "execution_count": 9,
   "outputs": [
    {
     "name": "stdout",
     "output_type": "stream",
     "text": [
      "[4, 4, 5, 7, 7, 7, 7, 7, 8, 8, 8]\n",
      "[8, 8, 8, 8, 8, 8, 8, 8, 8, 3, 3]\n"
     ]
    },
    {
     "data": {
      "text/plain": "16"
     },
     "execution_count": 9,
     "metadata": {},
     "output_type": "execute_result"
    }
   ],
   "source": [
    "trap([4,2,5,7,4,2,3,6,8,2,3])"
   ],
   "metadata": {
    "collapsed": false
   }
  },
  {
   "cell_type": "code",
   "execution_count": 1,
   "outputs": [],
   "source": [
    "def firstMissingPositive(A):\n",
    "    N = len(A)\n",
    "    s_idx = 0\n",
    "    while s_idx < N:\n",
    "        if A[s_idx]>=1 and A[s_idx]<=N:\n",
    "            d_idx = A[s_idx]-1\n",
    "            if A[s_idx] != A[d_idx]:\n",
    "                A[s_idx], A[d_idx] = A[d_idx], A[s_idx]\n",
    "            else:\n",
    "                s_idx+=1\n",
    "        else:\n",
    "            s_idx+=1\n",
    "        # print(f's_idx: {s_idx}, A: {A}')\n",
    "    for i in range(0, N):\n",
    "        # print(f'Comparing: i:{i+1} and A[i]:{A[i]}')\n",
    "        if i+1!=A[i]:\n",
    "            return i+1\n",
    "    return  N+1"
   ],
   "metadata": {
    "collapsed": false,
    "ExecuteTime": {
     "end_time": "2023-05-24T23:54:36.912083Z",
     "start_time": "2023-05-24T23:54:36.907958Z"
    }
   }
  },
  {
   "cell_type": "code",
   "execution_count": 2,
   "outputs": [
    {
     "data": {
      "text/plain": "2"
     },
     "execution_count": 2,
     "metadata": {},
     "output_type": "execute_result"
    }
   ],
   "source": [
    "firstMissingPositive([3, 4, -1, 1])"
   ],
   "metadata": {
    "collapsed": false,
    "ExecuteTime": {
     "end_time": "2023-05-24T23:54:36.921389Z",
     "start_time": "2023-05-24T23:54:36.915324Z"
    }
   }
  },
  {
   "cell_type": "code",
   "execution_count": 1,
   "outputs": [],
   "source": [],
   "metadata": {
    "collapsed": false
   }
  }
 ],
 "metadata": {
  "kernelspec": {
   "display_name": "Python 3",
   "language": "python",
   "name": "python3"
  },
  "language_info": {
   "codemirror_mode": {
    "name": "ipython",
    "version": 2
   },
   "file_extension": ".py",
   "mimetype": "text/x-python",
   "name": "python",
   "nbconvert_exporter": "python",
   "pygments_lexer": "ipython2",
   "version": "2.7.6"
  }
 },
 "nbformat": 4,
 "nbformat_minor": 0
}
