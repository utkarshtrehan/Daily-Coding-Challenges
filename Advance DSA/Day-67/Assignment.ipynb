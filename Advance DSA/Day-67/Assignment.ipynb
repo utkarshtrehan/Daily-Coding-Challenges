{
 "cells": [
  {
   "cell_type": "markdown",
   "source": [
    "# Day 67 - Advanced DSA : Queues: Implementation & Problems"
   ],
   "metadata": {
    "collapsed": false
   }
  },
  {
   "cell_type": "markdown",
   "source": [
    "## Q3. Queue Using Stacks\n",
    "\n",
    "**Problem Description**\n",
    "\n",
    "Implement a First In First Out (FIFO) queue using stacks only.\n",
    "\n",
    "The implemented queue should support all the functions of a normal queue (push, peek, pop, and empty).\n",
    "\n",
    "Implement the UserQueue class:\n",
    "\n",
    "void push(int X) : Pushes element X to the back of the queue.\n",
    "int pop() : Removes the element from the front of the queue and returns it.\n",
    "int peek() : Returns the element at the front of the queue.\n",
    "boolean empty() : Returns true if the queue is empty, false otherwise.\n",
    "NOTES:\n",
    "\n",
    "You must use only standard operations of a stack, which means only push to top, peek/pop from top, size, and is empty operations are valid.\n",
    "Depending on your language, the stack may not be supported natively. You may simulate a stack using a list or deque (double-ended queue) as long as you use only a stack's standard operations.\n",
    "\n",
    "\n",
    "**Problem Constraints**\n",
    "\n",
    "1 <= X <= 109\n",
    "\n",
    "At most 1000 calls will be made to push, pop, peek, and empty function.\n",
    "\n",
    "All the calls to pop and peek are valid. i.e. pop and peek are called only when the queue is non-empty."
   ],
   "metadata": {
    "collapsed": false
   }
  },
  {
   "cell_type": "code",
   "execution_count": 5,
   "outputs": [],
   "source": [
    "class UserQueue:\n",
    "    def __init__(self):\n",
    "        \"\"\"\n",
    "        Initialize your data structure here.\n",
    "        \"\"\"\n",
    "        self.first_stack = []\n",
    "        self.secondary_stack = []\n",
    "\n",
    "    def push(self, x: int) -> None:\n",
    "        \"\"\"\n",
    "        Push element x to the back of queue.\n",
    "        \"\"\"\n",
    "        self.first_stack.append(x)\n",
    "\n",
    "\n",
    "    def pop(self) -> int:\n",
    "        \"\"\"\n",
    "        Removes the element from in front of queue and returns that element.\n",
    "        \"\"\"\n",
    "        if not self.secondary_stack:\n",
    "            while self.first_stack:\n",
    "                self.secondary_stack.append(self.first_stack.pop())\n",
    "            return self.secondary_stack .pop()\n",
    "        else:\n",
    "            return self.secondary_stack.pop()\n",
    "\n",
    "    def peek(self) -> int:\n",
    "        \"\"\"\n",
    "        Get the front element.\n",
    "        \"\"\"\n",
    "        if not self.secondary_stack:\n",
    "            while self.first_stack:\n",
    "                self.secondary_stack.append(self.first_stack.pop())\n",
    "            return self.secondary_stack[-1]\n",
    "        else:\n",
    "            return self.secondary_stack[-1]\n",
    "\n",
    "    def empty(self) -> bool:\n",
    "        \"\"\"\n",
    "        Returns whether the queue is empty.\n",
    "        \"\"\"\n",
    "        if self.first_stack or self.secondary_stack:\n",
    "            return False\n",
    "        return True\n",
    "\n",
    "# Your UserQueue object will be instantiated and called as such:\n",
    "# obj = UserQueue()\n",
    "# obj.push(5)\n",
    "# param2 = obj.pop()\n",
    "# param3 = obj.peek()\n",
    "# param4 = obj.empty()"
   ],
   "metadata": {
    "collapsed": false,
    "ExecuteTime": {
     "end_time": "2023-07-01T18:43:43.316992Z",
     "start_time": "2023-07-01T18:43:43.313738Z"
    }
   }
  },
  {
   "cell_type": "code",
   "execution_count": 8,
   "outputs": [
    {
     "name": "stdout",
     "output_type": "stream",
     "text": [
      "False\n",
      "20\n",
      "20\n",
      "True\n",
      "30\n",
      "30\n"
     ]
    }
   ],
   "source": [
    "obj = UserQueue()\n",
    "obj.push(20)\n",
    "print(obj.empty())\n",
    "print(obj.peek())\n",
    "print(obj.pop())\n",
    "print(obj.empty())\n",
    "obj.push(30)\n",
    "print(obj.peek())\n",
    "obj.push(40)\n",
    "print(obj.peek())"
   ],
   "metadata": {
    "collapsed": false,
    "ExecuteTime": {
     "end_time": "2023-07-01T18:45:15.331565Z",
     "start_time": "2023-07-01T18:45:15.326511Z"
    }
   }
  },
  {
   "cell_type": "markdown",
   "source": [
    "## Q1. Perfect Numbers\n",
    "\n",
    "**Problem Description**\n",
    "\n",
    "Given an integer A, you have to find the Ath Perfect Number.\n",
    "\n",
    "A Perfect Number has the following properties:\n",
    "\n",
    "It comprises only 1 and 2.\n",
    "The number of digits in a Perfect number is even.\n",
    "It is a palindrome number.\n",
    "For example, 11, 22, 112211 are Perfect numbers, where 123, 121, 782, 1 are not.\n",
    "\n",
    "**Problem Constraints**\n",
    "\n",
    "1 <= A <= 100000"
   ],
   "metadata": {
    "collapsed": false
   }
  },
  {
   "cell_type": "code",
   "execution_count": 53,
   "outputs": [],
   "source": [
    "class Node:\n",
    "    def __init__(self, x):\n",
    "        self.value = x\n",
    "        self.next = None\n",
    "\n",
    "class Queue:\n",
    "    def __init__(self):\n",
    "        self.head = None\n",
    "        self.tail = None\n",
    "\n",
    "    def push(self, x:int) -> None:\n",
    "        if not self.head and not self.tail:\n",
    "            new_node = Node(x)\n",
    "            self.head = new_node\n",
    "            self.tail = new_node\n",
    "        else:\n",
    "            new_node = Node(x)\n",
    "            self.tail.next = new_node\n",
    "            self.tail = new_node\n",
    "\n",
    "    def pop(self)->int:\n",
    "        if self.head is None:\n",
    "            return None\n",
    "        pop_value = self.head.value\n",
    "        self.head = self.head.next\n",
    "        if self.head is None:\n",
    "            self.tail = None\n",
    "        return pop_value\n",
    "\n",
    "    def peek(self)->int:\n",
    "        if self.head:\n",
    "            return self.head.value\n",
    "        return None\n",
    "\n",
    "    def empty(self)-> bool:\n",
    "        return self.head is None"
   ],
   "metadata": {
    "collapsed": false,
    "ExecuteTime": {
     "end_time": "2023-07-01T20:23:04.789703Z",
     "start_time": "2023-07-01T20:23:04.783009Z"
    }
   }
  },
  {
   "cell_type": "code",
   "execution_count": 58,
   "outputs": [
    {
     "name": "stdout",
     "output_type": "stream",
     "text": [
      "True\n",
      "False\n",
      "1\n",
      "1\n",
      "2\n",
      "3\n",
      "True\n"
     ]
    }
   ],
   "source": [
    "queue = Queue()\n",
    "\n",
    "# Test empty queue\n",
    "print(queue.empty())  # Should print True\n",
    "\n",
    "# Push elements\n",
    "queue.push(1)\n",
    "queue.push(2)\n",
    "queue.push(3)\n",
    "\n",
    "# Check if queue is empty after pushes\n",
    "print(queue.empty())  # Should print False\n",
    "\n",
    "# Peek at the front element\n",
    "print(queue.peek())  # Should print 1\n",
    "\n",
    "# Pop elements and print them\n",
    "print(queue.pop())  # Should print 1\n",
    "print(queue.pop())  # Should print 2\n",
    "print(queue.pop())  # Should print 3\n",
    "\n",
    "# Check if queue is empty after pops\n",
    "print(queue.empty())  # Should print True\n"
   ],
   "metadata": {
    "collapsed": false,
    "ExecuteTime": {
     "end_time": "2023-07-01T20:23:27.843886Z",
     "start_time": "2023-07-01T20:23:27.839716Z"
    }
   }
  },
  {
   "cell_type": "code",
   "execution_count": 91,
   "outputs": [],
   "source": [
    "class Node:\n",
    "    def __init__(self, x):\n",
    "        self.value = x\n",
    "        self.next = None\n",
    "\n",
    "class Queue:\n",
    "    def __init__(self):\n",
    "        self.head = None\n",
    "        self.tail = None\n",
    "\n",
    "    def push(self, x:int) -> None:\n",
    "        if not self.head and not self.tail:\n",
    "            new_node = Node(x)\n",
    "            self.head = new_node\n",
    "            self.tail = new_node\n",
    "        else:\n",
    "            new_node = Node(x)\n",
    "            self.tail.next = new_node\n",
    "            self.tail = new_node\n",
    "\n",
    "    def pop(self)->int:\n",
    "        if self.head is None:\n",
    "            return None\n",
    "        pop_value = self.head.value\n",
    "        self.head = self.head.next\n",
    "        if self.head is None:\n",
    "            self.tail = None\n",
    "        return pop_value\n",
    "\n",
    "    def peek(self)->int:\n",
    "        if self.head:\n",
    "            return self.head.value\n",
    "        return None\n",
    "\n",
    "    def empty(self)-> bool:\n",
    "        return self.head is None\n",
    "\n",
    "\n",
    "def solve(A):\n",
    "    queue1 = Queue()\n",
    "    queue2 = Queue()\n",
    "\n",
    "    queue1.push(\"1\")\n",
    "    queue2.push(\"2\")\n",
    "\n",
    "    count = 0\n",
    "    result = None\n",
    "\n",
    "    while count < A:\n",
    "        if int(queue1.peek() + '1') < int(queue2.peek() + '2'):\n",
    "            result = queue1.pop() + '1'\n",
    "            queue1.push(result)\n",
    "            queue2.push(queue1.peek() + '2')\n",
    "        else:\n",
    "            result = queue2.pop() + '2'\n",
    "            queue1.push(queue2.peek() + '1')\n",
    "            queue2.push(result)\n",
    "        count += 1\n",
    "\n",
    "    return result"
   ],
   "metadata": {
    "collapsed": false,
    "ExecuteTime": {
     "end_time": "2023-07-01T21:06:28.559717Z",
     "start_time": "2023-07-01T21:06:28.549925Z"
    }
   }
  },
  {
   "cell_type": "code",
   "execution_count": 92,
   "outputs": [
    {
     "data": {
      "text/plain": "'112122'"
     },
     "execution_count": 92,
     "metadata": {},
     "output_type": "execute_result"
    }
   ],
   "source": [
    "solve(9)"
   ],
   "metadata": {
    "collapsed": false,
    "ExecuteTime": {
     "end_time": "2023-07-01T21:06:29.594640Z",
     "start_time": "2023-07-01T21:06:29.588987Z"
    }
   }
  },
  {
   "cell_type": "code",
   "execution_count": null,
   "outputs": [],
   "source": [],
   "metadata": {
    "collapsed": false
   }
  },
  {
   "cell_type": "code",
   "execution_count": 144,
   "outputs": [
    {
     "name": "stdout",
     "output_type": "stream",
     "text": [
      "After processing first 3 elements, Iteration i:0, Queue: deque([0])\n",
      "Checking first 3 elements, if A[1](3) >= A[queue[-1]](1)\n",
      "Popping from end, removing index 0 which is value 1\n",
      "After processing first 3 elements, Iteration i:1, Queue: deque([1])\n",
      "After processing first 3 elements, Iteration i:2, Queue: deque([1, 2])\n",
      "\n",
      "Max of first window [1, 3, -1] is 3\n",
      "\n",
      "After sliding window to [3, -1, -3], Iteration i:3, Queue: deque([1, 2, 3]), Max: 3\n",
      "In window [-1, -3, 5], checking if A[4](5) >= A[queue[-1]](-3)\n",
      "Popping from end, removing index 3 which is value -3\n",
      "In window [-1, -3, 5], checking if A[4](5) >= A[queue[-1]](-1)\n",
      "Popping from end, removing index 2 which is value -1\n",
      "In window [-1, -3, 5], checking if A[4](5) >= A[queue[-1]](3)\n",
      "Popping from end, removing index 1 which is value 3\n",
      "After sliding window to [-1, -3, 5], Iteration i:4, Queue: deque([4]), Max: 5\n",
      "After sliding window to [-3, 5, 3], Iteration i:5, Queue: deque([4, 5]), Max: 5\n",
      "In window [5, 3, 6], checking if A[6](6) >= A[queue[-1]](3)\n",
      "Popping from end, removing index 5 which is value 3\n",
      "In window [5, 3, 6], checking if A[6](6) >= A[queue[-1]](5)\n",
      "Popping from end, removing index 4 which is value 5\n",
      "After sliding window to [5, 3, 6], Iteration i:6, Queue: deque([6]), Max: 6\n",
      "In window [3, 6, 7], checking if A[7](7) >= A[queue[-1]](6)\n",
      "Popping from end, removing index 6 which is value 6\n",
      "After sliding window to [3, 6, 7], Iteration i:7, Queue: deque([7]), Max: 7\n",
      "[3, 3, 5, 5, 6, 7]\n"
     ]
    }
   ],
   "source": [
    "from collections import deque\n",
    "\n",
    "def slidingMaximum(A, B):\n",
    "    queue = deque()\n",
    "    ret = []\n",
    "    n = len(A)\n",
    "\n",
    "    if B > n:\n",
    "        return [max(A)]\n",
    "\n",
    "    for i in range(B):\n",
    "        while len(queue) != 0 and A[i] >= A[queue[-1]]:\n",
    "            print(f'Checking first {B} elements, if A[{i}]({A[i]}) >= A[queue[-1]]({A[queue[-1]]})')\n",
    "            print(f'Popping from end, removing index {queue[-1]} which is value {A[queue[-1]]}')\n",
    "            queue.pop()\n",
    "        queue.append(i)\n",
    "        print(f'After processing first {B} elements, Iteration i:{i}, Queue: {queue}')\n",
    "\n",
    "    ret.append(A[queue[0]])\n",
    "    print(f'\\nMax of first window {A[0:B]} is {ret[-1]}\\n')\n",
    "\n",
    "    for i in range(B, n):\n",
    "        while len(queue) != 0 and A[i] >= A[queue[-1]]:\n",
    "            print(f'In window {A[i-B+1:i+1]}, checking if A[{i}]({A[i]}) >= A[queue[-1]]({A[queue[-1]]})')\n",
    "            print(f'Popping from end, removing index {queue[-1]} which is value {A[queue[-1]]}')\n",
    "            queue.pop()\n",
    "        while len(queue) != 0 and queue[0] <= i - B:\n",
    "            print(f'Checking if index at front of queue {queue[0]} is out of window (<= {i-B})')\n",
    "            print(f'Popping from front, removing index {queue[0]} which is value {A[queue[0]]}')\n",
    "            queue.popleft()\n",
    "\n",
    "        queue.append(i)\n",
    "        ret.append(A[queue[0]])\n",
    "        print(f'After sliding window to {A[i-B+1:i+1]}, Iteration i:{i}, Queue: {queue}, Max: {ret[-1]}')\n",
    "\n",
    "    return ret\n",
    "\n",
    "A = [1, 3, -1, -3, 5, 3, 6, 7]\n",
    "B = 3\n",
    "print(slidingMaximum(A, B))"
   ],
   "metadata": {
    "collapsed": false,
    "ExecuteTime": {
     "end_time": "2023-07-02T11:00:53.667479Z",
     "start_time": "2023-07-02T11:00:53.664746Z"
    }
   }
  },
  {
   "cell_type": "code",
   "execution_count": null,
   "outputs": [],
   "source": [],
   "metadata": {
    "collapsed": false
   }
  }
 ],
 "metadata": {
  "kernelspec": {
   "display_name": "Python 3",
   "language": "python",
   "name": "python3"
  },
  "language_info": {
   "codemirror_mode": {
    "name": "ipython",
    "version": 2
   },
   "file_extension": ".py",
   "mimetype": "text/x-python",
   "name": "python",
   "nbconvert_exporter": "python",
   "pygments_lexer": "ipython2",
   "version": "2.7.6"
  }
 },
 "nbformat": 4,
 "nbformat_minor": 0
}
