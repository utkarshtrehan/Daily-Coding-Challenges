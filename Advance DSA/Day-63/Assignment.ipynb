{
 "cells": [
  {
   "cell_type": "markdown",
   "source": [
    "# Day 63 - Advanced DSA : Stacks 1: Implementation & Basic Problems"
   ],
   "metadata": {
    "collapsed": false
   }
  },
  {
   "cell_type": "markdown",
   "source": [
    "## Stack using LinkList"
   ],
   "metadata": {
    "collapsed": false
   }
  },
  {
   "cell_type": "code",
   "execution_count": 147,
   "outputs": [],
   "source": [
    "class Node:\n",
    "    def __init__(self, value):\n",
    "        self.value = value\n",
    "        self.next = None\n",
    "\n",
    "class Stack:\n",
    "\n",
    "    def __init__(self):\n",
    "        self.head = Node(-1)\n",
    "        self.size = 0\n",
    "\n",
    "    def __str__(self):\n",
    "        cur = self.head\n",
    "        out = \"\"\n",
    "        while cur.next:\n",
    "            out += str(cur.value) + \"->\"\n",
    "            cur = cur.next\n",
    "        return out[:-2] # Removing last two char \"->\"\n",
    "\n",
    "    def getSize(self):\n",
    "        return self.size\n",
    "\n",
    "    def isEmpty(self):\n",
    "        return self.size == 0\n",
    "\n",
    "    def peek(self):\n",
    "        if self.isEmpty():\n",
    "            raise Exception(\"Peeking from an empty stack\")\n",
    "        return self.head.value\n",
    "\n",
    "    def push(self, value):\n",
    "        node = Node(value)\n",
    "        node.next = self.head # [Node] -> []\n",
    "        self.head = node\n",
    "        self.size += 1\n",
    "\n",
    "    def pop(self):\n",
    "        if self.isEmpty():\n",
    "            raise Exception(\"Popping from an empty stack\")\n",
    "        remove = self.head\n",
    "        self.head = self.head.next\n",
    "        self.size -= 1\n",
    "        return remove.value"
   ],
   "metadata": {
    "collapsed": false,
    "ExecuteTime": {
     "end_time": "2023-06-22T22:14:41.747261Z",
     "start_time": "2023-06-22T22:14:41.741189Z"
    }
   }
  },
  {
   "cell_type": "code",
   "execution_count": 148,
   "outputs": [
    {
     "name": "stdout",
     "output_type": "stream",
     "text": [
      "Stack: 10->9->8->7->6->5->4->3->2->1\n",
      "Pop: 10\n",
      "Pop: 9\n",
      "Pop: 8\n",
      "Pop: 7\n",
      "Pop: 6\n",
      "Stack: 5->4->3->2->1\n"
     ]
    }
   ],
   "source": [
    "stack = Stack()\n",
    "for i in range(1, 11):\n",
    "    stack.push(i)\n",
    "print(f\"Stack: {stack}\")\n",
    "\n",
    "for _ in range(1, 6):\n",
    "    remove = stack.pop()\n",
    "    print(f\"Pop: {remove}\")\n",
    "print(f\"Stack: {stack}\")"
   ],
   "metadata": {
    "collapsed": false,
    "ExecuteTime": {
     "end_time": "2023-06-22T22:14:43.723492Z",
     "start_time": "2023-06-22T22:14:43.717551Z"
    }
   }
  },
  {
   "cell_type": "markdown",
   "source": [
    "## Q1. Balanced Paranthesis\n",
    "\n",
    "**Problem Description**\n",
    "\n",
    "Given an expression string A, examine whether the pairs and the orders of “{“,”}”, ”(“,”)”, ”[“,”]” are correct in A.\n",
    "Refer to the examples for more clarity.\n",
    "\n",
    "**Problem Constraints**\n",
    "\n",
    "1 <= |A| <= 100"
   ],
   "metadata": {
    "collapsed": false
   }
  },
  {
   "cell_type": "code",
   "execution_count": 149,
   "outputs": [],
   "source": [
    "def solve(A):\n",
    "    open_brackets =  {'(', '{', '['}\n",
    "    close_brackets = {')', '}', ']'}\n",
    "    s = Stack()\n",
    "    for ch in A:\n",
    "        if ch in open_brackets:\n",
    "            s.push(ch)\n",
    "        else:\n",
    "            if s.isEmpty():\n",
    "                return 0\n",
    "            if  (s.peek() == '(' and ch == ')') or \\\n",
    "                (s.peek() == '{' and ch == '}') or \\\n",
    "                (s.peek() == '[' and ch == ']'):\n",
    "                s.pop()\n",
    "        print(s)\n",
    "    if s.isEmpty():\n",
    "        return 1\n",
    "    return 0"
   ],
   "metadata": {
    "collapsed": false,
    "ExecuteTime": {
     "end_time": "2023-06-22T22:14:44.799032Z",
     "start_time": "2023-06-22T22:14:44.795164Z"
    }
   }
  },
  {
   "cell_type": "code",
   "execution_count": 150,
   "outputs": [
    {
     "name": "stdout",
     "output_type": "stream",
     "text": [
      "{\n",
      "(->{\n",
      "[->(->{\n",
      "(->{\n",
      "{\n",
      "\n"
     ]
    },
    {
     "data": {
      "text/plain": "1"
     },
     "execution_count": 150,
     "metadata": {},
     "output_type": "execute_result"
    }
   ],
   "source": [
    "A = '{([])}'\n",
    "solve(A)"
   ],
   "metadata": {
    "collapsed": false,
    "ExecuteTime": {
     "end_time": "2023-06-22T22:14:45.209125Z",
     "start_time": "2023-06-22T22:14:45.201430Z"
    }
   }
  },
  {
   "cell_type": "markdown",
   "source": [
    "## Q4. Passing game\n",
    "\n",
    "**Problem Description**\n",
    "\n",
    "There is a football event going on in your city. In this event, you are given A passes and players having ids between 1 and 106.\n",
    "Initially, some player with a given id had the ball in his possession. You have to make a program to display the id of the player who possessed the ball after exactly A passes.\n",
    "There are two kinds of passes:\n",
    "\n",
    "1) ID\n",
    "2) 0\n",
    "\n",
    "For the first kind of pass, the player in possession of the ball passes the ball \"forward\" to the player with id = ID.\n",
    "For the second kind of pass, the player in possession of the ball passes the ball back to the player who had forwarded the ball to him.\n",
    "In the second kind of pass \"0\" just means Back Pass.\n",
    "Return the ID of the player who currently possesses the ball.\n",
    "\n",
    "**Problem Constraints**\n",
    "\n",
    "1 <= A <= 100000\n",
    "1 <= B <= 100000\n",
    "|C| = A"
   ],
   "metadata": {
    "collapsed": false
   }
  },
  {
   "cell_type": "code",
   "execution_count": 161,
   "outputs": [],
   "source": [
    "def solve(A, B, C):\n",
    "    s = Stack()\n",
    "\n",
    "    for i in C:\n",
    "        if i==0:\n",
    "            if not s.isEmpty:\n",
    "                pass\n",
    "            else:\n",
    "                s.pop()\n",
    "        else:\n",
    "            s.push(i)\n",
    "\n",
    "    if s.isEmpty():\n",
    "        print('True')\n",
    "        return B\n",
    "\n",
    "    return s.peek()\n"
   ],
   "metadata": {
    "collapsed": false,
    "ExecuteTime": {
     "end_time": "2023-06-22T22:19:48.608794Z",
     "start_time": "2023-06-22T22:19:48.605339Z"
    }
   }
  },
  {
   "cell_type": "code",
   "execution_count": 162,
   "outputs": [
    {
     "name": "stdout",
     "output_type": "stream",
     "text": [
      "True\n"
     ]
    },
    {
     "data": {
      "text/plain": "38"
     },
     "execution_count": 162,
     "metadata": {},
     "output_type": "execute_result"
    }
   ],
   "source": [
    "A = 10\n",
    "B = 38\n",
    "C = [23,0,2,0,39,28,19,0,0,0]\n",
    "solve(A, B, C)"
   ],
   "metadata": {
    "collapsed": false,
    "ExecuteTime": {
     "end_time": "2023-06-22T22:19:48.940399Z",
     "start_time": "2023-06-22T22:19:48.935714Z"
    }
   }
  },
  {
   "cell_type": "code",
   "execution_count": 163,
   "outputs": [
    {
     "data": {
      "text/plain": "63"
     },
     "execution_count": 163,
     "metadata": {},
     "output_type": "execute_result"
    }
   ],
   "source": [
    "A = 10\n",
    "B = 23\n",
    "C = [86, 63, 60, 0, 47, 0, 99, 9, 0, 0]\n",
    "solve(A, B, C)"
   ],
   "metadata": {
    "collapsed": false,
    "ExecuteTime": {
     "end_time": "2023-06-22T22:19:49.274086Z",
     "start_time": "2023-06-22T22:19:49.264304Z"
    }
   }
  },
  {
   "cell_type": "code",
   "execution_count": 164,
   "outputs": [
    {
     "data": {
      "text/plain": "39"
     },
     "execution_count": 164,
     "metadata": {},
     "output_type": "execute_result"
    }
   ],
   "source": [
    "A = 10\n",
    "B = 48\n",
    "C = [4,0,30,0,41,28,50,2,47,39]\n",
    "solve(A, B, C)"
   ],
   "metadata": {
    "collapsed": false,
    "ExecuteTime": {
     "end_time": "2023-06-22T22:19:50.489397Z",
     "start_time": "2023-06-22T22:19:50.483871Z"
    }
   }
  },
  {
   "cell_type": "markdown",
   "source": [
    "## Q3. Evaluate Expression\n",
    "\n",
    "**Problem Description**\n",
    "\n",
    "An arithmetic expression is given by a string array A of size N. Evaluate the value of an arithmetic expression in Reverse Polish Notation.\n",
    "Valid operators are +, -, *, /. Each string may be an integer or an operator.\n",
    "Note: Reverse Polish Notation is equivalent to Postfix Expression, where operators are written after their operands.\n",
    "\n",
    "**Problem Constraints**\n",
    "\n",
    "1 <= N <= 10^5"
   ],
   "metadata": {
    "collapsed": false
   }
  },
  {
   "cell_type": "code",
   "execution_count": 166,
   "outputs": [],
   "source": [
    "def evalRPN(A):\n",
    "    stack = Stack()\n",
    "    for token in A:\n",
    "        if token in [\"+\", \"-\", \"*\", \"/\"]:\n",
    "            operand2 = stack.pop()\n",
    "            operand1 = stack.pop()\n",
    "            if token == \"+\":\n",
    "                stack.push(operand1 + operand2)\n",
    "            elif token == \"-\":\n",
    "                stack.push(operand1 - operand2)\n",
    "            elif token == \"*\":\n",
    "                stack.push(operand1 * operand2)\n",
    "            else:\n",
    "                stack.push(int(operand1 / operand2)) # integer division\n",
    "        else:\n",
    "            stack.push(int(token)) # push integer to stack\n",
    "\n",
    "    return stack.pop()"
   ],
   "metadata": {
    "collapsed": false,
    "ExecuteTime": {
     "end_time": "2023-06-22T22:26:03.365434Z",
     "start_time": "2023-06-22T22:26:03.360181Z"
    }
   }
  },
  {
   "cell_type": "code",
   "execution_count": 167,
   "outputs": [
    {
     "data": {
      "text/plain": "9"
     },
     "execution_count": 167,
     "metadata": {},
     "output_type": "execute_result"
    }
   ],
   "source": [
    "A =   [\"2\", \"1\", \"+\", \"3\", \"*\"]\n",
    "evalRPN(A)"
   ],
   "metadata": {
    "collapsed": false,
    "ExecuteTime": {
     "end_time": "2023-06-22T22:26:30.002860Z",
     "start_time": "2023-06-22T22:26:29.985223Z"
    }
   }
  },
  {
   "cell_type": "markdown",
   "source": [
    "## Q2. Double Character Trouble\n",
    "\n",
    "**Problem Description**\n",
    "\n",
    "You have a string, denoted as A.\n",
    "\n",
    "To transform the string, you should perform the following operation repeatedly:\n",
    "Identify the first occurrence of consecutive identical pairs of characters within the string.\n",
    "Remove this pair of identical characters from the string.\n",
    "Repeat steps 1 and 2 until there are no more consecutive identical pairs of characters.\n",
    "The final result will be the transformed string.\n",
    "\n",
    "\n",
    "**Problem Constraints**\n",
    "\n",
    "1 <= |A| <= 100000"
   ],
   "metadata": {
    "collapsed": false
   }
  },
  {
   "cell_type": "code",
   "execution_count": 244,
   "outputs": [],
   "source": [
    "def solve(A):\n",
    "    s = Stack()\n",
    "\n",
    "    for c in A:\n",
    "        if not s.isEmpty() and s.peek() == c:\n",
    "            s.pop()\n",
    "        else:\n",
    "            s.push(c)\n",
    "\n",
    "    result = \"\"\n",
    "    while not s.isEmpty():\n",
    "        result=s.pop()+result\n",
    "\n",
    "    return result"
   ],
   "metadata": {
    "collapsed": false,
    "ExecuteTime": {
     "end_time": "2023-06-22T22:51:42.587364Z",
     "start_time": "2023-06-22T22:51:42.579746Z"
    }
   }
  },
  {
   "cell_type": "code",
   "execution_count": 245,
   "outputs": [
    {
     "data": {
      "text/plain": "'ac'"
     },
     "execution_count": 245,
     "metadata": {},
     "output_type": "execute_result"
    }
   ],
   "source": [
    "A = \"abccbc\"\n",
    "solve(A)"
   ],
   "metadata": {
    "collapsed": false,
    "ExecuteTime": {
     "end_time": "2023-06-22T22:51:42.900742Z",
     "start_time": "2023-06-22T22:51:42.895472Z"
    }
   }
  },
  {
   "cell_type": "markdown",
   "source": [
    "---"
   ],
   "metadata": {
    "collapsed": false
   }
  }
 ],
 "metadata": {
  "kernelspec": {
   "display_name": "Python 3",
   "language": "python",
   "name": "python3"
  },
  "language_info": {
   "codemirror_mode": {
    "name": "ipython",
    "version": 2
   },
   "file_extension": ".py",
   "mimetype": "text/x-python",
   "name": "python",
   "nbconvert_exporter": "python",
   "pygments_lexer": "ipython2",
   "version": "2.7.6"
  }
 },
 "nbformat": 4,
 "nbformat_minor": 0
}
