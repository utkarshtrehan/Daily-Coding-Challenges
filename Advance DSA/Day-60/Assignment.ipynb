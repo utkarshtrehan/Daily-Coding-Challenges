{
 "cells": [
  {
   "cell_type": "markdown",
   "source": [
    "# Day 60 - Advanced DSA : Linked List 1: Introduction"
   ],
   "metadata": {
    "collapsed": false
   }
  },
  {
   "cell_type": "markdown",
   "source": [
    "## Q3. Insert in Linked List\n",
    "\n",
    "**Problem Description**\n",
    "\n",
    "You are given A which is the head of a linked list. Also given is the value B and position C. Complete the function that should insert a new node with the said value at the given position.\n",
    "\n",
    "Notes:\n",
    "\n",
    "In case the position is more than length of linked list, simply insert the new node at the tail only.\n",
    "In case the pos is 0, simply insert the new node at head only.\n",
    "Follow 0-based indexing for the node numbering.\n",
    "\n",
    "\n",
    "Problem Constraints\n",
    "\n",
    "1 <= size of linked list <= 10^5\n",
    "\n",
    "1 <= value of nodes <= 10^9\n",
    "\n",
    "1 <= B <= 10^9\n",
    "\n",
    "0 <= C <= 10^5"
   ],
   "metadata": {
    "collapsed": false
   }
  },
  {
   "cell_type": "code",
   "execution_count": 74,
   "outputs": [
    {
     "name": "stdout",
     "output_type": "stream",
     "text": [
      "0\n",
      "1\n",
      "2\n",
      "3\n",
      "4\n",
      "5\n"
     ]
    }
   ],
   "source": [
    "class ListNode:\n",
    "    def __init__(self, x):\n",
    "        self.val = x\n",
    "        self.next = None\n",
    "\n",
    "# Function to create a linked list\n",
    "def createLinkedList(values):\n",
    "    if not values:\n",
    "        return None\n",
    "\n",
    "    # Create the first node\n",
    "    head = ListNode(values[0])\n",
    "    current = head\n",
    "\n",
    "    # Create the remaining nodes\n",
    "    for val in values[1:]:\n",
    "        new_node = ListNode(val)\n",
    "        current.next = new_node\n",
    "        current = new_node\n",
    "\n",
    "    return head\n",
    "\n",
    "# Example usage\n",
    "values = [0, 1, 2, 3, 4, 5]\n",
    "linked_list = createLinkedList(values)\n",
    "empty_linked_list = createLinkedList([])\n",
    "# Printing the values of the linked list\n",
    "current = linked_list\n",
    "while current:\n",
    "    print(current.val)\n",
    "    current = current.next"
   ],
   "metadata": {
    "collapsed": false,
    "ExecuteTime": {
     "end_time": "2023-06-18T18:35:55.086478Z",
     "start_time": "2023-06-18T18:35:55.079309Z"
    }
   }
  },
  {
   "cell_type": "code",
   "execution_count": 75,
   "outputs": [],
   "source": [
    "def solve(A, B, C):\n",
    "    new_node = ListNode(B)\n",
    "    if not A:\n",
    "        return new_node\n",
    "    if not C:\n",
    "        new_node.next = A\n",
    "        return new_node\n",
    "    temp = A\n",
    "    count = 0\n",
    "    while temp.next:\n",
    "        if count == C-1:\n",
    "            break\n",
    "        count+=1\n",
    "        temp = temp.next\n",
    "    new_node.next = temp.next\n",
    "    temp.next = new_node\n",
    "    return A"
   ],
   "metadata": {
    "collapsed": false,
    "ExecuteTime": {
     "end_time": "2023-06-18T18:35:55.395947Z",
     "start_time": "2023-06-18T18:35:55.393678Z"
    }
   }
  },
  {
   "cell_type": "code",
   "execution_count": 77,
   "outputs": [
    {
     "name": "stdout",
     "output_type": "stream",
     "text": [
      "100\n",
      "0\n",
      "1\n",
      "2\n",
      "3\n",
      "4\n",
      "5\n",
      "-------------------------------\n",
      "100\n",
      "-------------------------------\n",
      "0\n",
      "1\n",
      "2\n",
      "3\n",
      "4\n",
      "5\n",
      "100\n"
     ]
    }
   ],
   "source": [
    "# CASE-> POS = 0\n",
    "current = solve(createLinkedList([0, 1, 2, 3, 4, 5]), 100, 0)\n",
    "while current:\n",
    "    print(current.val)\n",
    "    current = current.next\n",
    "print(\"-------------------------------\")\n",
    "# CASE-> HEAD = NONE\n",
    "current = solve(createLinkedList([]), 100, 0)\n",
    "while current:\n",
    "    print(current.val)\n",
    "    current = current.next\n",
    "print(\"-------------------------------\")\n",
    "# CASE-> POS != 0\n",
    "current = solve(createLinkedList([0, 1, 2, 3, 4, 5]), 100, 23)\n",
    "while current:\n",
    "    print(current.val)\n",
    "    current = current.next"
   ],
   "metadata": {
    "collapsed": false,
    "ExecuteTime": {
     "end_time": "2023-06-18T18:36:29.024413Z",
     "start_time": "2023-06-18T18:36:29.021372Z"
    }
   }
  },
  {
   "cell_type": "markdown",
   "source": [
    "## Q4. Delete in Linked List\n",
    "\n",
    "**Problem Description**\n",
    "\n",
    "You are given the head of a linked list A and an integer B. Delete the B-th node from the linked list.\n",
    "Note : Follow 0-based indexing for the node numbering.\n",
    "\n",
    "\n",
    "\n",
    "Problem Constraints\n",
    "\n",
    "1 <= size of linked list <= 10^5\n",
    "\n",
    "1 <= value of nodes <= 10^9\n",
    "\n",
    "0 <= B < size of linked list"
   ],
   "metadata": {
    "collapsed": false
   }
  },
  {
   "cell_type": "code",
   "execution_count": 81,
   "outputs": [],
   "source": [
    "def solve(A, B, C):\n",
    "\n",
    "    if not A:\n",
    "        return None\n",
    "    if not C:\n",
    "        return A.next\n",
    "    temp = A\n",
    "    count = 0\n",
    "    while temp.next:\n",
    "        if count == C-1:\n",
    "            break\n",
    "        count+=1\n",
    "        temp = temp.next\n",
    "    temp.next = temp.next.next\n",
    "    return A"
   ],
   "metadata": {
    "collapsed": false,
    "ExecuteTime": {
     "end_time": "2023-06-18T18:39:37.861123Z",
     "start_time": "2023-06-18T18:39:37.854580Z"
    }
   }
  },
  {
   "cell_type": "code",
   "execution_count": 84,
   "outputs": [
    {
     "name": "stdout",
     "output_type": "stream",
     "text": [
      "1\n",
      "2\n",
      "3\n",
      "4\n",
      "5\n",
      "-------------------------------\n",
      "-------------------------------\n",
      "0\n",
      "1\n",
      "2\n",
      "3\n",
      "4\n"
     ]
    }
   ],
   "source": [
    "# CASE-> POS = 0\n",
    "current = solve(createLinkedList([0, 1, 2, 3, 4, 5]), 100, 0)\n",
    "while current:\n",
    "    print(current.val)\n",
    "    current = current.next\n",
    "print(\"-------------------------------\")\n",
    "# CASE-> HEAD = NONE\n",
    "current = solve(createLinkedList([]), 100, 0)\n",
    "while current:\n",
    "    print(current.val)\n",
    "    current = current.next\n",
    "print(\"-------------------------------\")\n",
    "# CASE-> POS != 0\n",
    "current = solve(createLinkedList([0, 1, 2, 3, 4, 5]), 100, 5)\n",
    "while current:\n",
    "    print(current.val)\n",
    "    current = current.next"
   ],
   "metadata": {
    "collapsed": false,
    "ExecuteTime": {
     "end_time": "2023-06-18T18:40:38.871447Z",
     "start_time": "2023-06-18T18:40:38.868440Z"
    }
   }
  },
  {
   "cell_type": "markdown",
   "source": [
    "## Q1. Reverse Linked List\n",
    "\n",
    "**Problem Description**\n",
    "\n",
    "You are given a singly linked list having head node A. You have to reverse the linked list and return the head node of that reversed list.\n",
    "**NOTE: You have to do it in-place and in one-pass.**\n",
    "\n",
    "**Problem Constraints**\n",
    "\n",
    "1 <= Length of linked list <= 10^5\n",
    "\n",
    "Value of each node is within the range of a 32-bit integer."
   ],
   "metadata": {
    "collapsed": false
   }
  },
  {
   "cell_type": "code",
   "execution_count": 102,
   "outputs": [],
   "source": [
    "def reverseList(A):\n",
    "\n",
    "    prev = None\n",
    "    cur = A\n",
    "    while cur:\n",
    "        next_cur = cur.next\n",
    "        cur.next = prev\n",
    "        prev = cur\n",
    "        cur = next_cur\n",
    "    return prev"
   ],
   "metadata": {
    "collapsed": false,
    "ExecuteTime": {
     "end_time": "2023-06-18T20:22:49.739324Z",
     "start_time": "2023-06-18T20:22:49.735799Z"
    }
   }
  },
  {
   "cell_type": "code",
   "execution_count": 103,
   "outputs": [
    {
     "name": "stdout",
     "output_type": "stream",
     "text": [
      "5\n",
      "4\n",
      "3\n",
      "2\n",
      "1\n",
      "0\n"
     ]
    }
   ],
   "source": [
    "current = reverseList(createLinkedList([0, 1, 2, 3, 4, 5]))\n",
    "while current:\n",
    "    print(current.val)\n",
    "    current = current.next"
   ],
   "metadata": {
    "collapsed": false,
    "ExecuteTime": {
     "end_time": "2023-06-18T20:22:50.054686Z",
     "start_time": "2023-06-18T20:22:50.045334Z"
    }
   }
  },
  {
   "cell_type": "code",
   "execution_count": null,
   "outputs": [],
   "source": [],
   "metadata": {
    "collapsed": false
   }
  },
  {
   "cell_type": "code",
   "execution_count": 117,
   "outputs": [],
   "source": [
    "def lPalin(head):\n",
    "\n",
    "    # find mid\n",
    "    slow=fast=head\n",
    "    while fast and fast.next:\n",
    "        slow = slow.next\n",
    "        fast = fast.next.next\n",
    "\n",
    "    # Reverse\n",
    "    prev = None\n",
    "    cur = slow\n",
    "    while cur:\n",
    "        next_cur = cur.next\n",
    "        cur.next = prev\n",
    "        prev = cur\n",
    "        cur = next_cur\n",
    "    rev_head = prev\n",
    "\n",
    "    # Compare\n",
    "    while rev_head:\n",
    "        if head.val == rev_head.val:\n",
    "            head = head.next\n",
    "            rev_head = rev_head.next\n",
    "        else:\n",
    "            return 0\n",
    "\n",
    "    return 1"
   ],
   "metadata": {
    "collapsed": false,
    "ExecuteTime": {
     "end_time": "2023-06-18T20:56:48.585497Z",
     "start_time": "2023-06-18T20:56:48.576161Z"
    }
   }
  },
  {
   "cell_type": "code",
   "execution_count": 116,
   "outputs": [
    {
     "data": {
      "text/plain": "1"
     },
     "execution_count": 116,
     "metadata": {},
     "output_type": "execute_result"
    }
   ],
   "source": [
    "lPalin(createLinkedList(['m', 'a', 'd', 'a', 'm']))"
   ],
   "metadata": {
    "collapsed": false,
    "ExecuteTime": {
     "end_time": "2023-06-18T20:54:47.245918Z",
     "start_time": "2023-06-18T20:54:47.240161Z"
    }
   }
  },
  {
   "cell_type": "code",
   "execution_count": null,
   "outputs": [],
   "source": [],
   "metadata": {
    "collapsed": false
   }
  }
 ],
 "metadata": {
  "kernelspec": {
   "display_name": "Python 3",
   "language": "python",
   "name": "python3"
  },
  "language_info": {
   "codemirror_mode": {
    "name": "ipython",
    "version": 2
   },
   "file_extension": ".py",
   "mimetype": "text/x-python",
   "name": "python",
   "nbconvert_exporter": "python",
   "pygments_lexer": "ipython2",
   "version": "2.7.6"
  }
 },
 "nbformat": 4,
 "nbformat_minor": 0
}
