{
 "cells": [
  {
   "cell_type": "markdown",
   "source": [
    "# Day 68 - Advanced DSA : Trees 1: Structure & Traversal"
   ],
   "metadata": {
    "collapsed": false
   }
  },
  {
   "cell_type": "code",
   "execution_count": 21,
   "outputs": [],
   "source": [
    "class TreeNode:\n",
    "\tdef __init__(self, x):\n",
    "\t\tself.val = x\n",
    "\t\tself.left = None\n",
    "\t\tself.right = None"
   ],
   "metadata": {
    "collapsed": false,
    "ExecuteTime": {
     "end_time": "2023-07-05T19:26:30.372794Z",
     "start_time": "2023-07-05T19:26:30.368587Z"
    }
   }
  },
  {
   "cell_type": "code",
   "execution_count": 86,
   "outputs": [],
   "source": [
    "def get_binary_tree():\n",
    "    # Create the nodes\n",
    "    node3 = TreeNode(3)\n",
    "    node9 = TreeNode(9)\n",
    "    node20 = TreeNode(20)\n",
    "    node15 = TreeNode(15)\n",
    "    node7 = TreeNode(7)\n",
    "\n",
    "    # Set up the connections\n",
    "    node3.left = node9\n",
    "    node3.right = node20\n",
    "    node20.left = node15\n",
    "    node20.right = node7\n",
    "\n",
    "    # The binary tree is created.\n",
    "    return node3"
   ],
   "metadata": {
    "collapsed": false,
    "ExecuteTime": {
     "end_time": "2023-07-05T21:50:24.189547Z",
     "start_time": "2023-07-05T21:50:24.182520Z"
    }
   }
  },
  {
   "cell_type": "markdown",
   "source": [
    "## Q1. Inorder Traversal\n",
    "\n",
    "**Problem Description**\n",
    "\n",
    "Given a binary tree, return the inorder traversal of its nodes' values.\n",
    "\n",
    "**Problem Constraints**\n",
    "\n",
    "1 <= number of nodes <= 10^5"
   ],
   "metadata": {
    "collapsed": false
   }
  },
  {
   "cell_type": "code",
   "execution_count": 87,
   "outputs": [],
   "source": [
    "def helper(node, result):\n",
    "    if node:\n",
    "        helper(node.left, result)\n",
    "        result.append(node.val)\n",
    "        helper(node.right, result)\n",
    "\n",
    "def inorderTraversal(A):\n",
    "    result = []\n",
    "    helper(A, result)\n",
    "    return result"
   ],
   "metadata": {
    "collapsed": false,
    "ExecuteTime": {
     "end_time": "2023-07-05T21:50:25.913545Z",
     "start_time": "2023-07-05T21:50:25.907832Z"
    }
   }
  },
  {
   "cell_type": "code",
   "execution_count": 88,
   "outputs": [
    {
     "data": {
      "text/plain": "[9, 3, 15, 20, 7]"
     },
     "execution_count": 88,
     "metadata": {},
     "output_type": "execute_result"
    }
   ],
   "source": [
    "root = get_binary_tree()\n",
    "inorderTraversal(root)"
   ],
   "metadata": {
    "collapsed": false,
    "ExecuteTime": {
     "end_time": "2023-07-05T21:50:26.136486Z",
     "start_time": "2023-07-05T21:50:26.134145Z"
    }
   }
  },
  {
   "cell_type": "markdown",
   "source": [
    "## Q2. Preorder Traversal\n",
    "\n",
    "**Problem Description**\n",
    "\n",
    "Given a binary tree, return the preorder traversal of its nodes values.\n",
    "\n",
    "**Problem Constraints**\n",
    "\n",
    "1 <= number of nodes <= 10^5"
   ],
   "metadata": {
    "collapsed": false
   }
  },
  {
   "cell_type": "code",
   "execution_count": 89,
   "outputs": [],
   "source": [
    "def helper(node, result):\n",
    "    if node:\n",
    "        result.append(node.val)\n",
    "        helper(node.left, result)\n",
    "        helper(node.right, result)\n",
    "\n",
    "def preorderTraversal(A):\n",
    "    result = []\n",
    "    helper(A, result)\n",
    "    return result"
   ],
   "metadata": {
    "collapsed": false,
    "ExecuteTime": {
     "end_time": "2023-07-05T21:50:26.563820Z",
     "start_time": "2023-07-05T21:50:26.560977Z"
    }
   }
  },
  {
   "cell_type": "code",
   "execution_count": 90,
   "outputs": [
    {
     "data": {
      "text/plain": "[3, 9, 20, 15, 7]"
     },
     "execution_count": 90,
     "metadata": {},
     "output_type": "execute_result"
    }
   ],
   "source": [
    "root = get_binary_tree()\n",
    "preorderTraversal(root)"
   ],
   "metadata": {
    "collapsed": false,
    "ExecuteTime": {
     "end_time": "2023-07-05T21:50:26.781004Z",
     "start_time": "2023-07-05T21:50:26.773278Z"
    }
   }
  },
  {
   "cell_type": "markdown",
   "source": [
    "## Q3. Postorder Traversal\n",
    "\n",
    "**Problem Description**\n",
    "\n",
    "Given a binary tree, return the postorder traversal of its nodes' values.\n",
    "\n",
    "**Problem Constraints**\n",
    "\n",
    "1 <= number of nodes <= 10^5"
   ],
   "metadata": {
    "collapsed": false
   }
  },
  {
   "cell_type": "code",
   "execution_count": 91,
   "outputs": [],
   "source": [
    "def helper(node, result):\n",
    "    if node:\n",
    "        helper(node.left, result)\n",
    "        helper(node.right, result)\n",
    "        result.append(node.val)\n",
    "\n",
    "def postorderTraversal(A):\n",
    "    result = []\n",
    "    helper(A, result)\n",
    "    return result"
   ],
   "metadata": {
    "collapsed": false,
    "ExecuteTime": {
     "end_time": "2023-07-05T21:50:27.267935Z",
     "start_time": "2023-07-05T21:50:27.263457Z"
    }
   }
  },
  {
   "cell_type": "code",
   "execution_count": 92,
   "outputs": [
    {
     "data": {
      "text/plain": "[9, 15, 7, 20, 3]"
     },
     "execution_count": 92,
     "metadata": {},
     "output_type": "execute_result"
    }
   ],
   "source": [
    "root = get_binary_tree()\n",
    "postorderTraversal(root)"
   ],
   "metadata": {
    "collapsed": false,
    "ExecuteTime": {
     "end_time": "2023-07-05T21:50:27.599353Z",
     "start_time": "2023-07-05T21:50:27.590590Z"
    }
   }
  },
  {
   "cell_type": "markdown",
   "source": [
    "## Inorder - Without Recursion\n",
    "\n",
    "**Problem Description**\n",
    "\n",
    "Given a binary tree, return the inorder traversal of its nodes' values.\n",
    "\n",
    "**Problem Constraints**\n",
    "\n",
    "1 <= number of nodes <= 10^5"
   ],
   "metadata": {
    "collapsed": false
   }
  },
  {
   "cell_type": "code",
   "execution_count": 93,
   "outputs": [],
   "source": [
    "def helper(A, result):\n",
    "    curr = A\n",
    "    stack = []\n",
    "    while stack or curr:\n",
    "        while curr:\n",
    "            stack.append(curr)\n",
    "            curr = curr.left\n",
    "        curr = stack[-1]\n",
    "        stack.pop()\n",
    "        result.append(curr.val)\n",
    "        curr = curr.right\n",
    "\n",
    "def inorderTraversal(A):\n",
    "    result = []\n",
    "    helper(A, result)\n",
    "    return result"
   ],
   "metadata": {
    "collapsed": false,
    "ExecuteTime": {
     "end_time": "2023-07-05T21:50:28.105293Z",
     "start_time": "2023-07-05T21:50:28.101133Z"
    }
   }
  },
  {
   "cell_type": "code",
   "execution_count": 94,
   "outputs": [
    {
     "data": {
      "text/plain": "[9, 3, 15, 20, 7]"
     },
     "execution_count": 94,
     "metadata": {},
     "output_type": "execute_result"
    }
   ],
   "source": [
    "root = get_binary_tree()\n",
    "inorderTraversal(root)"
   ],
   "metadata": {
    "collapsed": false,
    "ExecuteTime": {
     "end_time": "2023-07-05T21:50:28.418782Z",
     "start_time": "2023-07-05T21:50:28.415614Z"
    }
   }
  },
  {
   "cell_type": "markdown",
   "source": [
    "## Preorder - Without Recursion\n",
    "\n",
    "**Problem Description**\n",
    "\n",
    "Given a binary tree, return the preorder traversal of its nodes' values.\n",
    "\n",
    "**Problem Constraints**\n",
    "\n",
    "1 <= number of nodes <= 10^5"
   ],
   "metadata": {
    "collapsed": false
   }
  },
  {
   "cell_type": "code",
   "execution_count": 95,
   "outputs": [],
   "source": [
    "def helper(A, result):\n",
    "    stack = []\n",
    "    if A:\n",
    "        stack.append(A)\n",
    "    while stack:\n",
    "        curr = stack.pop()\n",
    "        result.append(curr.val)\n",
    "        if curr.right:\n",
    "            stack.append(curr.right)\n",
    "        if curr.left:\n",
    "            stack.append(curr.left)\n",
    "\n",
    "def preorderTraversal(A):\n",
    "    result = []\n",
    "    helper(A, result)\n",
    "    return result"
   ],
   "metadata": {
    "collapsed": false,
    "ExecuteTime": {
     "end_time": "2023-07-05T21:50:28.963935Z",
     "start_time": "2023-07-05T21:50:28.957963Z"
    }
   }
  },
  {
   "cell_type": "code",
   "execution_count": 96,
   "outputs": [
    {
     "data": {
      "text/plain": "[3, 9, 20, 15, 7]"
     },
     "execution_count": 96,
     "metadata": {},
     "output_type": "execute_result"
    }
   ],
   "source": [
    "root = get_binary_tree()\n",
    "preorderTraversal(root)"
   ],
   "metadata": {
    "collapsed": false,
    "ExecuteTime": {
     "end_time": "2023-07-05T21:50:29.305145Z",
     "start_time": "2023-07-05T21:50:29.303164Z"
    }
   }
  },
  {
   "cell_type": "markdown",
   "source": [
    "## Posteorder - Without Recursion\n",
    "\n",
    "**Problem Description**\n",
    "\n",
    "Given a binary tree, return the postorder traversal of its nodes' values.\n",
    "\n",
    "**Problem Constraints**\n",
    "\n",
    "1 <= number of nodes <= 10^5"
   ],
   "metadata": {
    "collapsed": false
   }
  },
  {
   "cell_type": "code",
   "execution_count": 97,
   "outputs": [],
   "source": [
    "def helper(A, result):\n",
    "    stack = []\n",
    "    prev = None\n",
    "    while A or stack:\n",
    "        while A:\n",
    "            stack.append(A)\n",
    "            A = A.left\n",
    "        curr = stack[-1]\n",
    "        if curr.right and curr.right != prev:\n",
    "            A = curr.right\n",
    "        else:\n",
    "            result.append(curr.val)\n",
    "            prev = curr\n",
    "            stack.pop()\n",
    "\n",
    "def postorderTraversal(A):\n",
    "    result = []\n",
    "    helper(A, result)\n",
    "    return result"
   ],
   "metadata": {
    "collapsed": false,
    "ExecuteTime": {
     "end_time": "2023-07-05T21:50:29.979706Z",
     "start_time": "2023-07-05T21:50:29.975170Z"
    }
   }
  },
  {
   "cell_type": "code",
   "execution_count": 98,
   "outputs": [
    {
     "data": {
      "text/plain": "[9, 15, 7, 20, 3]"
     },
     "execution_count": 98,
     "metadata": {},
     "output_type": "execute_result"
    }
   ],
   "source": [
    "root = get_binary_tree()\n",
    "postorderTraversal(root)"
   ],
   "metadata": {
    "collapsed": false,
    "ExecuteTime": {
     "end_time": "2023-07-05T21:50:30.327135Z",
     "start_time": "2023-07-05T21:50:30.320186Z"
    }
   }
  },
  {
   "cell_type": "markdown",
   "source": [
    "## Level Order"
   ],
   "metadata": {
    "collapsed": false
   }
  },
  {
   "cell_type": "code",
   "execution_count": 113,
   "outputs": [],
   "source": [
    "from collections import deque\n",
    "def helper(A, result):\n",
    "    d = deque([A, None])\n",
    "    while d:\n",
    "        x = d.popleft()\n",
    "        result.append(x.val)\n",
    "        if x.left:\n",
    "            d.append(x.left)\n",
    "        if x.right:\n",
    "            d.append(x.right)\n",
    "\n",
    "def levelOrder(A):\n",
    "    result = []\n",
    "    helper(A, result)\n",
    "    return result"
   ],
   "metadata": {
    "collapsed": false,
    "ExecuteTime": {
     "end_time": "2023-07-05T21:56:03.093314Z",
     "start_time": "2023-07-05T21:56:03.092443Z"
    }
   }
  },
  {
   "cell_type": "code",
   "execution_count": 114,
   "outputs": [
    {
     "data": {
      "text/plain": "[3, 9, 20, 15, 7]"
     },
     "execution_count": 114,
     "metadata": {},
     "output_type": "execute_result"
    }
   ],
   "source": [
    "root = get_binary_tree()\n",
    "levelOrder(root)"
   ],
   "metadata": {
    "collapsed": false,
    "ExecuteTime": {
     "end_time": "2023-07-05T21:56:03.389595Z",
     "start_time": "2023-07-05T21:56:03.385725Z"
    }
   }
  },
  {
   "cell_type": "code",
   "execution_count": 159,
   "outputs": [],
   "source": [
    "from collections import deque\n",
    "\n",
    "def helper(A, results):\n",
    "    d = deque([A, None])\n",
    "    result = []\n",
    "    while len(d)>0:\n",
    "        x = d.popleft()\n",
    "        if x is None:\n",
    "            results.append(result)\n",
    "            result = []\n",
    "            if len(d) > 0:\n",
    "                d.append(None)\n",
    "            continue\n",
    "        result.append(x.val)\n",
    "        if x.left:\n",
    "            d.append(x.left)\n",
    "        if x.right:\n",
    "            d.append(x.right)\n",
    "\n",
    "\n",
    "def levelOrder(A):\n",
    "    if A is None:\n",
    "        return []\n",
    "    results = []\n",
    "    helper(A, results)\n",
    "    return results\n"
   ],
   "metadata": {
    "collapsed": false,
    "ExecuteTime": {
     "end_time": "2023-07-05T22:26:41.252108Z",
     "start_time": "2023-07-05T22:26:41.249029Z"
    }
   }
  },
  {
   "cell_type": "code",
   "execution_count": 160,
   "outputs": [
    {
     "data": {
      "text/plain": "[[3], [9, 20], [15, 7]]"
     },
     "execution_count": 160,
     "metadata": {},
     "output_type": "execute_result"
    }
   ],
   "source": [
    "root = get_binary_tree()\n",
    "levelOrder(root)"
   ],
   "metadata": {
    "collapsed": false,
    "ExecuteTime": {
     "end_time": "2023-07-05T22:26:41.611108Z",
     "start_time": "2023-07-05T22:26:41.607265Z"
    }
   }
  }
 ],
 "metadata": {
  "kernelspec": {
   "display_name": "Python 3",
   "language": "python",
   "name": "python3"
  },
  "language_info": {
   "codemirror_mode": {
    "name": "ipython",
    "version": 2
   },
   "file_extension": ".py",
   "mimetype": "text/x-python",
   "name": "python",
   "nbconvert_exporter": "python",
   "pygments_lexer": "ipython2",
   "version": "2.7.6"
  }
 },
 "nbformat": 4,
 "nbformat_minor": 0
}
